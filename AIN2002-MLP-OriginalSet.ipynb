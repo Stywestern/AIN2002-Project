{
 "cells": [
  {
   "cell_type": "code",
   "execution_count": 1,
   "id": "433413d0",
   "metadata": {},
   "outputs": [],
   "source": [
    "import os\n",
    "\n",
    "#Data Manipulation\n",
    "import pandas as pd\n",
    "import numpy as np\n",
    "\n",
    "#Data Visualization\n",
    "pd.plotting.register_matplotlib_converters()\n",
    "import matplotlib.pyplot as plt\n",
    "import plotly.express as px\n",
    "import plotly.io as pio\n",
    "import plotly.graph_objs as go\n",
    "\n",
    "#import mpld3\n",
    "#%matplotlib inline\n",
    "#%matplotlib widget\n",
    "#matplotlib notebook\n",
    "\n",
    "import seaborn as sns"
   ]
  },
  {
   "cell_type": "code",
   "execution_count": 2,
   "id": "a1b4926f",
   "metadata": {},
   "outputs": [
    {
     "name": "stdout",
     "output_type": "stream",
     "text": [
      "Normal dataset unique columns: ['gender', 'age', 'hypertension', 'heart_disease', 'ever_married', 'work_type', 'Residence_type', 'avg_glucose_level', 'bmi', 'smoking_status', 'stroke']\n",
      "Normal dataset number of rows and columns: (5110, 11)\n",
      "----------------------------------------------------------------------------\n",
      "Synthetic dataset unique columns: ['gender', 'age', 'hypertension', 'heart_disease', 'ever_married', 'work_type', 'Residence_type', 'avg_glucose_level', 'bmi', 'smoking_status', 'stroke']\n",
      "Synthetic dataset number of rows and columns: (15304, 11)\n"
     ]
    }
   ],
   "source": [
    "df_norm = pd.read_csv(\"healthcare-dataset-stroke-data.csv\", index_col=\"id\")\n",
    "df_synt = pd.read_csv(\"synthetic_train.csv\", index_col=\"id\")\n",
    "\n",
    "pd.set_option('display.max_columns', None)\n",
    "\n",
    "print(f\"Normal dataset unique columns: {list(df_norm.columns)}\")\n",
    "print(f\"Normal dataset number of rows and columns: {df_norm.shape}\")\n",
    "print(\"----------------------------------------------------------------------------\")\n",
    "print(f\"Synthetic dataset unique columns: {list(df_synt.columns)}\")\n",
    "print(f\"Synthetic dataset number of rows and columns: {df_synt.shape}\")"
   ]
  },
  {
   "cell_type": "markdown",
   "id": "5ad67c0f",
   "metadata": {},
   "source": [
    "# Training Data"
   ]
  },
  {
   "cell_type": "code",
   "execution_count": 3,
   "id": "e5085c27",
   "metadata": {},
   "outputs": [],
   "source": [
    "#df_total = pd.concat([df_norm, df_synt])\n",
    "df_total = df_norm"
   ]
  },
  {
   "cell_type": "code",
   "execution_count": 4,
   "id": "5b03216c",
   "metadata": {},
   "outputs": [
    {
     "name": "stdout",
     "output_type": "stream",
     "text": [
      "(5110, 11)\n"
     ]
    }
   ],
   "source": [
    "print(df_total.shape)\n",
    "df_total = df_total.sample(frac=1)"
   ]
  },
  {
   "cell_type": "code",
   "execution_count": 5,
   "id": "24f10dc2",
   "metadata": {},
   "outputs": [
    {
     "data": {
      "text/plain": [
       "gender                 0\n",
       "age                    0\n",
       "hypertension           0\n",
       "heart_disease          0\n",
       "ever_married           0\n",
       "work_type              0\n",
       "Residence_type         0\n",
       "avg_glucose_level      0\n",
       "bmi                  201\n",
       "smoking_status         0\n",
       "stroke                 0\n",
       "dtype: int64"
      ]
     },
     "execution_count": 5,
     "metadata": {},
     "output_type": "execute_result"
    }
   ],
   "source": [
    "df_total.isnull().sum()"
   ]
  },
  {
   "cell_type": "code",
   "execution_count": 6,
   "id": "d7e68af7",
   "metadata": {},
   "outputs": [],
   "source": [
    "df_total.loc[df_total.bmi.isnull(), \"bmi\"] = df_total.bmi.mean() "
   ]
  },
  {
   "cell_type": "code",
   "execution_count": 7,
   "id": "4da22853",
   "metadata": {},
   "outputs": [
    {
     "data": {
      "text/html": [
       "<div>\n",
       "<style scoped>\n",
       "    .dataframe tbody tr th:only-of-type {\n",
       "        vertical-align: middle;\n",
       "    }\n",
       "\n",
       "    .dataframe tbody tr th {\n",
       "        vertical-align: top;\n",
       "    }\n",
       "\n",
       "    .dataframe thead th {\n",
       "        text-align: right;\n",
       "    }\n",
       "</style>\n",
       "<table border=\"1\" class=\"dataframe\">\n",
       "  <thead>\n",
       "    <tr style=\"text-align: right;\">\n",
       "      <th></th>\n",
       "      <th>gender</th>\n",
       "      <th>age</th>\n",
       "      <th>hypertension</th>\n",
       "      <th>heart_disease</th>\n",
       "      <th>ever_married</th>\n",
       "      <th>work_type</th>\n",
       "      <th>Residence_type</th>\n",
       "      <th>avg_glucose_level</th>\n",
       "      <th>bmi</th>\n",
       "      <th>smoking_status</th>\n",
       "      <th>stroke</th>\n",
       "    </tr>\n",
       "    <tr>\n",
       "      <th>id</th>\n",
       "      <th></th>\n",
       "      <th></th>\n",
       "      <th></th>\n",
       "      <th></th>\n",
       "      <th></th>\n",
       "      <th></th>\n",
       "      <th></th>\n",
       "      <th></th>\n",
       "      <th></th>\n",
       "      <th></th>\n",
       "      <th></th>\n",
       "    </tr>\n",
       "  </thead>\n",
       "  <tbody>\n",
       "    <tr>\n",
       "      <th>54982</th>\n",
       "      <td>Female</td>\n",
       "      <td>7.0</td>\n",
       "      <td>0</td>\n",
       "      <td>0</td>\n",
       "      <td>No</td>\n",
       "      <td>children</td>\n",
       "      <td>Rural</td>\n",
       "      <td>157.01</td>\n",
       "      <td>17.000000</td>\n",
       "      <td>Unknown</td>\n",
       "      <td>0</td>\n",
       "    </tr>\n",
       "    <tr>\n",
       "      <th>8760</th>\n",
       "      <td>Female</td>\n",
       "      <td>22.0</td>\n",
       "      <td>0</td>\n",
       "      <td>0</td>\n",
       "      <td>No</td>\n",
       "      <td>Private</td>\n",
       "      <td>Urban</td>\n",
       "      <td>140.40</td>\n",
       "      <td>23.000000</td>\n",
       "      <td>smokes</td>\n",
       "      <td>0</td>\n",
       "    </tr>\n",
       "    <tr>\n",
       "      <th>13817</th>\n",
       "      <td>Male</td>\n",
       "      <td>19.0</td>\n",
       "      <td>0</td>\n",
       "      <td>0</td>\n",
       "      <td>No</td>\n",
       "      <td>Private</td>\n",
       "      <td>Urban</td>\n",
       "      <td>123.61</td>\n",
       "      <td>25.200000</td>\n",
       "      <td>Unknown</td>\n",
       "      <td>0</td>\n",
       "    </tr>\n",
       "    <tr>\n",
       "      <th>49421</th>\n",
       "      <td>Female</td>\n",
       "      <td>66.0</td>\n",
       "      <td>1</td>\n",
       "      <td>0</td>\n",
       "      <td>Yes</td>\n",
       "      <td>Private</td>\n",
       "      <td>Rural</td>\n",
       "      <td>205.23</td>\n",
       "      <td>39.500000</td>\n",
       "      <td>never smoked</td>\n",
       "      <td>0</td>\n",
       "    </tr>\n",
       "    <tr>\n",
       "      <th>36007</th>\n",
       "      <td>Female</td>\n",
       "      <td>21.0</td>\n",
       "      <td>0</td>\n",
       "      <td>0</td>\n",
       "      <td>Yes</td>\n",
       "      <td>Private</td>\n",
       "      <td>Rural</td>\n",
       "      <td>101.37</td>\n",
       "      <td>37.900000</td>\n",
       "      <td>never smoked</td>\n",
       "      <td>0</td>\n",
       "    </tr>\n",
       "    <tr>\n",
       "      <th>...</th>\n",
       "      <td>...</td>\n",
       "      <td>...</td>\n",
       "      <td>...</td>\n",
       "      <td>...</td>\n",
       "      <td>...</td>\n",
       "      <td>...</td>\n",
       "      <td>...</td>\n",
       "      <td>...</td>\n",
       "      <td>...</td>\n",
       "      <td>...</td>\n",
       "      <td>...</td>\n",
       "    </tr>\n",
       "    <tr>\n",
       "      <th>31563</th>\n",
       "      <td>Female</td>\n",
       "      <td>38.0</td>\n",
       "      <td>0</td>\n",
       "      <td>0</td>\n",
       "      <td>Yes</td>\n",
       "      <td>Private</td>\n",
       "      <td>Rural</td>\n",
       "      <td>101.45</td>\n",
       "      <td>28.893237</td>\n",
       "      <td>formerly smoked</td>\n",
       "      <td>1</td>\n",
       "    </tr>\n",
       "    <tr>\n",
       "      <th>30627</th>\n",
       "      <td>Female</td>\n",
       "      <td>56.0</td>\n",
       "      <td>0</td>\n",
       "      <td>0</td>\n",
       "      <td>Yes</td>\n",
       "      <td>Govt_job</td>\n",
       "      <td>Urban</td>\n",
       "      <td>89.53</td>\n",
       "      <td>23.100000</td>\n",
       "      <td>Unknown</td>\n",
       "      <td>0</td>\n",
       "    </tr>\n",
       "    <tr>\n",
       "      <th>43827</th>\n",
       "      <td>Female</td>\n",
       "      <td>27.0</td>\n",
       "      <td>0</td>\n",
       "      <td>0</td>\n",
       "      <td>Yes</td>\n",
       "      <td>Private</td>\n",
       "      <td>Urban</td>\n",
       "      <td>161.57</td>\n",
       "      <td>25.700000</td>\n",
       "      <td>smokes</td>\n",
       "      <td>0</td>\n",
       "    </tr>\n",
       "    <tr>\n",
       "      <th>40824</th>\n",
       "      <td>Male</td>\n",
       "      <td>47.0</td>\n",
       "      <td>0</td>\n",
       "      <td>0</td>\n",
       "      <td>Yes</td>\n",
       "      <td>Private</td>\n",
       "      <td>Rural</td>\n",
       "      <td>142.02</td>\n",
       "      <td>30.000000</td>\n",
       "      <td>Unknown</td>\n",
       "      <td>0</td>\n",
       "    </tr>\n",
       "    <tr>\n",
       "      <th>21346</th>\n",
       "      <td>Female</td>\n",
       "      <td>12.0</td>\n",
       "      <td>0</td>\n",
       "      <td>0</td>\n",
       "      <td>No</td>\n",
       "      <td>children</td>\n",
       "      <td>Rural</td>\n",
       "      <td>70.13</td>\n",
       "      <td>17.800000</td>\n",
       "      <td>Unknown</td>\n",
       "      <td>0</td>\n",
       "    </tr>\n",
       "  </tbody>\n",
       "</table>\n",
       "<p>5110 rows × 11 columns</p>\n",
       "</div>"
      ],
      "text/plain": [
       "       gender   age  hypertension  heart_disease ever_married work_type  \\\n",
       "id                                                                        \n",
       "54982  Female   7.0             0              0           No  children   \n",
       "8760   Female  22.0             0              0           No   Private   \n",
       "13817    Male  19.0             0              0           No   Private   \n",
       "49421  Female  66.0             1              0          Yes   Private   \n",
       "36007  Female  21.0             0              0          Yes   Private   \n",
       "...       ...   ...           ...            ...          ...       ...   \n",
       "31563  Female  38.0             0              0          Yes   Private   \n",
       "30627  Female  56.0             0              0          Yes  Govt_job   \n",
       "43827  Female  27.0             0              0          Yes   Private   \n",
       "40824    Male  47.0             0              0          Yes   Private   \n",
       "21346  Female  12.0             0              0           No  children   \n",
       "\n",
       "      Residence_type  avg_glucose_level        bmi   smoking_status  stroke  \n",
       "id                                                                           \n",
       "54982          Rural             157.01  17.000000          Unknown       0  \n",
       "8760           Urban             140.40  23.000000           smokes       0  \n",
       "13817          Urban             123.61  25.200000          Unknown       0  \n",
       "49421          Rural             205.23  39.500000     never smoked       0  \n",
       "36007          Rural             101.37  37.900000     never smoked       0  \n",
       "...              ...                ...        ...              ...     ...  \n",
       "31563          Rural             101.45  28.893237  formerly smoked       1  \n",
       "30627          Urban              89.53  23.100000          Unknown       0  \n",
       "43827          Urban             161.57  25.700000           smokes       0  \n",
       "40824          Rural             142.02  30.000000          Unknown       0  \n",
       "21346          Rural              70.13  17.800000          Unknown       0  \n",
       "\n",
       "[5110 rows x 11 columns]"
      ]
     },
     "execution_count": 7,
     "metadata": {},
     "output_type": "execute_result"
    }
   ],
   "source": [
    "df = df_total.copy()\n",
    "df"
   ]
  },
  {
   "cell_type": "code",
   "execution_count": 8,
   "id": "74fb428c",
   "metadata": {},
   "outputs": [],
   "source": [
    "#Label Encoding\n",
    "\n",
    "df.loc[df.gender == \"Male\", \"gender\"] = 0\n",
    "df.loc[df.gender != 0, \"gender\"] = 1\n",
    "df[\"gender\"] = df[\"gender\"].astype(int)\n",
    "\n",
    "df.loc[df.ever_married == \"Yes\", \"ever_married\"] = 0\n",
    "df.loc[df.ever_married != 0, \"ever_married\"] = 1\n",
    "df[\"ever_married\"] = df[\"ever_married\"].astype(int)\n",
    "\n",
    "df.loc[df.Residence_type == \"Urban\", \"Residence_type\"] = 0\n",
    "df.loc[df.Residence_type != 0, \"Residence_type\"] = 1\n",
    "df[\"Residence_type\"] = df[\"Residence_type\"].astype(int)\n"
   ]
  },
  {
   "cell_type": "code",
   "execution_count": 9,
   "id": "16d4fa86",
   "metadata": {},
   "outputs": [],
   "source": [
    "df = pd.get_dummies(data=df, columns=[\"work_type\", \"smoking_status\"])"
   ]
  },
  {
   "cell_type": "code",
   "execution_count": 10,
   "id": "c9022760",
   "metadata": {},
   "outputs": [
    {
     "name": "stdout",
     "output_type": "stream",
     "text": [
      "(5110, 18)\n"
     ]
    },
    {
     "data": {
      "text/html": [
       "<div>\n",
       "<style scoped>\n",
       "    .dataframe tbody tr th:only-of-type {\n",
       "        vertical-align: middle;\n",
       "    }\n",
       "\n",
       "    .dataframe tbody tr th {\n",
       "        vertical-align: top;\n",
       "    }\n",
       "\n",
       "    .dataframe thead th {\n",
       "        text-align: right;\n",
       "    }\n",
       "</style>\n",
       "<table border=\"1\" class=\"dataframe\">\n",
       "  <thead>\n",
       "    <tr style=\"text-align: right;\">\n",
       "      <th></th>\n",
       "      <th>gender</th>\n",
       "      <th>age</th>\n",
       "      <th>hypertension</th>\n",
       "      <th>heart_disease</th>\n",
       "      <th>ever_married</th>\n",
       "      <th>Residence_type</th>\n",
       "      <th>avg_glucose_level</th>\n",
       "      <th>bmi</th>\n",
       "      <th>stroke</th>\n",
       "      <th>work_type_Govt_job</th>\n",
       "      <th>work_type_Never_worked</th>\n",
       "      <th>work_type_Private</th>\n",
       "      <th>work_type_Self-employed</th>\n",
       "      <th>work_type_children</th>\n",
       "      <th>smoking_status_Unknown</th>\n",
       "      <th>smoking_status_formerly smoked</th>\n",
       "      <th>smoking_status_never smoked</th>\n",
       "      <th>smoking_status_smokes</th>\n",
       "    </tr>\n",
       "    <tr>\n",
       "      <th>id</th>\n",
       "      <th></th>\n",
       "      <th></th>\n",
       "      <th></th>\n",
       "      <th></th>\n",
       "      <th></th>\n",
       "      <th></th>\n",
       "      <th></th>\n",
       "      <th></th>\n",
       "      <th></th>\n",
       "      <th></th>\n",
       "      <th></th>\n",
       "      <th></th>\n",
       "      <th></th>\n",
       "      <th></th>\n",
       "      <th></th>\n",
       "      <th></th>\n",
       "      <th></th>\n",
       "      <th></th>\n",
       "    </tr>\n",
       "  </thead>\n",
       "  <tbody>\n",
       "    <tr>\n",
       "      <th>54982</th>\n",
       "      <td>1</td>\n",
       "      <td>7.0</td>\n",
       "      <td>0</td>\n",
       "      <td>0</td>\n",
       "      <td>1</td>\n",
       "      <td>1</td>\n",
       "      <td>157.01</td>\n",
       "      <td>17.000000</td>\n",
       "      <td>0</td>\n",
       "      <td>0</td>\n",
       "      <td>0</td>\n",
       "      <td>0</td>\n",
       "      <td>0</td>\n",
       "      <td>1</td>\n",
       "      <td>1</td>\n",
       "      <td>0</td>\n",
       "      <td>0</td>\n",
       "      <td>0</td>\n",
       "    </tr>\n",
       "    <tr>\n",
       "      <th>8760</th>\n",
       "      <td>1</td>\n",
       "      <td>22.0</td>\n",
       "      <td>0</td>\n",
       "      <td>0</td>\n",
       "      <td>1</td>\n",
       "      <td>0</td>\n",
       "      <td>140.40</td>\n",
       "      <td>23.000000</td>\n",
       "      <td>0</td>\n",
       "      <td>0</td>\n",
       "      <td>0</td>\n",
       "      <td>1</td>\n",
       "      <td>0</td>\n",
       "      <td>0</td>\n",
       "      <td>0</td>\n",
       "      <td>0</td>\n",
       "      <td>0</td>\n",
       "      <td>1</td>\n",
       "    </tr>\n",
       "    <tr>\n",
       "      <th>13817</th>\n",
       "      <td>0</td>\n",
       "      <td>19.0</td>\n",
       "      <td>0</td>\n",
       "      <td>0</td>\n",
       "      <td>1</td>\n",
       "      <td>0</td>\n",
       "      <td>123.61</td>\n",
       "      <td>25.200000</td>\n",
       "      <td>0</td>\n",
       "      <td>0</td>\n",
       "      <td>0</td>\n",
       "      <td>1</td>\n",
       "      <td>0</td>\n",
       "      <td>0</td>\n",
       "      <td>1</td>\n",
       "      <td>0</td>\n",
       "      <td>0</td>\n",
       "      <td>0</td>\n",
       "    </tr>\n",
       "    <tr>\n",
       "      <th>49421</th>\n",
       "      <td>1</td>\n",
       "      <td>66.0</td>\n",
       "      <td>1</td>\n",
       "      <td>0</td>\n",
       "      <td>0</td>\n",
       "      <td>1</td>\n",
       "      <td>205.23</td>\n",
       "      <td>39.500000</td>\n",
       "      <td>0</td>\n",
       "      <td>0</td>\n",
       "      <td>0</td>\n",
       "      <td>1</td>\n",
       "      <td>0</td>\n",
       "      <td>0</td>\n",
       "      <td>0</td>\n",
       "      <td>0</td>\n",
       "      <td>1</td>\n",
       "      <td>0</td>\n",
       "    </tr>\n",
       "    <tr>\n",
       "      <th>36007</th>\n",
       "      <td>1</td>\n",
       "      <td>21.0</td>\n",
       "      <td>0</td>\n",
       "      <td>0</td>\n",
       "      <td>0</td>\n",
       "      <td>1</td>\n",
       "      <td>101.37</td>\n",
       "      <td>37.900000</td>\n",
       "      <td>0</td>\n",
       "      <td>0</td>\n",
       "      <td>0</td>\n",
       "      <td>1</td>\n",
       "      <td>0</td>\n",
       "      <td>0</td>\n",
       "      <td>0</td>\n",
       "      <td>0</td>\n",
       "      <td>1</td>\n",
       "      <td>0</td>\n",
       "    </tr>\n",
       "    <tr>\n",
       "      <th>...</th>\n",
       "      <td>...</td>\n",
       "      <td>...</td>\n",
       "      <td>...</td>\n",
       "      <td>...</td>\n",
       "      <td>...</td>\n",
       "      <td>...</td>\n",
       "      <td>...</td>\n",
       "      <td>...</td>\n",
       "      <td>...</td>\n",
       "      <td>...</td>\n",
       "      <td>...</td>\n",
       "      <td>...</td>\n",
       "      <td>...</td>\n",
       "      <td>...</td>\n",
       "      <td>...</td>\n",
       "      <td>...</td>\n",
       "      <td>...</td>\n",
       "      <td>...</td>\n",
       "    </tr>\n",
       "    <tr>\n",
       "      <th>31563</th>\n",
       "      <td>1</td>\n",
       "      <td>38.0</td>\n",
       "      <td>0</td>\n",
       "      <td>0</td>\n",
       "      <td>0</td>\n",
       "      <td>1</td>\n",
       "      <td>101.45</td>\n",
       "      <td>28.893237</td>\n",
       "      <td>1</td>\n",
       "      <td>0</td>\n",
       "      <td>0</td>\n",
       "      <td>1</td>\n",
       "      <td>0</td>\n",
       "      <td>0</td>\n",
       "      <td>0</td>\n",
       "      <td>1</td>\n",
       "      <td>0</td>\n",
       "      <td>0</td>\n",
       "    </tr>\n",
       "    <tr>\n",
       "      <th>30627</th>\n",
       "      <td>1</td>\n",
       "      <td>56.0</td>\n",
       "      <td>0</td>\n",
       "      <td>0</td>\n",
       "      <td>0</td>\n",
       "      <td>0</td>\n",
       "      <td>89.53</td>\n",
       "      <td>23.100000</td>\n",
       "      <td>0</td>\n",
       "      <td>1</td>\n",
       "      <td>0</td>\n",
       "      <td>0</td>\n",
       "      <td>0</td>\n",
       "      <td>0</td>\n",
       "      <td>1</td>\n",
       "      <td>0</td>\n",
       "      <td>0</td>\n",
       "      <td>0</td>\n",
       "    </tr>\n",
       "    <tr>\n",
       "      <th>43827</th>\n",
       "      <td>1</td>\n",
       "      <td>27.0</td>\n",
       "      <td>0</td>\n",
       "      <td>0</td>\n",
       "      <td>0</td>\n",
       "      <td>0</td>\n",
       "      <td>161.57</td>\n",
       "      <td>25.700000</td>\n",
       "      <td>0</td>\n",
       "      <td>0</td>\n",
       "      <td>0</td>\n",
       "      <td>1</td>\n",
       "      <td>0</td>\n",
       "      <td>0</td>\n",
       "      <td>0</td>\n",
       "      <td>0</td>\n",
       "      <td>0</td>\n",
       "      <td>1</td>\n",
       "    </tr>\n",
       "    <tr>\n",
       "      <th>40824</th>\n",
       "      <td>0</td>\n",
       "      <td>47.0</td>\n",
       "      <td>0</td>\n",
       "      <td>0</td>\n",
       "      <td>0</td>\n",
       "      <td>1</td>\n",
       "      <td>142.02</td>\n",
       "      <td>30.000000</td>\n",
       "      <td>0</td>\n",
       "      <td>0</td>\n",
       "      <td>0</td>\n",
       "      <td>1</td>\n",
       "      <td>0</td>\n",
       "      <td>0</td>\n",
       "      <td>1</td>\n",
       "      <td>0</td>\n",
       "      <td>0</td>\n",
       "      <td>0</td>\n",
       "    </tr>\n",
       "    <tr>\n",
       "      <th>21346</th>\n",
       "      <td>1</td>\n",
       "      <td>12.0</td>\n",
       "      <td>0</td>\n",
       "      <td>0</td>\n",
       "      <td>1</td>\n",
       "      <td>1</td>\n",
       "      <td>70.13</td>\n",
       "      <td>17.800000</td>\n",
       "      <td>0</td>\n",
       "      <td>0</td>\n",
       "      <td>0</td>\n",
       "      <td>0</td>\n",
       "      <td>0</td>\n",
       "      <td>1</td>\n",
       "      <td>1</td>\n",
       "      <td>0</td>\n",
       "      <td>0</td>\n",
       "      <td>0</td>\n",
       "    </tr>\n",
       "  </tbody>\n",
       "</table>\n",
       "<p>5110 rows × 18 columns</p>\n",
       "</div>"
      ],
      "text/plain": [
       "       gender   age  hypertension  heart_disease  ever_married  \\\n",
       "id                                                               \n",
       "54982       1   7.0             0              0             1   \n",
       "8760        1  22.0             0              0             1   \n",
       "13817       0  19.0             0              0             1   \n",
       "49421       1  66.0             1              0             0   \n",
       "36007       1  21.0             0              0             0   \n",
       "...       ...   ...           ...            ...           ...   \n",
       "31563       1  38.0             0              0             0   \n",
       "30627       1  56.0             0              0             0   \n",
       "43827       1  27.0             0              0             0   \n",
       "40824       0  47.0             0              0             0   \n",
       "21346       1  12.0             0              0             1   \n",
       "\n",
       "       Residence_type  avg_glucose_level        bmi  stroke  \\\n",
       "id                                                            \n",
       "54982               1             157.01  17.000000       0   \n",
       "8760                0             140.40  23.000000       0   \n",
       "13817               0             123.61  25.200000       0   \n",
       "49421               1             205.23  39.500000       0   \n",
       "36007               1             101.37  37.900000       0   \n",
       "...               ...                ...        ...     ...   \n",
       "31563               1             101.45  28.893237       1   \n",
       "30627               0              89.53  23.100000       0   \n",
       "43827               0             161.57  25.700000       0   \n",
       "40824               1             142.02  30.000000       0   \n",
       "21346               1              70.13  17.800000       0   \n",
       "\n",
       "       work_type_Govt_job  work_type_Never_worked  work_type_Private  \\\n",
       "id                                                                     \n",
       "54982                   0                       0                  0   \n",
       "8760                    0                       0                  1   \n",
       "13817                   0                       0                  1   \n",
       "49421                   0                       0                  1   \n",
       "36007                   0                       0                  1   \n",
       "...                   ...                     ...                ...   \n",
       "31563                   0                       0                  1   \n",
       "30627                   1                       0                  0   \n",
       "43827                   0                       0                  1   \n",
       "40824                   0                       0                  1   \n",
       "21346                   0                       0                  0   \n",
       "\n",
       "       work_type_Self-employed  work_type_children  smoking_status_Unknown  \\\n",
       "id                                                                           \n",
       "54982                        0                   1                       1   \n",
       "8760                         0                   0                       0   \n",
       "13817                        0                   0                       1   \n",
       "49421                        0                   0                       0   \n",
       "36007                        0                   0                       0   \n",
       "...                        ...                 ...                     ...   \n",
       "31563                        0                   0                       0   \n",
       "30627                        0                   0                       1   \n",
       "43827                        0                   0                       0   \n",
       "40824                        0                   0                       1   \n",
       "21346                        0                   1                       1   \n",
       "\n",
       "       smoking_status_formerly smoked  smoking_status_never smoked  \\\n",
       "id                                                                   \n",
       "54982                               0                            0   \n",
       "8760                                0                            0   \n",
       "13817                               0                            0   \n",
       "49421                               0                            1   \n",
       "36007                               0                            1   \n",
       "...                               ...                          ...   \n",
       "31563                               1                            0   \n",
       "30627                               0                            0   \n",
       "43827                               0                            0   \n",
       "40824                               0                            0   \n",
       "21346                               0                            0   \n",
       "\n",
       "       smoking_status_smokes  \n",
       "id                            \n",
       "54982                      0  \n",
       "8760                       1  \n",
       "13817                      0  \n",
       "49421                      0  \n",
       "36007                      0  \n",
       "...                      ...  \n",
       "31563                      0  \n",
       "30627                      0  \n",
       "43827                      1  \n",
       "40824                      0  \n",
       "21346                      0  \n",
       "\n",
       "[5110 rows x 18 columns]"
      ]
     },
     "execution_count": 10,
     "metadata": {},
     "output_type": "execute_result"
    }
   ],
   "source": [
    "print(df.shape)\n",
    "df"
   ]
  },
  {
   "cell_type": "code",
   "execution_count": 11,
   "id": "06255a39",
   "metadata": {},
   "outputs": [
    {
     "name": "stdout",
     "output_type": "stream",
     "text": [
      "['gender', 'age', 'hypertension', 'heart_disease', 'ever_married', 'Residence_type', 'avg_glucose_level', 'bmi', 'work_type_Govt_job', 'work_type_Never_worked', 'work_type_Private', 'work_type_Self-employed', 'work_type_children', 'smoking_status_Unknown', 'smoking_status_formerly smoked', 'smoking_status_never smoked', 'smoking_status_smokes']\n"
     ]
    }
   ],
   "source": [
    "features = list(df.columns)\n",
    "features.remove(\"stroke\")\n",
    "print(features)"
   ]
  },
  {
   "cell_type": "markdown",
   "id": "fd82e043",
   "metadata": {},
   "source": [
    "# Test Data"
   ]
  },
  {
   "cell_type": "code",
   "execution_count": 12,
   "id": "a3a6c43b",
   "metadata": {},
   "outputs": [
    {
     "data": {
      "text/html": [
       "<div>\n",
       "<style scoped>\n",
       "    .dataframe tbody tr th:only-of-type {\n",
       "        vertical-align: middle;\n",
       "    }\n",
       "\n",
       "    .dataframe tbody tr th {\n",
       "        vertical-align: top;\n",
       "    }\n",
       "\n",
       "    .dataframe thead th {\n",
       "        text-align: right;\n",
       "    }\n",
       "</style>\n",
       "<table border=\"1\" class=\"dataframe\">\n",
       "  <thead>\n",
       "    <tr style=\"text-align: right;\">\n",
       "      <th></th>\n",
       "      <th>gender</th>\n",
       "      <th>age</th>\n",
       "      <th>hypertension</th>\n",
       "      <th>heart_disease</th>\n",
       "      <th>ever_married</th>\n",
       "      <th>work_type</th>\n",
       "      <th>Residence_type</th>\n",
       "      <th>avg_glucose_level</th>\n",
       "      <th>bmi</th>\n",
       "      <th>smoking_status</th>\n",
       "    </tr>\n",
       "    <tr>\n",
       "      <th>id</th>\n",
       "      <th></th>\n",
       "      <th></th>\n",
       "      <th></th>\n",
       "      <th></th>\n",
       "      <th></th>\n",
       "      <th></th>\n",
       "      <th></th>\n",
       "      <th></th>\n",
       "      <th></th>\n",
       "      <th></th>\n",
       "    </tr>\n",
       "  </thead>\n",
       "  <tbody>\n",
       "    <tr>\n",
       "      <th>15304</th>\n",
       "      <td>Female</td>\n",
       "      <td>57.0</td>\n",
       "      <td>0</td>\n",
       "      <td>0</td>\n",
       "      <td>Yes</td>\n",
       "      <td>Private</td>\n",
       "      <td>Rural</td>\n",
       "      <td>82.54</td>\n",
       "      <td>33.4</td>\n",
       "      <td>Unknown</td>\n",
       "    </tr>\n",
       "    <tr>\n",
       "      <th>15305</th>\n",
       "      <td>Male</td>\n",
       "      <td>70.0</td>\n",
       "      <td>1</td>\n",
       "      <td>0</td>\n",
       "      <td>Yes</td>\n",
       "      <td>Private</td>\n",
       "      <td>Urban</td>\n",
       "      <td>72.06</td>\n",
       "      <td>28.5</td>\n",
       "      <td>Unknown</td>\n",
       "    </tr>\n",
       "    <tr>\n",
       "      <th>15306</th>\n",
       "      <td>Female</td>\n",
       "      <td>5.0</td>\n",
       "      <td>0</td>\n",
       "      <td>0</td>\n",
       "      <td>No</td>\n",
       "      <td>children</td>\n",
       "      <td>Urban</td>\n",
       "      <td>103.72</td>\n",
       "      <td>19.5</td>\n",
       "      <td>Unknown</td>\n",
       "    </tr>\n",
       "    <tr>\n",
       "      <th>15307</th>\n",
       "      <td>Female</td>\n",
       "      <td>56.0</td>\n",
       "      <td>0</td>\n",
       "      <td>0</td>\n",
       "      <td>Yes</td>\n",
       "      <td>Govt_job</td>\n",
       "      <td>Urban</td>\n",
       "      <td>69.24</td>\n",
       "      <td>41.4</td>\n",
       "      <td>smokes</td>\n",
       "    </tr>\n",
       "    <tr>\n",
       "      <th>15308</th>\n",
       "      <td>Male</td>\n",
       "      <td>32.0</td>\n",
       "      <td>0</td>\n",
       "      <td>0</td>\n",
       "      <td>Yes</td>\n",
       "      <td>Private</td>\n",
       "      <td>Rural</td>\n",
       "      <td>111.15</td>\n",
       "      <td>30.1</td>\n",
       "      <td>smokes</td>\n",
       "    </tr>\n",
       "    <tr>\n",
       "      <th>...</th>\n",
       "      <td>...</td>\n",
       "      <td>...</td>\n",
       "      <td>...</td>\n",
       "      <td>...</td>\n",
       "      <td>...</td>\n",
       "      <td>...</td>\n",
       "      <td>...</td>\n",
       "      <td>...</td>\n",
       "      <td>...</td>\n",
       "      <td>...</td>\n",
       "    </tr>\n",
       "    <tr>\n",
       "      <th>25503</th>\n",
       "      <td>Female</td>\n",
       "      <td>27.0</td>\n",
       "      <td>0</td>\n",
       "      <td>0</td>\n",
       "      <td>No</td>\n",
       "      <td>Private</td>\n",
       "      <td>Urban</td>\n",
       "      <td>75.77</td>\n",
       "      <td>17.6</td>\n",
       "      <td>never smoked</td>\n",
       "    </tr>\n",
       "    <tr>\n",
       "      <th>25504</th>\n",
       "      <td>Male</td>\n",
       "      <td>49.0</td>\n",
       "      <td>0</td>\n",
       "      <td>0</td>\n",
       "      <td>Yes</td>\n",
       "      <td>Private</td>\n",
       "      <td>Urban</td>\n",
       "      <td>102.91</td>\n",
       "      <td>26.7</td>\n",
       "      <td>Unknown</td>\n",
       "    </tr>\n",
       "    <tr>\n",
       "      <th>25505</th>\n",
       "      <td>Female</td>\n",
       "      <td>3.0</td>\n",
       "      <td>0</td>\n",
       "      <td>0</td>\n",
       "      <td>No</td>\n",
       "      <td>children</td>\n",
       "      <td>Rural</td>\n",
       "      <td>104.04</td>\n",
       "      <td>18.3</td>\n",
       "      <td>Unknown</td>\n",
       "    </tr>\n",
       "    <tr>\n",
       "      <th>25506</th>\n",
       "      <td>Male</td>\n",
       "      <td>31.0</td>\n",
       "      <td>0</td>\n",
       "      <td>0</td>\n",
       "      <td>Yes</td>\n",
       "      <td>Private</td>\n",
       "      <td>Urban</td>\n",
       "      <td>82.41</td>\n",
       "      <td>28.7</td>\n",
       "      <td>never smoked</td>\n",
       "    </tr>\n",
       "    <tr>\n",
       "      <th>25507</th>\n",
       "      <td>Female</td>\n",
       "      <td>2.0</td>\n",
       "      <td>0</td>\n",
       "      <td>0</td>\n",
       "      <td>No</td>\n",
       "      <td>children</td>\n",
       "      <td>Urban</td>\n",
       "      <td>85.12</td>\n",
       "      <td>14.8</td>\n",
       "      <td>Unknown</td>\n",
       "    </tr>\n",
       "  </tbody>\n",
       "</table>\n",
       "<p>10204 rows × 10 columns</p>\n",
       "</div>"
      ],
      "text/plain": [
       "       gender   age  hypertension  heart_disease ever_married work_type  \\\n",
       "id                                                                        \n",
       "15304  Female  57.0             0              0          Yes   Private   \n",
       "15305    Male  70.0             1              0          Yes   Private   \n",
       "15306  Female   5.0             0              0           No  children   \n",
       "15307  Female  56.0             0              0          Yes  Govt_job   \n",
       "15308    Male  32.0             0              0          Yes   Private   \n",
       "...       ...   ...           ...            ...          ...       ...   \n",
       "25503  Female  27.0             0              0           No   Private   \n",
       "25504    Male  49.0             0              0          Yes   Private   \n",
       "25505  Female   3.0             0              0           No  children   \n",
       "25506    Male  31.0             0              0          Yes   Private   \n",
       "25507  Female   2.0             0              0           No  children   \n",
       "\n",
       "      Residence_type  avg_glucose_level   bmi smoking_status  \n",
       "id                                                            \n",
       "15304          Rural              82.54  33.4        Unknown  \n",
       "15305          Urban              72.06  28.5        Unknown  \n",
       "15306          Urban             103.72  19.5        Unknown  \n",
       "15307          Urban              69.24  41.4         smokes  \n",
       "15308          Rural             111.15  30.1         smokes  \n",
       "...              ...                ...   ...            ...  \n",
       "25503          Urban              75.77  17.6   never smoked  \n",
       "25504          Urban             102.91  26.7        Unknown  \n",
       "25505          Rural             104.04  18.3        Unknown  \n",
       "25506          Urban              82.41  28.7   never smoked  \n",
       "25507          Urban              85.12  14.8        Unknown  \n",
       "\n",
       "[10204 rows x 10 columns]"
      ]
     },
     "execution_count": 12,
     "metadata": {},
     "output_type": "execute_result"
    }
   ],
   "source": [
    "df_test = pd.read_csv(\"test.csv\", index_col=\"id\")\n",
    "df_test"
   ]
  },
  {
   "cell_type": "code",
   "execution_count": 13,
   "id": "1c428d98",
   "metadata": {},
   "outputs": [],
   "source": [
    "#Label Encoding\n",
    "\n",
    "df_test.loc[df_test.gender == \"Male\", \"gender\"] = 0\n",
    "df_test.loc[df_test.gender != 0, \"gender\"] = 1\n",
    "df_test[\"gender\"] = df_test[\"gender\"].astype(int)\n",
    "\n",
    "df_test.loc[df_test.ever_married == \"Yes\", \"ever_married\"] = 0\n",
    "df_test.loc[df_test.ever_married != 0, \"ever_married\"] = 1\n",
    "df_test[\"ever_married\"] = df_test[\"ever_married\"].astype(int)\n",
    "\n",
    "df_test.loc[df_test.Residence_type == \"Urban\", \"Residence_type\"] = 0\n",
    "df_test.loc[df_test.Residence_type != 0, \"Residence_type\"] = 1\n",
    "df_test[\"Residence_type\"] = df_test[\"Residence_type\"].astype(int)"
   ]
  },
  {
   "cell_type": "code",
   "execution_count": 14,
   "id": "23af854d",
   "metadata": {},
   "outputs": [],
   "source": [
    "df_test = pd.get_dummies(data=df_test, columns=[\"work_type\", \"smoking_status\"])"
   ]
  },
  {
   "cell_type": "markdown",
   "id": "0a41f3c5",
   "metadata": {},
   "source": [
    "# Standardization"
   ]
  },
  {
   "cell_type": "code",
   "execution_count": 15,
   "id": "579e0346",
   "metadata": {},
   "outputs": [],
   "source": [
    "# test\n",
    "\n",
    "df_test[\"avg_glucose_level\"] = (df_test.avg_glucose_level - df.avg_glucose_level.mean()) / df.avg_glucose_level.std()\n",
    "df_test[\"age\"] = (df_test.age - df.age.mean()) / df.age.std()\n",
    "df_test[\"bmi\"] = (df_test.bmi - df.bmi.mean()) / df.bmi.std()\n",
    "\n",
    "# train\n",
    "\n",
    "df[\"avg_glucose_level\"] = (df.avg_glucose_level - df.avg_glucose_level.mean()) / df.avg_glucose_level.std()\n",
    "df[\"age\"] = (df.age - df.age.mean()) / df.age.std()\n",
    "df[\"bmi\"] = (df.bmi - df.bmi.mean()) / df.bmi.std()"
   ]
  },
  {
   "cell_type": "markdown",
   "id": "958a9b8e",
   "metadata": {},
   "source": [
    "# Classes and Functions"
   ]
  },
  {
   "cell_type": "code",
   "execution_count": 16,
   "id": "a71a1b8a",
   "metadata": {},
   "outputs": [],
   "source": [
    "import torch\n",
    "from torch.utils.data import Dataset, DataLoader\n",
    "\n",
    "class MakeDataset(Dataset):\n",
    "    def __init__(self, df):\n",
    "        x = df[features].values\n",
    "        y = df[\"stroke\"].values\n",
    "        self.x_train=torch.tensor(x,dtype=torch.float32)\n",
    "        self.y_train=torch.tensor(y,dtype=torch.float32)\n",
    "        \n",
    "    def __len__(self):\n",
    "        return len(self.y_train)\n",
    "    \n",
    "    def __getitem__(self,idx):\n",
    "        return self.x_train[idx], self.y_train[idx]\n"
   ]
  },
  {
   "cell_type": "code",
   "execution_count": 17,
   "id": "b7e917e6",
   "metadata": {},
   "outputs": [],
   "source": [
    "# You may or may not want to use this, it basically makes all batches divide into stroke: 1 and stroke: 2 equally\n",
    "\n",
    "import torch.utils.data\n",
    "import random\n",
    "\n",
    "# Courtesy of galatolofederico\n",
    "#https://github.com/galatolofederico/pytorch-balanced-batch/blob/master/example.py\n",
    "\n",
    "class BalancedBatchSampler(torch.utils.data.sampler.Sampler):\n",
    "    def __init__(self, dataset, labels=None):\n",
    "        self.labels = labels\n",
    "        self.dataset = dict()\n",
    "        self.balanced_max = 0\n",
    "        # Save all the indices for all the classes\n",
    "        for idx in range(0, len(dataset)):\n",
    "            label = self._get_label(dataset, idx)\n",
    "            if label not in self.dataset:\n",
    "                self.dataset[label] = list()\n",
    "            self.dataset[label].append(idx)\n",
    "            self.balanced_max = len(self.dataset[label]) \\\n",
    "                if len(self.dataset[label]) > self.balanced_max else self.balanced_max\n",
    "        \n",
    "        # Oversample the classes with fewer elements than the max\n",
    "        for label in self.dataset:\n",
    "            while len(self.dataset[label]) < self.balanced_max:\n",
    "                self.dataset[label].append(random.choice(self.dataset[label]))\n",
    "        self.keys = list(self.dataset.keys())\n",
    "        self.currentkey = 0\n",
    "        self.indices = [-1]*len(self.keys)\n",
    "\n",
    "    def __iter__(self):\n",
    "        while self.indices[self.currentkey] < self.balanced_max - 1:\n",
    "            self.indices[self.currentkey] += 1\n",
    "            yield self.dataset[self.keys[self.currentkey]][self.indices[self.currentkey]]\n",
    "            self.currentkey = (self.currentkey + 1) % len(self.keys)\n",
    "        self.indices = [-1]*len(self.keys)\n",
    "    \n",
    "    def _get_label(self, dataset, idx, labels = None):\n",
    "        if self.labels is not None:\n",
    "            return self.labels[idx].item()\n",
    "        else:\n",
    "            raise Exception(\"You should pass the tensor of labels to the constructor as second argument\")\n",
    "\n",
    "    def __len__(self):\n",
    "        return self.balanced_max*len(self.keys)"
   ]
  },
  {
   "cell_type": "code",
   "execution_count": 18,
   "id": "4c9f6533",
   "metadata": {},
   "outputs": [],
   "source": [
    "import torch.nn as nn\n",
    "\n",
    "device = torch.device('cuda' if torch.cuda.is_available() else 'cpu')\n",
    "\n",
    "class Net1(nn.Module):\n",
    "    def __init__(self, input_size, hidden_size, num_classes):\n",
    "        super(Net1, self).__init__()\n",
    "        self.input_size = input_size\n",
    "        self.l1 = nn.Linear(input_size, hidden_size) \n",
    "        self.l2 = nn.Linear(hidden_size, num_classes) \n",
    "        self.lrelu = nn.LeakyReLU(negative_slope=0.01)\n",
    "        self.sigmoid = nn.Sigmoid()\n",
    "        \n",
    "        self.dropout = nn.Dropout(0.2)\n",
    "    \n",
    "    def forward(self, x):\n",
    "        out = self.l1(x)\n",
    "        out = self.dropout(out)\n",
    "        out = self.lrelu(out)\n",
    "        out = self.l2(out)\n",
    "        out = self.dropout(out)\n",
    "        out = self.sigmoid(out)\n",
    "        \n",
    "        return out"
   ]
  },
  {
   "cell_type": "code",
   "execution_count": 19,
   "id": "8da35e66",
   "metadata": {},
   "outputs": [],
   "source": [
    "import torch.nn as nn\n",
    "\n",
    "device = torch.device('cuda' if torch.cuda.is_available() else 'cpu')\n",
    "\n",
    "class Net2(nn.Module):\n",
    "    def __init__(self, input_size, hidden_size, num_classes):\n",
    "        super(Net2, self).__init__()\n",
    "        self.input_size = input_size\n",
    "        self.l1 = nn.Linear(input_size, hidden_size)\n",
    "        self.l2 = nn.Linear(hidden_size, hidden_size//2) \n",
    "        self.l3 = nn.Linear(hidden_size//2, num_classes)\n",
    "        \n",
    "        self.relu = nn.ReLU()\n",
    "        self.lrelu = nn.LeakyReLU(negative_slope=0.01)\n",
    "        self.elu = nn.ELU()\n",
    "        self.tanh = nn.Tanh()\n",
    "        \n",
    "        self.sigmoid = nn.Sigmoid()\n",
    "        \n",
    "        self.dropout = nn.Dropout(0.2) \n",
    "    \n",
    "    def forward(self, x):\n",
    "        out = self.l1(x)\n",
    "        out = self.dropout(out)\n",
    "        out = self.lrelu(out)\n",
    "        out = self.l2(out)\n",
    "        out = self.dropout(out)\n",
    "        out = self.lrelu(out)\n",
    "        out = self.l3(out)\n",
    "        out = self.dropout(out)\n",
    "        out = self.sigmoid(out)\n",
    "        \n",
    "        return out"
   ]
  },
  {
   "cell_type": "code",
   "execution_count": 20,
   "id": "64f60f92",
   "metadata": {},
   "outputs": [],
   "source": [
    "import torch.nn as nn\n",
    "\n",
    "device = torch.device('cuda' if torch.cuda.is_available() else 'cpu')\n",
    "\n",
    "class Net3(nn.Module):\n",
    "    def __init__(self, input_size, hidden_size, num_classes):\n",
    "        super(Net3, self).__init__()\n",
    "        self.input_size = input_size\n",
    "        self.l1 = nn.Linear(input_size, hidden_size)\n",
    "        self.l2 = nn.Linear(hidden_size, hidden_size//2)\n",
    "        self.l3 = nn.Linear(hidden_size//2, hidden_size//4) \n",
    "        self.l4 = nn.Linear(hidden_size//4, num_classes)\n",
    "        \n",
    "        self.relu = nn.ReLU()\n",
    "        self.lrelu = nn.LeakyReLU(negative_slope=0.01)\n",
    "        self.elu = nn.ELU()\n",
    "        self.tanh = nn.Tanh()\n",
    "        \n",
    "        self.sigmoid = nn.Sigmoid()\n",
    "        \n",
    "        self.dropout = nn.Dropout(0.2) \n",
    "    \n",
    "    def forward(self, x):\n",
    "        out = self.l1(x)\n",
    "        out = self.dropout(out)\n",
    "        out = self.lrelu(out)\n",
    "        out = self.l2(out)\n",
    "        out = self.dropout(out)\n",
    "        out = self.lrelu(out)\n",
    "        out = self.l3(out)\n",
    "        out = self.dropout(out)\n",
    "        out = self.lrelu(out)\n",
    "        out = self.l4(out)\n",
    "        out = self.dropout(out)\n",
    "        out = self.sigmoid(out)\n",
    "        \n",
    "        return out"
   ]
  },
  {
   "cell_type": "code",
   "execution_count": 21,
   "id": "f08faed9",
   "metadata": {},
   "outputs": [],
   "source": [
    "import torch.nn as nn\n",
    "\n",
    "device = torch.device('cuda' if torch.cuda.is_available() else 'cpu')\n",
    "\n",
    "class Net3_1(nn.Module):\n",
    "    def __init__(self, input_size, hidden_size, num_classes):\n",
    "        super(Net3_1, self).__init__()\n",
    "        self.input_size = input_size\n",
    "        self.l1 = nn.Linear(input_size, hidden_size//2)\n",
    "        self.l2 = nn.Linear(hidden_size//2, hidden_size)\n",
    "        self.l3 = nn.Linear(hidden_size, hidden_size//2) \n",
    "        self.l4 = nn.Linear(hidden_size//2, num_classes)\n",
    "        \n",
    "        self.relu = nn.ReLU()\n",
    "        self.lrelu = nn.LeakyReLU(negative_slope=0.01)\n",
    "        self.elu = nn.ELU()\n",
    "        self.tanh = nn.Tanh()\n",
    "        \n",
    "        self.sigmoid = nn.Sigmoid()\n",
    "        \n",
    "        self.dropout = nn.Dropout(0.2) \n",
    "    \n",
    "    def forward(self, x):\n",
    "        out = self.l1(x)\n",
    "        out = self.dropout(out)\n",
    "        out = self.lrelu(out)\n",
    "        out = self.l2(out)\n",
    "        out = self.dropout(out)\n",
    "        out = self.lrelu(out)\n",
    "        out = self.l3(out)\n",
    "        out = self.dropout(out)\n",
    "        out = self.lrelu(out)\n",
    "        out = self.l4(out)\n",
    "        out = self.dropout(out)\n",
    "        out = self.sigmoid(out)\n",
    "        \n",
    "        return out"
   ]
  },
  {
   "cell_type": "code",
   "execution_count": 22,
   "id": "457cc6de",
   "metadata": {},
   "outputs": [],
   "source": [
    "def model_train(model, train_loader, valid_loader, num_epochs,  verbose=\"no\"):\n",
    "    history = {\"train_loss\": [], \"valid_loss\": [], \"epochs\": []}\n",
    "    \n",
    "    for epoch in range(num_epochs):\n",
    "        \n",
    "        if verbose == \"yes\":\n",
    "            print(f\"=======Epoch {epoch}========\")\n",
    "            \n",
    "        if verbose == \"partial\" and epoch == 0:\n",
    "            print(f\"Training started\")\n",
    "        \n",
    "        history[\"epochs\"].append(epoch)\n",
    "        \n",
    "        train_loss_log = []\n",
    "        valid_loss_log = []\n",
    "        sample_size_train = 0\n",
    "        sample_size_valid = 0\n",
    "        \n",
    "        model.train()\n",
    "        for samples, labels in train_loader:\n",
    "\n",
    "            #print(samples.shape)\n",
    "            #print(labels.shape)\n",
    "            samples = samples.to(device)\n",
    "            labels = labels.to(device)\n",
    "            #print(labels)\n",
    "            \n",
    "            # Train Loss\n",
    "            outputs = model(samples)\n",
    "            outputs = outputs.view(-1)\n",
    "            \n",
    "            train_loss = criterion(outputs, labels)\n",
    "            #print(train_loss)\n",
    "            \n",
    "            train_loss_log.append(train_loss.item() * len(samples))\n",
    "            #print(len(samples))\n",
    "            sample_size_train += len(samples)\n",
    "             \n",
    "            # Backward and optimize\n",
    "            optimizer.zero_grad()\n",
    "            train_loss.backward()\n",
    "            optimizer.step()\n",
    "            \n",
    "        model.eval()\n",
    "        for samples, labels in valid_loader:\n",
    "            #print(samples.shape)\n",
    "            #print(labels.shape)\n",
    "            samples = samples.to(device)\n",
    "            labels = labels.to(device)\n",
    "        \n",
    "            # Valid Loss\n",
    "            outputs = model(samples)\n",
    "            outputs = outputs.view(-1)\n",
    "            \n",
    "            valid_loss = criterion(outputs, labels)\n",
    "            valid_loss_log.append(valid_loss.item() * len(samples))\n",
    "            #print(len(samples))\n",
    "            sample_size_valid += len(samples)\n",
    "        \n",
    "        history[\"train_loss\"].append(sum(train_loss_log) / sample_size_train)\n",
    "        history[\"valid_loss\"].append(sum(valid_loss_log) / sample_size_valid)\n",
    "        \n",
    "    print(\"\\n\") \n",
    "    return history"
   ]
  },
  {
   "cell_type": "code",
   "execution_count": 23,
   "id": "13174426",
   "metadata": {},
   "outputs": [],
   "source": [
    "def model_train_with_save(model, train_loader, valid_loader, num_epochs,\n",
    "                          save_path='model_weights_for_{}_epoch_{}.pt', net_name=\"\", verbose=\"no\"):\n",
    "    \n",
    "    history = {\"train_loss\": [], \"valid_loss\": [], \"epochs\": []}\n",
    "    \n",
    "    for epoch in range(num_epochs):\n",
    "        \n",
    "        if verbose == \"yes\":\n",
    "            print(f\"=======Epoch {epoch}========\")\n",
    "            \n",
    "        if verbose == \"partial\" and epoch == 0:\n",
    "            print(f\"Training started\")\n",
    "        \n",
    "        history[\"epochs\"].append(epoch)\n",
    "        \n",
    "        train_loss_log = []\n",
    "        valid_loss_log = []\n",
    "        sample_size_train = 0\n",
    "        sample_size_valid = 0\n",
    "        \n",
    "        model.train()\n",
    "        for samples, labels in train_loader:\n",
    "\n",
    "            #print(samples.shape)\n",
    "            #print(labels.shape)\n",
    "            samples = samples.to(device)\n",
    "            labels = labels.to(device)\n",
    "            #print(labels)\n",
    "            \n",
    "            # Train Loss\n",
    "            outputs = model(samples)\n",
    "            outputs = outputs.view(-1)\n",
    "            \n",
    "            train_loss = criterion(outputs, labels)\n",
    "            #print(train_loss)\n",
    "            \n",
    "            train_loss_log.append(train_loss.item() * len(samples))\n",
    "            #print(len(samples))\n",
    "            sample_size_train += len(samples)\n",
    "             \n",
    "            # Backward and optimize\n",
    "            optimizer.zero_grad()\n",
    "            train_loss.backward()\n",
    "            optimizer.step()\n",
    "            \n",
    "        model.eval()\n",
    "        for samples, labels in valid_loader:\n",
    "            #print(samples.shape)\n",
    "            #print(labels.shape)\n",
    "            samples = samples.to(device)\n",
    "            labels = labels.to(device)\n",
    "        \n",
    "            # Valid Loss\n",
    "            outputs = model(samples)\n",
    "            outputs = outputs.view(-1)\n",
    "            \n",
    "            valid_loss = criterion(outputs, labels)\n",
    "            valid_loss_log.append(valid_loss.item() * len(samples))\n",
    "            #print(len(samples))\n",
    "            sample_size_valid += len(samples)\n",
    "        \n",
    "        history[\"train_loss\"].append(sum(train_loss_log) / sample_size_train)\n",
    "        history[\"valid_loss\"].append(sum(valid_loss_log) / sample_size_valid)\n",
    "\n",
    "        # Save model weights every x epochs\n",
    "        x = 1\n",
    "        if save_path is not None and epoch % x == 0:\n",
    "            torch.save(model.state_dict(), save_path.format(net_name, epoch))\n",
    "        \n",
    "    return history"
   ]
  },
  {
   "cell_type": "code",
   "execution_count": 24,
   "id": "d3d58f9f",
   "metadata": {},
   "outputs": [],
   "source": [
    "threshold = 0.5\n",
    "\n",
    "def round_up(a):\n",
    "    if a >= threshold:\n",
    "        return 1\n",
    "    return 0\n",
    "\n",
    "#print(round_up(0.6))\n",
    "\n",
    "import torchmetrics\n",
    "\n",
    "def model_test(model, test_loader):\n",
    "    model.eval()\n",
    "    #AUROC metric\n",
    "    \n",
    "    with torch.no_grad():\n",
    "        tp = 0\n",
    "        tn = 0\n",
    "        fp = 0\n",
    "        fn = 0\n",
    "        \n",
    "        for samples, labels in test_loader:\n",
    "            outputs = model(samples)\n",
    "            #outputs = sigmoid(outputs.item())\n",
    "            #print(outputs)\n",
    "            \n",
    "            # threshold performance\n",
    "            for output, label in zip(outputs, labels):\n",
    "                predicted_wtreshold = round_up(output.item())\n",
    "            \n",
    "                if int(label) == 1:\n",
    "                    if predicted_wtreshold == 1:\n",
    "                        tp += 1\n",
    "                    elif predicted_wtreshold == 0:\n",
    "                        fn += 1\n",
    "                    \n",
    "                elif int(label) == 0:\n",
    "                    if predicted_wtreshold == 1:\n",
    "                        fp += 1\n",
    "                    elif predicted_wtreshold == 0:\n",
    "                        tn += 1\n",
    "                    \n",
    "            # ROC - AUROC\n",
    "            pred = outputs\n",
    "            pred = pred.view(-1)\n",
    "            #print(pred.shape)\n",
    "            #print(label.shape)\n",
    "\n",
    "            #roc = torchmetrics.ROC(task=\"binary\")\n",
    "            #fpr, tpr, thresholds = roc(pred, label.to(torch.long))\n",
    "            auroc = torchmetrics.AUROC(task=\"binary\")\n",
    "            auc_score = auroc(pred, labels.to(torch.long)).item()\n",
    "                    \n",
    "        tpr = tp / (tp + fn)\n",
    "        tnr = tn / (tn + fp)\n",
    "        balanced_acc = (tpr + tnr) / 2\n",
    "            \n",
    "    return auc_score, balanced_acc, tp, tn, fp, fn"
   ]
  },
  {
   "cell_type": "markdown",
   "id": "7f851ff1",
   "metadata": {},
   "source": [
    "## Train and Validation"
   ]
  },
  {
   "cell_type": "code",
   "execution_count": 90,
   "id": "9aa77ae2",
   "metadata": {
    "scrolled": false
   },
   "outputs": [
    {
     "name": "stdout",
     "output_type": "stream",
     "text": [
      "=======Epoch 0========\n",
      "=======Epoch 1========\n",
      "=======Epoch 2========\n",
      "=======Epoch 3========\n",
      "=======Epoch 4========\n",
      "=======Epoch 5========\n",
      "=======Epoch 6========\n",
      "=======Epoch 7========\n",
      "=======Epoch 8========\n",
      "=======Epoch 9========\n",
      "=======Epoch 10========\n",
      "=======Epoch 11========\n",
      "=======Epoch 12========\n",
      "=======Epoch 13========\n",
      "=======Epoch 14========\n",
      "=======Epoch 15========\n",
      "=======Epoch 16========\n",
      "=======Epoch 17========\n",
      "=======Epoch 18========\n",
      "=======Epoch 19========\n",
      "=======Epoch 20========\n",
      "=======Epoch 21========\n",
      "=======Epoch 22========\n",
      "=======Epoch 23========\n",
      "=======Epoch 24========\n",
      "=======Epoch 25========\n",
      "=======Epoch 26========\n",
      "=======Epoch 27========\n",
      "=======Epoch 28========\n",
      "=======Epoch 29========\n",
      "=======Epoch 30========\n",
      "=======Epoch 31========\n",
      "=======Epoch 32========\n",
      "=======Epoch 33========\n",
      "=======Epoch 34========\n",
      "=======Epoch 35========\n",
      "=======Epoch 36========\n",
      "=======Epoch 37========\n",
      "=======Epoch 38========\n",
      "=======Epoch 39========\n",
      "=======Epoch 40========\n",
      "=======Epoch 41========\n",
      "=======Epoch 42========\n",
      "=======Epoch 43========\n",
      "=======Epoch 44========\n",
      "=======Epoch 45========\n",
      "=======Epoch 46========\n",
      "=======Epoch 47========\n",
      "=======Epoch 48========\n",
      "=======Epoch 49========\n",
      "=======Epoch 50========\n",
      "=======Epoch 51========\n",
      "=======Epoch 52========\n",
      "=======Epoch 53========\n",
      "=======Epoch 54========\n",
      "=======Epoch 55========\n",
      "=======Epoch 56========\n",
      "=======Epoch 57========\n",
      "=======Epoch 58========\n",
      "=======Epoch 59========\n",
      "=======Epoch 60========\n",
      "=======Epoch 61========\n",
      "=======Epoch 62========\n",
      "=======Epoch 63========\n",
      "=======Epoch 64========\n",
      "=======Epoch 65========\n",
      "=======Epoch 66========\n",
      "=======Epoch 67========\n",
      "=======Epoch 68========\n",
      "=======Epoch 69========\n",
      "=======Epoch 70========\n",
      "=======Epoch 71========\n",
      "=======Epoch 72========\n",
      "=======Epoch 73========\n",
      "=======Epoch 74========\n",
      "=======Epoch 75========\n",
      "=======Epoch 76========\n",
      "=======Epoch 77========\n",
      "=======Epoch 78========\n",
      "=======Epoch 79========\n",
      "=======Epoch 80========\n",
      "=======Epoch 81========\n",
      "=======Epoch 82========\n",
      "=======Epoch 83========\n",
      "=======Epoch 84========\n",
      "=======Epoch 85========\n",
      "=======Epoch 86========\n",
      "=======Epoch 87========\n",
      "=======Epoch 88========\n",
      "=======Epoch 89========\n",
      "=======Epoch 90========\n",
      "=======Epoch 91========\n",
      "=======Epoch 92========\n",
      "=======Epoch 93========\n",
      "=======Epoch 94========\n",
      "=======Epoch 95========\n",
      "=======Epoch 96========\n",
      "=======Epoch 97========\n",
      "=======Epoch 98========\n",
      "=======Epoch 99========\n",
      "=======Epoch 100========\n",
      "Sensitivity(Last Model): 0.375 , Specificity(Last Model): 0.8910891089108911\n",
      "Balanced Accuracy(Last Model): 0.6330445544554455\n",
      "AUROC Score(Last Model): 0.7710395455360413\n",
      "------------------------------------------------------\n",
      "Best epoch was: 1\n",
      "Sensitivity(Best Model): 0.75 , Specificity(Best Model): 0.801980198019802\n",
      "Balanced Accuracy(Best Model): 0.775990099009901\n",
      "AUROC Score(Best Model): 0.8725247979164124\n"
     ]
    },
    {
     "data": {
      "application/vnd.plotly.v1+json": {
       "config": {
        "plotlyServerURL": "https://plot.ly"
       },
       "data": [
        {
         "hovertemplate": "variable=train_loss<br>epochs=%{x}<br>value=%{y}<extra></extra>",
         "legendgroup": "train_loss",
         "line": {
          "color": "#636efa",
          "dash": "solid"
         },
         "marker": {
          "symbol": "circle"
         },
         "mode": "lines",
         "name": "train_loss",
         "orientation": "v",
         "showlegend": true,
         "type": "scatter",
         "x": [
          0,
          1,
          2,
          3,
          4,
          5,
          6,
          7,
          8,
          9,
          10,
          11,
          12,
          13,
          14,
          15,
          16,
          17,
          18,
          19,
          20,
          21,
          22,
          23,
          24,
          25,
          26,
          27,
          28,
          29,
          30,
          31,
          32,
          33,
          34,
          35,
          36,
          37,
          38,
          39,
          40,
          41,
          42,
          43,
          44,
          45,
          46,
          47,
          48,
          49,
          50,
          51,
          52,
          53,
          54,
          55,
          56,
          57,
          58,
          59,
          60,
          61,
          62,
          63,
          64,
          65,
          66,
          67,
          68,
          69,
          70,
          71,
          72,
          73,
          74,
          75,
          76,
          77,
          78,
          79,
          80,
          81,
          82,
          83,
          84,
          85,
          86,
          87,
          88,
          89,
          90,
          91,
          92,
          93,
          94,
          95,
          96,
          97,
          98,
          99,
          100
         ],
         "xaxis": "x",
         "y": [
          0.5163818334831911,
          0.4776607290035536,
          0.45786614418029786,
          0.44449738434382846,
          0.42791095305891597,
          0.40745744825411245,
          0.4055443215770882,
          0.39746779118265424,
          0.3944926265408011,
          0.38381024744330333,
          0.3777579402222353,
          0.3778090622244763,
          0.36764133457376175,
          0.3713368451895834,
          0.3619232041495187,
          0.3624382314561796,
          0.35788725008483696,
          0.35461760158298394,
          0.3491407011236463,
          0.35011091162176694,
          0.34856587107442005,
          0.34245209238108465,
          0.3383936518380622,
          0.3321103021377275,
          0.33344159491923675,
          0.3332227312717117,
          0.3283018727262481,
          0.329084287571306,
          0.32758262618249206,
          0.3223749434747616,
          0.32330521991272937,
          0.31815551278971826,
          0.31668822484857895,
          0.3158842415869737,
          0.3189369520720314,
          0.31782774717366996,
          0.3199217027475854,
          0.306873891333572,
          0.3102541710148338,
          0.3143533687130744,
          0.3101585482348915,
          0.30959089608753426,
          0.31035095909062554,
          0.30435381055879995,
          0.30494824081909755,
          0.30140781723150684,
          0.30424987593618763,
          0.3031705718080537,
          0.30230609604290554,
          0.30002108822349743,
          0.295662052491132,
          0.29274331772026896,
          0.2950875530974204,
          0.29403119563054636,
          0.29578248983671684,
          0.29426186470424426,
          0.2955690429491155,
          0.29233149277562853,
          0.29615366068206916,
          0.2871770278245461,
          0.29544203231314653,
          0.2905792008928892,
          0.29068991236326075,
          0.2947689654947329,
          0.2872532148070696,
          0.2840715738404699,
          0.2869059800600805,
          0.2913499180008383,
          0.2873796916308523,
          0.2923859966402294,
          0.29203156262886626,
          0.2863036457230063,
          0.2869643815675703,
          0.2868549267534448,
          0.279703359017853,
          0.28519234977850394,
          0.285275623127192,
          0.28594715470025517,
          0.286532518668335,
          0.28078222162082417,
          0.2830981577394389,
          0.28330960621853835,
          0.28988546248243635,
          0.2826092118225178,
          0.28064474553621116,
          0.279367795561542,
          0.2799755409485152,
          0.28020583691717194,
          0.28004614511708253,
          0.28449760520157696,
          0.2825347987543635,
          0.2773282014522232,
          0.27797308506584967,
          0.282112697042337,
          0.2790817980756279,
          0.28144962181564137,
          0.27335830971974284,
          0.2817193148015928,
          0.27576853905906196,
          0.27223751006507074,
          0.28451413607396997
         ],
         "yaxis": "y"
        },
        {
         "hovertemplate": "variable=valid_loss<br>epochs=%{x}<br>value=%{y}<extra></extra>",
         "legendgroup": "valid_loss",
         "line": {
          "color": "#EF553B",
          "dash": "solid"
         },
         "marker": {
          "symbol": "circle"
         },
         "mode": "lines",
         "name": "valid_loss",
         "orientation": "v",
         "showlegend": true,
         "type": "scatter",
         "x": [
          0,
          1,
          2,
          3,
          4,
          5,
          6,
          7,
          8,
          9,
          10,
          11,
          12,
          13,
          14,
          15,
          16,
          17,
          18,
          19,
          20,
          21,
          22,
          23,
          24,
          25,
          26,
          27,
          28,
          29,
          30,
          31,
          32,
          33,
          34,
          35,
          36,
          37,
          38,
          39,
          40,
          41,
          42,
          43,
          44,
          45,
          46,
          47,
          48,
          49,
          50,
          51,
          52,
          53,
          54,
          55,
          56,
          57,
          58,
          59,
          60,
          61,
          62,
          63,
          64,
          65,
          66,
          67,
          68,
          69,
          70,
          71,
          72,
          73,
          74,
          75,
          76,
          77,
          78,
          79,
          80,
          81,
          82,
          83,
          84,
          85,
          86,
          87,
          88,
          89,
          90,
          91,
          92,
          93,
          94,
          95,
          96,
          97,
          98,
          99,
          100
         ],
         "xaxis": "x",
         "y": [
          0.575600272358054,
          0.6297740995293797,
          0.6605506350498388,
          0.6822612096767614,
          0.7282918414266983,
          0.7046352471455489,
          0.712207831368588,
          0.8237048971771014,
          0.7618632328392255,
          0.8535285190780564,
          0.9249184196538264,
          0.8676326404703726,
          0.8250457207755287,
          0.9670458489125318,
          0.8871626429038473,
          0.9084091977317734,
          0.8631322767474864,
          0.9024803443710403,
          0.9226339825309149,
          0.9440152054966087,
          0.8765454817526411,
          0.9239660926384501,
          0.9626705941587391,
          1.0479904224376868,
          1.035130529710562,
          1.0050374535050723,
          0.9237833123395939,
          0.8725631685540227,
          0.9895419378091793,
          0.9571524274231183,
          0.9801828235682875,
          1.1579140300797943,
          1.0397529425007281,
          1.0066985747601727,
          1.094438360469176,
          1.0789631180243917,
          1.0389256518666108,
          1.1414530454295697,
          1.0905175622146908,
          1.1305997489702584,
          1.0804189538011457,
          1.2034805765246401,
          0.9726309681882953,
          1.079619865606327,
          1.1422080002208748,
          1.099803667257328,
          1.070144488079713,
          1.0510876686266153,
          1.1123564514783348,
          1.2045369419721093,
          1.2243388442709895,
          1.1114230085127423,
          1.1274797821989153,
          1.0851812527911497,
          1.2787017173106128,
          1.2007079242479684,
          1.2631090065040211,
          1.1635899850637605,
          1.2128227512435157,
          1.0780389120083045,
          1.255541501658978,
          1.238666805890527,
          1.3584145401964094,
          1.1566478120218409,
          1.2139267402120155,
          1.1836490654709315,
          1.182326307391176,
          1.1106493838942877,
          1.2332442290712111,
          1.1329468760159935,
          1.204264771820295,
          1.19887110502413,
          1.210718586893365,
          1.2014172808958752,
          1.3699759103284024,
          1.2033656210002333,
          1.1427485470724579,
          1.1746506277877506,
          1.201083988246351,
          1.3099770569565272,
          1.2765505077815291,
          1.3799381374132516,
          1.2845898642398343,
          1.2376686783120183,
          1.438886585802135,
          1.2800535848825285,
          1.281957753814093,
          1.2852511665608624,
          1.3129595411886084,
          1.3287074235406253,
          1.2787336406141225,
          1.2391101653032963,
          1.3396672057633352,
          1.3137621891380538,
          1.2434498331334332,
          1.4081700225867848,
          1.3152311367563683,
          1.3322545467036786,
          1.2303987080507939,
          1.3739235235912965,
          1.2390564573873388
         ],
         "yaxis": "y"
        }
       ],
       "layout": {
        "legend": {
         "title": {
          "text": "Loss Type"
         },
         "tracegroupgap": 0
        },
        "margin": {
         "t": 60
        },
        "template": {
         "data": {
          "bar": [
           {
            "error_x": {
             "color": "#2a3f5f"
            },
            "error_y": {
             "color": "#2a3f5f"
            },
            "marker": {
             "line": {
              "color": "#E5ECF6",
              "width": 0.5
             },
             "pattern": {
              "fillmode": "overlay",
              "size": 10,
              "solidity": 0.2
             }
            },
            "type": "bar"
           }
          ],
          "barpolar": [
           {
            "marker": {
             "line": {
              "color": "#E5ECF6",
              "width": 0.5
             },
             "pattern": {
              "fillmode": "overlay",
              "size": 10,
              "solidity": 0.2
             }
            },
            "type": "barpolar"
           }
          ],
          "carpet": [
           {
            "aaxis": {
             "endlinecolor": "#2a3f5f",
             "gridcolor": "white",
             "linecolor": "white",
             "minorgridcolor": "white",
             "startlinecolor": "#2a3f5f"
            },
            "baxis": {
             "endlinecolor": "#2a3f5f",
             "gridcolor": "white",
             "linecolor": "white",
             "minorgridcolor": "white",
             "startlinecolor": "#2a3f5f"
            },
            "type": "carpet"
           }
          ],
          "choropleth": [
           {
            "colorbar": {
             "outlinewidth": 0,
             "ticks": ""
            },
            "type": "choropleth"
           }
          ],
          "contour": [
           {
            "colorbar": {
             "outlinewidth": 0,
             "ticks": ""
            },
            "colorscale": [
             [
              0,
              "#0d0887"
             ],
             [
              0.1111111111111111,
              "#46039f"
             ],
             [
              0.2222222222222222,
              "#7201a8"
             ],
             [
              0.3333333333333333,
              "#9c179e"
             ],
             [
              0.4444444444444444,
              "#bd3786"
             ],
             [
              0.5555555555555556,
              "#d8576b"
             ],
             [
              0.6666666666666666,
              "#ed7953"
             ],
             [
              0.7777777777777778,
              "#fb9f3a"
             ],
             [
              0.8888888888888888,
              "#fdca26"
             ],
             [
              1,
              "#f0f921"
             ]
            ],
            "type": "contour"
           }
          ],
          "contourcarpet": [
           {
            "colorbar": {
             "outlinewidth": 0,
             "ticks": ""
            },
            "type": "contourcarpet"
           }
          ],
          "heatmap": [
           {
            "colorbar": {
             "outlinewidth": 0,
             "ticks": ""
            },
            "colorscale": [
             [
              0,
              "#0d0887"
             ],
             [
              0.1111111111111111,
              "#46039f"
             ],
             [
              0.2222222222222222,
              "#7201a8"
             ],
             [
              0.3333333333333333,
              "#9c179e"
             ],
             [
              0.4444444444444444,
              "#bd3786"
             ],
             [
              0.5555555555555556,
              "#d8576b"
             ],
             [
              0.6666666666666666,
              "#ed7953"
             ],
             [
              0.7777777777777778,
              "#fb9f3a"
             ],
             [
              0.8888888888888888,
              "#fdca26"
             ],
             [
              1,
              "#f0f921"
             ]
            ],
            "type": "heatmap"
           }
          ],
          "heatmapgl": [
           {
            "colorbar": {
             "outlinewidth": 0,
             "ticks": ""
            },
            "colorscale": [
             [
              0,
              "#0d0887"
             ],
             [
              0.1111111111111111,
              "#46039f"
             ],
             [
              0.2222222222222222,
              "#7201a8"
             ],
             [
              0.3333333333333333,
              "#9c179e"
             ],
             [
              0.4444444444444444,
              "#bd3786"
             ],
             [
              0.5555555555555556,
              "#d8576b"
             ],
             [
              0.6666666666666666,
              "#ed7953"
             ],
             [
              0.7777777777777778,
              "#fb9f3a"
             ],
             [
              0.8888888888888888,
              "#fdca26"
             ],
             [
              1,
              "#f0f921"
             ]
            ],
            "type": "heatmapgl"
           }
          ],
          "histogram": [
           {
            "marker": {
             "pattern": {
              "fillmode": "overlay",
              "size": 10,
              "solidity": 0.2
             }
            },
            "type": "histogram"
           }
          ],
          "histogram2d": [
           {
            "colorbar": {
             "outlinewidth": 0,
             "ticks": ""
            },
            "colorscale": [
             [
              0,
              "#0d0887"
             ],
             [
              0.1111111111111111,
              "#46039f"
             ],
             [
              0.2222222222222222,
              "#7201a8"
             ],
             [
              0.3333333333333333,
              "#9c179e"
             ],
             [
              0.4444444444444444,
              "#bd3786"
             ],
             [
              0.5555555555555556,
              "#d8576b"
             ],
             [
              0.6666666666666666,
              "#ed7953"
             ],
             [
              0.7777777777777778,
              "#fb9f3a"
             ],
             [
              0.8888888888888888,
              "#fdca26"
             ],
             [
              1,
              "#f0f921"
             ]
            ],
            "type": "histogram2d"
           }
          ],
          "histogram2dcontour": [
           {
            "colorbar": {
             "outlinewidth": 0,
             "ticks": ""
            },
            "colorscale": [
             [
              0,
              "#0d0887"
             ],
             [
              0.1111111111111111,
              "#46039f"
             ],
             [
              0.2222222222222222,
              "#7201a8"
             ],
             [
              0.3333333333333333,
              "#9c179e"
             ],
             [
              0.4444444444444444,
              "#bd3786"
             ],
             [
              0.5555555555555556,
              "#d8576b"
             ],
             [
              0.6666666666666666,
              "#ed7953"
             ],
             [
              0.7777777777777778,
              "#fb9f3a"
             ],
             [
              0.8888888888888888,
              "#fdca26"
             ],
             [
              1,
              "#f0f921"
             ]
            ],
            "type": "histogram2dcontour"
           }
          ],
          "mesh3d": [
           {
            "colorbar": {
             "outlinewidth": 0,
             "ticks": ""
            },
            "type": "mesh3d"
           }
          ],
          "parcoords": [
           {
            "line": {
             "colorbar": {
              "outlinewidth": 0,
              "ticks": ""
             }
            },
            "type": "parcoords"
           }
          ],
          "pie": [
           {
            "automargin": true,
            "type": "pie"
           }
          ],
          "scatter": [
           {
            "fillpattern": {
             "fillmode": "overlay",
             "size": 10,
             "solidity": 0.2
            },
            "type": "scatter"
           }
          ],
          "scatter3d": [
           {
            "line": {
             "colorbar": {
              "outlinewidth": 0,
              "ticks": ""
             }
            },
            "marker": {
             "colorbar": {
              "outlinewidth": 0,
              "ticks": ""
             }
            },
            "type": "scatter3d"
           }
          ],
          "scattercarpet": [
           {
            "marker": {
             "colorbar": {
              "outlinewidth": 0,
              "ticks": ""
             }
            },
            "type": "scattercarpet"
           }
          ],
          "scattergeo": [
           {
            "marker": {
             "colorbar": {
              "outlinewidth": 0,
              "ticks": ""
             }
            },
            "type": "scattergeo"
           }
          ],
          "scattergl": [
           {
            "marker": {
             "colorbar": {
              "outlinewidth": 0,
              "ticks": ""
             }
            },
            "type": "scattergl"
           }
          ],
          "scattermapbox": [
           {
            "marker": {
             "colorbar": {
              "outlinewidth": 0,
              "ticks": ""
             }
            },
            "type": "scattermapbox"
           }
          ],
          "scatterpolar": [
           {
            "marker": {
             "colorbar": {
              "outlinewidth": 0,
              "ticks": ""
             }
            },
            "type": "scatterpolar"
           }
          ],
          "scatterpolargl": [
           {
            "marker": {
             "colorbar": {
              "outlinewidth": 0,
              "ticks": ""
             }
            },
            "type": "scatterpolargl"
           }
          ],
          "scatterternary": [
           {
            "marker": {
             "colorbar": {
              "outlinewidth": 0,
              "ticks": ""
             }
            },
            "type": "scatterternary"
           }
          ],
          "surface": [
           {
            "colorbar": {
             "outlinewidth": 0,
             "ticks": ""
            },
            "colorscale": [
             [
              0,
              "#0d0887"
             ],
             [
              0.1111111111111111,
              "#46039f"
             ],
             [
              0.2222222222222222,
              "#7201a8"
             ],
             [
              0.3333333333333333,
              "#9c179e"
             ],
             [
              0.4444444444444444,
              "#bd3786"
             ],
             [
              0.5555555555555556,
              "#d8576b"
             ],
             [
              0.6666666666666666,
              "#ed7953"
             ],
             [
              0.7777777777777778,
              "#fb9f3a"
             ],
             [
              0.8888888888888888,
              "#fdca26"
             ],
             [
              1,
              "#f0f921"
             ]
            ],
            "type": "surface"
           }
          ],
          "table": [
           {
            "cells": {
             "fill": {
              "color": "#EBF0F8"
             },
             "line": {
              "color": "white"
             }
            },
            "header": {
             "fill": {
              "color": "#C8D4E3"
             },
             "line": {
              "color": "white"
             }
            },
            "type": "table"
           }
          ]
         },
         "layout": {
          "annotationdefaults": {
           "arrowcolor": "#2a3f5f",
           "arrowhead": 0,
           "arrowwidth": 1
          },
          "autotypenumbers": "strict",
          "coloraxis": {
           "colorbar": {
            "outlinewidth": 0,
            "ticks": ""
           }
          },
          "colorscale": {
           "diverging": [
            [
             0,
             "#8e0152"
            ],
            [
             0.1,
             "#c51b7d"
            ],
            [
             0.2,
             "#de77ae"
            ],
            [
             0.3,
             "#f1b6da"
            ],
            [
             0.4,
             "#fde0ef"
            ],
            [
             0.5,
             "#f7f7f7"
            ],
            [
             0.6,
             "#e6f5d0"
            ],
            [
             0.7,
             "#b8e186"
            ],
            [
             0.8,
             "#7fbc41"
            ],
            [
             0.9,
             "#4d9221"
            ],
            [
             1,
             "#276419"
            ]
           ],
           "sequential": [
            [
             0,
             "#0d0887"
            ],
            [
             0.1111111111111111,
             "#46039f"
            ],
            [
             0.2222222222222222,
             "#7201a8"
            ],
            [
             0.3333333333333333,
             "#9c179e"
            ],
            [
             0.4444444444444444,
             "#bd3786"
            ],
            [
             0.5555555555555556,
             "#d8576b"
            ],
            [
             0.6666666666666666,
             "#ed7953"
            ],
            [
             0.7777777777777778,
             "#fb9f3a"
            ],
            [
             0.8888888888888888,
             "#fdca26"
            ],
            [
             1,
             "#f0f921"
            ]
           ],
           "sequentialminus": [
            [
             0,
             "#0d0887"
            ],
            [
             0.1111111111111111,
             "#46039f"
            ],
            [
             0.2222222222222222,
             "#7201a8"
            ],
            [
             0.3333333333333333,
             "#9c179e"
            ],
            [
             0.4444444444444444,
             "#bd3786"
            ],
            [
             0.5555555555555556,
             "#d8576b"
            ],
            [
             0.6666666666666666,
             "#ed7953"
            ],
            [
             0.7777777777777778,
             "#fb9f3a"
            ],
            [
             0.8888888888888888,
             "#fdca26"
            ],
            [
             1,
             "#f0f921"
            ]
           ]
          },
          "colorway": [
           "#636efa",
           "#EF553B",
           "#00cc96",
           "#ab63fa",
           "#FFA15A",
           "#19d3f3",
           "#FF6692",
           "#B6E880",
           "#FF97FF",
           "#FECB52"
          ],
          "font": {
           "color": "#2a3f5f"
          },
          "geo": {
           "bgcolor": "white",
           "lakecolor": "white",
           "landcolor": "#E5ECF6",
           "showlakes": true,
           "showland": true,
           "subunitcolor": "white"
          },
          "hoverlabel": {
           "align": "left"
          },
          "hovermode": "closest",
          "mapbox": {
           "style": "light"
          },
          "paper_bgcolor": "white",
          "plot_bgcolor": "#E5ECF6",
          "polar": {
           "angularaxis": {
            "gridcolor": "white",
            "linecolor": "white",
            "ticks": ""
           },
           "bgcolor": "#E5ECF6",
           "radialaxis": {
            "gridcolor": "white",
            "linecolor": "white",
            "ticks": ""
           }
          },
          "scene": {
           "xaxis": {
            "backgroundcolor": "#E5ECF6",
            "gridcolor": "white",
            "gridwidth": 2,
            "linecolor": "white",
            "showbackground": true,
            "ticks": "",
            "zerolinecolor": "white"
           },
           "yaxis": {
            "backgroundcolor": "#E5ECF6",
            "gridcolor": "white",
            "gridwidth": 2,
            "linecolor": "white",
            "showbackground": true,
            "ticks": "",
            "zerolinecolor": "white"
           },
           "zaxis": {
            "backgroundcolor": "#E5ECF6",
            "gridcolor": "white",
            "gridwidth": 2,
            "linecolor": "white",
            "showbackground": true,
            "ticks": "",
            "zerolinecolor": "white"
           }
          },
          "shapedefaults": {
           "line": {
            "color": "#2a3f5f"
           }
          },
          "ternary": {
           "aaxis": {
            "gridcolor": "white",
            "linecolor": "white",
            "ticks": ""
           },
           "baxis": {
            "gridcolor": "white",
            "linecolor": "white",
            "ticks": ""
           },
           "bgcolor": "#E5ECF6",
           "caxis": {
            "gridcolor": "white",
            "linecolor": "white",
            "ticks": ""
           }
          },
          "title": {
           "x": 0.05
          },
          "xaxis": {
           "automargin": true,
           "gridcolor": "white",
           "linecolor": "white",
           "ticks": "",
           "title": {
            "standoff": 15
           },
           "zerolinecolor": "white",
           "zerolinewidth": 2
          },
          "yaxis": {
           "automargin": true,
           "gridcolor": "white",
           "linecolor": "white",
           "ticks": "",
           "title": {
            "standoff": 15
           },
           "zerolinecolor": "white",
           "zerolinewidth": 2
          }
         }
        },
        "title": {
         "text": "training and Validation Loss Throughout the Model"
        },
        "xaxis": {
         "anchor": "y",
         "domain": [
          0,
          1
         ],
         "title": {
          "text": "Epochs"
         }
        },
        "yaxis": {
         "anchor": "x",
         "domain": [
          0,
          1
         ],
         "title": {
          "text": "Loss"
         }
        }
       }
      },
      "text/html": [
       "<div>                            <div id=\"843c5e8a-79e7-4031-91ca-b68e7c6cc6c5\" class=\"plotly-graph-div\" style=\"height:525px; width:100%;\"></div>            <script type=\"text/javascript\">                require([\"plotly\"], function(Plotly) {                    window.PLOTLYENV=window.PLOTLYENV || {};                                    if (document.getElementById(\"843c5e8a-79e7-4031-91ca-b68e7c6cc6c5\")) {                    Plotly.newPlot(                        \"843c5e8a-79e7-4031-91ca-b68e7c6cc6c5\",                        [{\"hovertemplate\":\"variable=train_loss<br>epochs=%{x}<br>value=%{y}<extra></extra>\",\"legendgroup\":\"train_loss\",\"line\":{\"color\":\"#636efa\",\"dash\":\"solid\"},\"marker\":{\"symbol\":\"circle\"},\"mode\":\"lines\",\"name\":\"train_loss\",\"orientation\":\"v\",\"showlegend\":true,\"x\":[0,1,2,3,4,5,6,7,8,9,10,11,12,13,14,15,16,17,18,19,20,21,22,23,24,25,26,27,28,29,30,31,32,33,34,35,36,37,38,39,40,41,42,43,44,45,46,47,48,49,50,51,52,53,54,55,56,57,58,59,60,61,62,63,64,65,66,67,68,69,70,71,72,73,74,75,76,77,78,79,80,81,82,83,84,85,86,87,88,89,90,91,92,93,94,95,96,97,98,99,100],\"xaxis\":\"x\",\"y\":[0.5163818334831911,0.4776607290035536,0.45786614418029786,0.44449738434382846,0.42791095305891597,0.40745744825411245,0.4055443215770882,0.39746779118265424,0.3944926265408011,0.38381024744330333,0.3777579402222353,0.3778090622244763,0.36764133457376175,0.3713368451895834,0.3619232041495187,0.3624382314561796,0.35788725008483696,0.35461760158298394,0.3491407011236463,0.35011091162176694,0.34856587107442005,0.34245209238108465,0.3383936518380622,0.3321103021377275,0.33344159491923675,0.3332227312717117,0.3283018727262481,0.329084287571306,0.32758262618249206,0.3223749434747616,0.32330521991272937,0.31815551278971826,0.31668822484857895,0.3158842415869737,0.3189369520720314,0.31782774717366996,0.3199217027475854,0.306873891333572,0.3102541710148338,0.3143533687130744,0.3101585482348915,0.30959089608753426,0.31035095909062554,0.30435381055879995,0.30494824081909755,0.30140781723150684,0.30424987593618763,0.3031705718080537,0.30230609604290554,0.30002108822349743,0.295662052491132,0.29274331772026896,0.2950875530974204,0.29403119563054636,0.29578248983671684,0.29426186470424426,0.2955690429491155,0.29233149277562853,0.29615366068206916,0.2871770278245461,0.29544203231314653,0.2905792008928892,0.29068991236326075,0.2947689654947329,0.2872532148070696,0.2840715738404699,0.2869059800600805,0.2913499180008383,0.2873796916308523,0.2923859966402294,0.29203156262886626,0.2863036457230063,0.2869643815675703,0.2868549267534448,0.279703359017853,0.28519234977850394,0.285275623127192,0.28594715470025517,0.286532518668335,0.28078222162082417,0.2830981577394389,0.28330960621853835,0.28988546248243635,0.2826092118225178,0.28064474553621116,0.279367795561542,0.2799755409485152,0.28020583691717194,0.28004614511708253,0.28449760520157696,0.2825347987543635,0.2773282014522232,0.27797308506584967,0.282112697042337,0.2790817980756279,0.28144962181564137,0.27335830971974284,0.2817193148015928,0.27576853905906196,0.27223751006507074,0.28451413607396997],\"yaxis\":\"y\",\"type\":\"scatter\"},{\"hovertemplate\":\"variable=valid_loss<br>epochs=%{x}<br>value=%{y}<extra></extra>\",\"legendgroup\":\"valid_loss\",\"line\":{\"color\":\"#EF553B\",\"dash\":\"solid\"},\"marker\":{\"symbol\":\"circle\"},\"mode\":\"lines\",\"name\":\"valid_loss\",\"orientation\":\"v\",\"showlegend\":true,\"x\":[0,1,2,3,4,5,6,7,8,9,10,11,12,13,14,15,16,17,18,19,20,21,22,23,24,25,26,27,28,29,30,31,32,33,34,35,36,37,38,39,40,41,42,43,44,45,46,47,48,49,50,51,52,53,54,55,56,57,58,59,60,61,62,63,64,65,66,67,68,69,70,71,72,73,74,75,76,77,78,79,80,81,82,83,84,85,86,87,88,89,90,91,92,93,94,95,96,97,98,99,100],\"xaxis\":\"x\",\"y\":[0.575600272358054,0.6297740995293797,0.6605506350498388,0.6822612096767614,0.7282918414266983,0.7046352471455489,0.712207831368588,0.8237048971771014,0.7618632328392255,0.8535285190780564,0.9249184196538264,0.8676326404703726,0.8250457207755287,0.9670458489125318,0.8871626429038473,0.9084091977317734,0.8631322767474864,0.9024803443710403,0.9226339825309149,0.9440152054966087,0.8765454817526411,0.9239660926384501,0.9626705941587391,1.0479904224376868,1.035130529710562,1.0050374535050723,0.9237833123395939,0.8725631685540227,0.9895419378091793,0.9571524274231183,0.9801828235682875,1.1579140300797943,1.0397529425007281,1.0066985747601727,1.094438360469176,1.0789631180243917,1.0389256518666108,1.1414530454295697,1.0905175622146908,1.1305997489702584,1.0804189538011457,1.2034805765246401,0.9726309681882953,1.079619865606327,1.1422080002208748,1.099803667257328,1.070144488079713,1.0510876686266153,1.1123564514783348,1.2045369419721093,1.2243388442709895,1.1114230085127423,1.1274797821989153,1.0851812527911497,1.2787017173106128,1.2007079242479684,1.2631090065040211,1.1635899850637605,1.2128227512435157,1.0780389120083045,1.255541501658978,1.238666805890527,1.3584145401964094,1.1566478120218409,1.2139267402120155,1.1836490654709315,1.182326307391176,1.1106493838942877,1.2332442290712111,1.1329468760159935,1.204264771820295,1.19887110502413,1.210718586893365,1.2014172808958752,1.3699759103284024,1.2033656210002333,1.1427485470724579,1.1746506277877506,1.201083988246351,1.3099770569565272,1.2765505077815291,1.3799381374132516,1.2845898642398343,1.2376686783120183,1.438886585802135,1.2800535848825285,1.281957753814093,1.2852511665608624,1.3129595411886084,1.3287074235406253,1.2787336406141225,1.2391101653032963,1.3396672057633352,1.3137621891380538,1.2434498331334332,1.4081700225867848,1.3152311367563683,1.3322545467036786,1.2303987080507939,1.3739235235912965,1.2390564573873388],\"yaxis\":\"y\",\"type\":\"scatter\"}],                        {\"template\":{\"data\":{\"histogram2dcontour\":[{\"type\":\"histogram2dcontour\",\"colorbar\":{\"outlinewidth\":0,\"ticks\":\"\"},\"colorscale\":[[0.0,\"#0d0887\"],[0.1111111111111111,\"#46039f\"],[0.2222222222222222,\"#7201a8\"],[0.3333333333333333,\"#9c179e\"],[0.4444444444444444,\"#bd3786\"],[0.5555555555555556,\"#d8576b\"],[0.6666666666666666,\"#ed7953\"],[0.7777777777777778,\"#fb9f3a\"],[0.8888888888888888,\"#fdca26\"],[1.0,\"#f0f921\"]]}],\"choropleth\":[{\"type\":\"choropleth\",\"colorbar\":{\"outlinewidth\":0,\"ticks\":\"\"}}],\"histogram2d\":[{\"type\":\"histogram2d\",\"colorbar\":{\"outlinewidth\":0,\"ticks\":\"\"},\"colorscale\":[[0.0,\"#0d0887\"],[0.1111111111111111,\"#46039f\"],[0.2222222222222222,\"#7201a8\"],[0.3333333333333333,\"#9c179e\"],[0.4444444444444444,\"#bd3786\"],[0.5555555555555556,\"#d8576b\"],[0.6666666666666666,\"#ed7953\"],[0.7777777777777778,\"#fb9f3a\"],[0.8888888888888888,\"#fdca26\"],[1.0,\"#f0f921\"]]}],\"heatmap\":[{\"type\":\"heatmap\",\"colorbar\":{\"outlinewidth\":0,\"ticks\":\"\"},\"colorscale\":[[0.0,\"#0d0887\"],[0.1111111111111111,\"#46039f\"],[0.2222222222222222,\"#7201a8\"],[0.3333333333333333,\"#9c179e\"],[0.4444444444444444,\"#bd3786\"],[0.5555555555555556,\"#d8576b\"],[0.6666666666666666,\"#ed7953\"],[0.7777777777777778,\"#fb9f3a\"],[0.8888888888888888,\"#fdca26\"],[1.0,\"#f0f921\"]]}],\"heatmapgl\":[{\"type\":\"heatmapgl\",\"colorbar\":{\"outlinewidth\":0,\"ticks\":\"\"},\"colorscale\":[[0.0,\"#0d0887\"],[0.1111111111111111,\"#46039f\"],[0.2222222222222222,\"#7201a8\"],[0.3333333333333333,\"#9c179e\"],[0.4444444444444444,\"#bd3786\"],[0.5555555555555556,\"#d8576b\"],[0.6666666666666666,\"#ed7953\"],[0.7777777777777778,\"#fb9f3a\"],[0.8888888888888888,\"#fdca26\"],[1.0,\"#f0f921\"]]}],\"contourcarpet\":[{\"type\":\"contourcarpet\",\"colorbar\":{\"outlinewidth\":0,\"ticks\":\"\"}}],\"contour\":[{\"type\":\"contour\",\"colorbar\":{\"outlinewidth\":0,\"ticks\":\"\"},\"colorscale\":[[0.0,\"#0d0887\"],[0.1111111111111111,\"#46039f\"],[0.2222222222222222,\"#7201a8\"],[0.3333333333333333,\"#9c179e\"],[0.4444444444444444,\"#bd3786\"],[0.5555555555555556,\"#d8576b\"],[0.6666666666666666,\"#ed7953\"],[0.7777777777777778,\"#fb9f3a\"],[0.8888888888888888,\"#fdca26\"],[1.0,\"#f0f921\"]]}],\"surface\":[{\"type\":\"surface\",\"colorbar\":{\"outlinewidth\":0,\"ticks\":\"\"},\"colorscale\":[[0.0,\"#0d0887\"],[0.1111111111111111,\"#46039f\"],[0.2222222222222222,\"#7201a8\"],[0.3333333333333333,\"#9c179e\"],[0.4444444444444444,\"#bd3786\"],[0.5555555555555556,\"#d8576b\"],[0.6666666666666666,\"#ed7953\"],[0.7777777777777778,\"#fb9f3a\"],[0.8888888888888888,\"#fdca26\"],[1.0,\"#f0f921\"]]}],\"mesh3d\":[{\"type\":\"mesh3d\",\"colorbar\":{\"outlinewidth\":0,\"ticks\":\"\"}}],\"scatter\":[{\"fillpattern\":{\"fillmode\":\"overlay\",\"size\":10,\"solidity\":0.2},\"type\":\"scatter\"}],\"parcoords\":[{\"type\":\"parcoords\",\"line\":{\"colorbar\":{\"outlinewidth\":0,\"ticks\":\"\"}}}],\"scatterpolargl\":[{\"type\":\"scatterpolargl\",\"marker\":{\"colorbar\":{\"outlinewidth\":0,\"ticks\":\"\"}}}],\"bar\":[{\"error_x\":{\"color\":\"#2a3f5f\"},\"error_y\":{\"color\":\"#2a3f5f\"},\"marker\":{\"line\":{\"color\":\"#E5ECF6\",\"width\":0.5},\"pattern\":{\"fillmode\":\"overlay\",\"size\":10,\"solidity\":0.2}},\"type\":\"bar\"}],\"scattergeo\":[{\"type\":\"scattergeo\",\"marker\":{\"colorbar\":{\"outlinewidth\":0,\"ticks\":\"\"}}}],\"scatterpolar\":[{\"type\":\"scatterpolar\",\"marker\":{\"colorbar\":{\"outlinewidth\":0,\"ticks\":\"\"}}}],\"histogram\":[{\"marker\":{\"pattern\":{\"fillmode\":\"overlay\",\"size\":10,\"solidity\":0.2}},\"type\":\"histogram\"}],\"scattergl\":[{\"type\":\"scattergl\",\"marker\":{\"colorbar\":{\"outlinewidth\":0,\"ticks\":\"\"}}}],\"scatter3d\":[{\"type\":\"scatter3d\",\"line\":{\"colorbar\":{\"outlinewidth\":0,\"ticks\":\"\"}},\"marker\":{\"colorbar\":{\"outlinewidth\":0,\"ticks\":\"\"}}}],\"scattermapbox\":[{\"type\":\"scattermapbox\",\"marker\":{\"colorbar\":{\"outlinewidth\":0,\"ticks\":\"\"}}}],\"scatterternary\":[{\"type\":\"scatterternary\",\"marker\":{\"colorbar\":{\"outlinewidth\":0,\"ticks\":\"\"}}}],\"scattercarpet\":[{\"type\":\"scattercarpet\",\"marker\":{\"colorbar\":{\"outlinewidth\":0,\"ticks\":\"\"}}}],\"carpet\":[{\"aaxis\":{\"endlinecolor\":\"#2a3f5f\",\"gridcolor\":\"white\",\"linecolor\":\"white\",\"minorgridcolor\":\"white\",\"startlinecolor\":\"#2a3f5f\"},\"baxis\":{\"endlinecolor\":\"#2a3f5f\",\"gridcolor\":\"white\",\"linecolor\":\"white\",\"minorgridcolor\":\"white\",\"startlinecolor\":\"#2a3f5f\"},\"type\":\"carpet\"}],\"table\":[{\"cells\":{\"fill\":{\"color\":\"#EBF0F8\"},\"line\":{\"color\":\"white\"}},\"header\":{\"fill\":{\"color\":\"#C8D4E3\"},\"line\":{\"color\":\"white\"}},\"type\":\"table\"}],\"barpolar\":[{\"marker\":{\"line\":{\"color\":\"#E5ECF6\",\"width\":0.5},\"pattern\":{\"fillmode\":\"overlay\",\"size\":10,\"solidity\":0.2}},\"type\":\"barpolar\"}],\"pie\":[{\"automargin\":true,\"type\":\"pie\"}]},\"layout\":{\"autotypenumbers\":\"strict\",\"colorway\":[\"#636efa\",\"#EF553B\",\"#00cc96\",\"#ab63fa\",\"#FFA15A\",\"#19d3f3\",\"#FF6692\",\"#B6E880\",\"#FF97FF\",\"#FECB52\"],\"font\":{\"color\":\"#2a3f5f\"},\"hovermode\":\"closest\",\"hoverlabel\":{\"align\":\"left\"},\"paper_bgcolor\":\"white\",\"plot_bgcolor\":\"#E5ECF6\",\"polar\":{\"bgcolor\":\"#E5ECF6\",\"angularaxis\":{\"gridcolor\":\"white\",\"linecolor\":\"white\",\"ticks\":\"\"},\"radialaxis\":{\"gridcolor\":\"white\",\"linecolor\":\"white\",\"ticks\":\"\"}},\"ternary\":{\"bgcolor\":\"#E5ECF6\",\"aaxis\":{\"gridcolor\":\"white\",\"linecolor\":\"white\",\"ticks\":\"\"},\"baxis\":{\"gridcolor\":\"white\",\"linecolor\":\"white\",\"ticks\":\"\"},\"caxis\":{\"gridcolor\":\"white\",\"linecolor\":\"white\",\"ticks\":\"\"}},\"coloraxis\":{\"colorbar\":{\"outlinewidth\":0,\"ticks\":\"\"}},\"colorscale\":{\"sequential\":[[0.0,\"#0d0887\"],[0.1111111111111111,\"#46039f\"],[0.2222222222222222,\"#7201a8\"],[0.3333333333333333,\"#9c179e\"],[0.4444444444444444,\"#bd3786\"],[0.5555555555555556,\"#d8576b\"],[0.6666666666666666,\"#ed7953\"],[0.7777777777777778,\"#fb9f3a\"],[0.8888888888888888,\"#fdca26\"],[1.0,\"#f0f921\"]],\"sequentialminus\":[[0.0,\"#0d0887\"],[0.1111111111111111,\"#46039f\"],[0.2222222222222222,\"#7201a8\"],[0.3333333333333333,\"#9c179e\"],[0.4444444444444444,\"#bd3786\"],[0.5555555555555556,\"#d8576b\"],[0.6666666666666666,\"#ed7953\"],[0.7777777777777778,\"#fb9f3a\"],[0.8888888888888888,\"#fdca26\"],[1.0,\"#f0f921\"]],\"diverging\":[[0,\"#8e0152\"],[0.1,\"#c51b7d\"],[0.2,\"#de77ae\"],[0.3,\"#f1b6da\"],[0.4,\"#fde0ef\"],[0.5,\"#f7f7f7\"],[0.6,\"#e6f5d0\"],[0.7,\"#b8e186\"],[0.8,\"#7fbc41\"],[0.9,\"#4d9221\"],[1,\"#276419\"]]},\"xaxis\":{\"gridcolor\":\"white\",\"linecolor\":\"white\",\"ticks\":\"\",\"title\":{\"standoff\":15},\"zerolinecolor\":\"white\",\"automargin\":true,\"zerolinewidth\":2},\"yaxis\":{\"gridcolor\":\"white\",\"linecolor\":\"white\",\"ticks\":\"\",\"title\":{\"standoff\":15},\"zerolinecolor\":\"white\",\"automargin\":true,\"zerolinewidth\":2},\"scene\":{\"xaxis\":{\"backgroundcolor\":\"#E5ECF6\",\"gridcolor\":\"white\",\"linecolor\":\"white\",\"showbackground\":true,\"ticks\":\"\",\"zerolinecolor\":\"white\",\"gridwidth\":2},\"yaxis\":{\"backgroundcolor\":\"#E5ECF6\",\"gridcolor\":\"white\",\"linecolor\":\"white\",\"showbackground\":true,\"ticks\":\"\",\"zerolinecolor\":\"white\",\"gridwidth\":2},\"zaxis\":{\"backgroundcolor\":\"#E5ECF6\",\"gridcolor\":\"white\",\"linecolor\":\"white\",\"showbackground\":true,\"ticks\":\"\",\"zerolinecolor\":\"white\",\"gridwidth\":2}},\"shapedefaults\":{\"line\":{\"color\":\"#2a3f5f\"}},\"annotationdefaults\":{\"arrowcolor\":\"#2a3f5f\",\"arrowhead\":0,\"arrowwidth\":1},\"geo\":{\"bgcolor\":\"white\",\"landcolor\":\"#E5ECF6\",\"subunitcolor\":\"white\",\"showland\":true,\"showlakes\":true,\"lakecolor\":\"white\"},\"title\":{\"x\":0.05},\"mapbox\":{\"style\":\"light\"}}},\"xaxis\":{\"anchor\":\"y\",\"domain\":[0.0,1.0],\"title\":{\"text\":\"Epochs\"}},\"yaxis\":{\"anchor\":\"x\",\"domain\":[0.0,1.0],\"title\":{\"text\":\"Loss\"}},\"legend\":{\"title\":{\"text\":\"Loss Type\"},\"tracegroupgap\":0},\"margin\":{\"t\":60},\"title\":{\"text\":\"training and Validation Loss Throughout the Model\"}},                        {\"responsive\": true}                    ).then(function(){\n",
       "                            \n",
       "var gd = document.getElementById('843c5e8a-79e7-4031-91ca-b68e7c6cc6c5');\n",
       "var x = new MutationObserver(function (mutations, observer) {{\n",
       "        var display = window.getComputedStyle(gd).display;\n",
       "        if (!display || display === 'none') {{\n",
       "            console.log([gd, 'removed!']);\n",
       "            Plotly.purge(gd);\n",
       "            observer.disconnect();\n",
       "        }}\n",
       "}});\n",
       "\n",
       "// Listen for the removal of the full notebook cells\n",
       "var notebookContainer = gd.closest('#notebook-container');\n",
       "if (notebookContainer) {{\n",
       "    x.observe(notebookContainer, {childList: true});\n",
       "}}\n",
       "\n",
       "// Listen for the clearing of the current output cell\n",
       "var outputEl = gd.closest('.output');\n",
       "if (outputEl) {{\n",
       "    x.observe(outputEl, {childList: true});\n",
       "}}\n",
       "\n",
       "                        })                };                });            </script>        </div>"
      ]
     },
     "metadata": {},
     "output_type": "display_data"
    },
    {
     "data": {
      "application/vnd.plotly.v1+json": {
       "config": {
        "plotlyServerURL": "https://plot.ly"
       },
       "data": [
        {
         "mode": "lines+markers",
         "type": "scatter",
         "x": [
          0,
          1,
          2,
          3,
          4,
          5,
          6,
          7,
          8,
          9,
          10,
          11,
          12,
          13,
          14,
          15,
          16,
          17,
          18,
          19,
          20,
          21,
          22,
          23,
          24,
          25,
          26,
          27,
          28,
          29,
          30,
          31,
          32,
          33,
          34,
          35,
          36,
          37,
          38,
          39,
          40,
          41,
          42,
          43,
          44,
          45,
          46,
          47,
          48,
          49,
          50,
          51,
          52,
          53,
          54,
          55,
          56,
          57,
          58,
          59,
          60,
          61,
          62,
          63,
          64,
          65,
          66,
          67,
          68,
          69,
          70,
          71,
          72,
          73,
          74,
          75,
          76,
          77,
          78,
          79,
          80,
          81,
          82,
          83,
          84,
          85,
          86,
          87,
          88,
          89,
          90,
          91,
          92,
          93,
          94,
          95,
          96,
          97,
          98,
          99,
          100
         ],
         "y": [
          0.8285891089108911,
          0.775990099009901,
          0.8335396039603961,
          0.838490099009901,
          0.7957920792079207,
          0.838490099009901,
          0.8483910891089108,
          0.7908415841584158,
          0.780940594059406,
          0.7382425742574257,
          0.6757425742574257,
          0.7382425742574257,
          0.7382425742574257,
          0.6905940594059405,
          0.6806930693069306,
          0.6757425742574257,
          0.6707920792079207,
          0.6757425742574257,
          0.6806930693069306,
          0.6856435643564356,
          0.7382425742574257,
          0.6658415841584158,
          0.6905940594059405,
          0.6905940594059405,
          0.6955445544554455,
          0.6806930693069306,
          0.6806930693069306,
          0.6757425742574257,
          0.6330445544554455,
          0.6757425742574257,
          0.6856435643564356,
          0.7004950495049505,
          0.6955445544554455,
          0.6905940594059405,
          0.6955445544554455,
          0.6905940594059405,
          0.6905940594059405,
          0.6955445544554455,
          0.6955445544554455,
          0.6280940594059405,
          0.6280940594059405,
          0.6955445544554455,
          0.6955445544554455,
          0.6856435643564356,
          0.7004950495049505,
          0.6955445544554455,
          0.7004950495049505,
          0.6905940594059405,
          0.6330445544554455,
          0.6429455445544554,
          0.6429455445544554,
          0.6955445544554455,
          0.6280940594059405,
          0.6806930693069306,
          0.5754950495049505,
          0.7054455445544554,
          0.6429455445544554,
          0.6905940594059405,
          0.5754950495049505,
          0.6330445544554455,
          0.5754950495049505,
          0.6955445544554455,
          0.5804455445544554,
          0.6231435643564356,
          0.6330445544554455,
          0.6280940594059405,
          0.6905940594059405,
          0.6955445544554455,
          0.6330445544554455,
          0.6231435643564356,
          0.5754950495049505,
          0.7103960396039604,
          0.5754950495049505,
          0.5655940594059405,
          0.5705445544554455,
          0.6231435643564356,
          0.6280940594059405,
          0.6905940594059405,
          0.6379950495049505,
          0.6379950495049505,
          0.6231435643564356,
          0.6379950495049505,
          0.5655940594059405,
          0.5655940594059405,
          0.5228960396039604,
          0.6181930693069306,
          0.6379950495049505,
          0.6280940594059405,
          0.5705445544554455,
          0.5853960396039604,
          0.5754950495049505,
          0.6955445544554455,
          0.5080445544554455,
          0.5655940594059405,
          0.6905940594059405,
          0.5705445544554455,
          0.5705445544554455,
          0.6429455445544554,
          0.6905940594059405,
          0.6379950495049505,
          0.6330445544554455
         ]
        }
       ],
       "layout": {
        "template": {
         "data": {
          "bar": [
           {
            "error_x": {
             "color": "#2a3f5f"
            },
            "error_y": {
             "color": "#2a3f5f"
            },
            "marker": {
             "line": {
              "color": "#E5ECF6",
              "width": 0.5
             },
             "pattern": {
              "fillmode": "overlay",
              "size": 10,
              "solidity": 0.2
             }
            },
            "type": "bar"
           }
          ],
          "barpolar": [
           {
            "marker": {
             "line": {
              "color": "#E5ECF6",
              "width": 0.5
             },
             "pattern": {
              "fillmode": "overlay",
              "size": 10,
              "solidity": 0.2
             }
            },
            "type": "barpolar"
           }
          ],
          "carpet": [
           {
            "aaxis": {
             "endlinecolor": "#2a3f5f",
             "gridcolor": "white",
             "linecolor": "white",
             "minorgridcolor": "white",
             "startlinecolor": "#2a3f5f"
            },
            "baxis": {
             "endlinecolor": "#2a3f5f",
             "gridcolor": "white",
             "linecolor": "white",
             "minorgridcolor": "white",
             "startlinecolor": "#2a3f5f"
            },
            "type": "carpet"
           }
          ],
          "choropleth": [
           {
            "colorbar": {
             "outlinewidth": 0,
             "ticks": ""
            },
            "type": "choropleth"
           }
          ],
          "contour": [
           {
            "colorbar": {
             "outlinewidth": 0,
             "ticks": ""
            },
            "colorscale": [
             [
              0,
              "#0d0887"
             ],
             [
              0.1111111111111111,
              "#46039f"
             ],
             [
              0.2222222222222222,
              "#7201a8"
             ],
             [
              0.3333333333333333,
              "#9c179e"
             ],
             [
              0.4444444444444444,
              "#bd3786"
             ],
             [
              0.5555555555555556,
              "#d8576b"
             ],
             [
              0.6666666666666666,
              "#ed7953"
             ],
             [
              0.7777777777777778,
              "#fb9f3a"
             ],
             [
              0.8888888888888888,
              "#fdca26"
             ],
             [
              1,
              "#f0f921"
             ]
            ],
            "type": "contour"
           }
          ],
          "contourcarpet": [
           {
            "colorbar": {
             "outlinewidth": 0,
             "ticks": ""
            },
            "type": "contourcarpet"
           }
          ],
          "heatmap": [
           {
            "colorbar": {
             "outlinewidth": 0,
             "ticks": ""
            },
            "colorscale": [
             [
              0,
              "#0d0887"
             ],
             [
              0.1111111111111111,
              "#46039f"
             ],
             [
              0.2222222222222222,
              "#7201a8"
             ],
             [
              0.3333333333333333,
              "#9c179e"
             ],
             [
              0.4444444444444444,
              "#bd3786"
             ],
             [
              0.5555555555555556,
              "#d8576b"
             ],
             [
              0.6666666666666666,
              "#ed7953"
             ],
             [
              0.7777777777777778,
              "#fb9f3a"
             ],
             [
              0.8888888888888888,
              "#fdca26"
             ],
             [
              1,
              "#f0f921"
             ]
            ],
            "type": "heatmap"
           }
          ],
          "heatmapgl": [
           {
            "colorbar": {
             "outlinewidth": 0,
             "ticks": ""
            },
            "colorscale": [
             [
              0,
              "#0d0887"
             ],
             [
              0.1111111111111111,
              "#46039f"
             ],
             [
              0.2222222222222222,
              "#7201a8"
             ],
             [
              0.3333333333333333,
              "#9c179e"
             ],
             [
              0.4444444444444444,
              "#bd3786"
             ],
             [
              0.5555555555555556,
              "#d8576b"
             ],
             [
              0.6666666666666666,
              "#ed7953"
             ],
             [
              0.7777777777777778,
              "#fb9f3a"
             ],
             [
              0.8888888888888888,
              "#fdca26"
             ],
             [
              1,
              "#f0f921"
             ]
            ],
            "type": "heatmapgl"
           }
          ],
          "histogram": [
           {
            "marker": {
             "pattern": {
              "fillmode": "overlay",
              "size": 10,
              "solidity": 0.2
             }
            },
            "type": "histogram"
           }
          ],
          "histogram2d": [
           {
            "colorbar": {
             "outlinewidth": 0,
             "ticks": ""
            },
            "colorscale": [
             [
              0,
              "#0d0887"
             ],
             [
              0.1111111111111111,
              "#46039f"
             ],
             [
              0.2222222222222222,
              "#7201a8"
             ],
             [
              0.3333333333333333,
              "#9c179e"
             ],
             [
              0.4444444444444444,
              "#bd3786"
             ],
             [
              0.5555555555555556,
              "#d8576b"
             ],
             [
              0.6666666666666666,
              "#ed7953"
             ],
             [
              0.7777777777777778,
              "#fb9f3a"
             ],
             [
              0.8888888888888888,
              "#fdca26"
             ],
             [
              1,
              "#f0f921"
             ]
            ],
            "type": "histogram2d"
           }
          ],
          "histogram2dcontour": [
           {
            "colorbar": {
             "outlinewidth": 0,
             "ticks": ""
            },
            "colorscale": [
             [
              0,
              "#0d0887"
             ],
             [
              0.1111111111111111,
              "#46039f"
             ],
             [
              0.2222222222222222,
              "#7201a8"
             ],
             [
              0.3333333333333333,
              "#9c179e"
             ],
             [
              0.4444444444444444,
              "#bd3786"
             ],
             [
              0.5555555555555556,
              "#d8576b"
             ],
             [
              0.6666666666666666,
              "#ed7953"
             ],
             [
              0.7777777777777778,
              "#fb9f3a"
             ],
             [
              0.8888888888888888,
              "#fdca26"
             ],
             [
              1,
              "#f0f921"
             ]
            ],
            "type": "histogram2dcontour"
           }
          ],
          "mesh3d": [
           {
            "colorbar": {
             "outlinewidth": 0,
             "ticks": ""
            },
            "type": "mesh3d"
           }
          ],
          "parcoords": [
           {
            "line": {
             "colorbar": {
              "outlinewidth": 0,
              "ticks": ""
             }
            },
            "type": "parcoords"
           }
          ],
          "pie": [
           {
            "automargin": true,
            "type": "pie"
           }
          ],
          "scatter": [
           {
            "fillpattern": {
             "fillmode": "overlay",
             "size": 10,
             "solidity": 0.2
            },
            "type": "scatter"
           }
          ],
          "scatter3d": [
           {
            "line": {
             "colorbar": {
              "outlinewidth": 0,
              "ticks": ""
             }
            },
            "marker": {
             "colorbar": {
              "outlinewidth": 0,
              "ticks": ""
             }
            },
            "type": "scatter3d"
           }
          ],
          "scattercarpet": [
           {
            "marker": {
             "colorbar": {
              "outlinewidth": 0,
              "ticks": ""
             }
            },
            "type": "scattercarpet"
           }
          ],
          "scattergeo": [
           {
            "marker": {
             "colorbar": {
              "outlinewidth": 0,
              "ticks": ""
             }
            },
            "type": "scattergeo"
           }
          ],
          "scattergl": [
           {
            "marker": {
             "colorbar": {
              "outlinewidth": 0,
              "ticks": ""
             }
            },
            "type": "scattergl"
           }
          ],
          "scattermapbox": [
           {
            "marker": {
             "colorbar": {
              "outlinewidth": 0,
              "ticks": ""
             }
            },
            "type": "scattermapbox"
           }
          ],
          "scatterpolar": [
           {
            "marker": {
             "colorbar": {
              "outlinewidth": 0,
              "ticks": ""
             }
            },
            "type": "scatterpolar"
           }
          ],
          "scatterpolargl": [
           {
            "marker": {
             "colorbar": {
              "outlinewidth": 0,
              "ticks": ""
             }
            },
            "type": "scatterpolargl"
           }
          ],
          "scatterternary": [
           {
            "marker": {
             "colorbar": {
              "outlinewidth": 0,
              "ticks": ""
             }
            },
            "type": "scatterternary"
           }
          ],
          "surface": [
           {
            "colorbar": {
             "outlinewidth": 0,
             "ticks": ""
            },
            "colorscale": [
             [
              0,
              "#0d0887"
             ],
             [
              0.1111111111111111,
              "#46039f"
             ],
             [
              0.2222222222222222,
              "#7201a8"
             ],
             [
              0.3333333333333333,
              "#9c179e"
             ],
             [
              0.4444444444444444,
              "#bd3786"
             ],
             [
              0.5555555555555556,
              "#d8576b"
             ],
             [
              0.6666666666666666,
              "#ed7953"
             ],
             [
              0.7777777777777778,
              "#fb9f3a"
             ],
             [
              0.8888888888888888,
              "#fdca26"
             ],
             [
              1,
              "#f0f921"
             ]
            ],
            "type": "surface"
           }
          ],
          "table": [
           {
            "cells": {
             "fill": {
              "color": "#EBF0F8"
             },
             "line": {
              "color": "white"
             }
            },
            "header": {
             "fill": {
              "color": "#C8D4E3"
             },
             "line": {
              "color": "white"
             }
            },
            "type": "table"
           }
          ]
         },
         "layout": {
          "annotationdefaults": {
           "arrowcolor": "#2a3f5f",
           "arrowhead": 0,
           "arrowwidth": 1
          },
          "autotypenumbers": "strict",
          "coloraxis": {
           "colorbar": {
            "outlinewidth": 0,
            "ticks": ""
           }
          },
          "colorscale": {
           "diverging": [
            [
             0,
             "#8e0152"
            ],
            [
             0.1,
             "#c51b7d"
            ],
            [
             0.2,
             "#de77ae"
            ],
            [
             0.3,
             "#f1b6da"
            ],
            [
             0.4,
             "#fde0ef"
            ],
            [
             0.5,
             "#f7f7f7"
            ],
            [
             0.6,
             "#e6f5d0"
            ],
            [
             0.7,
             "#b8e186"
            ],
            [
             0.8,
             "#7fbc41"
            ],
            [
             0.9,
             "#4d9221"
            ],
            [
             1,
             "#276419"
            ]
           ],
           "sequential": [
            [
             0,
             "#0d0887"
            ],
            [
             0.1111111111111111,
             "#46039f"
            ],
            [
             0.2222222222222222,
             "#7201a8"
            ],
            [
             0.3333333333333333,
             "#9c179e"
            ],
            [
             0.4444444444444444,
             "#bd3786"
            ],
            [
             0.5555555555555556,
             "#d8576b"
            ],
            [
             0.6666666666666666,
             "#ed7953"
            ],
            [
             0.7777777777777778,
             "#fb9f3a"
            ],
            [
             0.8888888888888888,
             "#fdca26"
            ],
            [
             1,
             "#f0f921"
            ]
           ],
           "sequentialminus": [
            [
             0,
             "#0d0887"
            ],
            [
             0.1111111111111111,
             "#46039f"
            ],
            [
             0.2222222222222222,
             "#7201a8"
            ],
            [
             0.3333333333333333,
             "#9c179e"
            ],
            [
             0.4444444444444444,
             "#bd3786"
            ],
            [
             0.5555555555555556,
             "#d8576b"
            ],
            [
             0.6666666666666666,
             "#ed7953"
            ],
            [
             0.7777777777777778,
             "#fb9f3a"
            ],
            [
             0.8888888888888888,
             "#fdca26"
            ],
            [
             1,
             "#f0f921"
            ]
           ]
          },
          "colorway": [
           "#636efa",
           "#EF553B",
           "#00cc96",
           "#ab63fa",
           "#FFA15A",
           "#19d3f3",
           "#FF6692",
           "#B6E880",
           "#FF97FF",
           "#FECB52"
          ],
          "font": {
           "color": "#2a3f5f"
          },
          "geo": {
           "bgcolor": "white",
           "lakecolor": "white",
           "landcolor": "#E5ECF6",
           "showlakes": true,
           "showland": true,
           "subunitcolor": "white"
          },
          "hoverlabel": {
           "align": "left"
          },
          "hovermode": "closest",
          "mapbox": {
           "style": "light"
          },
          "paper_bgcolor": "white",
          "plot_bgcolor": "#E5ECF6",
          "polar": {
           "angularaxis": {
            "gridcolor": "white",
            "linecolor": "white",
            "ticks": ""
           },
           "bgcolor": "#E5ECF6",
           "radialaxis": {
            "gridcolor": "white",
            "linecolor": "white",
            "ticks": ""
           }
          },
          "scene": {
           "xaxis": {
            "backgroundcolor": "#E5ECF6",
            "gridcolor": "white",
            "gridwidth": 2,
            "linecolor": "white",
            "showbackground": true,
            "ticks": "",
            "zerolinecolor": "white"
           },
           "yaxis": {
            "backgroundcolor": "#E5ECF6",
            "gridcolor": "white",
            "gridwidth": 2,
            "linecolor": "white",
            "showbackground": true,
            "ticks": "",
            "zerolinecolor": "white"
           },
           "zaxis": {
            "backgroundcolor": "#E5ECF6",
            "gridcolor": "white",
            "gridwidth": 2,
            "linecolor": "white",
            "showbackground": true,
            "ticks": "",
            "zerolinecolor": "white"
           }
          },
          "shapedefaults": {
           "line": {
            "color": "#2a3f5f"
           }
          },
          "ternary": {
           "aaxis": {
            "gridcolor": "white",
            "linecolor": "white",
            "ticks": ""
           },
           "baxis": {
            "gridcolor": "white",
            "linecolor": "white",
            "ticks": ""
           },
           "bgcolor": "#E5ECF6",
           "caxis": {
            "gridcolor": "white",
            "linecolor": "white",
            "ticks": ""
           }
          },
          "title": {
           "x": 0.05
          },
          "xaxis": {
           "automargin": true,
           "gridcolor": "white",
           "linecolor": "white",
           "ticks": "",
           "title": {
            "standoff": 15
           },
           "zerolinecolor": "white",
           "zerolinewidth": 2
          },
          "yaxis": {
           "automargin": true,
           "gridcolor": "white",
           "linecolor": "white",
           "ticks": "",
           "title": {
            "standoff": 15
           },
           "zerolinecolor": "white",
           "zerolinewidth": 2
          }
         }
        },
        "title": {
         "text": "Balanced Accuracy Throughout Epochs"
        },
        "xaxis": {
         "title": {
          "text": "Epochs"
         }
        },
        "yaxis": {
         "title": {
          "text": "Balanced Accuracy"
         }
        }
       }
      },
      "text/html": [
       "<div>                            <div id=\"7a0f899a-374e-4b22-90cf-26a1ea5533cc\" class=\"plotly-graph-div\" style=\"height:525px; width:100%;\"></div>            <script type=\"text/javascript\">                require([\"plotly\"], function(Plotly) {                    window.PLOTLYENV=window.PLOTLYENV || {};                                    if (document.getElementById(\"7a0f899a-374e-4b22-90cf-26a1ea5533cc\")) {                    Plotly.newPlot(                        \"7a0f899a-374e-4b22-90cf-26a1ea5533cc\",                        [{\"mode\":\"lines+markers\",\"x\":[0,1,2,3,4,5,6,7,8,9,10,11,12,13,14,15,16,17,18,19,20,21,22,23,24,25,26,27,28,29,30,31,32,33,34,35,36,37,38,39,40,41,42,43,44,45,46,47,48,49,50,51,52,53,54,55,56,57,58,59,60,61,62,63,64,65,66,67,68,69,70,71,72,73,74,75,76,77,78,79,80,81,82,83,84,85,86,87,88,89,90,91,92,93,94,95,96,97,98,99,100],\"y\":[0.8285891089108911,0.775990099009901,0.8335396039603961,0.838490099009901,0.7957920792079207,0.838490099009901,0.8483910891089108,0.7908415841584158,0.780940594059406,0.7382425742574257,0.6757425742574257,0.7382425742574257,0.7382425742574257,0.6905940594059405,0.6806930693069306,0.6757425742574257,0.6707920792079207,0.6757425742574257,0.6806930693069306,0.6856435643564356,0.7382425742574257,0.6658415841584158,0.6905940594059405,0.6905940594059405,0.6955445544554455,0.6806930693069306,0.6806930693069306,0.6757425742574257,0.6330445544554455,0.6757425742574257,0.6856435643564356,0.7004950495049505,0.6955445544554455,0.6905940594059405,0.6955445544554455,0.6905940594059405,0.6905940594059405,0.6955445544554455,0.6955445544554455,0.6280940594059405,0.6280940594059405,0.6955445544554455,0.6955445544554455,0.6856435643564356,0.7004950495049505,0.6955445544554455,0.7004950495049505,0.6905940594059405,0.6330445544554455,0.6429455445544554,0.6429455445544554,0.6955445544554455,0.6280940594059405,0.6806930693069306,0.5754950495049505,0.7054455445544554,0.6429455445544554,0.6905940594059405,0.5754950495049505,0.6330445544554455,0.5754950495049505,0.6955445544554455,0.5804455445544554,0.6231435643564356,0.6330445544554455,0.6280940594059405,0.6905940594059405,0.6955445544554455,0.6330445544554455,0.6231435643564356,0.5754950495049505,0.7103960396039604,0.5754950495049505,0.5655940594059405,0.5705445544554455,0.6231435643564356,0.6280940594059405,0.6905940594059405,0.6379950495049505,0.6379950495049505,0.6231435643564356,0.6379950495049505,0.5655940594059405,0.5655940594059405,0.5228960396039604,0.6181930693069306,0.6379950495049505,0.6280940594059405,0.5705445544554455,0.5853960396039604,0.5754950495049505,0.6955445544554455,0.5080445544554455,0.5655940594059405,0.6905940594059405,0.5705445544554455,0.5705445544554455,0.6429455445544554,0.6905940594059405,0.6379950495049505,0.6330445544554455],\"type\":\"scatter\"}],                        {\"title\":{\"text\":\"Balanced Accuracy Throughout Epochs\"},\"xaxis\":{\"title\":{\"text\":\"Epochs\"}},\"yaxis\":{\"title\":{\"text\":\"Balanced Accuracy\"}},\"template\":{\"data\":{\"histogram2dcontour\":[{\"type\":\"histogram2dcontour\",\"colorbar\":{\"outlinewidth\":0,\"ticks\":\"\"},\"colorscale\":[[0.0,\"#0d0887\"],[0.1111111111111111,\"#46039f\"],[0.2222222222222222,\"#7201a8\"],[0.3333333333333333,\"#9c179e\"],[0.4444444444444444,\"#bd3786\"],[0.5555555555555556,\"#d8576b\"],[0.6666666666666666,\"#ed7953\"],[0.7777777777777778,\"#fb9f3a\"],[0.8888888888888888,\"#fdca26\"],[1.0,\"#f0f921\"]]}],\"choropleth\":[{\"type\":\"choropleth\",\"colorbar\":{\"outlinewidth\":0,\"ticks\":\"\"}}],\"histogram2d\":[{\"type\":\"histogram2d\",\"colorbar\":{\"outlinewidth\":0,\"ticks\":\"\"},\"colorscale\":[[0.0,\"#0d0887\"],[0.1111111111111111,\"#46039f\"],[0.2222222222222222,\"#7201a8\"],[0.3333333333333333,\"#9c179e\"],[0.4444444444444444,\"#bd3786\"],[0.5555555555555556,\"#d8576b\"],[0.6666666666666666,\"#ed7953\"],[0.7777777777777778,\"#fb9f3a\"],[0.8888888888888888,\"#fdca26\"],[1.0,\"#f0f921\"]]}],\"heatmap\":[{\"type\":\"heatmap\",\"colorbar\":{\"outlinewidth\":0,\"ticks\":\"\"},\"colorscale\":[[0.0,\"#0d0887\"],[0.1111111111111111,\"#46039f\"],[0.2222222222222222,\"#7201a8\"],[0.3333333333333333,\"#9c179e\"],[0.4444444444444444,\"#bd3786\"],[0.5555555555555556,\"#d8576b\"],[0.6666666666666666,\"#ed7953\"],[0.7777777777777778,\"#fb9f3a\"],[0.8888888888888888,\"#fdca26\"],[1.0,\"#f0f921\"]]}],\"heatmapgl\":[{\"type\":\"heatmapgl\",\"colorbar\":{\"outlinewidth\":0,\"ticks\":\"\"},\"colorscale\":[[0.0,\"#0d0887\"],[0.1111111111111111,\"#46039f\"],[0.2222222222222222,\"#7201a8\"],[0.3333333333333333,\"#9c179e\"],[0.4444444444444444,\"#bd3786\"],[0.5555555555555556,\"#d8576b\"],[0.6666666666666666,\"#ed7953\"],[0.7777777777777778,\"#fb9f3a\"],[0.8888888888888888,\"#fdca26\"],[1.0,\"#f0f921\"]]}],\"contourcarpet\":[{\"type\":\"contourcarpet\",\"colorbar\":{\"outlinewidth\":0,\"ticks\":\"\"}}],\"contour\":[{\"type\":\"contour\",\"colorbar\":{\"outlinewidth\":0,\"ticks\":\"\"},\"colorscale\":[[0.0,\"#0d0887\"],[0.1111111111111111,\"#46039f\"],[0.2222222222222222,\"#7201a8\"],[0.3333333333333333,\"#9c179e\"],[0.4444444444444444,\"#bd3786\"],[0.5555555555555556,\"#d8576b\"],[0.6666666666666666,\"#ed7953\"],[0.7777777777777778,\"#fb9f3a\"],[0.8888888888888888,\"#fdca26\"],[1.0,\"#f0f921\"]]}],\"surface\":[{\"type\":\"surface\",\"colorbar\":{\"outlinewidth\":0,\"ticks\":\"\"},\"colorscale\":[[0.0,\"#0d0887\"],[0.1111111111111111,\"#46039f\"],[0.2222222222222222,\"#7201a8\"],[0.3333333333333333,\"#9c179e\"],[0.4444444444444444,\"#bd3786\"],[0.5555555555555556,\"#d8576b\"],[0.6666666666666666,\"#ed7953\"],[0.7777777777777778,\"#fb9f3a\"],[0.8888888888888888,\"#fdca26\"],[1.0,\"#f0f921\"]]}],\"mesh3d\":[{\"type\":\"mesh3d\",\"colorbar\":{\"outlinewidth\":0,\"ticks\":\"\"}}],\"scatter\":[{\"fillpattern\":{\"fillmode\":\"overlay\",\"size\":10,\"solidity\":0.2},\"type\":\"scatter\"}],\"parcoords\":[{\"type\":\"parcoords\",\"line\":{\"colorbar\":{\"outlinewidth\":0,\"ticks\":\"\"}}}],\"scatterpolargl\":[{\"type\":\"scatterpolargl\",\"marker\":{\"colorbar\":{\"outlinewidth\":0,\"ticks\":\"\"}}}],\"bar\":[{\"error_x\":{\"color\":\"#2a3f5f\"},\"error_y\":{\"color\":\"#2a3f5f\"},\"marker\":{\"line\":{\"color\":\"#E5ECF6\",\"width\":0.5},\"pattern\":{\"fillmode\":\"overlay\",\"size\":10,\"solidity\":0.2}},\"type\":\"bar\"}],\"scattergeo\":[{\"type\":\"scattergeo\",\"marker\":{\"colorbar\":{\"outlinewidth\":0,\"ticks\":\"\"}}}],\"scatterpolar\":[{\"type\":\"scatterpolar\",\"marker\":{\"colorbar\":{\"outlinewidth\":0,\"ticks\":\"\"}}}],\"histogram\":[{\"marker\":{\"pattern\":{\"fillmode\":\"overlay\",\"size\":10,\"solidity\":0.2}},\"type\":\"histogram\"}],\"scattergl\":[{\"type\":\"scattergl\",\"marker\":{\"colorbar\":{\"outlinewidth\":0,\"ticks\":\"\"}}}],\"scatter3d\":[{\"type\":\"scatter3d\",\"line\":{\"colorbar\":{\"outlinewidth\":0,\"ticks\":\"\"}},\"marker\":{\"colorbar\":{\"outlinewidth\":0,\"ticks\":\"\"}}}],\"scattermapbox\":[{\"type\":\"scattermapbox\",\"marker\":{\"colorbar\":{\"outlinewidth\":0,\"ticks\":\"\"}}}],\"scatterternary\":[{\"type\":\"scatterternary\",\"marker\":{\"colorbar\":{\"outlinewidth\":0,\"ticks\":\"\"}}}],\"scattercarpet\":[{\"type\":\"scattercarpet\",\"marker\":{\"colorbar\":{\"outlinewidth\":0,\"ticks\":\"\"}}}],\"carpet\":[{\"aaxis\":{\"endlinecolor\":\"#2a3f5f\",\"gridcolor\":\"white\",\"linecolor\":\"white\",\"minorgridcolor\":\"white\",\"startlinecolor\":\"#2a3f5f\"},\"baxis\":{\"endlinecolor\":\"#2a3f5f\",\"gridcolor\":\"white\",\"linecolor\":\"white\",\"minorgridcolor\":\"white\",\"startlinecolor\":\"#2a3f5f\"},\"type\":\"carpet\"}],\"table\":[{\"cells\":{\"fill\":{\"color\":\"#EBF0F8\"},\"line\":{\"color\":\"white\"}},\"header\":{\"fill\":{\"color\":\"#C8D4E3\"},\"line\":{\"color\":\"white\"}},\"type\":\"table\"}],\"barpolar\":[{\"marker\":{\"line\":{\"color\":\"#E5ECF6\",\"width\":0.5},\"pattern\":{\"fillmode\":\"overlay\",\"size\":10,\"solidity\":0.2}},\"type\":\"barpolar\"}],\"pie\":[{\"automargin\":true,\"type\":\"pie\"}]},\"layout\":{\"autotypenumbers\":\"strict\",\"colorway\":[\"#636efa\",\"#EF553B\",\"#00cc96\",\"#ab63fa\",\"#FFA15A\",\"#19d3f3\",\"#FF6692\",\"#B6E880\",\"#FF97FF\",\"#FECB52\"],\"font\":{\"color\":\"#2a3f5f\"},\"hovermode\":\"closest\",\"hoverlabel\":{\"align\":\"left\"},\"paper_bgcolor\":\"white\",\"plot_bgcolor\":\"#E5ECF6\",\"polar\":{\"bgcolor\":\"#E5ECF6\",\"angularaxis\":{\"gridcolor\":\"white\",\"linecolor\":\"white\",\"ticks\":\"\"},\"radialaxis\":{\"gridcolor\":\"white\",\"linecolor\":\"white\",\"ticks\":\"\"}},\"ternary\":{\"bgcolor\":\"#E5ECF6\",\"aaxis\":{\"gridcolor\":\"white\",\"linecolor\":\"white\",\"ticks\":\"\"},\"baxis\":{\"gridcolor\":\"white\",\"linecolor\":\"white\",\"ticks\":\"\"},\"caxis\":{\"gridcolor\":\"white\",\"linecolor\":\"white\",\"ticks\":\"\"}},\"coloraxis\":{\"colorbar\":{\"outlinewidth\":0,\"ticks\":\"\"}},\"colorscale\":{\"sequential\":[[0.0,\"#0d0887\"],[0.1111111111111111,\"#46039f\"],[0.2222222222222222,\"#7201a8\"],[0.3333333333333333,\"#9c179e\"],[0.4444444444444444,\"#bd3786\"],[0.5555555555555556,\"#d8576b\"],[0.6666666666666666,\"#ed7953\"],[0.7777777777777778,\"#fb9f3a\"],[0.8888888888888888,\"#fdca26\"],[1.0,\"#f0f921\"]],\"sequentialminus\":[[0.0,\"#0d0887\"],[0.1111111111111111,\"#46039f\"],[0.2222222222222222,\"#7201a8\"],[0.3333333333333333,\"#9c179e\"],[0.4444444444444444,\"#bd3786\"],[0.5555555555555556,\"#d8576b\"],[0.6666666666666666,\"#ed7953\"],[0.7777777777777778,\"#fb9f3a\"],[0.8888888888888888,\"#fdca26\"],[1.0,\"#f0f921\"]],\"diverging\":[[0,\"#8e0152\"],[0.1,\"#c51b7d\"],[0.2,\"#de77ae\"],[0.3,\"#f1b6da\"],[0.4,\"#fde0ef\"],[0.5,\"#f7f7f7\"],[0.6,\"#e6f5d0\"],[0.7,\"#b8e186\"],[0.8,\"#7fbc41\"],[0.9,\"#4d9221\"],[1,\"#276419\"]]},\"xaxis\":{\"gridcolor\":\"white\",\"linecolor\":\"white\",\"ticks\":\"\",\"title\":{\"standoff\":15},\"zerolinecolor\":\"white\",\"automargin\":true,\"zerolinewidth\":2},\"yaxis\":{\"gridcolor\":\"white\",\"linecolor\":\"white\",\"ticks\":\"\",\"title\":{\"standoff\":15},\"zerolinecolor\":\"white\",\"automargin\":true,\"zerolinewidth\":2},\"scene\":{\"xaxis\":{\"backgroundcolor\":\"#E5ECF6\",\"gridcolor\":\"white\",\"linecolor\":\"white\",\"showbackground\":true,\"ticks\":\"\",\"zerolinecolor\":\"white\",\"gridwidth\":2},\"yaxis\":{\"backgroundcolor\":\"#E5ECF6\",\"gridcolor\":\"white\",\"linecolor\":\"white\",\"showbackground\":true,\"ticks\":\"\",\"zerolinecolor\":\"white\",\"gridwidth\":2},\"zaxis\":{\"backgroundcolor\":\"#E5ECF6\",\"gridcolor\":\"white\",\"linecolor\":\"white\",\"showbackground\":true,\"ticks\":\"\",\"zerolinecolor\":\"white\",\"gridwidth\":2}},\"shapedefaults\":{\"line\":{\"color\":\"#2a3f5f\"}},\"annotationdefaults\":{\"arrowcolor\":\"#2a3f5f\",\"arrowhead\":0,\"arrowwidth\":1},\"geo\":{\"bgcolor\":\"white\",\"landcolor\":\"#E5ECF6\",\"subunitcolor\":\"white\",\"showland\":true,\"showlakes\":true,\"lakecolor\":\"white\"},\"title\":{\"x\":0.05},\"mapbox\":{\"style\":\"light\"}}}},                        {\"responsive\": true}                    ).then(function(){\n",
       "                            \n",
       "var gd = document.getElementById('7a0f899a-374e-4b22-90cf-26a1ea5533cc');\n",
       "var x = new MutationObserver(function (mutations, observer) {{\n",
       "        var display = window.getComputedStyle(gd).display;\n",
       "        if (!display || display === 'none') {{\n",
       "            console.log([gd, 'removed!']);\n",
       "            Plotly.purge(gd);\n",
       "            observer.disconnect();\n",
       "        }}\n",
       "}});\n",
       "\n",
       "// Listen for the removal of the full notebook cells\n",
       "var notebookContainer = gd.closest('#notebook-container');\n",
       "if (notebookContainer) {{\n",
       "    x.observe(notebookContainer, {childList: true});\n",
       "}}\n",
       "\n",
       "// Listen for the clearing of the current output cell\n",
       "var outputEl = gd.closest('.output');\n",
       "if (outputEl) {{\n",
       "    x.observe(outputEl, {childList: true});\n",
       "}}\n",
       "\n",
       "                        })                };                });            </script>        </div>"
      ]
     },
     "metadata": {},
     "output_type": "display_data"
    },
    {
     "data": {
      "application/vnd.plotly.v1+json": {
       "config": {
        "plotlyServerURL": "https://plot.ly"
       },
       "data": [
        {
         "mode": "lines+markers",
         "type": "scatter",
         "x": [
          0,
          1,
          2,
          3,
          4,
          5,
          6,
          7,
          8,
          9,
          10,
          11,
          12,
          13,
          14,
          15,
          16,
          17,
          18,
          19,
          20,
          21,
          22,
          23,
          24,
          25,
          26,
          27,
          28,
          29,
          30,
          31,
          32,
          33,
          34,
          35,
          36,
          37,
          38,
          39,
          40,
          41,
          42,
          43,
          44,
          45,
          46,
          47,
          48,
          49,
          50,
          51,
          52,
          53,
          54,
          55,
          56,
          57,
          58,
          59,
          60,
          61,
          62,
          63,
          64,
          65,
          66,
          67,
          68,
          69,
          70,
          71,
          72,
          73,
          74,
          75,
          76,
          77,
          78,
          79,
          80,
          81,
          82,
          83,
          84,
          85,
          86,
          87,
          88,
          89,
          90,
          91,
          92,
          93,
          94,
          95,
          96,
          97,
          98,
          99,
          100
         ],
         "y": [
          0.8725247383117676,
          0.8725247979164124,
          0.8700494766235352,
          0.8663365840911865,
          0.8551980257034302,
          0.858910858631134,
          0.860148549079895,
          0.8477723002433777,
          0.8564356565475464,
          0.8452969789505005,
          0.8403465747833252,
          0.8403465151786804,
          0.8440593481063843,
          0.8329207897186279,
          0.8366336226463318,
          0.8217821717262268,
          0.8316831588745117,
          0.8391088247299194,
          0.8316831588745117,
          0.8366336822509766,
          0.8267326354980469,
          0.837871253490448,
          0.8193069100379944,
          0.8230197429656982,
          0.8254950642585754,
          0.8391088247299194,
          0.8205444812774658,
          0.8341583609580994,
          0.8131188154220581,
          0.8230198621749878,
          0.8230197429656982,
          0.8155940771102905,
          0.8329207897186279,
          0.8316830992698669,
          0.8193070292472839,
          0.823019802570343,
          0.809406042098999,
          0.7908415794372559,
          0.8193069696426392,
          0.7945544719696045,
          0.7957921028137207,
          0.7933168411254883,
          0.8230198621749878,
          0.8106435537338257,
          0.8032178282737732,
          0.806930661201477,
          0.8094059824943542,
          0.8180692791938782,
          0.8007425665855408,
          0.7883662581443787,
          0.7908415794372559,
          0.8106436133384705,
          0.7846534848213196,
          0.7945544123649597,
          0.7883663177490234,
          0.7846534848213196,
          0.7834158539772034,
          0.7995049357414246,
          0.7599009275436401,
          0.7896039485931396,
          0.7908415794372559,
          0.8044554591178894,
          0.7611386179924011,
          0.7834157943725586,
          0.7673267126083374,
          0.7797029614448547,
          0.7821782231330872,
          0.8044553995132446,
          0.7722772359848022,
          0.7747524380683899,
          0.7698019742965698,
          0.8032178282737732,
          0.780940592288971,
          0.7722772359848022,
          0.7871286869049072,
          0.7698019742965698,
          0.7883663177490234,
          0.8044554591178894,
          0.7747524976730347,
          0.7846534848213196,
          0.771039605140686,
          0.7834159135818481,
          0.7586632966995239,
          0.7735148668289185,
          0.7537128329277039,
          0.7759900689125061,
          0.7759900689125061,
          0.7759900093078613,
          0.7524752616882324,
          0.7722772359848022,
          0.7698019742965698,
          0.7797029614448547,
          0.7784652709960938,
          0.7759900689125061,
          0.7834157943725586,
          0.766089141368866,
          0.7735148072242737,
          0.7784653902053833,
          0.7982673645019531,
          0.7660890817642212,
          0.7710395455360413
         ]
        }
       ],
       "layout": {
        "template": {
         "data": {
          "bar": [
           {
            "error_x": {
             "color": "#2a3f5f"
            },
            "error_y": {
             "color": "#2a3f5f"
            },
            "marker": {
             "line": {
              "color": "#E5ECF6",
              "width": 0.5
             },
             "pattern": {
              "fillmode": "overlay",
              "size": 10,
              "solidity": 0.2
             }
            },
            "type": "bar"
           }
          ],
          "barpolar": [
           {
            "marker": {
             "line": {
              "color": "#E5ECF6",
              "width": 0.5
             },
             "pattern": {
              "fillmode": "overlay",
              "size": 10,
              "solidity": 0.2
             }
            },
            "type": "barpolar"
           }
          ],
          "carpet": [
           {
            "aaxis": {
             "endlinecolor": "#2a3f5f",
             "gridcolor": "white",
             "linecolor": "white",
             "minorgridcolor": "white",
             "startlinecolor": "#2a3f5f"
            },
            "baxis": {
             "endlinecolor": "#2a3f5f",
             "gridcolor": "white",
             "linecolor": "white",
             "minorgridcolor": "white",
             "startlinecolor": "#2a3f5f"
            },
            "type": "carpet"
           }
          ],
          "choropleth": [
           {
            "colorbar": {
             "outlinewidth": 0,
             "ticks": ""
            },
            "type": "choropleth"
           }
          ],
          "contour": [
           {
            "colorbar": {
             "outlinewidth": 0,
             "ticks": ""
            },
            "colorscale": [
             [
              0,
              "#0d0887"
             ],
             [
              0.1111111111111111,
              "#46039f"
             ],
             [
              0.2222222222222222,
              "#7201a8"
             ],
             [
              0.3333333333333333,
              "#9c179e"
             ],
             [
              0.4444444444444444,
              "#bd3786"
             ],
             [
              0.5555555555555556,
              "#d8576b"
             ],
             [
              0.6666666666666666,
              "#ed7953"
             ],
             [
              0.7777777777777778,
              "#fb9f3a"
             ],
             [
              0.8888888888888888,
              "#fdca26"
             ],
             [
              1,
              "#f0f921"
             ]
            ],
            "type": "contour"
           }
          ],
          "contourcarpet": [
           {
            "colorbar": {
             "outlinewidth": 0,
             "ticks": ""
            },
            "type": "contourcarpet"
           }
          ],
          "heatmap": [
           {
            "colorbar": {
             "outlinewidth": 0,
             "ticks": ""
            },
            "colorscale": [
             [
              0,
              "#0d0887"
             ],
             [
              0.1111111111111111,
              "#46039f"
             ],
             [
              0.2222222222222222,
              "#7201a8"
             ],
             [
              0.3333333333333333,
              "#9c179e"
             ],
             [
              0.4444444444444444,
              "#bd3786"
             ],
             [
              0.5555555555555556,
              "#d8576b"
             ],
             [
              0.6666666666666666,
              "#ed7953"
             ],
             [
              0.7777777777777778,
              "#fb9f3a"
             ],
             [
              0.8888888888888888,
              "#fdca26"
             ],
             [
              1,
              "#f0f921"
             ]
            ],
            "type": "heatmap"
           }
          ],
          "heatmapgl": [
           {
            "colorbar": {
             "outlinewidth": 0,
             "ticks": ""
            },
            "colorscale": [
             [
              0,
              "#0d0887"
             ],
             [
              0.1111111111111111,
              "#46039f"
             ],
             [
              0.2222222222222222,
              "#7201a8"
             ],
             [
              0.3333333333333333,
              "#9c179e"
             ],
             [
              0.4444444444444444,
              "#bd3786"
             ],
             [
              0.5555555555555556,
              "#d8576b"
             ],
             [
              0.6666666666666666,
              "#ed7953"
             ],
             [
              0.7777777777777778,
              "#fb9f3a"
             ],
             [
              0.8888888888888888,
              "#fdca26"
             ],
             [
              1,
              "#f0f921"
             ]
            ],
            "type": "heatmapgl"
           }
          ],
          "histogram": [
           {
            "marker": {
             "pattern": {
              "fillmode": "overlay",
              "size": 10,
              "solidity": 0.2
             }
            },
            "type": "histogram"
           }
          ],
          "histogram2d": [
           {
            "colorbar": {
             "outlinewidth": 0,
             "ticks": ""
            },
            "colorscale": [
             [
              0,
              "#0d0887"
             ],
             [
              0.1111111111111111,
              "#46039f"
             ],
             [
              0.2222222222222222,
              "#7201a8"
             ],
             [
              0.3333333333333333,
              "#9c179e"
             ],
             [
              0.4444444444444444,
              "#bd3786"
             ],
             [
              0.5555555555555556,
              "#d8576b"
             ],
             [
              0.6666666666666666,
              "#ed7953"
             ],
             [
              0.7777777777777778,
              "#fb9f3a"
             ],
             [
              0.8888888888888888,
              "#fdca26"
             ],
             [
              1,
              "#f0f921"
             ]
            ],
            "type": "histogram2d"
           }
          ],
          "histogram2dcontour": [
           {
            "colorbar": {
             "outlinewidth": 0,
             "ticks": ""
            },
            "colorscale": [
             [
              0,
              "#0d0887"
             ],
             [
              0.1111111111111111,
              "#46039f"
             ],
             [
              0.2222222222222222,
              "#7201a8"
             ],
             [
              0.3333333333333333,
              "#9c179e"
             ],
             [
              0.4444444444444444,
              "#bd3786"
             ],
             [
              0.5555555555555556,
              "#d8576b"
             ],
             [
              0.6666666666666666,
              "#ed7953"
             ],
             [
              0.7777777777777778,
              "#fb9f3a"
             ],
             [
              0.8888888888888888,
              "#fdca26"
             ],
             [
              1,
              "#f0f921"
             ]
            ],
            "type": "histogram2dcontour"
           }
          ],
          "mesh3d": [
           {
            "colorbar": {
             "outlinewidth": 0,
             "ticks": ""
            },
            "type": "mesh3d"
           }
          ],
          "parcoords": [
           {
            "line": {
             "colorbar": {
              "outlinewidth": 0,
              "ticks": ""
             }
            },
            "type": "parcoords"
           }
          ],
          "pie": [
           {
            "automargin": true,
            "type": "pie"
           }
          ],
          "scatter": [
           {
            "fillpattern": {
             "fillmode": "overlay",
             "size": 10,
             "solidity": 0.2
            },
            "type": "scatter"
           }
          ],
          "scatter3d": [
           {
            "line": {
             "colorbar": {
              "outlinewidth": 0,
              "ticks": ""
             }
            },
            "marker": {
             "colorbar": {
              "outlinewidth": 0,
              "ticks": ""
             }
            },
            "type": "scatter3d"
           }
          ],
          "scattercarpet": [
           {
            "marker": {
             "colorbar": {
              "outlinewidth": 0,
              "ticks": ""
             }
            },
            "type": "scattercarpet"
           }
          ],
          "scattergeo": [
           {
            "marker": {
             "colorbar": {
              "outlinewidth": 0,
              "ticks": ""
             }
            },
            "type": "scattergeo"
           }
          ],
          "scattergl": [
           {
            "marker": {
             "colorbar": {
              "outlinewidth": 0,
              "ticks": ""
             }
            },
            "type": "scattergl"
           }
          ],
          "scattermapbox": [
           {
            "marker": {
             "colorbar": {
              "outlinewidth": 0,
              "ticks": ""
             }
            },
            "type": "scattermapbox"
           }
          ],
          "scatterpolar": [
           {
            "marker": {
             "colorbar": {
              "outlinewidth": 0,
              "ticks": ""
             }
            },
            "type": "scatterpolar"
           }
          ],
          "scatterpolargl": [
           {
            "marker": {
             "colorbar": {
              "outlinewidth": 0,
              "ticks": ""
             }
            },
            "type": "scatterpolargl"
           }
          ],
          "scatterternary": [
           {
            "marker": {
             "colorbar": {
              "outlinewidth": 0,
              "ticks": ""
             }
            },
            "type": "scatterternary"
           }
          ],
          "surface": [
           {
            "colorbar": {
             "outlinewidth": 0,
             "ticks": ""
            },
            "colorscale": [
             [
              0,
              "#0d0887"
             ],
             [
              0.1111111111111111,
              "#46039f"
             ],
             [
              0.2222222222222222,
              "#7201a8"
             ],
             [
              0.3333333333333333,
              "#9c179e"
             ],
             [
              0.4444444444444444,
              "#bd3786"
             ],
             [
              0.5555555555555556,
              "#d8576b"
             ],
             [
              0.6666666666666666,
              "#ed7953"
             ],
             [
              0.7777777777777778,
              "#fb9f3a"
             ],
             [
              0.8888888888888888,
              "#fdca26"
             ],
             [
              1,
              "#f0f921"
             ]
            ],
            "type": "surface"
           }
          ],
          "table": [
           {
            "cells": {
             "fill": {
              "color": "#EBF0F8"
             },
             "line": {
              "color": "white"
             }
            },
            "header": {
             "fill": {
              "color": "#C8D4E3"
             },
             "line": {
              "color": "white"
             }
            },
            "type": "table"
           }
          ]
         },
         "layout": {
          "annotationdefaults": {
           "arrowcolor": "#2a3f5f",
           "arrowhead": 0,
           "arrowwidth": 1
          },
          "autotypenumbers": "strict",
          "coloraxis": {
           "colorbar": {
            "outlinewidth": 0,
            "ticks": ""
           }
          },
          "colorscale": {
           "diverging": [
            [
             0,
             "#8e0152"
            ],
            [
             0.1,
             "#c51b7d"
            ],
            [
             0.2,
             "#de77ae"
            ],
            [
             0.3,
             "#f1b6da"
            ],
            [
             0.4,
             "#fde0ef"
            ],
            [
             0.5,
             "#f7f7f7"
            ],
            [
             0.6,
             "#e6f5d0"
            ],
            [
             0.7,
             "#b8e186"
            ],
            [
             0.8,
             "#7fbc41"
            ],
            [
             0.9,
             "#4d9221"
            ],
            [
             1,
             "#276419"
            ]
           ],
           "sequential": [
            [
             0,
             "#0d0887"
            ],
            [
             0.1111111111111111,
             "#46039f"
            ],
            [
             0.2222222222222222,
             "#7201a8"
            ],
            [
             0.3333333333333333,
             "#9c179e"
            ],
            [
             0.4444444444444444,
             "#bd3786"
            ],
            [
             0.5555555555555556,
             "#d8576b"
            ],
            [
             0.6666666666666666,
             "#ed7953"
            ],
            [
             0.7777777777777778,
             "#fb9f3a"
            ],
            [
             0.8888888888888888,
             "#fdca26"
            ],
            [
             1,
             "#f0f921"
            ]
           ],
           "sequentialminus": [
            [
             0,
             "#0d0887"
            ],
            [
             0.1111111111111111,
             "#46039f"
            ],
            [
             0.2222222222222222,
             "#7201a8"
            ],
            [
             0.3333333333333333,
             "#9c179e"
            ],
            [
             0.4444444444444444,
             "#bd3786"
            ],
            [
             0.5555555555555556,
             "#d8576b"
            ],
            [
             0.6666666666666666,
             "#ed7953"
            ],
            [
             0.7777777777777778,
             "#fb9f3a"
            ],
            [
             0.8888888888888888,
             "#fdca26"
            ],
            [
             1,
             "#f0f921"
            ]
           ]
          },
          "colorway": [
           "#636efa",
           "#EF553B",
           "#00cc96",
           "#ab63fa",
           "#FFA15A",
           "#19d3f3",
           "#FF6692",
           "#B6E880",
           "#FF97FF",
           "#FECB52"
          ],
          "font": {
           "color": "#2a3f5f"
          },
          "geo": {
           "bgcolor": "white",
           "lakecolor": "white",
           "landcolor": "#E5ECF6",
           "showlakes": true,
           "showland": true,
           "subunitcolor": "white"
          },
          "hoverlabel": {
           "align": "left"
          },
          "hovermode": "closest",
          "mapbox": {
           "style": "light"
          },
          "paper_bgcolor": "white",
          "plot_bgcolor": "#E5ECF6",
          "polar": {
           "angularaxis": {
            "gridcolor": "white",
            "linecolor": "white",
            "ticks": ""
           },
           "bgcolor": "#E5ECF6",
           "radialaxis": {
            "gridcolor": "white",
            "linecolor": "white",
            "ticks": ""
           }
          },
          "scene": {
           "xaxis": {
            "backgroundcolor": "#E5ECF6",
            "gridcolor": "white",
            "gridwidth": 2,
            "linecolor": "white",
            "showbackground": true,
            "ticks": "",
            "zerolinecolor": "white"
           },
           "yaxis": {
            "backgroundcolor": "#E5ECF6",
            "gridcolor": "white",
            "gridwidth": 2,
            "linecolor": "white",
            "showbackground": true,
            "ticks": "",
            "zerolinecolor": "white"
           },
           "zaxis": {
            "backgroundcolor": "#E5ECF6",
            "gridcolor": "white",
            "gridwidth": 2,
            "linecolor": "white",
            "showbackground": true,
            "ticks": "",
            "zerolinecolor": "white"
           }
          },
          "shapedefaults": {
           "line": {
            "color": "#2a3f5f"
           }
          },
          "ternary": {
           "aaxis": {
            "gridcolor": "white",
            "linecolor": "white",
            "ticks": ""
           },
           "baxis": {
            "gridcolor": "white",
            "linecolor": "white",
            "ticks": ""
           },
           "bgcolor": "#E5ECF6",
           "caxis": {
            "gridcolor": "white",
            "linecolor": "white",
            "ticks": ""
           }
          },
          "title": {
           "x": 0.05
          },
          "xaxis": {
           "automargin": true,
           "gridcolor": "white",
           "linecolor": "white",
           "ticks": "",
           "title": {
            "standoff": 15
           },
           "zerolinecolor": "white",
           "zerolinewidth": 2
          },
          "yaxis": {
           "automargin": true,
           "gridcolor": "white",
           "linecolor": "white",
           "ticks": "",
           "title": {
            "standoff": 15
           },
           "zerolinecolor": "white",
           "zerolinewidth": 2
          }
         }
        },
        "title": {
         "text": "AUC Score Throughout Epochs"
        },
        "xaxis": {
         "title": {
          "text": "Epochs"
         }
        },
        "yaxis": {
         "title": {
          "text": "AUROC"
         }
        }
       }
      },
      "text/html": [
       "<div>                            <div id=\"9e035d3a-5540-41f4-b82e-b8f3e1d1bdc8\" class=\"plotly-graph-div\" style=\"height:525px; width:100%;\"></div>            <script type=\"text/javascript\">                require([\"plotly\"], function(Plotly) {                    window.PLOTLYENV=window.PLOTLYENV || {};                                    if (document.getElementById(\"9e035d3a-5540-41f4-b82e-b8f3e1d1bdc8\")) {                    Plotly.newPlot(                        \"9e035d3a-5540-41f4-b82e-b8f3e1d1bdc8\",                        [{\"mode\":\"lines+markers\",\"x\":[0,1,2,3,4,5,6,7,8,9,10,11,12,13,14,15,16,17,18,19,20,21,22,23,24,25,26,27,28,29,30,31,32,33,34,35,36,37,38,39,40,41,42,43,44,45,46,47,48,49,50,51,52,53,54,55,56,57,58,59,60,61,62,63,64,65,66,67,68,69,70,71,72,73,74,75,76,77,78,79,80,81,82,83,84,85,86,87,88,89,90,91,92,93,94,95,96,97,98,99,100],\"y\":[0.8725247383117676,0.8725247979164124,0.8700494766235352,0.8663365840911865,0.8551980257034302,0.858910858631134,0.860148549079895,0.8477723002433777,0.8564356565475464,0.8452969789505005,0.8403465747833252,0.8403465151786804,0.8440593481063843,0.8329207897186279,0.8366336226463318,0.8217821717262268,0.8316831588745117,0.8391088247299194,0.8316831588745117,0.8366336822509766,0.8267326354980469,0.837871253490448,0.8193069100379944,0.8230197429656982,0.8254950642585754,0.8391088247299194,0.8205444812774658,0.8341583609580994,0.8131188154220581,0.8230198621749878,0.8230197429656982,0.8155940771102905,0.8329207897186279,0.8316830992698669,0.8193070292472839,0.823019802570343,0.809406042098999,0.7908415794372559,0.8193069696426392,0.7945544719696045,0.7957921028137207,0.7933168411254883,0.8230198621749878,0.8106435537338257,0.8032178282737732,0.806930661201477,0.8094059824943542,0.8180692791938782,0.8007425665855408,0.7883662581443787,0.7908415794372559,0.8106436133384705,0.7846534848213196,0.7945544123649597,0.7883663177490234,0.7846534848213196,0.7834158539772034,0.7995049357414246,0.7599009275436401,0.7896039485931396,0.7908415794372559,0.8044554591178894,0.7611386179924011,0.7834157943725586,0.7673267126083374,0.7797029614448547,0.7821782231330872,0.8044553995132446,0.7722772359848022,0.7747524380683899,0.7698019742965698,0.8032178282737732,0.780940592288971,0.7722772359848022,0.7871286869049072,0.7698019742965698,0.7883663177490234,0.8044554591178894,0.7747524976730347,0.7846534848213196,0.771039605140686,0.7834159135818481,0.7586632966995239,0.7735148668289185,0.7537128329277039,0.7759900689125061,0.7759900689125061,0.7759900093078613,0.7524752616882324,0.7722772359848022,0.7698019742965698,0.7797029614448547,0.7784652709960938,0.7759900689125061,0.7834157943725586,0.766089141368866,0.7735148072242737,0.7784653902053833,0.7982673645019531,0.7660890817642212,0.7710395455360413],\"type\":\"scatter\"}],                        {\"title\":{\"text\":\"AUC Score Throughout Epochs\"},\"xaxis\":{\"title\":{\"text\":\"Epochs\"}},\"yaxis\":{\"title\":{\"text\":\"AUROC\"}},\"template\":{\"data\":{\"histogram2dcontour\":[{\"type\":\"histogram2dcontour\",\"colorbar\":{\"outlinewidth\":0,\"ticks\":\"\"},\"colorscale\":[[0.0,\"#0d0887\"],[0.1111111111111111,\"#46039f\"],[0.2222222222222222,\"#7201a8\"],[0.3333333333333333,\"#9c179e\"],[0.4444444444444444,\"#bd3786\"],[0.5555555555555556,\"#d8576b\"],[0.6666666666666666,\"#ed7953\"],[0.7777777777777778,\"#fb9f3a\"],[0.8888888888888888,\"#fdca26\"],[1.0,\"#f0f921\"]]}],\"choropleth\":[{\"type\":\"choropleth\",\"colorbar\":{\"outlinewidth\":0,\"ticks\":\"\"}}],\"histogram2d\":[{\"type\":\"histogram2d\",\"colorbar\":{\"outlinewidth\":0,\"ticks\":\"\"},\"colorscale\":[[0.0,\"#0d0887\"],[0.1111111111111111,\"#46039f\"],[0.2222222222222222,\"#7201a8\"],[0.3333333333333333,\"#9c179e\"],[0.4444444444444444,\"#bd3786\"],[0.5555555555555556,\"#d8576b\"],[0.6666666666666666,\"#ed7953\"],[0.7777777777777778,\"#fb9f3a\"],[0.8888888888888888,\"#fdca26\"],[1.0,\"#f0f921\"]]}],\"heatmap\":[{\"type\":\"heatmap\",\"colorbar\":{\"outlinewidth\":0,\"ticks\":\"\"},\"colorscale\":[[0.0,\"#0d0887\"],[0.1111111111111111,\"#46039f\"],[0.2222222222222222,\"#7201a8\"],[0.3333333333333333,\"#9c179e\"],[0.4444444444444444,\"#bd3786\"],[0.5555555555555556,\"#d8576b\"],[0.6666666666666666,\"#ed7953\"],[0.7777777777777778,\"#fb9f3a\"],[0.8888888888888888,\"#fdca26\"],[1.0,\"#f0f921\"]]}],\"heatmapgl\":[{\"type\":\"heatmapgl\",\"colorbar\":{\"outlinewidth\":0,\"ticks\":\"\"},\"colorscale\":[[0.0,\"#0d0887\"],[0.1111111111111111,\"#46039f\"],[0.2222222222222222,\"#7201a8\"],[0.3333333333333333,\"#9c179e\"],[0.4444444444444444,\"#bd3786\"],[0.5555555555555556,\"#d8576b\"],[0.6666666666666666,\"#ed7953\"],[0.7777777777777778,\"#fb9f3a\"],[0.8888888888888888,\"#fdca26\"],[1.0,\"#f0f921\"]]}],\"contourcarpet\":[{\"type\":\"contourcarpet\",\"colorbar\":{\"outlinewidth\":0,\"ticks\":\"\"}}],\"contour\":[{\"type\":\"contour\",\"colorbar\":{\"outlinewidth\":0,\"ticks\":\"\"},\"colorscale\":[[0.0,\"#0d0887\"],[0.1111111111111111,\"#46039f\"],[0.2222222222222222,\"#7201a8\"],[0.3333333333333333,\"#9c179e\"],[0.4444444444444444,\"#bd3786\"],[0.5555555555555556,\"#d8576b\"],[0.6666666666666666,\"#ed7953\"],[0.7777777777777778,\"#fb9f3a\"],[0.8888888888888888,\"#fdca26\"],[1.0,\"#f0f921\"]]}],\"surface\":[{\"type\":\"surface\",\"colorbar\":{\"outlinewidth\":0,\"ticks\":\"\"},\"colorscale\":[[0.0,\"#0d0887\"],[0.1111111111111111,\"#46039f\"],[0.2222222222222222,\"#7201a8\"],[0.3333333333333333,\"#9c179e\"],[0.4444444444444444,\"#bd3786\"],[0.5555555555555556,\"#d8576b\"],[0.6666666666666666,\"#ed7953\"],[0.7777777777777778,\"#fb9f3a\"],[0.8888888888888888,\"#fdca26\"],[1.0,\"#f0f921\"]]}],\"mesh3d\":[{\"type\":\"mesh3d\",\"colorbar\":{\"outlinewidth\":0,\"ticks\":\"\"}}],\"scatter\":[{\"fillpattern\":{\"fillmode\":\"overlay\",\"size\":10,\"solidity\":0.2},\"type\":\"scatter\"}],\"parcoords\":[{\"type\":\"parcoords\",\"line\":{\"colorbar\":{\"outlinewidth\":0,\"ticks\":\"\"}}}],\"scatterpolargl\":[{\"type\":\"scatterpolargl\",\"marker\":{\"colorbar\":{\"outlinewidth\":0,\"ticks\":\"\"}}}],\"bar\":[{\"error_x\":{\"color\":\"#2a3f5f\"},\"error_y\":{\"color\":\"#2a3f5f\"},\"marker\":{\"line\":{\"color\":\"#E5ECF6\",\"width\":0.5},\"pattern\":{\"fillmode\":\"overlay\",\"size\":10,\"solidity\":0.2}},\"type\":\"bar\"}],\"scattergeo\":[{\"type\":\"scattergeo\",\"marker\":{\"colorbar\":{\"outlinewidth\":0,\"ticks\":\"\"}}}],\"scatterpolar\":[{\"type\":\"scatterpolar\",\"marker\":{\"colorbar\":{\"outlinewidth\":0,\"ticks\":\"\"}}}],\"histogram\":[{\"marker\":{\"pattern\":{\"fillmode\":\"overlay\",\"size\":10,\"solidity\":0.2}},\"type\":\"histogram\"}],\"scattergl\":[{\"type\":\"scattergl\",\"marker\":{\"colorbar\":{\"outlinewidth\":0,\"ticks\":\"\"}}}],\"scatter3d\":[{\"type\":\"scatter3d\",\"line\":{\"colorbar\":{\"outlinewidth\":0,\"ticks\":\"\"}},\"marker\":{\"colorbar\":{\"outlinewidth\":0,\"ticks\":\"\"}}}],\"scattermapbox\":[{\"type\":\"scattermapbox\",\"marker\":{\"colorbar\":{\"outlinewidth\":0,\"ticks\":\"\"}}}],\"scatterternary\":[{\"type\":\"scatterternary\",\"marker\":{\"colorbar\":{\"outlinewidth\":0,\"ticks\":\"\"}}}],\"scattercarpet\":[{\"type\":\"scattercarpet\",\"marker\":{\"colorbar\":{\"outlinewidth\":0,\"ticks\":\"\"}}}],\"carpet\":[{\"aaxis\":{\"endlinecolor\":\"#2a3f5f\",\"gridcolor\":\"white\",\"linecolor\":\"white\",\"minorgridcolor\":\"white\",\"startlinecolor\":\"#2a3f5f\"},\"baxis\":{\"endlinecolor\":\"#2a3f5f\",\"gridcolor\":\"white\",\"linecolor\":\"white\",\"minorgridcolor\":\"white\",\"startlinecolor\":\"#2a3f5f\"},\"type\":\"carpet\"}],\"table\":[{\"cells\":{\"fill\":{\"color\":\"#EBF0F8\"},\"line\":{\"color\":\"white\"}},\"header\":{\"fill\":{\"color\":\"#C8D4E3\"},\"line\":{\"color\":\"white\"}},\"type\":\"table\"}],\"barpolar\":[{\"marker\":{\"line\":{\"color\":\"#E5ECF6\",\"width\":0.5},\"pattern\":{\"fillmode\":\"overlay\",\"size\":10,\"solidity\":0.2}},\"type\":\"barpolar\"}],\"pie\":[{\"automargin\":true,\"type\":\"pie\"}]},\"layout\":{\"autotypenumbers\":\"strict\",\"colorway\":[\"#636efa\",\"#EF553B\",\"#00cc96\",\"#ab63fa\",\"#FFA15A\",\"#19d3f3\",\"#FF6692\",\"#B6E880\",\"#FF97FF\",\"#FECB52\"],\"font\":{\"color\":\"#2a3f5f\"},\"hovermode\":\"closest\",\"hoverlabel\":{\"align\":\"left\"},\"paper_bgcolor\":\"white\",\"plot_bgcolor\":\"#E5ECF6\",\"polar\":{\"bgcolor\":\"#E5ECF6\",\"angularaxis\":{\"gridcolor\":\"white\",\"linecolor\":\"white\",\"ticks\":\"\"},\"radialaxis\":{\"gridcolor\":\"white\",\"linecolor\":\"white\",\"ticks\":\"\"}},\"ternary\":{\"bgcolor\":\"#E5ECF6\",\"aaxis\":{\"gridcolor\":\"white\",\"linecolor\":\"white\",\"ticks\":\"\"},\"baxis\":{\"gridcolor\":\"white\",\"linecolor\":\"white\",\"ticks\":\"\"},\"caxis\":{\"gridcolor\":\"white\",\"linecolor\":\"white\",\"ticks\":\"\"}},\"coloraxis\":{\"colorbar\":{\"outlinewidth\":0,\"ticks\":\"\"}},\"colorscale\":{\"sequential\":[[0.0,\"#0d0887\"],[0.1111111111111111,\"#46039f\"],[0.2222222222222222,\"#7201a8\"],[0.3333333333333333,\"#9c179e\"],[0.4444444444444444,\"#bd3786\"],[0.5555555555555556,\"#d8576b\"],[0.6666666666666666,\"#ed7953\"],[0.7777777777777778,\"#fb9f3a\"],[0.8888888888888888,\"#fdca26\"],[1.0,\"#f0f921\"]],\"sequentialminus\":[[0.0,\"#0d0887\"],[0.1111111111111111,\"#46039f\"],[0.2222222222222222,\"#7201a8\"],[0.3333333333333333,\"#9c179e\"],[0.4444444444444444,\"#bd3786\"],[0.5555555555555556,\"#d8576b\"],[0.6666666666666666,\"#ed7953\"],[0.7777777777777778,\"#fb9f3a\"],[0.8888888888888888,\"#fdca26\"],[1.0,\"#f0f921\"]],\"diverging\":[[0,\"#8e0152\"],[0.1,\"#c51b7d\"],[0.2,\"#de77ae\"],[0.3,\"#f1b6da\"],[0.4,\"#fde0ef\"],[0.5,\"#f7f7f7\"],[0.6,\"#e6f5d0\"],[0.7,\"#b8e186\"],[0.8,\"#7fbc41\"],[0.9,\"#4d9221\"],[1,\"#276419\"]]},\"xaxis\":{\"gridcolor\":\"white\",\"linecolor\":\"white\",\"ticks\":\"\",\"title\":{\"standoff\":15},\"zerolinecolor\":\"white\",\"automargin\":true,\"zerolinewidth\":2},\"yaxis\":{\"gridcolor\":\"white\",\"linecolor\":\"white\",\"ticks\":\"\",\"title\":{\"standoff\":15},\"zerolinecolor\":\"white\",\"automargin\":true,\"zerolinewidth\":2},\"scene\":{\"xaxis\":{\"backgroundcolor\":\"#E5ECF6\",\"gridcolor\":\"white\",\"linecolor\":\"white\",\"showbackground\":true,\"ticks\":\"\",\"zerolinecolor\":\"white\",\"gridwidth\":2},\"yaxis\":{\"backgroundcolor\":\"#E5ECF6\",\"gridcolor\":\"white\",\"linecolor\":\"white\",\"showbackground\":true,\"ticks\":\"\",\"zerolinecolor\":\"white\",\"gridwidth\":2},\"zaxis\":{\"backgroundcolor\":\"#E5ECF6\",\"gridcolor\":\"white\",\"linecolor\":\"white\",\"showbackground\":true,\"ticks\":\"\",\"zerolinecolor\":\"white\",\"gridwidth\":2}},\"shapedefaults\":{\"line\":{\"color\":\"#2a3f5f\"}},\"annotationdefaults\":{\"arrowcolor\":\"#2a3f5f\",\"arrowhead\":0,\"arrowwidth\":1},\"geo\":{\"bgcolor\":\"white\",\"landcolor\":\"#E5ECF6\",\"subunitcolor\":\"white\",\"showland\":true,\"showlakes\":true,\"lakecolor\":\"white\"},\"title\":{\"x\":0.05},\"mapbox\":{\"style\":\"light\"}}}},                        {\"responsive\": true}                    ).then(function(){\n",
       "                            \n",
       "var gd = document.getElementById('9e035d3a-5540-41f4-b82e-b8f3e1d1bdc8');\n",
       "var x = new MutationObserver(function (mutations, observer) {{\n",
       "        var display = window.getComputedStyle(gd).display;\n",
       "        if (!display || display === 'none') {{\n",
       "            console.log([gd, 'removed!']);\n",
       "            Plotly.purge(gd);\n",
       "            observer.disconnect();\n",
       "        }}\n",
       "}});\n",
       "\n",
       "// Listen for the removal of the full notebook cells\n",
       "var notebookContainer = gd.closest('#notebook-container');\n",
       "if (notebookContainer) {{\n",
       "    x.observe(notebookContainer, {childList: true});\n",
       "}}\n",
       "\n",
       "// Listen for the clearing of the current output cell\n",
       "var outputEl = gd.closest('.output');\n",
       "if (outputEl) {{\n",
       "    x.observe(outputEl, {childList: true});\n",
       "}}\n",
       "\n",
       "                        })                };                });            </script>        </div>"
      ]
     },
     "metadata": {},
     "output_type": "display_data"
    },
    {
     "data": {
      "image/png": "[encoded data removed]",
      "text/plain": [
       "<Figure size 600x600 with 1 Axes>"
      ]
     },
     "metadata": {},
     "output_type": "display_data"
    },
    {
     "data": {
      "image/png": "[encoded data removed]",
      "text/plain": [
       "<Figure size 600x600 with 1 Axes>"
      ]
     },
     "metadata": {},
     "output_type": "display_data"
    },
    {
     "name": "stdout",
     "output_type": "stream",
     "text": [
      "Finished\n"
     ]
    }
   ],
   "source": [
    "################### initialize Log lists ##########################\n",
    "\n",
    "last_auc_score_log = []\n",
    "last_balanced_acc_log = []\n",
    "\n",
    "last_tp_log = []\n",
    "last_fp_log = []\n",
    "last_tn_log = []\n",
    "last_fn_log = []\n",
    "\n",
    "best_auc_score_log = []\n",
    "best_balanced_acc_log = []\n",
    "\n",
    "best_tp_log = []\n",
    "best_fp_log = []\n",
    "best_tn_log = []\n",
    "best_fn_log = []\n",
    "\n",
    "################### set the model ##########################\n",
    "\n",
    "input_size = len(features)\n",
    "hidden_size = 256\n",
    "num_classes = 1\n",
    "batch_size = 32\n",
    "learning_rate = 0.001\n",
    "epochs = 101\n",
    "\n",
    "model = Net2(input_size, hidden_size, num_classes).to(device)\n",
    "net_name = \"Net2\"\n",
    "\n",
    "# Loss and optimizer\n",
    "    \n",
    "#criterion = nn.BCEWithLogitsLoss()\n",
    "criterion = nn.BCELoss()\n",
    "optimizer = torch.optim.Adam(model.parameters(), lr=learning_rate, weight_decay = 0.001)\n",
    "\n",
    "training_portion = df[:5001]\n",
    "valid_portion = df[5001:]\n",
    "\n",
    "train_dataset = MakeDataset(training_portion)\n",
    "valid_dataset = MakeDataset(valid_portion)\n",
    "    \n",
    "################### Set the directories ##########################\n",
    "\n",
    "if not os.path.exists(f\"{net_name}, plots for {hidden_size} hidden and {batch_size} batch\"):\n",
    "    os.mkdir(f\"{net_name}, plots for {hidden_size} hidden and {batch_size} batch\")\n",
    " \n",
    "   ################### Train the model ##########################\n",
    "  \n",
    "    \n",
    "# Custom made sampler instead of shuffle to get balanced batches\n",
    "train_loader = DataLoader(train_dataset, batch_size=batch_size,\n",
    "                            sampler=BalancedBatchSampler(train_dataset, train_dataset.y_train))\n",
    "valid_loader = DataLoader(valid_dataset, batch_size=batch_size,\n",
    "                            sampler=BalancedBatchSampler(valid_dataset, valid_dataset.y_train))\n",
    "test_loader = DataLoader(valid_dataset, batch_size=len(valid_portion), shuffle=False)\n",
    "    \n",
    "history = model_train_with_save(model, train_loader, valid_loader,\n",
    "                                        epochs, net_name=f\"{net_name}\", verbose=\"yes\")\n",
    "history = pd.DataFrame(history)\n",
    "    \n",
    "################### End of the model statistics ##########################\n",
    "\n",
    "last_auc_score, last_balanced_acc, last_tp, last_tn, last_fp, last_fn = model_test(model, test_loader)\n",
    "last_tpr = last_tp / (last_tp + last_fn)\n",
    "last_tnr = last_tn / (last_tn + last_fp)\n",
    "\n",
    "last_auc_score_log.append(last_auc_score)\n",
    "last_balanced_acc_log.append(last_balanced_acc)\n",
    "last_tp_log.append(last_tp)\n",
    "last_tn_log.append(last_tn)\n",
    "last_fp_log.append(last_fp)\n",
    "last_fn_log.append(last_fn)\n",
    "    \n",
    "print(\"Sensitivity(Last Model):\", last_tpr, \", Specificity(Last Model):\", last_tnr)\n",
    "print(\"Balanced Accuracy(Last Model):\", last_balanced_acc)\n",
    "print(\"AUROC Score(Last Model):\", last_auc_score)\n",
    "    \n",
    "print(\"------------------------------------------------------\")\n",
    "    \n",
    "################### Saved model statistics ##########################\n",
    "    \n",
    "saved_auc_score_log = []\n",
    "saved_balanced_acc_log = []\n",
    "y = 1\n",
    "epochs_list = [x for x in range(0, epochs, y)]\n",
    "    \n",
    "for epoch in epochs_list: \n",
    "        \n",
    "    model = Net2(input_size, hidden_size, num_classes)\n",
    "    model.load_state_dict(torch.load(f'model_weights_for_{net_name}_epoch_{epoch}.pt'))\n",
    "    \n",
    "    auc_score, balanced_acc, tp, tn, fp, fn = model_test(model, test_loader)\n",
    "    tpr = tp / (tp + fn)\n",
    "    tnr = tn / (tn + fp)\n",
    "    saved_auc_score_log.append(auc_score)\n",
    "    saved_balanced_acc_log.append(balanced_acc)\n",
    "    \n",
    "#print(\"Best epoch was at index:\", np.argmax(saved_balanced_acc_log))\n",
    "best_epoch = epochs_list[np.argmax(saved_auc_score_log)]\n",
    "print(\"Best epoch was:\", best_epoch)\n",
    "    \n",
    "model = Net2(input_size, hidden_size, num_classes)\n",
    "model.load_state_dict(torch.load(f'model_weights_for_{net_name}_epoch_{best_epoch}.pt'))\n",
    "    \n",
    "best_auc_score, best_balanced_acc, best_tp, best_tn, best_fp, best_fn = model_test(model, test_loader)\n",
    "best_tpr = best_tp / (best_tp + best_fn)\n",
    "best_tnr = best_tn / (best_tn + best_fp)\n",
    "    \n",
    "best_auc_score_log.append(best_auc_score)\n",
    "best_balanced_acc_log.append(best_balanced_acc)\n",
    "best_tp_log.append(best_tp)\n",
    "best_tn_log.append(best_tn)\n",
    "best_fp_log.append(best_fp)\n",
    "best_fn_log.append(best_fn)\n",
    "        \n",
    "print(\"Sensitivity(Best Model):\", best_tpr, \", Specificity(Best Model):\", best_tnr)\n",
    "print(\"Balanced Accuracy(Best Model):\", best_balanced_acc)\n",
    "print(\"AUROC Score(Best Model):\", best_auc_score)\n",
    "    \n",
    "    \n",
    "    \n",
    "################### Plots ##########################\n",
    "    \n",
    "    ################### Loss Curves ##########################\n",
    "    \n",
    "fig = px.line(history, x='epochs', y=['train_loss', 'valid_loss'])\n",
    "fig.update_layout(\n",
    "    title=f'training and Validation Loss Throughout the Model',\n",
    "    xaxis_title='Epochs',\n",
    "    yaxis_title='Loss',\n",
    "    legend_title='Loss Type'\n",
    ")\n",
    "fig.show() \n",
    "    \n",
    "    ################### Balanced and AUROC for epochs ##########################\n",
    "        \n",
    "trace1 = go.Scatter(\n",
    "x=epochs_list,\n",
    "y=saved_balanced_acc_log,\n",
    "mode='lines+markers'\n",
    ")\n",
    "\n",
    "layout1 = go.Layout(\n",
    "    title=f'Balanced Accuracy Throughout Epochs',\n",
    "    xaxis=dict(title='Epochs'),\n",
    "    yaxis=dict(title='Balanced Accuracy') #range=[0, 1]\n",
    ")\n",
    "\n",
    "fig1 = go.Figure(data=[trace1], layout=layout1)\n",
    "fig1.show()\n",
    "\n",
    "trace2 = go.Scatter(\n",
    "    x=epochs_list,\n",
    "    y=saved_auc_score_log,\n",
    "    mode='lines+markers'\n",
    ")\n",
    "\n",
    "layout2 = go.Layout(\n",
    "    title=f'AUC Score Throughout Epochs',\n",
    "    xaxis=dict(title='Epochs'),\n",
    "    yaxis=dict(title='AUROC') #range=[0, 1]\n",
    ")\n",
    "\n",
    "fig2 = go.Figure(data=[trace2], layout=layout2)\n",
    "fig2.show()\n",
    "\n",
    "################### Total Confusion Matrix ##########################\n",
    "        \n",
    "last_cf_matrix = pd.DataFrame([[last_tp, last_fp],\n",
    "            [last_fn, last_tn]], columns = ['Positive','Negative'], index = ['Positive','Negative'])\n",
    "sns.set (rc = {'figure.figsize':(6, 6)})\n",
    "plt.figure()\n",
    "    \n",
    "sns.heatmap(last_cf_matrix, annot=True, cmap='Blues', cbar=False, fmt='g')\n",
    "    \n",
    "plt.tick_params(axis='both', which='major', labelsize=20, labelbottom = False, bottom=False, top = False, labeltop=True)\n",
    "plt.title('Actual')\n",
    "plt.ylabel('Predicted')\n",
    "plt.xlabel(f'(Last) Confusion Matrix')\n",
    "\n",
    "last_cf = f\"{net_name}, plots for {hidden_size} hidden and {batch_size} batch/last_confusion_matrix.png\"\n",
    "plt.savefig(last_cf)\n",
    "    \n",
    "plt.show()\n",
    "    \n",
    "    \n",
    "    \n",
    "    ################### Best Confusion Matrix ##########################\n",
    "    \n",
    "best_cf_matrix = pd.DataFrame([[best_tp, best_fp],\n",
    "                [best_fn, best_tn]], columns = ['Positive','Negative'], index = ['Positive','Negative'])\n",
    "sns.set (rc = {'figure.figsize':(6, 6)})\n",
    "plt.figure()\n",
    "    \n",
    "sns.heatmap(best_cf_matrix, annot=True, cmap='Blues', cbar=False, fmt='g')\n",
    "    \n",
    "plt.tick_params(axis='both', which='major', labelsize=20, labelbottom = False, bottom=False, top = False, labeltop=True)\n",
    "plt.title('Actual')\n",
    "plt.ylabel('Predicted')\n",
    "plt.xlabel(f'(Best) Confusion Matrix')\n",
    "    \n",
    "best_cf = f\"{net_name}, plots for {hidden_size} hidden and {batch_size} batch/best_confusion_matrix.png\"\n",
    "plt.savefig(best_cf)\n",
    "    \n",
    "plt.show()\n",
    "        \n",
    "    ################### Save Plots  ##########################\n",
    "    \n",
    "fig.write_image(f\"{net_name}, plots for {hidden_size} hidden and {batch_size} batch/hidden size {hidden_size} and batch size {batch_size}.png\", engine='orca')\n",
    "fig1.write_image(f\"{net_name}, plots for {hidden_size} hidden and {batch_size} batch/batch and hidden {batch_size}, {hidden_size}; balanced_accuracy.png\", engine='orca')\n",
    "fig2.write_image(f\"{net_name}, plots for {hidden_size} hidden and {batch_size} batch/batch and hidden {batch_size}, {hidden_size}; auroc.png\", engine='orca')\n",
    "    \n",
    "print(\"Finished\")"
   ]
  },
  {
   "cell_type": "code",
   "execution_count": 26,
   "id": "97dadb1c",
   "metadata": {},
   "outputs": [
    {
     "data": {
      "text/html": [
       "<div>\n",
       "<style scoped>\n",
       "    .dataframe tbody tr th:only-of-type {\n",
       "        vertical-align: middle;\n",
       "    }\n",
       "\n",
       "    .dataframe tbody tr th {\n",
       "        vertical-align: top;\n",
       "    }\n",
       "\n",
       "    .dataframe thead th {\n",
       "        text-align: right;\n",
       "    }\n",
       "</style>\n",
       "<table border=\"1\" class=\"dataframe\">\n",
       "  <thead>\n",
       "    <tr style=\"text-align: right;\">\n",
       "      <th></th>\n",
       "      <th>gender</th>\n",
       "      <th>age</th>\n",
       "      <th>hypertension</th>\n",
       "      <th>heart_disease</th>\n",
       "      <th>ever_married</th>\n",
       "      <th>Residence_type</th>\n",
       "      <th>avg_glucose_level</th>\n",
       "      <th>bmi</th>\n",
       "      <th>work_type_Govt_job</th>\n",
       "      <th>work_type_Never_worked</th>\n",
       "      <th>work_type_Private</th>\n",
       "      <th>work_type_Self-employed</th>\n",
       "      <th>work_type_children</th>\n",
       "      <th>smoking_status_Unknown</th>\n",
       "      <th>smoking_status_formerly smoked</th>\n",
       "      <th>smoking_status_never smoked</th>\n",
       "      <th>smoking_status_smokes</th>\n",
       "    </tr>\n",
       "    <tr>\n",
       "      <th>id</th>\n",
       "      <th></th>\n",
       "      <th></th>\n",
       "      <th></th>\n",
       "      <th></th>\n",
       "      <th></th>\n",
       "      <th></th>\n",
       "      <th></th>\n",
       "      <th></th>\n",
       "      <th></th>\n",
       "      <th></th>\n",
       "      <th></th>\n",
       "      <th></th>\n",
       "      <th></th>\n",
       "      <th></th>\n",
       "      <th></th>\n",
       "      <th></th>\n",
       "      <th></th>\n",
       "    </tr>\n",
       "  </thead>\n",
       "  <tbody>\n",
       "    <tr>\n",
       "      <th>15304</th>\n",
       "      <td>1</td>\n",
       "      <td>0.609101</td>\n",
       "      <td>0</td>\n",
       "      <td>0</td>\n",
       "      <td>0</td>\n",
       "      <td>1</td>\n",
       "      <td>-0.521330</td>\n",
       "      <td>0.585445</td>\n",
       "      <td>0</td>\n",
       "      <td>0</td>\n",
       "      <td>1</td>\n",
       "      <td>0</td>\n",
       "      <td>0</td>\n",
       "      <td>1</td>\n",
       "      <td>0</td>\n",
       "      <td>0</td>\n",
       "      <td>0</td>\n",
       "    </tr>\n",
       "    <tr>\n",
       "      <th>15305</th>\n",
       "      <td>0</td>\n",
       "      <td>1.184001</td>\n",
       "      <td>1</td>\n",
       "      <td>0</td>\n",
       "      <td>0</td>\n",
       "      <td>0</td>\n",
       "      <td>-0.752761</td>\n",
       "      <td>-0.051083</td>\n",
       "      <td>0</td>\n",
       "      <td>0</td>\n",
       "      <td>1</td>\n",
       "      <td>0</td>\n",
       "      <td>0</td>\n",
       "      <td>1</td>\n",
       "      <td>0</td>\n",
       "      <td>0</td>\n",
       "      <td>0</td>\n",
       "    </tr>\n",
       "    <tr>\n",
       "      <th>15306</th>\n",
       "      <td>1</td>\n",
       "      <td>-1.690497</td>\n",
       "      <td>0</td>\n",
       "      <td>0</td>\n",
       "      <td>1</td>\n",
       "      <td>0</td>\n",
       "      <td>-0.053611</td>\n",
       "      <td>-1.220215</td>\n",
       "      <td>0</td>\n",
       "      <td>0</td>\n",
       "      <td>0</td>\n",
       "      <td>0</td>\n",
       "      <td>1</td>\n",
       "      <td>1</td>\n",
       "      <td>0</td>\n",
       "      <td>0</td>\n",
       "      <td>0</td>\n",
       "    </tr>\n",
       "    <tr>\n",
       "      <th>15307</th>\n",
       "      <td>1</td>\n",
       "      <td>0.564878</td>\n",
       "      <td>0</td>\n",
       "      <td>0</td>\n",
       "      <td>0</td>\n",
       "      <td>0</td>\n",
       "      <td>-0.815035</td>\n",
       "      <td>1.624673</td>\n",
       "      <td>1</td>\n",
       "      <td>0</td>\n",
       "      <td>0</td>\n",
       "      <td>0</td>\n",
       "      <td>0</td>\n",
       "      <td>0</td>\n",
       "      <td>0</td>\n",
       "      <td>0</td>\n",
       "      <td>1</td>\n",
       "    </tr>\n",
       "    <tr>\n",
       "      <th>15308</th>\n",
       "      <td>0</td>\n",
       "      <td>-0.496475</td>\n",
       "      <td>0</td>\n",
       "      <td>0</td>\n",
       "      <td>0</td>\n",
       "      <td>1</td>\n",
       "      <td>0.110467</td>\n",
       "      <td>0.156763</td>\n",
       "      <td>0</td>\n",
       "      <td>0</td>\n",
       "      <td>1</td>\n",
       "      <td>0</td>\n",
       "      <td>0</td>\n",
       "      <td>0</td>\n",
       "      <td>0</td>\n",
       "      <td>0</td>\n",
       "      <td>1</td>\n",
       "    </tr>\n",
       "  </tbody>\n",
       "</table>\n",
       "</div>"
      ],
      "text/plain": [
       "       gender       age  hypertension  heart_disease  ever_married  \\\n",
       "id                                                                   \n",
       "15304       1  0.609101             0              0             0   \n",
       "15305       0  1.184001             1              0             0   \n",
       "15306       1 -1.690497             0              0             1   \n",
       "15307       1  0.564878             0              0             0   \n",
       "15308       0 -0.496475             0              0             0   \n",
       "\n",
       "       Residence_type  avg_glucose_level       bmi  work_type_Govt_job  \\\n",
       "id                                                                       \n",
       "15304               1          -0.521330  0.585445                   0   \n",
       "15305               0          -0.752761 -0.051083                   0   \n",
       "15306               0          -0.053611 -1.220215                   0   \n",
       "15307               0          -0.815035  1.624673                   1   \n",
       "15308               1           0.110467  0.156763                   0   \n",
       "\n",
       "       work_type_Never_worked  work_type_Private  work_type_Self-employed  \\\n",
       "id                                                                          \n",
       "15304                       0                  1                        0   \n",
       "15305                       0                  1                        0   \n",
       "15306                       0                  0                        0   \n",
       "15307                       0                  0                        0   \n",
       "15308                       0                  1                        0   \n",
       "\n",
       "       work_type_children  smoking_status_Unknown  \\\n",
       "id                                                  \n",
       "15304                   0                       1   \n",
       "15305                   0                       1   \n",
       "15306                   1                       1   \n",
       "15307                   0                       0   \n",
       "15308                   0                       0   \n",
       "\n",
       "       smoking_status_formerly smoked  smoking_status_never smoked  \\\n",
       "id                                                                   \n",
       "15304                               0                            0   \n",
       "15305                               0                            0   \n",
       "15306                               0                            0   \n",
       "15307                               0                            0   \n",
       "15308                               0                            0   \n",
       "\n",
       "       smoking_status_smokes  \n",
       "id                            \n",
       "15304                      0  \n",
       "15305                      0  \n",
       "15306                      0  \n",
       "15307                      1  \n",
       "15308                      1  "
      ]
     },
     "execution_count": 26,
     "metadata": {},
     "output_type": "execute_result"
    }
   ],
   "source": [
    "df_test.head()"
   ]
  },
  {
   "cell_type": "code",
   "execution_count": 27,
   "id": "8b530795",
   "metadata": {},
   "outputs": [
    {
     "name": "stdout",
     "output_type": "stream",
     "text": [
      "[[ 1.          0.60910099  0.         ...  0.          0.\n",
      "   0.        ]\n",
      " [ 0.          1.18400052  1.         ...  0.          0.\n",
      "   0.        ]\n",
      " [ 1.         -1.69049713  0.         ...  0.          0.\n",
      "   0.        ]\n",
      " ...\n",
      " [ 1.         -1.77894322  0.         ...  0.          0.\n",
      "   0.        ]\n",
      " [ 0.         -0.54069807  0.         ...  0.          1.\n",
      "   0.        ]\n",
      " [ 1.         -1.82316626  0.         ...  0.          0.\n",
      "   0.        ]]\n",
      "tensor([[ 1.0000,  0.6091,  0.0000,  ...,  0.0000,  0.0000,  0.0000],\n",
      "        [ 0.0000,  1.1840,  1.0000,  ...,  0.0000,  0.0000,  0.0000],\n",
      "        [ 1.0000, -1.6905,  0.0000,  ...,  0.0000,  0.0000,  0.0000],\n",
      "        ...,\n",
      "        [ 1.0000, -1.7789,  0.0000,  ...,  0.0000,  0.0000,  0.0000],\n",
      "        [ 0.0000, -0.5407,  0.0000,  ...,  0.0000,  1.0000,  0.0000],\n",
      "        [ 1.0000, -1.8232,  0.0000,  ...,  0.0000,  0.0000,  0.0000]])\n"
     ]
    }
   ],
   "source": [
    "input_data = df_test.values\n",
    "print(input_data)\n",
    "input_tensor = torch.tensor(input_data, dtype=torch.float32)\n",
    "print(input_tensor)"
   ]
  },
  {
   "cell_type": "code",
   "execution_count": 91,
   "id": "46e803db",
   "metadata": {},
   "outputs": [
    {
     "data": {
      "text/plain": [
       "<All keys matched successfully>"
      ]
     },
     "execution_count": 91,
     "metadata": {},
     "output_type": "execute_result"
    }
   ],
   "source": [
    "model = Net2(input_size, hidden_size, num_classes)\n",
    "model.load_state_dict(torch.load(f'model_weights_for_{net_name}_epoch_{best_epoch}.pt'))"
   ]
  },
  {
   "cell_type": "code",
   "execution_count": 92,
   "id": "03e8e8cd",
   "metadata": {},
   "outputs": [
    {
     "name": "stdout",
     "output_type": "stream",
     "text": [
      "tensor([[0.3887],\n",
      "        [0.7036],\n",
      "        [0.0521],\n",
      "        ...,\n",
      "        [0.0189],\n",
      "        [0.0405],\n",
      "        [0.0145]])\n",
      "torch.Size([10204, 1])\n"
     ]
    }
   ],
   "source": [
    "with torch.no_grad():\n",
    "    model.eval()\n",
    "    outputs = model(input_tensor)\n",
    "    print(outputs)\n",
    "    print(outputs.shape)"
   ]
  },
  {
   "cell_type": "code",
   "execution_count": 96,
   "id": "f1297a04",
   "metadata": {},
   "outputs": [
    {
     "name": "stdout",
     "output_type": "stream",
     "text": [
      "10204\n"
     ]
    }
   ],
   "source": [
    "sub_file = open(\"subTwoLayersOriginalSet.csv\", \"w\")\n",
    "\n",
    "ID = 15304\n",
    "run = 0\n",
    "\n",
    "sub_file.write(\"id,stroke\\n\")\n",
    "for output in outputs:\n",
    "    sub_file.write(f\"{ID},{output.item()}\\n\")\n",
    "    ID += 1\n",
    "    run +=1\n",
    "    \n",
    "print(run)"
   ]
  },
  {
   "cell_type": "code",
   "execution_count": null,
   "id": "6b092320",
   "metadata": {},
   "outputs": [],
   "source": []
  },
  {
   "cell_type": "code",
   "execution_count": null,
   "id": "7b127b20",
   "metadata": {},
   "outputs": [],
   "source": []
  }
 ],
 "metadata": {
  "kernelspec": {
   "display_name": "Python 3 (ipykernel)",
   "language": "python",
   "name": "python3"
  },
  "language_info": {
   "codemirror_mode": {
    "name": "ipython",
    "version": 3
   },
   "file_extension": ".py",
   "mimetype": "text/x-python",
   "name": "python",
   "nbconvert_exporter": "python",
   "pygments_lexer": "ipython3",
   "version": "3.9.13"
  }
 },
 "nbformat": 4,
 "nbformat_minor": 5
}
