{
 "cells": [
  {
   "cell_type": "code",
   "execution_count": 1,
   "id": "433413d0",
   "metadata": {},
   "outputs": [],
   "source": [
    "import os\n",
    "\n",
    "#Data Manipulation\n",
    "import pandas as pd\n",
    "import numpy as np\n",
    "\n",
    "#Data Visualization\n",
    "pd.plotting.register_matplotlib_converters()\n",
    "import matplotlib.pyplot as plt\n",
    "import plotly.express as px\n",
    "import plotly.io as pio\n",
    "import plotly.graph_objs as go\n",
    "\n",
    "#import mpld3\n",
    "#%matplotlib inline\n",
    "#%matplotlib widget\n",
    "#matplotlib notebook\n",
    "\n",
    "import seaborn as sns"
   ]
  },
  {
   "cell_type": "code",
   "execution_count": 2,
   "id": "a1b4926f",
   "metadata": {},
   "outputs": [
    {
     "name": "stdout",
     "output_type": "stream",
     "text": [
      "Normal dataset unique columns: ['gender', 'age', 'hypertension', 'heart_disease', 'ever_married', 'work_type', 'Residence_type', 'avg_glucose_level', 'bmi', 'smoking_status', 'stroke']\n",
      "Normal dataset number of rows and columns: (5110, 11)\n",
      "----------------------------------------------------------------------------\n",
      "Synthetic dataset unique columns: ['gender', 'age', 'hypertension', 'heart_disease', 'ever_married', 'work_type', 'Residence_type', 'avg_glucose_level', 'bmi', 'smoking_status', 'stroke']\n",
      "Synthetic dataset number of rows and columns: (15304, 11)\n"
     ]
    }
   ],
   "source": [
    "df_norm = pd.read_csv(\"healthcare-dataset-stroke-data.csv\", index_col=\"id\")\n",
    "df_synt = pd.read_csv(\"synthetic_train.csv\", index_col=\"id\")\n",
    "\n",
    "pd.set_option('display.max_columns', None)\n",
    "\n",
    "print(f\"Normal dataset unique columns: {list(df_norm.columns)}\")\n",
    "print(f\"Normal dataset number of rows and columns: {df_norm.shape}\")\n",
    "print(\"----------------------------------------------------------------------------\")\n",
    "print(f\"Synthetic dataset unique columns: {list(df_synt.columns)}\")\n",
    "print(f\"Synthetic dataset number of rows and columns: {df_synt.shape}\")"
   ]
  },
  {
   "cell_type": "markdown",
   "id": "5ad67c0f",
   "metadata": {},
   "source": [
    "# Training Data"
   ]
  },
  {
   "cell_type": "code",
   "execution_count": 3,
   "id": "e5085c27",
   "metadata": {},
   "outputs": [],
   "source": [
    "df_total = pd.concat([df_norm, df_synt])"
   ]
  },
  {
   "cell_type": "code",
   "execution_count": 4,
   "id": "5b03216c",
   "metadata": {},
   "outputs": [
    {
     "name": "stdout",
     "output_type": "stream",
     "text": [
      "(20414, 11)\n"
     ]
    },
    {
     "data": {
      "text/html": [
       "<div>\n",
       "<style scoped>\n",
       "    .dataframe tbody tr th:only-of-type {\n",
       "        vertical-align: middle;\n",
       "    }\n",
       "\n",
       "    .dataframe tbody tr th {\n",
       "        vertical-align: top;\n",
       "    }\n",
       "\n",
       "    .dataframe thead th {\n",
       "        text-align: right;\n",
       "    }\n",
       "</style>\n",
       "<table border=\"1\" class=\"dataframe\">\n",
       "  <thead>\n",
       "    <tr style=\"text-align: right;\">\n",
       "      <th></th>\n",
       "      <th>gender</th>\n",
       "      <th>age</th>\n",
       "      <th>hypertension</th>\n",
       "      <th>heart_disease</th>\n",
       "      <th>ever_married</th>\n",
       "      <th>work_type</th>\n",
       "      <th>Residence_type</th>\n",
       "      <th>avg_glucose_level</th>\n",
       "      <th>bmi</th>\n",
       "      <th>smoking_status</th>\n",
       "      <th>stroke</th>\n",
       "    </tr>\n",
       "    <tr>\n",
       "      <th>id</th>\n",
       "      <th></th>\n",
       "      <th></th>\n",
       "      <th></th>\n",
       "      <th></th>\n",
       "      <th></th>\n",
       "      <th></th>\n",
       "      <th></th>\n",
       "      <th></th>\n",
       "      <th></th>\n",
       "      <th></th>\n",
       "      <th></th>\n",
       "    </tr>\n",
       "  </thead>\n",
       "  <tbody>\n",
       "    <tr>\n",
       "      <th>9046</th>\n",
       "      <td>Male</td>\n",
       "      <td>67.0</td>\n",
       "      <td>0</td>\n",
       "      <td>1</td>\n",
       "      <td>Yes</td>\n",
       "      <td>Private</td>\n",
       "      <td>Urban</td>\n",
       "      <td>228.69</td>\n",
       "      <td>36.6</td>\n",
       "      <td>formerly smoked</td>\n",
       "      <td>1</td>\n",
       "    </tr>\n",
       "    <tr>\n",
       "      <th>51676</th>\n",
       "      <td>Female</td>\n",
       "      <td>61.0</td>\n",
       "      <td>0</td>\n",
       "      <td>0</td>\n",
       "      <td>Yes</td>\n",
       "      <td>Self-employed</td>\n",
       "      <td>Rural</td>\n",
       "      <td>202.21</td>\n",
       "      <td>NaN</td>\n",
       "      <td>never smoked</td>\n",
       "      <td>1</td>\n",
       "    </tr>\n",
       "    <tr>\n",
       "      <th>31112</th>\n",
       "      <td>Male</td>\n",
       "      <td>80.0</td>\n",
       "      <td>0</td>\n",
       "      <td>1</td>\n",
       "      <td>Yes</td>\n",
       "      <td>Private</td>\n",
       "      <td>Rural</td>\n",
       "      <td>105.92</td>\n",
       "      <td>32.5</td>\n",
       "      <td>never smoked</td>\n",
       "      <td>1</td>\n",
       "    </tr>\n",
       "    <tr>\n",
       "      <th>60182</th>\n",
       "      <td>Female</td>\n",
       "      <td>49.0</td>\n",
       "      <td>0</td>\n",
       "      <td>0</td>\n",
       "      <td>Yes</td>\n",
       "      <td>Private</td>\n",
       "      <td>Urban</td>\n",
       "      <td>171.23</td>\n",
       "      <td>34.4</td>\n",
       "      <td>smokes</td>\n",
       "      <td>1</td>\n",
       "    </tr>\n",
       "    <tr>\n",
       "      <th>1665</th>\n",
       "      <td>Female</td>\n",
       "      <td>79.0</td>\n",
       "      <td>1</td>\n",
       "      <td>0</td>\n",
       "      <td>Yes</td>\n",
       "      <td>Self-employed</td>\n",
       "      <td>Rural</td>\n",
       "      <td>174.12</td>\n",
       "      <td>24.0</td>\n",
       "      <td>never smoked</td>\n",
       "      <td>1</td>\n",
       "    </tr>\n",
       "    <tr>\n",
       "      <th>...</th>\n",
       "      <td>...</td>\n",
       "      <td>...</td>\n",
       "      <td>...</td>\n",
       "      <td>...</td>\n",
       "      <td>...</td>\n",
       "      <td>...</td>\n",
       "      <td>...</td>\n",
       "      <td>...</td>\n",
       "      <td>...</td>\n",
       "      <td>...</td>\n",
       "      <td>...</td>\n",
       "    </tr>\n",
       "    <tr>\n",
       "      <th>15299</th>\n",
       "      <td>Female</td>\n",
       "      <td>22.0</td>\n",
       "      <td>0</td>\n",
       "      <td>0</td>\n",
       "      <td>No</td>\n",
       "      <td>Govt_job</td>\n",
       "      <td>Urban</td>\n",
       "      <td>72.63</td>\n",
       "      <td>19.5</td>\n",
       "      <td>never smoked</td>\n",
       "      <td>0</td>\n",
       "    </tr>\n",
       "    <tr>\n",
       "      <th>15300</th>\n",
       "      <td>Female</td>\n",
       "      <td>46.0</td>\n",
       "      <td>1</td>\n",
       "      <td>0</td>\n",
       "      <td>Yes</td>\n",
       "      <td>Private</td>\n",
       "      <td>Urban</td>\n",
       "      <td>101.19</td>\n",
       "      <td>32.1</td>\n",
       "      <td>never smoked</td>\n",
       "      <td>0</td>\n",
       "    </tr>\n",
       "    <tr>\n",
       "      <th>15301</th>\n",
       "      <td>Female</td>\n",
       "      <td>75.0</td>\n",
       "      <td>0</td>\n",
       "      <td>0</td>\n",
       "      <td>Yes</td>\n",
       "      <td>Self-employed</td>\n",
       "      <td>Urban</td>\n",
       "      <td>87.69</td>\n",
       "      <td>26.2</td>\n",
       "      <td>never smoked</td>\n",
       "      <td>0</td>\n",
       "    </tr>\n",
       "    <tr>\n",
       "      <th>15302</th>\n",
       "      <td>Male</td>\n",
       "      <td>46.0</td>\n",
       "      <td>0</td>\n",
       "      <td>0</td>\n",
       "      <td>Yes</td>\n",
       "      <td>Private</td>\n",
       "      <td>Rural</td>\n",
       "      <td>101.13</td>\n",
       "      <td>22.5</td>\n",
       "      <td>Unknown</td>\n",
       "      <td>0</td>\n",
       "    </tr>\n",
       "    <tr>\n",
       "      <th>15303</th>\n",
       "      <td>Female</td>\n",
       "      <td>14.0</td>\n",
       "      <td>0</td>\n",
       "      <td>0</td>\n",
       "      <td>No</td>\n",
       "      <td>Private</td>\n",
       "      <td>Rural</td>\n",
       "      <td>85.12</td>\n",
       "      <td>24.7</td>\n",
       "      <td>never smoked</td>\n",
       "      <td>0</td>\n",
       "    </tr>\n",
       "  </tbody>\n",
       "</table>\n",
       "<p>20414 rows × 11 columns</p>\n",
       "</div>"
      ],
      "text/plain": [
       "       gender   age  hypertension  heart_disease ever_married      work_type  \\\n",
       "id                                                                             \n",
       "9046     Male  67.0             0              1          Yes        Private   \n",
       "51676  Female  61.0             0              0          Yes  Self-employed   \n",
       "31112    Male  80.0             0              1          Yes        Private   \n",
       "60182  Female  49.0             0              0          Yes        Private   \n",
       "1665   Female  79.0             1              0          Yes  Self-employed   \n",
       "...       ...   ...           ...            ...          ...            ...   \n",
       "15299  Female  22.0             0              0           No       Govt_job   \n",
       "15300  Female  46.0             1              0          Yes        Private   \n",
       "15301  Female  75.0             0              0          Yes  Self-employed   \n",
       "15302    Male  46.0             0              0          Yes        Private   \n",
       "15303  Female  14.0             0              0           No        Private   \n",
       "\n",
       "      Residence_type  avg_glucose_level   bmi   smoking_status  stroke  \n",
       "id                                                                      \n",
       "9046           Urban             228.69  36.6  formerly smoked       1  \n",
       "51676          Rural             202.21   NaN     never smoked       1  \n",
       "31112          Rural             105.92  32.5     never smoked       1  \n",
       "60182          Urban             171.23  34.4           smokes       1  \n",
       "1665           Rural             174.12  24.0     never smoked       1  \n",
       "...              ...                ...   ...              ...     ...  \n",
       "15299          Urban              72.63  19.5     never smoked       0  \n",
       "15300          Urban             101.19  32.1     never smoked       0  \n",
       "15301          Urban              87.69  26.2     never smoked       0  \n",
       "15302          Rural             101.13  22.5          Unknown       0  \n",
       "15303          Rural              85.12  24.7     never smoked       0  \n",
       "\n",
       "[20414 rows x 11 columns]"
      ]
     },
     "execution_count": 4,
     "metadata": {},
     "output_type": "execute_result"
    }
   ],
   "source": [
    "print(df_total.shape)\n",
    "df_total"
   ]
  },
  {
   "cell_type": "code",
   "execution_count": 5,
   "id": "24f10dc2",
   "metadata": {},
   "outputs": [
    {
     "data": {
      "text/plain": [
       "gender                 0\n",
       "age                    0\n",
       "hypertension           0\n",
       "heart_disease          0\n",
       "ever_married           0\n",
       "work_type              0\n",
       "Residence_type         0\n",
       "avg_glucose_level      0\n",
       "bmi                  201\n",
       "smoking_status         0\n",
       "stroke                 0\n",
       "dtype: int64"
      ]
     },
     "execution_count": 5,
     "metadata": {},
     "output_type": "execute_result"
    }
   ],
   "source": [
    "df_total.isnull().sum()"
   ]
  },
  {
   "cell_type": "code",
   "execution_count": 6,
   "id": "d7e68af7",
   "metadata": {},
   "outputs": [],
   "source": [
    "df_total.loc[df_total.bmi.isnull(), \"bmi\"] = df_total.bmi.mean() "
   ]
  },
  {
   "cell_type": "code",
   "execution_count": 7,
   "id": "4da22853",
   "metadata": {},
   "outputs": [
    {
     "data": {
      "text/html": [
       "<div>\n",
       "<style scoped>\n",
       "    .dataframe tbody tr th:only-of-type {\n",
       "        vertical-align: middle;\n",
       "    }\n",
       "\n",
       "    .dataframe tbody tr th {\n",
       "        vertical-align: top;\n",
       "    }\n",
       "\n",
       "    .dataframe thead th {\n",
       "        text-align: right;\n",
       "    }\n",
       "</style>\n",
       "<table border=\"1\" class=\"dataframe\">\n",
       "  <thead>\n",
       "    <tr style=\"text-align: right;\">\n",
       "      <th></th>\n",
       "      <th>gender</th>\n",
       "      <th>age</th>\n",
       "      <th>hypertension</th>\n",
       "      <th>heart_disease</th>\n",
       "      <th>ever_married</th>\n",
       "      <th>work_type</th>\n",
       "      <th>Residence_type</th>\n",
       "      <th>avg_glucose_level</th>\n",
       "      <th>bmi</th>\n",
       "      <th>smoking_status</th>\n",
       "      <th>stroke</th>\n",
       "    </tr>\n",
       "    <tr>\n",
       "      <th>id</th>\n",
       "      <th></th>\n",
       "      <th></th>\n",
       "      <th></th>\n",
       "      <th></th>\n",
       "      <th></th>\n",
       "      <th></th>\n",
       "      <th></th>\n",
       "      <th></th>\n",
       "      <th></th>\n",
       "      <th></th>\n",
       "      <th></th>\n",
       "    </tr>\n",
       "  </thead>\n",
       "  <tbody>\n",
       "    <tr>\n",
       "      <th>9046</th>\n",
       "      <td>Male</td>\n",
       "      <td>67.0</td>\n",
       "      <td>0</td>\n",
       "      <td>1</td>\n",
       "      <td>Yes</td>\n",
       "      <td>Private</td>\n",
       "      <td>Urban</td>\n",
       "      <td>228.69</td>\n",
       "      <td>36.60000</td>\n",
       "      <td>formerly smoked</td>\n",
       "      <td>1</td>\n",
       "    </tr>\n",
       "    <tr>\n",
       "      <th>51676</th>\n",
       "      <td>Female</td>\n",
       "      <td>61.0</td>\n",
       "      <td>0</td>\n",
       "      <td>0</td>\n",
       "      <td>Yes</td>\n",
       "      <td>Self-employed</td>\n",
       "      <td>Rural</td>\n",
       "      <td>202.21</td>\n",
       "      <td>28.30228</td>\n",
       "      <td>never smoked</td>\n",
       "      <td>1</td>\n",
       "    </tr>\n",
       "    <tr>\n",
       "      <th>31112</th>\n",
       "      <td>Male</td>\n",
       "      <td>80.0</td>\n",
       "      <td>0</td>\n",
       "      <td>1</td>\n",
       "      <td>Yes</td>\n",
       "      <td>Private</td>\n",
       "      <td>Rural</td>\n",
       "      <td>105.92</td>\n",
       "      <td>32.50000</td>\n",
       "      <td>never smoked</td>\n",
       "      <td>1</td>\n",
       "    </tr>\n",
       "    <tr>\n",
       "      <th>60182</th>\n",
       "      <td>Female</td>\n",
       "      <td>49.0</td>\n",
       "      <td>0</td>\n",
       "      <td>0</td>\n",
       "      <td>Yes</td>\n",
       "      <td>Private</td>\n",
       "      <td>Urban</td>\n",
       "      <td>171.23</td>\n",
       "      <td>34.40000</td>\n",
       "      <td>smokes</td>\n",
       "      <td>1</td>\n",
       "    </tr>\n",
       "    <tr>\n",
       "      <th>1665</th>\n",
       "      <td>Female</td>\n",
       "      <td>79.0</td>\n",
       "      <td>1</td>\n",
       "      <td>0</td>\n",
       "      <td>Yes</td>\n",
       "      <td>Self-employed</td>\n",
       "      <td>Rural</td>\n",
       "      <td>174.12</td>\n",
       "      <td>24.00000</td>\n",
       "      <td>never smoked</td>\n",
       "      <td>1</td>\n",
       "    </tr>\n",
       "    <tr>\n",
       "      <th>...</th>\n",
       "      <td>...</td>\n",
       "      <td>...</td>\n",
       "      <td>...</td>\n",
       "      <td>...</td>\n",
       "      <td>...</td>\n",
       "      <td>...</td>\n",
       "      <td>...</td>\n",
       "      <td>...</td>\n",
       "      <td>...</td>\n",
       "      <td>...</td>\n",
       "      <td>...</td>\n",
       "    </tr>\n",
       "    <tr>\n",
       "      <th>15299</th>\n",
       "      <td>Female</td>\n",
       "      <td>22.0</td>\n",
       "      <td>0</td>\n",
       "      <td>0</td>\n",
       "      <td>No</td>\n",
       "      <td>Govt_job</td>\n",
       "      <td>Urban</td>\n",
       "      <td>72.63</td>\n",
       "      <td>19.50000</td>\n",
       "      <td>never smoked</td>\n",
       "      <td>0</td>\n",
       "    </tr>\n",
       "    <tr>\n",
       "      <th>15300</th>\n",
       "      <td>Female</td>\n",
       "      <td>46.0</td>\n",
       "      <td>1</td>\n",
       "      <td>0</td>\n",
       "      <td>Yes</td>\n",
       "      <td>Private</td>\n",
       "      <td>Urban</td>\n",
       "      <td>101.19</td>\n",
       "      <td>32.10000</td>\n",
       "      <td>never smoked</td>\n",
       "      <td>0</td>\n",
       "    </tr>\n",
       "    <tr>\n",
       "      <th>15301</th>\n",
       "      <td>Female</td>\n",
       "      <td>75.0</td>\n",
       "      <td>0</td>\n",
       "      <td>0</td>\n",
       "      <td>Yes</td>\n",
       "      <td>Self-employed</td>\n",
       "      <td>Urban</td>\n",
       "      <td>87.69</td>\n",
       "      <td>26.20000</td>\n",
       "      <td>never smoked</td>\n",
       "      <td>0</td>\n",
       "    </tr>\n",
       "    <tr>\n",
       "      <th>15302</th>\n",
       "      <td>Male</td>\n",
       "      <td>46.0</td>\n",
       "      <td>0</td>\n",
       "      <td>0</td>\n",
       "      <td>Yes</td>\n",
       "      <td>Private</td>\n",
       "      <td>Rural</td>\n",
       "      <td>101.13</td>\n",
       "      <td>22.50000</td>\n",
       "      <td>Unknown</td>\n",
       "      <td>0</td>\n",
       "    </tr>\n",
       "    <tr>\n",
       "      <th>15303</th>\n",
       "      <td>Female</td>\n",
       "      <td>14.0</td>\n",
       "      <td>0</td>\n",
       "      <td>0</td>\n",
       "      <td>No</td>\n",
       "      <td>Private</td>\n",
       "      <td>Rural</td>\n",
       "      <td>85.12</td>\n",
       "      <td>24.70000</td>\n",
       "      <td>never smoked</td>\n",
       "      <td>0</td>\n",
       "    </tr>\n",
       "  </tbody>\n",
       "</table>\n",
       "<p>20414 rows × 11 columns</p>\n",
       "</div>"
      ],
      "text/plain": [
       "       gender   age  hypertension  heart_disease ever_married      work_type  \\\n",
       "id                                                                             \n",
       "9046     Male  67.0             0              1          Yes        Private   \n",
       "51676  Female  61.0             0              0          Yes  Self-employed   \n",
       "31112    Male  80.0             0              1          Yes        Private   \n",
       "60182  Female  49.0             0              0          Yes        Private   \n",
       "1665   Female  79.0             1              0          Yes  Self-employed   \n",
       "...       ...   ...           ...            ...          ...            ...   \n",
       "15299  Female  22.0             0              0           No       Govt_job   \n",
       "15300  Female  46.0             1              0          Yes        Private   \n",
       "15301  Female  75.0             0              0          Yes  Self-employed   \n",
       "15302    Male  46.0             0              0          Yes        Private   \n",
       "15303  Female  14.0             0              0           No        Private   \n",
       "\n",
       "      Residence_type  avg_glucose_level       bmi   smoking_status  stroke  \n",
       "id                                                                          \n",
       "9046           Urban             228.69  36.60000  formerly smoked       1  \n",
       "51676          Rural             202.21  28.30228     never smoked       1  \n",
       "31112          Rural             105.92  32.50000     never smoked       1  \n",
       "60182          Urban             171.23  34.40000           smokes       1  \n",
       "1665           Rural             174.12  24.00000     never smoked       1  \n",
       "...              ...                ...       ...              ...     ...  \n",
       "15299          Urban              72.63  19.50000     never smoked       0  \n",
       "15300          Urban             101.19  32.10000     never smoked       0  \n",
       "15301          Urban              87.69  26.20000     never smoked       0  \n",
       "15302          Rural             101.13  22.50000          Unknown       0  \n",
       "15303          Rural              85.12  24.70000     never smoked       0  \n",
       "\n",
       "[20414 rows x 11 columns]"
      ]
     },
     "execution_count": 7,
     "metadata": {},
     "output_type": "execute_result"
    }
   ],
   "source": [
    "df = df_total.copy()\n",
    "df"
   ]
  },
  {
   "cell_type": "code",
   "execution_count": 8,
   "id": "74fb428c",
   "metadata": {},
   "outputs": [],
   "source": [
    "#Label Encoding\n",
    "\n",
    "df.loc[df.gender == \"Male\", \"gender\"] = 0\n",
    "df.loc[df.gender != 0, \"gender\"] = 1\n",
    "df[\"gender\"] = df[\"gender\"].astype(int)\n",
    "\n",
    "df.loc[df.ever_married == \"Yes\", \"ever_married\"] = 0\n",
    "df.loc[df.ever_married != 0, \"ever_married\"] = 1\n",
    "df[\"ever_married\"] = df[\"ever_married\"].astype(int)\n",
    "\n",
    "df.loc[df.Residence_type == \"Urban\", \"Residence_type\"] = 0\n",
    "df.loc[df.Residence_type != 0, \"Residence_type\"] = 1\n",
    "df[\"Residence_type\"] = df[\"Residence_type\"].astype(int)\n"
   ]
  },
  {
   "cell_type": "code",
   "execution_count": 9,
   "id": "16d4fa86",
   "metadata": {},
   "outputs": [],
   "source": [
    "df = pd.get_dummies(data=df, columns=[\"work_type\", \"smoking_status\"])"
   ]
  },
  {
   "cell_type": "code",
   "execution_count": 10,
   "id": "c9022760",
   "metadata": {},
   "outputs": [
    {
     "name": "stdout",
     "output_type": "stream",
     "text": [
      "(20414, 18)\n"
     ]
    },
    {
     "data": {
      "text/html": [
       "<div>\n",
       "<style scoped>\n",
       "    .dataframe tbody tr th:only-of-type {\n",
       "        vertical-align: middle;\n",
       "    }\n",
       "\n",
       "    .dataframe tbody tr th {\n",
       "        vertical-align: top;\n",
       "    }\n",
       "\n",
       "    .dataframe thead th {\n",
       "        text-align: right;\n",
       "    }\n",
       "</style>\n",
       "<table border=\"1\" class=\"dataframe\">\n",
       "  <thead>\n",
       "    <tr style=\"text-align: right;\">\n",
       "      <th></th>\n",
       "      <th>gender</th>\n",
       "      <th>age</th>\n",
       "      <th>hypertension</th>\n",
       "      <th>heart_disease</th>\n",
       "      <th>ever_married</th>\n",
       "      <th>Residence_type</th>\n",
       "      <th>avg_glucose_level</th>\n",
       "      <th>bmi</th>\n",
       "      <th>stroke</th>\n",
       "      <th>work_type_Govt_job</th>\n",
       "      <th>work_type_Never_worked</th>\n",
       "      <th>work_type_Private</th>\n",
       "      <th>work_type_Self-employed</th>\n",
       "      <th>work_type_children</th>\n",
       "      <th>smoking_status_Unknown</th>\n",
       "      <th>smoking_status_formerly smoked</th>\n",
       "      <th>smoking_status_never smoked</th>\n",
       "      <th>smoking_status_smokes</th>\n",
       "    </tr>\n",
       "    <tr>\n",
       "      <th>id</th>\n",
       "      <th></th>\n",
       "      <th></th>\n",
       "      <th></th>\n",
       "      <th></th>\n",
       "      <th></th>\n",
       "      <th></th>\n",
       "      <th></th>\n",
       "      <th></th>\n",
       "      <th></th>\n",
       "      <th></th>\n",
       "      <th></th>\n",
       "      <th></th>\n",
       "      <th></th>\n",
       "      <th></th>\n",
       "      <th></th>\n",
       "      <th></th>\n",
       "      <th></th>\n",
       "      <th></th>\n",
       "    </tr>\n",
       "  </thead>\n",
       "  <tbody>\n",
       "    <tr>\n",
       "      <th>9046</th>\n",
       "      <td>0</td>\n",
       "      <td>67.0</td>\n",
       "      <td>0</td>\n",
       "      <td>1</td>\n",
       "      <td>0</td>\n",
       "      <td>0</td>\n",
       "      <td>228.69</td>\n",
       "      <td>36.60000</td>\n",
       "      <td>1</td>\n",
       "      <td>0</td>\n",
       "      <td>0</td>\n",
       "      <td>1</td>\n",
       "      <td>0</td>\n",
       "      <td>0</td>\n",
       "      <td>0</td>\n",
       "      <td>1</td>\n",
       "      <td>0</td>\n",
       "      <td>0</td>\n",
       "    </tr>\n",
       "    <tr>\n",
       "      <th>51676</th>\n",
       "      <td>1</td>\n",
       "      <td>61.0</td>\n",
       "      <td>0</td>\n",
       "      <td>0</td>\n",
       "      <td>0</td>\n",
       "      <td>1</td>\n",
       "      <td>202.21</td>\n",
       "      <td>28.30228</td>\n",
       "      <td>1</td>\n",
       "      <td>0</td>\n",
       "      <td>0</td>\n",
       "      <td>0</td>\n",
       "      <td>1</td>\n",
       "      <td>0</td>\n",
       "      <td>0</td>\n",
       "      <td>0</td>\n",
       "      <td>1</td>\n",
       "      <td>0</td>\n",
       "    </tr>\n",
       "    <tr>\n",
       "      <th>31112</th>\n",
       "      <td>0</td>\n",
       "      <td>80.0</td>\n",
       "      <td>0</td>\n",
       "      <td>1</td>\n",
       "      <td>0</td>\n",
       "      <td>1</td>\n",
       "      <td>105.92</td>\n",
       "      <td>32.50000</td>\n",
       "      <td>1</td>\n",
       "      <td>0</td>\n",
       "      <td>0</td>\n",
       "      <td>1</td>\n",
       "      <td>0</td>\n",
       "      <td>0</td>\n",
       "      <td>0</td>\n",
       "      <td>0</td>\n",
       "      <td>1</td>\n",
       "      <td>0</td>\n",
       "    </tr>\n",
       "    <tr>\n",
       "      <th>60182</th>\n",
       "      <td>1</td>\n",
       "      <td>49.0</td>\n",
       "      <td>0</td>\n",
       "      <td>0</td>\n",
       "      <td>0</td>\n",
       "      <td>0</td>\n",
       "      <td>171.23</td>\n",
       "      <td>34.40000</td>\n",
       "      <td>1</td>\n",
       "      <td>0</td>\n",
       "      <td>0</td>\n",
       "      <td>1</td>\n",
       "      <td>0</td>\n",
       "      <td>0</td>\n",
       "      <td>0</td>\n",
       "      <td>0</td>\n",
       "      <td>0</td>\n",
       "      <td>1</td>\n",
       "    </tr>\n",
       "    <tr>\n",
       "      <th>1665</th>\n",
       "      <td>1</td>\n",
       "      <td>79.0</td>\n",
       "      <td>1</td>\n",
       "      <td>0</td>\n",
       "      <td>0</td>\n",
       "      <td>1</td>\n",
       "      <td>174.12</td>\n",
       "      <td>24.00000</td>\n",
       "      <td>1</td>\n",
       "      <td>0</td>\n",
       "      <td>0</td>\n",
       "      <td>0</td>\n",
       "      <td>1</td>\n",
       "      <td>0</td>\n",
       "      <td>0</td>\n",
       "      <td>0</td>\n",
       "      <td>1</td>\n",
       "      <td>0</td>\n",
       "    </tr>\n",
       "    <tr>\n",
       "      <th>...</th>\n",
       "      <td>...</td>\n",
       "      <td>...</td>\n",
       "      <td>...</td>\n",
       "      <td>...</td>\n",
       "      <td>...</td>\n",
       "      <td>...</td>\n",
       "      <td>...</td>\n",
       "      <td>...</td>\n",
       "      <td>...</td>\n",
       "      <td>...</td>\n",
       "      <td>...</td>\n",
       "      <td>...</td>\n",
       "      <td>...</td>\n",
       "      <td>...</td>\n",
       "      <td>...</td>\n",
       "      <td>...</td>\n",
       "      <td>...</td>\n",
       "      <td>...</td>\n",
       "    </tr>\n",
       "    <tr>\n",
       "      <th>15299</th>\n",
       "      <td>1</td>\n",
       "      <td>22.0</td>\n",
       "      <td>0</td>\n",
       "      <td>0</td>\n",
       "      <td>1</td>\n",
       "      <td>0</td>\n",
       "      <td>72.63</td>\n",
       "      <td>19.50000</td>\n",
       "      <td>0</td>\n",
       "      <td>1</td>\n",
       "      <td>0</td>\n",
       "      <td>0</td>\n",
       "      <td>0</td>\n",
       "      <td>0</td>\n",
       "      <td>0</td>\n",
       "      <td>0</td>\n",
       "      <td>1</td>\n",
       "      <td>0</td>\n",
       "    </tr>\n",
       "    <tr>\n",
       "      <th>15300</th>\n",
       "      <td>1</td>\n",
       "      <td>46.0</td>\n",
       "      <td>1</td>\n",
       "      <td>0</td>\n",
       "      <td>0</td>\n",
       "      <td>0</td>\n",
       "      <td>101.19</td>\n",
       "      <td>32.10000</td>\n",
       "      <td>0</td>\n",
       "      <td>0</td>\n",
       "      <td>0</td>\n",
       "      <td>1</td>\n",
       "      <td>0</td>\n",
       "      <td>0</td>\n",
       "      <td>0</td>\n",
       "      <td>0</td>\n",
       "      <td>1</td>\n",
       "      <td>0</td>\n",
       "    </tr>\n",
       "    <tr>\n",
       "      <th>15301</th>\n",
       "      <td>1</td>\n",
       "      <td>75.0</td>\n",
       "      <td>0</td>\n",
       "      <td>0</td>\n",
       "      <td>0</td>\n",
       "      <td>0</td>\n",
       "      <td>87.69</td>\n",
       "      <td>26.20000</td>\n",
       "      <td>0</td>\n",
       "      <td>0</td>\n",
       "      <td>0</td>\n",
       "      <td>0</td>\n",
       "      <td>1</td>\n",
       "      <td>0</td>\n",
       "      <td>0</td>\n",
       "      <td>0</td>\n",
       "      <td>1</td>\n",
       "      <td>0</td>\n",
       "    </tr>\n",
       "    <tr>\n",
       "      <th>15302</th>\n",
       "      <td>0</td>\n",
       "      <td>46.0</td>\n",
       "      <td>0</td>\n",
       "      <td>0</td>\n",
       "      <td>0</td>\n",
       "      <td>1</td>\n",
       "      <td>101.13</td>\n",
       "      <td>22.50000</td>\n",
       "      <td>0</td>\n",
       "      <td>0</td>\n",
       "      <td>0</td>\n",
       "      <td>1</td>\n",
       "      <td>0</td>\n",
       "      <td>0</td>\n",
       "      <td>1</td>\n",
       "      <td>0</td>\n",
       "      <td>0</td>\n",
       "      <td>0</td>\n",
       "    </tr>\n",
       "    <tr>\n",
       "      <th>15303</th>\n",
       "      <td>1</td>\n",
       "      <td>14.0</td>\n",
       "      <td>0</td>\n",
       "      <td>0</td>\n",
       "      <td>1</td>\n",
       "      <td>1</td>\n",
       "      <td>85.12</td>\n",
       "      <td>24.70000</td>\n",
       "      <td>0</td>\n",
       "      <td>0</td>\n",
       "      <td>0</td>\n",
       "      <td>1</td>\n",
       "      <td>0</td>\n",
       "      <td>0</td>\n",
       "      <td>0</td>\n",
       "      <td>0</td>\n",
       "      <td>1</td>\n",
       "      <td>0</td>\n",
       "    </tr>\n",
       "  </tbody>\n",
       "</table>\n",
       "<p>20414 rows × 18 columns</p>\n",
       "</div>"
      ],
      "text/plain": [
       "       gender   age  hypertension  heart_disease  ever_married  \\\n",
       "id                                                               \n",
       "9046        0  67.0             0              1             0   \n",
       "51676       1  61.0             0              0             0   \n",
       "31112       0  80.0             0              1             0   \n",
       "60182       1  49.0             0              0             0   \n",
       "1665        1  79.0             1              0             0   \n",
       "...       ...   ...           ...            ...           ...   \n",
       "15299       1  22.0             0              0             1   \n",
       "15300       1  46.0             1              0             0   \n",
       "15301       1  75.0             0              0             0   \n",
       "15302       0  46.0             0              0             0   \n",
       "15303       1  14.0             0              0             1   \n",
       "\n",
       "       Residence_type  avg_glucose_level       bmi  stroke  \\\n",
       "id                                                           \n",
       "9046                0             228.69  36.60000       1   \n",
       "51676               1             202.21  28.30228       1   \n",
       "31112               1             105.92  32.50000       1   \n",
       "60182               0             171.23  34.40000       1   \n",
       "1665                1             174.12  24.00000       1   \n",
       "...               ...                ...       ...     ...   \n",
       "15299               0              72.63  19.50000       0   \n",
       "15300               0             101.19  32.10000       0   \n",
       "15301               0              87.69  26.20000       0   \n",
       "15302               1             101.13  22.50000       0   \n",
       "15303               1              85.12  24.70000       0   \n",
       "\n",
       "       work_type_Govt_job  work_type_Never_worked  work_type_Private  \\\n",
       "id                                                                     \n",
       "9046                    0                       0                  1   \n",
       "51676                   0                       0                  0   \n",
       "31112                   0                       0                  1   \n",
       "60182                   0                       0                  1   \n",
       "1665                    0                       0                  0   \n",
       "...                   ...                     ...                ...   \n",
       "15299                   1                       0                  0   \n",
       "15300                   0                       0                  1   \n",
       "15301                   0                       0                  0   \n",
       "15302                   0                       0                  1   \n",
       "15303                   0                       0                  1   \n",
       "\n",
       "       work_type_Self-employed  work_type_children  smoking_status_Unknown  \\\n",
       "id                                                                           \n",
       "9046                         0                   0                       0   \n",
       "51676                        1                   0                       0   \n",
       "31112                        0                   0                       0   \n",
       "60182                        0                   0                       0   \n",
       "1665                         1                   0                       0   \n",
       "...                        ...                 ...                     ...   \n",
       "15299                        0                   0                       0   \n",
       "15300                        0                   0                       0   \n",
       "15301                        1                   0                       0   \n",
       "15302                        0                   0                       1   \n",
       "15303                        0                   0                       0   \n",
       "\n",
       "       smoking_status_formerly smoked  smoking_status_never smoked  \\\n",
       "id                                                                   \n",
       "9046                                1                            0   \n",
       "51676                               0                            1   \n",
       "31112                               0                            1   \n",
       "60182                               0                            0   \n",
       "1665                                0                            1   \n",
       "...                               ...                          ...   \n",
       "15299                               0                            1   \n",
       "15300                               0                            1   \n",
       "15301                               0                            1   \n",
       "15302                               0                            0   \n",
       "15303                               0                            1   \n",
       "\n",
       "       smoking_status_smokes  \n",
       "id                            \n",
       "9046                       0  \n",
       "51676                      0  \n",
       "31112                      0  \n",
       "60182                      1  \n",
       "1665                       0  \n",
       "...                      ...  \n",
       "15299                      0  \n",
       "15300                      0  \n",
       "15301                      0  \n",
       "15302                      0  \n",
       "15303                      0  \n",
       "\n",
       "[20414 rows x 18 columns]"
      ]
     },
     "execution_count": 10,
     "metadata": {},
     "output_type": "execute_result"
    }
   ],
   "source": [
    "print(df.shape)\n",
    "df"
   ]
  },
  {
   "cell_type": "code",
   "execution_count": 11,
   "id": "06255a39",
   "metadata": {},
   "outputs": [
    {
     "name": "stdout",
     "output_type": "stream",
     "text": [
      "['gender', 'age', 'hypertension', 'heart_disease', 'ever_married', 'Residence_type', 'avg_glucose_level', 'bmi', 'work_type_Govt_job', 'work_type_Never_worked', 'work_type_Private', 'work_type_Self-employed', 'work_type_children', 'smoking_status_Unknown', 'smoking_status_formerly smoked', 'smoking_status_never smoked', 'smoking_status_smokes']\n"
     ]
    }
   ],
   "source": [
    "features = list(df.columns)\n",
    "features.remove(\"stroke\")\n",
    "print(features)"
   ]
  },
  {
   "cell_type": "markdown",
   "id": "fd82e043",
   "metadata": {},
   "source": [
    "# Test Data"
   ]
  },
  {
   "cell_type": "code",
   "execution_count": 12,
   "id": "a3a6c43b",
   "metadata": {},
   "outputs": [
    {
     "data": {
      "text/html": [
       "<div>\n",
       "<style scoped>\n",
       "    .dataframe tbody tr th:only-of-type {\n",
       "        vertical-align: middle;\n",
       "    }\n",
       "\n",
       "    .dataframe tbody tr th {\n",
       "        vertical-align: top;\n",
       "    }\n",
       "\n",
       "    .dataframe thead th {\n",
       "        text-align: right;\n",
       "    }\n",
       "</style>\n",
       "<table border=\"1\" class=\"dataframe\">\n",
       "  <thead>\n",
       "    <tr style=\"text-align: right;\">\n",
       "      <th></th>\n",
       "      <th>gender</th>\n",
       "      <th>age</th>\n",
       "      <th>hypertension</th>\n",
       "      <th>heart_disease</th>\n",
       "      <th>ever_married</th>\n",
       "      <th>work_type</th>\n",
       "      <th>Residence_type</th>\n",
       "      <th>avg_glucose_level</th>\n",
       "      <th>bmi</th>\n",
       "      <th>smoking_status</th>\n",
       "    </tr>\n",
       "    <tr>\n",
       "      <th>id</th>\n",
       "      <th></th>\n",
       "      <th></th>\n",
       "      <th></th>\n",
       "      <th></th>\n",
       "      <th></th>\n",
       "      <th></th>\n",
       "      <th></th>\n",
       "      <th></th>\n",
       "      <th></th>\n",
       "      <th></th>\n",
       "    </tr>\n",
       "  </thead>\n",
       "  <tbody>\n",
       "    <tr>\n",
       "      <th>15304</th>\n",
       "      <td>Female</td>\n",
       "      <td>57.0</td>\n",
       "      <td>0</td>\n",
       "      <td>0</td>\n",
       "      <td>Yes</td>\n",
       "      <td>Private</td>\n",
       "      <td>Rural</td>\n",
       "      <td>82.54</td>\n",
       "      <td>33.4</td>\n",
       "      <td>Unknown</td>\n",
       "    </tr>\n",
       "    <tr>\n",
       "      <th>15305</th>\n",
       "      <td>Male</td>\n",
       "      <td>70.0</td>\n",
       "      <td>1</td>\n",
       "      <td>0</td>\n",
       "      <td>Yes</td>\n",
       "      <td>Private</td>\n",
       "      <td>Urban</td>\n",
       "      <td>72.06</td>\n",
       "      <td>28.5</td>\n",
       "      <td>Unknown</td>\n",
       "    </tr>\n",
       "    <tr>\n",
       "      <th>15306</th>\n",
       "      <td>Female</td>\n",
       "      <td>5.0</td>\n",
       "      <td>0</td>\n",
       "      <td>0</td>\n",
       "      <td>No</td>\n",
       "      <td>children</td>\n",
       "      <td>Urban</td>\n",
       "      <td>103.72</td>\n",
       "      <td>19.5</td>\n",
       "      <td>Unknown</td>\n",
       "    </tr>\n",
       "    <tr>\n",
       "      <th>15307</th>\n",
       "      <td>Female</td>\n",
       "      <td>56.0</td>\n",
       "      <td>0</td>\n",
       "      <td>0</td>\n",
       "      <td>Yes</td>\n",
       "      <td>Govt_job</td>\n",
       "      <td>Urban</td>\n",
       "      <td>69.24</td>\n",
       "      <td>41.4</td>\n",
       "      <td>smokes</td>\n",
       "    </tr>\n",
       "    <tr>\n",
       "      <th>15308</th>\n",
       "      <td>Male</td>\n",
       "      <td>32.0</td>\n",
       "      <td>0</td>\n",
       "      <td>0</td>\n",
       "      <td>Yes</td>\n",
       "      <td>Private</td>\n",
       "      <td>Rural</td>\n",
       "      <td>111.15</td>\n",
       "      <td>30.1</td>\n",
       "      <td>smokes</td>\n",
       "    </tr>\n",
       "    <tr>\n",
       "      <th>...</th>\n",
       "      <td>...</td>\n",
       "      <td>...</td>\n",
       "      <td>...</td>\n",
       "      <td>...</td>\n",
       "      <td>...</td>\n",
       "      <td>...</td>\n",
       "      <td>...</td>\n",
       "      <td>...</td>\n",
       "      <td>...</td>\n",
       "      <td>...</td>\n",
       "    </tr>\n",
       "    <tr>\n",
       "      <th>25503</th>\n",
       "      <td>Female</td>\n",
       "      <td>27.0</td>\n",
       "      <td>0</td>\n",
       "      <td>0</td>\n",
       "      <td>No</td>\n",
       "      <td>Private</td>\n",
       "      <td>Urban</td>\n",
       "      <td>75.77</td>\n",
       "      <td>17.6</td>\n",
       "      <td>never smoked</td>\n",
       "    </tr>\n",
       "    <tr>\n",
       "      <th>25504</th>\n",
       "      <td>Male</td>\n",
       "      <td>49.0</td>\n",
       "      <td>0</td>\n",
       "      <td>0</td>\n",
       "      <td>Yes</td>\n",
       "      <td>Private</td>\n",
       "      <td>Urban</td>\n",
       "      <td>102.91</td>\n",
       "      <td>26.7</td>\n",
       "      <td>Unknown</td>\n",
       "    </tr>\n",
       "    <tr>\n",
       "      <th>25505</th>\n",
       "      <td>Female</td>\n",
       "      <td>3.0</td>\n",
       "      <td>0</td>\n",
       "      <td>0</td>\n",
       "      <td>No</td>\n",
       "      <td>children</td>\n",
       "      <td>Rural</td>\n",
       "      <td>104.04</td>\n",
       "      <td>18.3</td>\n",
       "      <td>Unknown</td>\n",
       "    </tr>\n",
       "    <tr>\n",
       "      <th>25506</th>\n",
       "      <td>Male</td>\n",
       "      <td>31.0</td>\n",
       "      <td>0</td>\n",
       "      <td>0</td>\n",
       "      <td>Yes</td>\n",
       "      <td>Private</td>\n",
       "      <td>Urban</td>\n",
       "      <td>82.41</td>\n",
       "      <td>28.7</td>\n",
       "      <td>never smoked</td>\n",
       "    </tr>\n",
       "    <tr>\n",
       "      <th>25507</th>\n",
       "      <td>Female</td>\n",
       "      <td>2.0</td>\n",
       "      <td>0</td>\n",
       "      <td>0</td>\n",
       "      <td>No</td>\n",
       "      <td>children</td>\n",
       "      <td>Urban</td>\n",
       "      <td>85.12</td>\n",
       "      <td>14.8</td>\n",
       "      <td>Unknown</td>\n",
       "    </tr>\n",
       "  </tbody>\n",
       "</table>\n",
       "<p>10204 rows × 10 columns</p>\n",
       "</div>"
      ],
      "text/plain": [
       "       gender   age  hypertension  heart_disease ever_married work_type  \\\n",
       "id                                                                        \n",
       "15304  Female  57.0             0              0          Yes   Private   \n",
       "15305    Male  70.0             1              0          Yes   Private   \n",
       "15306  Female   5.0             0              0           No  children   \n",
       "15307  Female  56.0             0              0          Yes  Govt_job   \n",
       "15308    Male  32.0             0              0          Yes   Private   \n",
       "...       ...   ...           ...            ...          ...       ...   \n",
       "25503  Female  27.0             0              0           No   Private   \n",
       "25504    Male  49.0             0              0          Yes   Private   \n",
       "25505  Female   3.0             0              0           No  children   \n",
       "25506    Male  31.0             0              0          Yes   Private   \n",
       "25507  Female   2.0             0              0           No  children   \n",
       "\n",
       "      Residence_type  avg_glucose_level   bmi smoking_status  \n",
       "id                                                            \n",
       "15304          Rural              82.54  33.4        Unknown  \n",
       "15305          Urban              72.06  28.5        Unknown  \n",
       "15306          Urban             103.72  19.5        Unknown  \n",
       "15307          Urban              69.24  41.4         smokes  \n",
       "15308          Rural             111.15  30.1         smokes  \n",
       "...              ...                ...   ...            ...  \n",
       "25503          Urban              75.77  17.6   never smoked  \n",
       "25504          Urban             102.91  26.7        Unknown  \n",
       "25505          Rural             104.04  18.3        Unknown  \n",
       "25506          Urban              82.41  28.7   never smoked  \n",
       "25507          Urban              85.12  14.8        Unknown  \n",
       "\n",
       "[10204 rows x 10 columns]"
      ]
     },
     "execution_count": 12,
     "metadata": {},
     "output_type": "execute_result"
    }
   ],
   "source": [
    "df_test = pd.read_csv(\"test.csv\", index_col=\"id\")\n",
    "df_test"
   ]
  },
  {
   "cell_type": "code",
   "execution_count": 13,
   "id": "1c428d98",
   "metadata": {},
   "outputs": [],
   "source": [
    "#Label Encoding\n",
    "\n",
    "df_test.loc[df_test.gender == \"Male\", \"gender\"] = 0\n",
    "df_test.loc[df_test.gender != 0, \"gender\"] = 1\n",
    "df_test[\"gender\"] = df_test[\"gender\"].astype(int)\n",
    "\n",
    "df_test.loc[df_test.ever_married == \"Yes\", \"ever_married\"] = 0\n",
    "df_test.loc[df_test.ever_married != 0, \"ever_married\"] = 1\n",
    "df_test[\"ever_married\"] = df_test[\"ever_married\"].astype(int)\n",
    "\n",
    "df_test.loc[df_test.Residence_type == \"Urban\", \"Residence_type\"] = 0\n",
    "df_test.loc[df_test.Residence_type != 0, \"Residence_type\"] = 1\n",
    "df_test[\"Residence_type\"] = df_test[\"Residence_type\"].astype(int)"
   ]
  },
  {
   "cell_type": "code",
   "execution_count": 14,
   "id": "23af854d",
   "metadata": {},
   "outputs": [],
   "source": [
    "df_test = pd.get_dummies(data=df_test, columns=[\"work_type\", \"smoking_status\"])"
   ]
  },
  {
   "cell_type": "markdown",
   "id": "0a41f3c5",
   "metadata": {},
   "source": [
    "# Standardization"
   ]
  },
  {
   "cell_type": "code",
   "execution_count": 15,
   "id": "579e0346",
   "metadata": {},
   "outputs": [],
   "source": [
    "# test\n",
    "\n",
    "df_test[\"avg_glucose_level\"] = (df_test.avg_glucose_level - df.avg_glucose_level.mean()) / df.avg_glucose_level.std()\n",
    "df_test[\"age\"] = (df_test.age - df.age.mean()) / df.age.std()\n",
    "df_test[\"bmi\"] = (df_test.bmi - df.bmi.mean()) / df.bmi.std()\n",
    "\n",
    "# train\n",
    "\n",
    "df[\"avg_glucose_level\"] = (df.avg_glucose_level - df.avg_glucose_level.mean()) / df.avg_glucose_level.std()\n",
    "df[\"age\"] = (df.age - df.age.mean()) / df.age.std()\n",
    "df[\"bmi\"] = (df.bmi - df.bmi.mean()) / df.bmi.std()"
   ]
  },
  {
   "cell_type": "markdown",
   "id": "958a9b8e",
   "metadata": {},
   "source": [
    "# Classes and Functions"
   ]
  },
  {
   "cell_type": "code",
   "execution_count": 16,
   "id": "a71a1b8a",
   "metadata": {},
   "outputs": [],
   "source": [
    "import torch\n",
    "from torch.utils.data import Dataset, DataLoader\n",
    "\n",
    "class MakeDataset(Dataset):\n",
    "    def __init__(self, df):\n",
    "        x = df[features].values\n",
    "        y = df[\"stroke\"].values\n",
    "        self.x_train=torch.tensor(x,dtype=torch.float32)\n",
    "        self.y_train=torch.tensor(y,dtype=torch.float32)\n",
    "        \n",
    "    def __len__(self):\n",
    "        return len(self.y_train)\n",
    "    \n",
    "    def __getitem__(self,idx):\n",
    "        return self.x_train[idx], self.y_train[idx]\n"
   ]
  },
  {
   "cell_type": "code",
   "execution_count": 17,
   "id": "b7e917e6",
   "metadata": {},
   "outputs": [],
   "source": [
    "# You may or may not want to use this, it basically makes all batches divide into stroke: 1 and stroke: 2 equally\n",
    "\n",
    "import torch.utils.data\n",
    "import random\n",
    "\n",
    "# Courtesy of galatolofederico\n",
    "#https://github.com/galatolofederico/pytorch-balanced-batch/blob/master/example.py\n",
    "\n",
    "class BalancedBatchSampler(torch.utils.data.sampler.Sampler):\n",
    "    def __init__(self, dataset, labels=None):\n",
    "        self.labels = labels\n",
    "        self.dataset = dict()\n",
    "        self.balanced_max = 0\n",
    "        # Save all the indices for all the classes\n",
    "        for idx in range(0, len(dataset)):\n",
    "            label = self._get_label(dataset, idx)\n",
    "            if label not in self.dataset:\n",
    "                self.dataset[label] = list()\n",
    "            self.dataset[label].append(idx)\n",
    "            self.balanced_max = len(self.dataset[label]) \\\n",
    "                if len(self.dataset[label]) > self.balanced_max else self.balanced_max\n",
    "        \n",
    "        # Oversample the classes with fewer elements than the max\n",
    "        for label in self.dataset:\n",
    "            while len(self.dataset[label]) < self.balanced_max:\n",
    "                self.dataset[label].append(random.choice(self.dataset[label]))\n",
    "        self.keys = list(self.dataset.keys())\n",
    "        self.currentkey = 0\n",
    "        self.indices = [-1]*len(self.keys)\n",
    "\n",
    "    def __iter__(self):\n",
    "        while self.indices[self.currentkey] < self.balanced_max - 1:\n",
    "            self.indices[self.currentkey] += 1\n",
    "            yield self.dataset[self.keys[self.currentkey]][self.indices[self.currentkey]]\n",
    "            self.currentkey = (self.currentkey + 1) % len(self.keys)\n",
    "        self.indices = [-1]*len(self.keys)\n",
    "    \n",
    "    def _get_label(self, dataset, idx, labels = None):\n",
    "        if self.labels is not None:\n",
    "            return self.labels[idx].item()\n",
    "        else:\n",
    "            raise Exception(\"You should pass the tensor of labels to the constructor as second argument\")\n",
    "\n",
    "    def __len__(self):\n",
    "        return self.balanced_max*len(self.keys)"
   ]
  },
  {
   "cell_type": "code",
   "execution_count": 18,
   "id": "4c9f6533",
   "metadata": {},
   "outputs": [],
   "source": [
    "import torch.nn as nn\n",
    "\n",
    "device = torch.device('cuda' if torch.cuda.is_available() else 'cpu')\n",
    "\n",
    "class Net1(nn.Module):\n",
    "    def __init__(self, input_size, hidden_size, num_classes):\n",
    "        super(Net1, self).__init__()\n",
    "        self.input_size = input_size\n",
    "        self.l1 = nn.Linear(input_size, hidden_size) \n",
    "        self.l2 = nn.Linear(hidden_size, num_classes) \n",
    "        self.lrelu = nn.LeakyReLU(negative_slope=0.01)\n",
    "        self.sigmoid = nn.Sigmoid()\n",
    "        \n",
    "        self.dropout = nn.Dropout(0.2)\n",
    "    \n",
    "    def forward(self, x):\n",
    "        out = self.l1(x)\n",
    "        out = self.dropout(out)\n",
    "        out = self.lrelu(out)\n",
    "        out = self.l2(out)\n",
    "        out = self.dropout(out)\n",
    "        out = self.sigmoid(out)\n",
    "        \n",
    "        return out"
   ]
  },
  {
   "cell_type": "code",
   "execution_count": 19,
   "id": "8da35e66",
   "metadata": {},
   "outputs": [],
   "source": [
    "import torch.nn as nn\n",
    "\n",
    "device = torch.device('cuda' if torch.cuda.is_available() else 'cpu')\n",
    "\n",
    "class Net2(nn.Module):\n",
    "    def __init__(self, input_size, hidden_size, num_classes):\n",
    "        super(Net2, self).__init__()\n",
    "        self.input_size = input_size\n",
    "        self.l1 = nn.Linear(input_size, hidden_size)\n",
    "        self.l2 = nn.Linear(hidden_size, hidden_size//2) \n",
    "        self.l3 = nn.Linear(hidden_size//2, num_classes)\n",
    "        \n",
    "        self.relu = nn.ReLU()\n",
    "        self.lrelu = nn.LeakyReLU(negative_slope=0.01)\n",
    "        self.elu = nn.ELU()\n",
    "        self.tanh = nn.Tanh()\n",
    "        \n",
    "        self.sigmoid = nn.Sigmoid()\n",
    "        \n",
    "        self.dropout = nn.Dropout(0.2) \n",
    "    \n",
    "    def forward(self, x):\n",
    "        out = self.l1(x)\n",
    "        out = self.dropout(out)\n",
    "        out = self.lrelu(out)\n",
    "        out = self.l2(out)\n",
    "        out = self.dropout(out)\n",
    "        out = self.lrelu(out)\n",
    "        out = self.l3(out)\n",
    "        out = self.dropout(out)\n",
    "        out = self.sigmoid(out)\n",
    "        \n",
    "        return out"
   ]
  },
  {
   "cell_type": "code",
   "execution_count": 20,
   "id": "64f60f92",
   "metadata": {},
   "outputs": [],
   "source": [
    "import torch.nn as nn\n",
    "\n",
    "device = torch.device('cuda' if torch.cuda.is_available() else 'cpu')\n",
    "\n",
    "class Net3(nn.Module):\n",
    "    def __init__(self, input_size, hidden_size, num_classes):\n",
    "        super(Net3, self).__init__()\n",
    "        self.input_size = input_size\n",
    "        self.l1 = nn.Linear(input_size, hidden_size)\n",
    "        self.l2 = nn.Linear(hidden_size, hidden_size//2)\n",
    "        self.l3 = nn.Linear(hidden_size//2, hidden_size//4) \n",
    "        self.l4 = nn.Linear(hidden_size//4, num_classes)\n",
    "        \n",
    "        self.relu = nn.ReLU()\n",
    "        self.lrelu = nn.LeakyReLU(negative_slope=0.01)\n",
    "        self.elu = nn.ELU()\n",
    "        self.tanh = nn.Tanh()\n",
    "        \n",
    "        self.sigmoid = nn.Sigmoid()\n",
    "        \n",
    "        self.dropout = nn.Dropout(0.2) \n",
    "    \n",
    "    def forward(self, x):\n",
    "        out = self.l1(x)\n",
    "        out = self.dropout(out)\n",
    "        out = self.lrelu(out)\n",
    "        out = self.l2(out)\n",
    "        out = self.dropout(out)\n",
    "        out = self.lrelu(out)\n",
    "        out = self.l3(out)\n",
    "        out = self.dropout(out)\n",
    "        out = self.lrelu(out)\n",
    "        out = self.l4(out)\n",
    "        out = self.dropout(out)\n",
    "        out = self.sigmoid(out)\n",
    "        \n",
    "        return out"
   ]
  },
  {
   "cell_type": "code",
   "execution_count": 21,
   "id": "f08faed9",
   "metadata": {},
   "outputs": [],
   "source": [
    "import torch.nn as nn\n",
    "\n",
    "device = torch.device('cuda' if torch.cuda.is_available() else 'cpu')\n",
    "\n",
    "class Net3_1(nn.Module):\n",
    "    def __init__(self, input_size, hidden_size, num_classes):\n",
    "        super(Net3_1, self).__init__()\n",
    "        self.input_size = input_size\n",
    "        self.l1 = nn.Linear(input_size, hidden_size//2)\n",
    "        self.l2 = nn.Linear(hidden_size//2, hidden_size)\n",
    "        self.l3 = nn.Linear(hidden_size, hidden_size//2) \n",
    "        self.l4 = nn.Linear(hidden_size//2, num_classes)\n",
    "        \n",
    "        self.relu = nn.ReLU()\n",
    "        self.lrelu = nn.LeakyReLU(negative_slope=0.01)\n",
    "        self.elu = nn.ELU()\n",
    "        self.tanh = nn.Tanh()\n",
    "        \n",
    "        self.sigmoid = nn.Sigmoid()\n",
    "        \n",
    "        self.dropout = nn.Dropout(0.2) \n",
    "    \n",
    "    def forward(self, x):\n",
    "        out = self.l1(x)\n",
    "        out = self.dropout(out)\n",
    "        out = self.lrelu(out)\n",
    "        out = self.l2(out)\n",
    "        out = self.dropout(out)\n",
    "        out = self.lrelu(out)\n",
    "        out = self.l3(out)\n",
    "        out = self.dropout(out)\n",
    "        out = self.lrelu(out)\n",
    "        out = self.l4(out)\n",
    "        out = self.dropout(out)\n",
    "        out = self.sigmoid(out)\n",
    "        \n",
    "        return out"
   ]
  },
  {
   "cell_type": "code",
   "execution_count": 26,
   "id": "457cc6de",
   "metadata": {},
   "outputs": [],
   "source": [
    "def model_train(model, train_loader, valid_loader, num_epochs,  verbose=\"no\"):\n",
    "    history = {\"train_loss\": [], \"valid_loss\": [], \"epochs\": []}\n",
    "    \n",
    "    for epoch in range(num_epochs):\n",
    "        \n",
    "        if verbose == \"yes\":\n",
    "            print(f\"=======Epoch {epoch}========\")\n",
    "            \n",
    "        if verbose == \"partial\" and epoch == 0:\n",
    "            print(f\"Training started\")\n",
    "        \n",
    "        history[\"epochs\"].append(epoch)\n",
    "        \n",
    "        train_loss_log = []\n",
    "        valid_loss_log = []\n",
    "        sample_size_train = 0\n",
    "        sample_size_valid = 0\n",
    "        \n",
    "        model.train()\n",
    "        for samples, labels in train_loader:\n",
    "\n",
    "            #print(samples.shape)\n",
    "            #print(labels.shape)\n",
    "            samples = samples.to(device)\n",
    "            labels = labels.to(device)\n",
    "            #print(labels)\n",
    "            \n",
    "            # Train Loss\n",
    "            outputs = model(samples)\n",
    "            outputs = outputs.view(-1)\n",
    "            \n",
    "            train_loss = criterion(outputs, labels)\n",
    "            #print(train_loss)\n",
    "            \n",
    "            train_loss_log.append(train_loss.item() * len(samples))\n",
    "            #print(len(samples))\n",
    "            sample_size_train += len(samples)\n",
    "             \n",
    "            # Backward and optimize\n",
    "            optimizer.zero_grad()\n",
    "            train_loss.backward()\n",
    "            optimizer.step()\n",
    "            \n",
    "        model.eval()\n",
    "        for samples, labels in valid_loader:\n",
    "            #print(samples.shape)\n",
    "            #print(labels.shape)\n",
    "            samples = samples.to(device)\n",
    "            labels = labels.to(device)\n",
    "        \n",
    "            # Valid Loss\n",
    "            outputs = model(samples)\n",
    "            outputs = outputs.view(-1)\n",
    "            \n",
    "            valid_loss = criterion(outputs, labels)\n",
    "            valid_loss_log.append(valid_loss.item() * len(samples))\n",
    "            #print(len(samples))\n",
    "            sample_size_valid += len(samples)\n",
    "        \n",
    "        history[\"train_loss\"].append(sum(train_loss_log) / sample_size_train)\n",
    "        history[\"valid_loss\"].append(sum(valid_loss_log) / sample_size_valid)\n",
    "        \n",
    "    print(\"\\n\") \n",
    "    return history"
   ]
  },
  {
   "cell_type": "code",
   "execution_count": 23,
   "id": "13174426",
   "metadata": {},
   "outputs": [],
   "source": [
    "def model_train_with_save(model, train_loader, valid_loader, num_epochs,\n",
    "                          save_path='model_weights_for_{}_epoch_{}.pt', net_name=\"\", verbose=\"no\"):\n",
    "    \n",
    "    history = {\"train_loss\": [], \"valid_loss\": [], \"epochs\": []}\n",
    "    \n",
    "    for epoch in range(num_epochs):\n",
    "        \n",
    "        if verbose == \"yes\":\n",
    "            print(f\"=======Epoch {epoch}========\")\n",
    "            \n",
    "        if verbose == \"partial\" and epoch == 0:\n",
    "            print(f\"Training started\")\n",
    "        \n",
    "        history[\"epochs\"].append(epoch)\n",
    "        \n",
    "        train_loss_log = []\n",
    "        valid_loss_log = []\n",
    "        sample_size_train = 0\n",
    "        sample_size_valid = 0\n",
    "        \n",
    "        model.train()\n",
    "        for samples, labels in train_loader:\n",
    "\n",
    "            #print(samples.shape)\n",
    "            #print(labels.shape)\n",
    "            samples = samples.to(device)\n",
    "            labels = labels.to(device)\n",
    "            #print(labels)\n",
    "            \n",
    "            # Train Loss\n",
    "            outputs = model(samples)\n",
    "            outputs = outputs.view(-1)\n",
    "            \n",
    "            train_loss = criterion(outputs, labels)\n",
    "            #print(train_loss)\n",
    "            \n",
    "            train_loss_log.append(train_loss.item() * len(samples))\n",
    "            #print(len(samples))\n",
    "            sample_size_train += len(samples)\n",
    "             \n",
    "            # Backward and optimize\n",
    "            optimizer.zero_grad()\n",
    "            train_loss.backward()\n",
    "            optimizer.step()\n",
    "            \n",
    "        model.eval()\n",
    "        for samples, labels in valid_loader:\n",
    "            #print(samples.shape)\n",
    "            #print(labels.shape)\n",
    "            samples = samples.to(device)\n",
    "            labels = labels.to(device)\n",
    "        \n",
    "            # Valid Loss\n",
    "            outputs = model(samples)\n",
    "            outputs = outputs.view(-1)\n",
    "            \n",
    "            valid_loss = criterion(outputs, labels)\n",
    "            valid_loss_log.append(valid_loss.item() * len(samples))\n",
    "            #print(len(samples))\n",
    "            sample_size_valid += len(samples)\n",
    "        \n",
    "        history[\"train_loss\"].append(sum(train_loss_log) / sample_size_train)\n",
    "        history[\"valid_loss\"].append(sum(valid_loss_log) / sample_size_valid)\n",
    "\n",
    "        # Save model weights every x epochs\n",
    "        x = 1\n",
    "        if save_path is not None and epoch % x == 0:\n",
    "            torch.save(model.state_dict(), save_path.format(net_name, epoch))\n",
    "        \n",
    "    return history"
   ]
  },
  {
   "cell_type": "code",
   "execution_count": 24,
   "id": "d3d58f9f",
   "metadata": {},
   "outputs": [],
   "source": [
    "threshold = 0.5\n",
    "\n",
    "def round_up(a):\n",
    "    if a >= threshold:\n",
    "        return 1\n",
    "    return 0\n",
    "\n",
    "#print(round_up(0.6))\n",
    "\n",
    "import torchmetrics\n",
    "\n",
    "def model_test(model, test_loader):\n",
    "    model.eval()\n",
    "    #AUROC metric\n",
    "    \n",
    "    with torch.no_grad():\n",
    "        tp = 0\n",
    "        tn = 0\n",
    "        fp = 0\n",
    "        fn = 0\n",
    "        \n",
    "        for samples, labels in test_loader:\n",
    "            outputs = model(samples)\n",
    "            #outputs = sigmoid(outputs.item())\n",
    "            #print(outputs)\n",
    "            \n",
    "            # threshold performance\n",
    "            for output, label in zip(outputs, labels):\n",
    "                predicted_wtreshold = round_up(output.item())\n",
    "            \n",
    "                if int(label) == 1:\n",
    "                    if predicted_wtreshold == 1:\n",
    "                        tp += 1\n",
    "                    elif predicted_wtreshold == 0:\n",
    "                        fn += 1\n",
    "                    \n",
    "                elif int(label) == 0:\n",
    "                    if predicted_wtreshold == 1:\n",
    "                        fp += 1\n",
    "                    elif predicted_wtreshold == 0:\n",
    "                        tn += 1\n",
    "                    \n",
    "            # ROC - AUROC\n",
    "            pred = outputs\n",
    "            pred = pred.view(-1)\n",
    "            #print(pred.shape)\n",
    "            #print(label.shape)\n",
    "\n",
    "            #roc = torchmetrics.ROC(task=\"binary\")\n",
    "            #fpr, tpr, thresholds = roc(pred, label.to(torch.long))\n",
    "            auroc = torchmetrics.AUROC(task=\"binary\")\n",
    "            auc_score = auroc(pred, labels.to(torch.long)).item()\n",
    "                    \n",
    "        tpr = tp / (tp + fn)\n",
    "        tnr = tn / (tn + fp)\n",
    "        balanced_acc = (tpr + tnr) / 2\n",
    "            \n",
    "    return auc_score, balanced_acc, tp, tn, fp, fn"
   ]
  },
  {
   "cell_type": "markdown",
   "id": "7f851ff1",
   "metadata": {},
   "source": [
    "## Train and Validation"
   ]
  },
  {
   "cell_type": "code",
   "execution_count": 125,
   "id": "9aa77ae2",
   "metadata": {
    "scrolled": false
   },
   "outputs": [
    {
     "name": "stdout",
     "output_type": "stream",
     "text": [
      "=======Epoch 0========\n",
      "=======Epoch 1========\n",
      "=======Epoch 2========\n",
      "=======Epoch 3========\n",
      "=======Epoch 4========\n",
      "=======Epoch 5========\n",
      "=======Epoch 6========\n",
      "=======Epoch 7========\n",
      "=======Epoch 8========\n",
      "=======Epoch 9========\n",
      "=======Epoch 10========\n",
      "=======Epoch 11========\n",
      "=======Epoch 12========\n",
      "=======Epoch 13========\n",
      "=======Epoch 14========\n",
      "=======Epoch 15========\n",
      "=======Epoch 16========\n",
      "=======Epoch 17========\n",
      "=======Epoch 18========\n",
      "=======Epoch 19========\n",
      "=======Epoch 20========\n",
      "=======Epoch 21========\n",
      "=======Epoch 22========\n",
      "=======Epoch 23========\n",
      "=======Epoch 24========\n",
      "=======Epoch 25========\n",
      "=======Epoch 26========\n",
      "=======Epoch 27========\n",
      "=======Epoch 28========\n",
      "=======Epoch 29========\n",
      "=======Epoch 30========\n",
      "=======Epoch 31========\n",
      "=======Epoch 32========\n",
      "=======Epoch 33========\n",
      "=======Epoch 34========\n",
      "=======Epoch 35========\n",
      "=======Epoch 36========\n",
      "=======Epoch 37========\n",
      "=======Epoch 38========\n",
      "=======Epoch 39========\n",
      "=======Epoch 40========\n",
      "=======Epoch 41========\n",
      "=======Epoch 42========\n",
      "=======Epoch 43========\n",
      "=======Epoch 44========\n",
      "=======Epoch 45========\n",
      "=======Epoch 46========\n",
      "=======Epoch 47========\n",
      "=======Epoch 48========\n",
      "=======Epoch 49========\n",
      "=======Epoch 50========\n",
      "=======Epoch 51========\n",
      "=======Epoch 52========\n",
      "=======Epoch 53========\n",
      "=======Epoch 54========\n",
      "=======Epoch 55========\n",
      "=======Epoch 56========\n",
      "=======Epoch 57========\n",
      "=======Epoch 58========\n",
      "=======Epoch 59========\n",
      "=======Epoch 60========\n",
      "=======Epoch 61========\n",
      "=======Epoch 62========\n",
      "=======Epoch 63========\n",
      "=======Epoch 64========\n",
      "=======Epoch 65========\n",
      "=======Epoch 66========\n",
      "=======Epoch 67========\n",
      "=======Epoch 68========\n",
      "=======Epoch 69========\n",
      "=======Epoch 70========\n",
      "=======Epoch 71========\n",
      "=======Epoch 72========\n",
      "=======Epoch 73========\n",
      "=======Epoch 74========\n",
      "=======Epoch 75========\n",
      "=======Epoch 76========\n",
      "=======Epoch 77========\n",
      "=======Epoch 78========\n",
      "=======Epoch 79========\n",
      "=======Epoch 80========\n",
      "=======Epoch 81========\n",
      "=======Epoch 82========\n",
      "=======Epoch 83========\n",
      "=======Epoch 84========\n",
      "=======Epoch 85========\n",
      "=======Epoch 86========\n",
      "=======Epoch 87========\n",
      "=======Epoch 88========\n",
      "=======Epoch 89========\n",
      "=======Epoch 90========\n",
      "=======Epoch 91========\n",
      "=======Epoch 92========\n",
      "=======Epoch 93========\n",
      "=======Epoch 94========\n",
      "=======Epoch 95========\n",
      "=======Epoch 96========\n",
      "=======Epoch 97========\n",
      "=======Epoch 98========\n",
      "=======Epoch 99========\n",
      "=======Epoch 100========\n",
      "=======Epoch 101========\n",
      "=======Epoch 102========\n",
      "=======Epoch 103========\n",
      "=======Epoch 104========\n",
      "=======Epoch 105========\n",
      "=======Epoch 106========\n",
      "=======Epoch 107========\n",
      "=======Epoch 108========\n",
      "=======Epoch 109========\n",
      "=======Epoch 110========\n",
      "=======Epoch 111========\n",
      "=======Epoch 112========\n",
      "=======Epoch 113========\n",
      "=======Epoch 114========\n",
      "=======Epoch 115========\n",
      "=======Epoch 116========\n",
      "=======Epoch 117========\n",
      "=======Epoch 118========\n",
      "=======Epoch 119========\n",
      "=======Epoch 120========\n",
      "=======Epoch 121========\n",
      "=======Epoch 122========\n",
      "=======Epoch 123========\n",
      "=======Epoch 124========\n",
      "=======Epoch 125========\n",
      "=======Epoch 126========\n",
      "=======Epoch 127========\n",
      "=======Epoch 128========\n",
      "=======Epoch 129========\n",
      "=======Epoch 130========\n",
      "=======Epoch 131========\n",
      "=======Epoch 132========\n",
      "=======Epoch 133========\n",
      "=======Epoch 134========\n",
      "=======Epoch 135========\n",
      "=======Epoch 136========\n",
      "=======Epoch 137========\n",
      "=======Epoch 138========\n",
      "=======Epoch 139========\n",
      "=======Epoch 140========\n",
      "=======Epoch 141========\n",
      "=======Epoch 142========\n",
      "=======Epoch 143========\n",
      "=======Epoch 144========\n",
      "=======Epoch 145========\n",
      "=======Epoch 146========\n",
      "=======Epoch 147========\n",
      "=======Epoch 148========\n",
      "=======Epoch 149========\n",
      "=======Epoch 150========\n",
      "=======Epoch 151========\n",
      "=======Epoch 152========\n",
      "=======Epoch 153========\n",
      "=======Epoch 154========\n",
      "=======Epoch 155========\n",
      "=======Epoch 156========\n",
      "=======Epoch 157========\n",
      "=======Epoch 158========\n",
      "=======Epoch 159========\n",
      "=======Epoch 160========\n",
      "=======Epoch 161========\n",
      "=======Epoch 162========\n",
      "=======Epoch 163========\n",
      "=======Epoch 164========\n",
      "=======Epoch 165========\n",
      "=======Epoch 166========\n",
      "=======Epoch 167========\n",
      "=======Epoch 168========\n",
      "=======Epoch 169========\n",
      "=======Epoch 170========\n",
      "=======Epoch 171========\n",
      "=======Epoch 172========\n",
      "=======Epoch 173========\n",
      "=======Epoch 174========\n",
      "=======Epoch 175========\n",
      "=======Epoch 176========\n",
      "=======Epoch 177========\n",
      "=======Epoch 178========\n",
      "=======Epoch 179========\n",
      "=======Epoch 180========\n",
      "=======Epoch 181========\n",
      "=======Epoch 182========\n",
      "=======Epoch 183========\n",
      "=======Epoch 184========\n",
      "=======Epoch 185========\n",
      "=======Epoch 186========\n",
      "=======Epoch 187========\n",
      "=======Epoch 188========\n",
      "=======Epoch 189========\n",
      "=======Epoch 190========\n",
      "=======Epoch 191========\n",
      "=======Epoch 192========\n",
      "=======Epoch 193========\n",
      "=======Epoch 194========\n",
      "=======Epoch 195========\n",
      "=======Epoch 196========\n",
      "=======Epoch 197========\n",
      "=======Epoch 198========\n",
      "=======Epoch 199========\n",
      "=======Epoch 200========\n",
      "=======Epoch 201========\n",
      "=======Epoch 202========\n",
      "=======Epoch 203========\n",
      "=======Epoch 204========\n",
      "=======Epoch 205========\n",
      "=======Epoch 206========\n",
      "=======Epoch 207========\n",
      "=======Epoch 208========\n",
      "=======Epoch 209========\n",
      "=======Epoch 210========\n",
      "=======Epoch 211========\n",
      "=======Epoch 212========\n",
      "=======Epoch 213========\n",
      "=======Epoch 214========\n",
      "=======Epoch 215========\n",
      "=======Epoch 216========\n",
      "=======Epoch 217========\n",
      "=======Epoch 218========\n",
      "=======Epoch 219========\n",
      "=======Epoch 220========\n",
      "=======Epoch 221========\n",
      "=======Epoch 222========\n",
      "=======Epoch 223========\n",
      "=======Epoch 224========\n",
      "=======Epoch 225========\n",
      "=======Epoch 226========\n",
      "=======Epoch 227========\n",
      "=======Epoch 228========\n",
      "=======Epoch 229========\n",
      "=======Epoch 230========\n",
      "=======Epoch 231========\n",
      "=======Epoch 232========\n",
      "=======Epoch 233========\n",
      "=======Epoch 234========\n",
      "=======Epoch 235========\n",
      "=======Epoch 236========\n",
      "=======Epoch 237========\n",
      "=======Epoch 238========\n",
      "=======Epoch 239========\n",
      "=======Epoch 240========\n",
      "=======Epoch 241========\n",
      "=======Epoch 242========\n",
      "=======Epoch 243========\n",
      "=======Epoch 244========\n",
      "=======Epoch 245========\n",
      "=======Epoch 246========\n",
      "=======Epoch 247========\n",
      "=======Epoch 248========\n",
      "=======Epoch 249========\n",
      "=======Epoch 250========\n",
      "=======Epoch 251========\n",
      "=======Epoch 252========\n",
      "=======Epoch 253========\n",
      "=======Epoch 254========\n",
      "=======Epoch 255========\n",
      "=======Epoch 256========\n",
      "=======Epoch 257========\n",
      "=======Epoch 258========\n",
      "=======Epoch 259========\n",
      "=======Epoch 260========\n",
      "=======Epoch 261========\n",
      "=======Epoch 262========\n",
      "=======Epoch 263========\n",
      "=======Epoch 264========\n",
      "=======Epoch 265========\n",
      "=======Epoch 266========\n",
      "=======Epoch 267========\n",
      "=======Epoch 268========\n",
      "=======Epoch 269========\n",
      "=======Epoch 270========\n",
      "=======Epoch 271========\n",
      "=======Epoch 272========\n",
      "=======Epoch 273========\n",
      "=======Epoch 274========\n",
      "=======Epoch 275========\n",
      "=======Epoch 276========\n",
      "=======Epoch 277========\n",
      "=======Epoch 278========\n",
      "=======Epoch 279========\n",
      "=======Epoch 280========\n",
      "=======Epoch 281========\n",
      "=======Epoch 282========\n",
      "=======Epoch 283========\n",
      "=======Epoch 284========\n",
      "=======Epoch 285========\n",
      "=======Epoch 286========\n",
      "=======Epoch 287========\n",
      "=======Epoch 288========\n",
      "=======Epoch 289========\n",
      "=======Epoch 290========\n",
      "=======Epoch 291========\n",
      "=======Epoch 292========\n",
      "=======Epoch 293========\n",
      "=======Epoch 294========\n",
      "=======Epoch 295========\n",
      "=======Epoch 296========\n",
      "=======Epoch 297========\n",
      "=======Epoch 298========\n",
      "=======Epoch 299========\n",
      "=======Epoch 300========\n",
      "Sensitivity(Last Model): 0.8888888888888888 , Specificity(Last Model): 0.8202531645569621\n",
      "Balanced Accuracy(Last Model): 0.8545710267229254\n",
      "AUROC Score(Last Model): 0.9097045660018921\n",
      "------------------------------------------------------\n",
      "Best epoch was: 90\n",
      "Sensitivity(Best Model): 0.9444444444444444 , Specificity(Best Model): 0.7848101265822784\n",
      "Balanced Accuracy(Best Model): 0.8646272855133614\n",
      "AUROC Score(Best Model): 0.9225034713745117\n"
     ]
    },
    {
     "data": {
      "application/vnd.plotly.v1+json": {
       "config": {
        "plotlyServerURL": "https://plot.ly"
       },
       "data": [
        {
         "hovertemplate": "variable=train_loss<br>epochs=%{x}<br>value=%{y}<extra></extra>",
         "legendgroup": "train_loss",
         "line": {
          "color": "#636efa",
          "dash": "solid"
         },
         "marker": {
          "symbol": "circle"
         },
         "mode": "lines",
         "name": "train_loss",
         "orientation": "v",
         "showlegend": true,
         "type": "scatter",
         "x": [
          0,
          1,
          2,
          3,
          4,
          5,
          6,
          7,
          8,
          9,
          10,
          11,
          12,
          13,
          14,
          15,
          16,
          17,
          18,
          19,
          20,
          21,
          22,
          23,
          24,
          25,
          26,
          27,
          28,
          29,
          30,
          31,
          32,
          33,
          34,
          35,
          36,
          37,
          38,
          39,
          40,
          41,
          42,
          43,
          44,
          45,
          46,
          47,
          48,
          49,
          50,
          51,
          52,
          53,
          54,
          55,
          56,
          57,
          58,
          59,
          60,
          61,
          62,
          63,
          64,
          65,
          66,
          67,
          68,
          69,
          70,
          71,
          72,
          73,
          74,
          75,
          76,
          77,
          78,
          79,
          80,
          81,
          82,
          83,
          84,
          85,
          86,
          87,
          88,
          89,
          90,
          91,
          92,
          93,
          94,
          95,
          96,
          97,
          98,
          99,
          100,
          101,
          102,
          103,
          104,
          105,
          106,
          107,
          108,
          109,
          110,
          111,
          112,
          113,
          114,
          115,
          116,
          117,
          118,
          119,
          120,
          121,
          122,
          123,
          124,
          125,
          126,
          127,
          128,
          129,
          130,
          131,
          132,
          133,
          134,
          135,
          136,
          137,
          138,
          139,
          140,
          141,
          142,
          143,
          144,
          145,
          146,
          147,
          148,
          149,
          150,
          151,
          152,
          153,
          154,
          155,
          156,
          157,
          158,
          159,
          160,
          161,
          162,
          163,
          164,
          165,
          166,
          167,
          168,
          169,
          170,
          171,
          172,
          173,
          174,
          175,
          176,
          177,
          178,
          179,
          180,
          181,
          182,
          183,
          184,
          185,
          186,
          187,
          188,
          189,
          190,
          191,
          192,
          193,
          194,
          195,
          196,
          197,
          198,
          199,
          200,
          201,
          202,
          203,
          204,
          205,
          206,
          207,
          208,
          209,
          210,
          211,
          212,
          213,
          214,
          215,
          216,
          217,
          218,
          219,
          220,
          221,
          222,
          223,
          224,
          225,
          226,
          227,
          228,
          229,
          230,
          231,
          232,
          233,
          234,
          235,
          236,
          237,
          238,
          239,
          240,
          241,
          242,
          243,
          244,
          245,
          246,
          247,
          248,
          249,
          250,
          251,
          252,
          253,
          254,
          255,
          256,
          257,
          258,
          259,
          260,
          261,
          262,
          263,
          264,
          265,
          266,
          267,
          268,
          269,
          270,
          271,
          272,
          273,
          274,
          275,
          276,
          277,
          278,
          279,
          280,
          281,
          282,
          283,
          284,
          285,
          286,
          287,
          288,
          289,
          290,
          291,
          292,
          293,
          294,
          295,
          296,
          297,
          298,
          299,
          300
         ],
         "xaxis": "x",
         "y": [
          0.6828956794702642,
          0.6471986889275454,
          0.6150014316998924,
          0.5860842542798931,
          0.5614924450297006,
          0.5411632391869904,
          0.5285276592335291,
          0.5155958806628131,
          0.5101539257184654,
          0.5024906843830605,
          0.49838827881868236,
          0.496403675266712,
          0.4964877535924915,
          0.49687647283363773,
          0.4927815456628139,
          0.4927706422780808,
          0.49361028263440937,
          0.48681816000252737,
          0.48902646415282075,
          0.48965033802624,
          0.48933528019400496,
          0.4887103516745124,
          0.4858838377505064,
          0.4874420862036422,
          0.48395984160627914,
          0.48341078029890794,
          0.4845388753792998,
          0.48298297796080336,
          0.48460885876771587,
          0.48389854618269446,
          0.48356585660948376,
          0.4835979386678259,
          0.48505359590489583,
          0.4818678688733278,
          0.4813552036038984,
          0.4820022764931541,
          0.48164719917181453,
          0.4805617466762044,
          0.4810266631740751,
          0.47973084236505026,
          0.4813766362505069,
          0.4792536309524033,
          0.4773654917110805,
          0.47881181007322193,
          0.47821787909204305,
          0.4782113047110921,
          0.47650493769103025,
          0.4779024797422919,
          0.4761602586861912,
          0.47684919780412427,
          0.47584313845865556,
          0.47587391292569853,
          0.47687096482366464,
          0.4771360792519406,
          0.47368703347467583,
          0.4757315143428946,
          0.47336374709166784,
          0.47466786212931855,
          0.47518453433018065,
          0.47405729868037283,
          0.4728274291533265,
          0.47473424541805714,
          0.47172553165664816,
          0.4741139609406754,
          0.47435530099216977,
          0.4727570604284189,
          0.4726481289216525,
          0.4722570081245614,
          0.4705260018483762,
          0.47152280721224415,
          0.4719785829074194,
          0.4695091318607343,
          0.47179082530906974,
          0.4714362148181101,
          0.4699260838433348,
          0.471088928256442,
          0.467754351432009,
          0.4684496006046309,
          0.4673152120338362,
          0.47071770940990904,
          0.468437022975787,
          0.46796773553551746,
          0.46632482737305897,
          0.46753906426770847,
          0.4670117073067055,
          0.46764861870966234,
          0.46643328648311666,
          0.4683996860024722,
          0.46614926884491775,
          0.46652331991960716,
          0.4685892741257076,
          0.46509496437704717,
          0.46468697357578254,
          0.46421393333202443,
          0.4642645508862237,
          0.46386298304603746,
          0.4630168691294633,
          0.4630458625737172,
          0.46416322407160376,
          0.46342854068027367,
          0.46117665678300085,
          0.4631511938554489,
          0.4629438832855384,
          0.4619889880471848,
          0.46126131885542443,
          0.46263308175844836,
          0.4601268524751542,
          0.46218294853457265,
          0.4603457653501625,
          0.4591880905717278,
          0.46186195617980225,
          0.4594193010469604,
          0.4595401570059212,
          0.4614606917983612,
          0.4599994517717195,
          0.460008631950605,
          0.45863287861425184,
          0.4585551722517319,
          0.4599135299189385,
          0.45729402735267194,
          0.4589418442681399,
          0.4589028613736655,
          0.45751084490001903,
          0.45863411606077564,
          0.4579433436266169,
          0.4553567417427681,
          0.45801897032568106,
          0.45465087316551106,
          0.4558818324690254,
          0.4553567043247984,
          0.45518711916280896,
          0.45403789325323035,
          0.453857684404994,
          0.45540559767885685,
          0.45511122545670635,
          0.4529146785530654,
          0.4533037187905132,
          0.45643887489454815,
          0.4549010565002419,
          0.45395885895338534,
          0.45489080476139837,
          0.45252162885212427,
          0.4528334639909649,
          0.4521012682884648,
          0.45395650677028676,
          0.45300154424701594,
          0.4529127457537974,
          0.4506042343427587,
          0.45320749401887367,
          0.44939978636956185,
          0.4521487024935364,
          0.4513289742152299,
          0.4513029240975747,
          0.44886202851795254,
          0.4516466613487149,
          0.45058207574689485,
          0.448794164137259,
          0.44848633436872515,
          0.4493672297195913,
          0.45045079118014003,
          0.44956533429948176,
          0.4484509633216929,
          0.44716950825204643,
          0.4494481149090347,
          0.4496025551740796,
          0.44880549529152164,
          0.4458939839263099,
          0.4490591096594947,
          0.4481606631030644,
          0.44834643658665185,
          0.44940886979990585,
          0.44729955861210036,
          0.4471186324611442,
          0.44692420490200535,
          0.4450987548902062,
          0.4467357574790881,
          0.446914650588583,
          0.4479369297133106,
          0.44528013380350073,
          0.4482444132770574,
          0.44397396754447366,
          0.4439560131767736,
          0.44361253885895074,
          0.4428173593732179,
          0.4431094635744767,
          0.4446419779059842,
          0.44685608773959545,
          0.4412515575691243,
          0.44406662072625475,
          0.44312982481295743,
          0.44258710267118606,
          0.44369602994754875,
          0.4431295255237032,
          0.44346581329365287,
          0.4412509686213225,
          0.44438766212763114,
          0.44040266724729854,
          0.4402106535727171,
          0.4426296327957253,
          0.44036472839102725,
          0.4401760614885969,
          0.4406924956399441,
          0.43951583879409334,
          0.4415441508684142,
          0.44108462735367415,
          0.4406375273710222,
          0.4398528149614066,
          0.43718147052266854,
          0.4403021367470577,
          0.4380848079566323,
          0.4408097378298374,
          0.4393339462423352,
          0.43888606642627803,
          0.4368070111944703,
          0.4401970110348567,
          0.43939941318440756,
          0.4384755957355842,
          0.4388990095477952,
          0.4379597296409814,
          0.43702475483676134,
          0.43671264854708564,
          0.4375484013634673,
          0.4364053715541702,
          0.43529400815129315,
          0.43692239611556083,
          0.4368473224903252,
          0.43477076497826284,
          0.43528300069590975,
          0.43872590810574386,
          0.4337977812602012,
          0.43770172944424207,
          0.4354861631603285,
          0.4349427653546866,
          0.43439466434999346,
          0.437075308955523,
          0.43293303331230387,
          0.4344563358336335,
          0.4339813582925403,
          0.43426633678467774,
          0.4316022247948085,
          0.4352306884013008,
          0.435229728280819,
          0.43272415786118873,
          0.43303113428791906,
          0.4314224085709134,
          0.4324172961542457,
          0.43134854601189837,
          0.4310796472710843,
          0.43528324563773724,
          0.43272226340955844,
          0.431848621629089,
          0.4317244880126429,
          0.43014543961271473,
          0.4317017573774116,
          0.4325866367216705,
          0.43255862091131775,
          0.4313705865134514,
          0.43002805688411344,
          0.43059007242541536,
          0.42898871013846984,
          0.4307748111776018,
          0.4295981771818073,
          0.43374859828419016,
          0.43108751179064714,
          0.4299961595649766,
          0.4302508784159247,
          0.42875435366979003,
          0.43110048394287775,
          0.42983035644040807,
          0.42963553464129894,
          0.4301424318197902,
          0.4284719816950287,
          0.43190530206541344,
          0.42954970820328947,
          0.4278180507943229,
          0.4298117291970629,
          0.4265716945580622,
          0.42591128579058335,
          0.4290579957308434,
          0.42823672763188064,
          0.42689929852955694,
          0.4278588113331698,
          0.424945744985304,
          0.4267271966651535,
          0.4285718504149085,
          0.428633687024406,
          0.4287679119956121,
          0.42715475456830987,
          0.4267773733114496,
          0.42720415513646776,
          0.42572344955742475,
          0.42707668327994946,
          0.42540844820057516,
          0.4261919291987229,
          0.4244531560142233,
          0.4244735563587141,
          0.4244752235485601,
          0.4270877972734187,
          0.4269667989615737,
          0.4248032540321188,
          0.4224598411319211
         ],
         "yaxis": "y"
        },
        {
         "hovertemplate": "variable=valid_loss<br>epochs=%{x}<br>value=%{y}<extra></extra>",
         "legendgroup": "valid_loss",
         "line": {
          "color": "#EF553B",
          "dash": "solid"
         },
         "marker": {
          "symbol": "circle"
         },
         "mode": "lines",
         "name": "valid_loss",
         "orientation": "v",
         "showlegend": true,
         "type": "scatter",
         "x": [
          0,
          1,
          2,
          3,
          4,
          5,
          6,
          7,
          8,
          9,
          10,
          11,
          12,
          13,
          14,
          15,
          16,
          17,
          18,
          19,
          20,
          21,
          22,
          23,
          24,
          25,
          26,
          27,
          28,
          29,
          30,
          31,
          32,
          33,
          34,
          35,
          36,
          37,
          38,
          39,
          40,
          41,
          42,
          43,
          44,
          45,
          46,
          47,
          48,
          49,
          50,
          51,
          52,
          53,
          54,
          55,
          56,
          57,
          58,
          59,
          60,
          61,
          62,
          63,
          64,
          65,
          66,
          67,
          68,
          69,
          70,
          71,
          72,
          73,
          74,
          75,
          76,
          77,
          78,
          79,
          80,
          81,
          82,
          83,
          84,
          85,
          86,
          87,
          88,
          89,
          90,
          91,
          92,
          93,
          94,
          95,
          96,
          97,
          98,
          99,
          100,
          101,
          102,
          103,
          104,
          105,
          106,
          107,
          108,
          109,
          110,
          111,
          112,
          113,
          114,
          115,
          116,
          117,
          118,
          119,
          120,
          121,
          122,
          123,
          124,
          125,
          126,
          127,
          128,
          129,
          130,
          131,
          132,
          133,
          134,
          135,
          136,
          137,
          138,
          139,
          140,
          141,
          142,
          143,
          144,
          145,
          146,
          147,
          148,
          149,
          150,
          151,
          152,
          153,
          154,
          155,
          156,
          157,
          158,
          159,
          160,
          161,
          162,
          163,
          164,
          165,
          166,
          167,
          168,
          169,
          170,
          171,
          172,
          173,
          174,
          175,
          176,
          177,
          178,
          179,
          180,
          181,
          182,
          183,
          184,
          185,
          186,
          187,
          188,
          189,
          190,
          191,
          192,
          193,
          194,
          195,
          196,
          197,
          198,
          199,
          200,
          201,
          202,
          203,
          204,
          205,
          206,
          207,
          208,
          209,
          210,
          211,
          212,
          213,
          214,
          215,
          216,
          217,
          218,
          219,
          220,
          221,
          222,
          223,
          224,
          225,
          226,
          227,
          228,
          229,
          230,
          231,
          232,
          233,
          234,
          235,
          236,
          237,
          238,
          239,
          240,
          241,
          242,
          243,
          244,
          245,
          246,
          247,
          248,
          249,
          250,
          251,
          252,
          253,
          254,
          255,
          256,
          257,
          258,
          259,
          260,
          261,
          262,
          263,
          264,
          265,
          266,
          267,
          268,
          269,
          270,
          271,
          272,
          273,
          274,
          275,
          276,
          277,
          278,
          279,
          280,
          281,
          282,
          283,
          284,
          285,
          286,
          287,
          288,
          289,
          290,
          291,
          292,
          293,
          294,
          295,
          296,
          297,
          298,
          299,
          300
         ],
         "xaxis": "x",
         "y": [
          0.6613651104365723,
          0.6288570920877818,
          0.5952052308034294,
          0.5620648882811583,
          0.5313961169387721,
          0.5038181240422817,
          0.47899453998366487,
          0.45592078781580625,
          0.43411935273605057,
          0.4143228164579295,
          0.3984608537411388,
          0.38695159354541875,
          0.3791986696327789,
          0.37473318539088285,
          0.3731309747771372,
          0.37369347599488273,
          0.3755620574649376,
          0.378062731178501,
          0.380585099700131,
          0.38286109049863454,
          0.38455016469653647,
          0.3856888960056667,
          0.38622462681577174,
          0.3863543248252024,
          0.38607845808131785,
          0.38529987346522415,
          0.3842335757198213,
          0.3830834928947159,
          0.3819710056615781,
          0.38107868414136425,
          0.3804138504251649,
          0.3800572815575177,
          0.3798513869318781,
          0.37976454315306263,
          0.3798514828651766,
          0.38004616910143746,
          0.3802146527586104,
          0.38047688278970837,
          0.3806821951383277,
          0.3807661816666398,
          0.38074821320515645,
          0.3805863624132132,
          0.3804444361713868,
          0.380217583798155,
          0.37996586614017247,
          0.3798781897448286,
          0.37963179172594336,
          0.3795159960849376,
          0.37923594053033033,
          0.37901269555846345,
          0.3787310236239735,
          0.3785571389183213,
          0.3786318214256552,
          0.37913342978380904,
          0.3794148142201991,
          0.37967864716354804,
          0.37970952817910836,
          0.3796422612817982,
          0.37942792478995985,
          0.37903238036964515,
          0.3788216847030422,
          0.3787312692856487,
          0.3785786219790012,
          0.3784470504975017,
          0.3785388528168956,
          0.37857771730875667,
          0.3786098050543025,
          0.37866514136519613,
          0.3787180307922484,
          0.37896084374264827,
          0.3794078858970087,
          0.37972947860820383,
          0.37933477514152286,
          0.3788022991599916,
          0.37820633755454536,
          0.3776010020624233,
          0.3771512703050541,
          0.37698477657535406,
          0.37715839241878896,
          0.3778412781184233,
          0.3785701148117645,
          0.3788520694533481,
          0.37796714717074287,
          0.37713932975938047,
          0.3768619675802279,
          0.37751907913745203,
          0.37789900465102133,
          0.3782149293754674,
          0.3784164040903502,
          0.37879474751556974,
          0.37871095436283303,
          0.3789022734648065,
          0.37905781419971324,
          0.37867776080022886,
          0.3781708235227609,
          0.37771658180635187,
          0.3768704239326187,
          0.37610759388042403,
          0.3755109710029409,
          0.37595627466334575,
          0.3766493337818339,
          0.3773198860732815,
          0.3776436103295676,
          0.3775419681509839,
          0.3771244156586973,
          0.3767901821604258,
          0.3768404892351054,
          0.3768976844187024,
          0.3769198211310785,
          0.37670415304129634,
          0.37718780417985553,
          0.37657436155065704,
          0.37590865032582343,
          0.37636798292021206,
          0.376763803596738,
          0.3759271769206735,
          0.3753055331827719,
          0.37591367541234705,
          0.37624833542334885,
          0.37633242007297807,
          0.3764478168532818,
          0.3772072765268857,
          0.37713947522489333,
          0.37679103360145905,
          0.37635156184057644,
          0.37584626587885844,
          0.37570336351666267,
          0.37476030648509157,
          0.37485522646692737,
          0.37505058676381653,
          0.37539660685424564,
          0.37553931240794025,
          0.3754240713542021,
          0.37526922271221497,
          0.37577221284184276,
          0.3772311227985575,
          0.3774618971196911,
          0.3768946165525461,
          0.3761221182497242,
          0.37557104931602,
          0.3761343468593646,
          0.3755235994163948,
          0.37578656254689907,
          0.3753951796625234,
          0.37513191775430604,
          0.3760285950914214,
          0.37581693647028525,
          0.37640589283236975,
          0.37642911665047274,
          0.37562479920025116,
          0.37633492463751683,
          0.3766591854865038,
          0.37652746774727786,
          0.37610734354091596,
          0.3761932559405701,
          0.37546743878835365,
          0.3757579291545892,
          0.37688608018657827,
          0.3760524174457864,
          0.3761969928122774,
          0.3765170126776152,
          0.37596073848537254,
          0.37541431709180906,
          0.3746407057665571,
          0.3755571192955669,
          0.37763256834277625,
          0.37754316571392593,
          0.37742633778083173,
          0.37693281117119365,
          0.3765393660415577,
          0.37764592570594596,
          0.3778787259436861,
          0.37649488098259215,
          0.3761398132088818,
          0.3772951932270316,
          0.37686097791677786,
          0.37985746060745623,
          0.37991795324826544,
          0.3785401803405979,
          0.3789457133299188,
          0.37740608091595806,
          0.3756838096848017,
          0.376678669679014,
          0.3762181247336955,
          0.37633441701720033,
          0.37789272186876854,
          0.37825460384918164,
          0.37726999325088306,
          0.37944830037370514,
          0.379121688875971,
          0.37855466098725044,
          0.38037375094769876,
          0.3784726904540122,
          0.3789226084947586,
          0.3776728945442393,
          0.377144794071777,
          0.3776310766045051,
          0.37832836776594575,
          0.37862288699119906,
          0.37901930469500866,
          0.38009606543221053,
          0.37967637849004965,
          0.3791286834055864,
          0.3808833426312555,
          0.37869284466097625,
          0.37966341923309277,
          0.3812468004754827,
          0.37924204842199255,
          0.38080795893940744,
          0.3787642663792719,
          0.37865065532394604,
          0.3818710592728627,
          0.38061053402061706,
          0.3778920057453687,
          0.3782970918130271,
          0.3793036176434046,
          0.3815181974746004,
          0.3816715550950811,
          0.3804487294411357,
          0.3792209161610543,
          0.3794960693845266,
          0.37878511076486565,
          0.38006664733343487,
          0.38033515663841105,
          0.380500835708425,
          0.38058983193168155,
          0.3798694400093223,
          0.38141751923138584,
          0.381460802992688,
          0.3813719591762446,
          0.3823106648424004,
          0.38006929181799104,
          0.37976846129079406,
          0.37751477643658843,
          0.3784109236696098,
          0.3807212612674206,
          0.38046274981166744,
          0.38272989196113394,
          0.3836834888292264,
          0.38256718029704273,
          0.38286983042578154,
          0.38225894385500797,
          0.382375527522232,
          0.3839518806979626,
          0.3831011151588416,
          0.38249611224554764,
          0.3851696279229997,
          0.3837408830093432,
          0.3839708863179895,
          0.38530197467985033,
          0.38291796989078764,
          0.3832537127823769,
          0.38429109246670445,
          0.3821853572431999,
          0.3861883639534818,
          0.38411373960066447,
          0.3869190201351914,
          0.38612417642828784,
          0.3837929156007646,
          0.38369414957263803,
          0.38357994941216483,
          0.38822159039068826,
          0.38359954836247845,
          0.38588360329217547,
          0.38452007016049156,
          0.3841013393447369,
          0.3909065480096431,
          0.3840960159709182,
          0.3851895841239374,
          0.3892051188628885,
          0.3857843379431133,
          0.387082810228384,
          0.3879974358066728,
          0.3852867263027384,
          0.38748894209348705,
          0.38897329689581184,
          0.38741797469084777,
          0.3890537712015683,
          0.3885231000713155,
          0.3883335312333288,
          0.38937215801281266,
          0.3899791673768925,
          0.39019349138193493,
          0.3868857668170446,
          0.38558552053910267,
          0.38541387704354296,
          0.3881038170072097,
          0.38740089901640445,
          0.3858214854062358,
          0.3870432466645784,
          0.3871623333119139,
          0.38886924103091036,
          0.3870758467837225,
          0.3852119621596759,
          0.3846990629464765,
          0.3831995862948744,
          0.39026974896086924,
          0.3874520076981074,
          0.38740097386173056,
          0.3870745301246643,
          0.3837669781491726
         ],
         "yaxis": "y"
        }
       ],
       "layout": {
        "legend": {
         "title": {
          "text": "Loss Type"
         },
         "tracegroupgap": 0
        },
        "margin": {
         "t": 60
        },
        "template": {
         "data": {
          "bar": [
           {
            "error_x": {
             "color": "#2a3f5f"
            },
            "error_y": {
             "color": "#2a3f5f"
            },
            "marker": {
             "line": {
              "color": "#E5ECF6",
              "width": 0.5
             },
             "pattern": {
              "fillmode": "overlay",
              "size": 10,
              "solidity": 0.2
             }
            },
            "type": "bar"
           }
          ],
          "barpolar": [
           {
            "marker": {
             "line": {
              "color": "#E5ECF6",
              "width": 0.5
             },
             "pattern": {
              "fillmode": "overlay",
              "size": 10,
              "solidity": 0.2
             }
            },
            "type": "barpolar"
           }
          ],
          "carpet": [
           {
            "aaxis": {
             "endlinecolor": "#2a3f5f",
             "gridcolor": "white",
             "linecolor": "white",
             "minorgridcolor": "white",
             "startlinecolor": "#2a3f5f"
            },
            "baxis": {
             "endlinecolor": "#2a3f5f",
             "gridcolor": "white",
             "linecolor": "white",
             "minorgridcolor": "white",
             "startlinecolor": "#2a3f5f"
            },
            "type": "carpet"
           }
          ],
          "choropleth": [
           {
            "colorbar": {
             "outlinewidth": 0,
             "ticks": ""
            },
            "type": "choropleth"
           }
          ],
          "contour": [
           {
            "colorbar": {
             "outlinewidth": 0,
             "ticks": ""
            },
            "colorscale": [
             [
              0,
              "#0d0887"
             ],
             [
              0.1111111111111111,
              "#46039f"
             ],
             [
              0.2222222222222222,
              "#7201a8"
             ],
             [
              0.3333333333333333,
              "#9c179e"
             ],
             [
              0.4444444444444444,
              "#bd3786"
             ],
             [
              0.5555555555555556,
              "#d8576b"
             ],
             [
              0.6666666666666666,
              "#ed7953"
             ],
             [
              0.7777777777777778,
              "#fb9f3a"
             ],
             [
              0.8888888888888888,
              "#fdca26"
             ],
             [
              1,
              "#f0f921"
             ]
            ],
            "type": "contour"
           }
          ],
          "contourcarpet": [
           {
            "colorbar": {
             "outlinewidth": 0,
             "ticks": ""
            },
            "type": "contourcarpet"
           }
          ],
          "heatmap": [
           {
            "colorbar": {
             "outlinewidth": 0,
             "ticks": ""
            },
            "colorscale": [
             [
              0,
              "#0d0887"
             ],
             [
              0.1111111111111111,
              "#46039f"
             ],
             [
              0.2222222222222222,
              "#7201a8"
             ],
             [
              0.3333333333333333,
              "#9c179e"
             ],
             [
              0.4444444444444444,
              "#bd3786"
             ],
             [
              0.5555555555555556,
              "#d8576b"
             ],
             [
              0.6666666666666666,
              "#ed7953"
             ],
             [
              0.7777777777777778,
              "#fb9f3a"
             ],
             [
              0.8888888888888888,
              "#fdca26"
             ],
             [
              1,
              "#f0f921"
             ]
            ],
            "type": "heatmap"
           }
          ],
          "heatmapgl": [
           {
            "colorbar": {
             "outlinewidth": 0,
             "ticks": ""
            },
            "colorscale": [
             [
              0,
              "#0d0887"
             ],
             [
              0.1111111111111111,
              "#46039f"
             ],
             [
              0.2222222222222222,
              "#7201a8"
             ],
             [
              0.3333333333333333,
              "#9c179e"
             ],
             [
              0.4444444444444444,
              "#bd3786"
             ],
             [
              0.5555555555555556,
              "#d8576b"
             ],
             [
              0.6666666666666666,
              "#ed7953"
             ],
             [
              0.7777777777777778,
              "#fb9f3a"
             ],
             [
              0.8888888888888888,
              "#fdca26"
             ],
             [
              1,
              "#f0f921"
             ]
            ],
            "type": "heatmapgl"
           }
          ],
          "histogram": [
           {
            "marker": {
             "pattern": {
              "fillmode": "overlay",
              "size": 10,
              "solidity": 0.2
             }
            },
            "type": "histogram"
           }
          ],
          "histogram2d": [
           {
            "colorbar": {
             "outlinewidth": 0,
             "ticks": ""
            },
            "colorscale": [
             [
              0,
              "#0d0887"
             ],
             [
              0.1111111111111111,
              "#46039f"
             ],
             [
              0.2222222222222222,
              "#7201a8"
             ],
             [
              0.3333333333333333,
              "#9c179e"
             ],
             [
              0.4444444444444444,
              "#bd3786"
             ],
             [
              0.5555555555555556,
              "#d8576b"
             ],
             [
              0.6666666666666666,
              "#ed7953"
             ],
             [
              0.7777777777777778,
              "#fb9f3a"
             ],
             [
              0.8888888888888888,
              "#fdca26"
             ],
             [
              1,
              "#f0f921"
             ]
            ],
            "type": "histogram2d"
           }
          ],
          "histogram2dcontour": [
           {
            "colorbar": {
             "outlinewidth": 0,
             "ticks": ""
            },
            "colorscale": [
             [
              0,
              "#0d0887"
             ],
             [
              0.1111111111111111,
              "#46039f"
             ],
             [
              0.2222222222222222,
              "#7201a8"
             ],
             [
              0.3333333333333333,
              "#9c179e"
             ],
             [
              0.4444444444444444,
              "#bd3786"
             ],
             [
              0.5555555555555556,
              "#d8576b"
             ],
             [
              0.6666666666666666,
              "#ed7953"
             ],
             [
              0.7777777777777778,
              "#fb9f3a"
             ],
             [
              0.8888888888888888,
              "#fdca26"
             ],
             [
              1,
              "#f0f921"
             ]
            ],
            "type": "histogram2dcontour"
           }
          ],
          "mesh3d": [
           {
            "colorbar": {
             "outlinewidth": 0,
             "ticks": ""
            },
            "type": "mesh3d"
           }
          ],
          "parcoords": [
           {
            "line": {
             "colorbar": {
              "outlinewidth": 0,
              "ticks": ""
             }
            },
            "type": "parcoords"
           }
          ],
          "pie": [
           {
            "automargin": true,
            "type": "pie"
           }
          ],
          "scatter": [
           {
            "fillpattern": {
             "fillmode": "overlay",
             "size": 10,
             "solidity": 0.2
            },
            "type": "scatter"
           }
          ],
          "scatter3d": [
           {
            "line": {
             "colorbar": {
              "outlinewidth": 0,
              "ticks": ""
             }
            },
            "marker": {
             "colorbar": {
              "outlinewidth": 0,
              "ticks": ""
             }
            },
            "type": "scatter3d"
           }
          ],
          "scattercarpet": [
           {
            "marker": {
             "colorbar": {
              "outlinewidth": 0,
              "ticks": ""
             }
            },
            "type": "scattercarpet"
           }
          ],
          "scattergeo": [
           {
            "marker": {
             "colorbar": {
              "outlinewidth": 0,
              "ticks": ""
             }
            },
            "type": "scattergeo"
           }
          ],
          "scattergl": [
           {
            "marker": {
             "colorbar": {
              "outlinewidth": 0,
              "ticks": ""
             }
            },
            "type": "scattergl"
           }
          ],
          "scattermapbox": [
           {
            "marker": {
             "colorbar": {
              "outlinewidth": 0,
              "ticks": ""
             }
            },
            "type": "scattermapbox"
           }
          ],
          "scatterpolar": [
           {
            "marker": {
             "colorbar": {
              "outlinewidth": 0,
              "ticks": ""
             }
            },
            "type": "scatterpolar"
           }
          ],
          "scatterpolargl": [
           {
            "marker": {
             "colorbar": {
              "outlinewidth": 0,
              "ticks": ""
             }
            },
            "type": "scatterpolargl"
           }
          ],
          "scatterternary": [
           {
            "marker": {
             "colorbar": {
              "outlinewidth": 0,
              "ticks": ""
             }
            },
            "type": "scatterternary"
           }
          ],
          "surface": [
           {
            "colorbar": {
             "outlinewidth": 0,
             "ticks": ""
            },
            "colorscale": [
             [
              0,
              "#0d0887"
             ],
             [
              0.1111111111111111,
              "#46039f"
             ],
             [
              0.2222222222222222,
              "#7201a8"
             ],
             [
              0.3333333333333333,
              "#9c179e"
             ],
             [
              0.4444444444444444,
              "#bd3786"
             ],
             [
              0.5555555555555556,
              "#d8576b"
             ],
             [
              0.6666666666666666,
              "#ed7953"
             ],
             [
              0.7777777777777778,
              "#fb9f3a"
             ],
             [
              0.8888888888888888,
              "#fdca26"
             ],
             [
              1,
              "#f0f921"
             ]
            ],
            "type": "surface"
           }
          ],
          "table": [
           {
            "cells": {
             "fill": {
              "color": "#EBF0F8"
             },
             "line": {
              "color": "white"
             }
            },
            "header": {
             "fill": {
              "color": "#C8D4E3"
             },
             "line": {
              "color": "white"
             }
            },
            "type": "table"
           }
          ]
         },
         "layout": {
          "annotationdefaults": {
           "arrowcolor": "#2a3f5f",
           "arrowhead": 0,
           "arrowwidth": 1
          },
          "autotypenumbers": "strict",
          "coloraxis": {
           "colorbar": {
            "outlinewidth": 0,
            "ticks": ""
           }
          },
          "colorscale": {
           "diverging": [
            [
             0,
             "#8e0152"
            ],
            [
             0.1,
             "#c51b7d"
            ],
            [
             0.2,
             "#de77ae"
            ],
            [
             0.3,
             "#f1b6da"
            ],
            [
             0.4,
             "#fde0ef"
            ],
            [
             0.5,
             "#f7f7f7"
            ],
            [
             0.6,
             "#e6f5d0"
            ],
            [
             0.7,
             "#b8e186"
            ],
            [
             0.8,
             "#7fbc41"
            ],
            [
             0.9,
             "#4d9221"
            ],
            [
             1,
             "#276419"
            ]
           ],
           "sequential": [
            [
             0,
             "#0d0887"
            ],
            [
             0.1111111111111111,
             "#46039f"
            ],
            [
             0.2222222222222222,
             "#7201a8"
            ],
            [
             0.3333333333333333,
             "#9c179e"
            ],
            [
             0.4444444444444444,
             "#bd3786"
            ],
            [
             0.5555555555555556,
             "#d8576b"
            ],
            [
             0.6666666666666666,
             "#ed7953"
            ],
            [
             0.7777777777777778,
             "#fb9f3a"
            ],
            [
             0.8888888888888888,
             "#fdca26"
            ],
            [
             1,
             "#f0f921"
            ]
           ],
           "sequentialminus": [
            [
             0,
             "#0d0887"
            ],
            [
             0.1111111111111111,
             "#46039f"
            ],
            [
             0.2222222222222222,
             "#7201a8"
            ],
            [
             0.3333333333333333,
             "#9c179e"
            ],
            [
             0.4444444444444444,
             "#bd3786"
            ],
            [
             0.5555555555555556,
             "#d8576b"
            ],
            [
             0.6666666666666666,
             "#ed7953"
            ],
            [
             0.7777777777777778,
             "#fb9f3a"
            ],
            [
             0.8888888888888888,
             "#fdca26"
            ],
            [
             1,
             "#f0f921"
            ]
           ]
          },
          "colorway": [
           "#636efa",
           "#EF553B",
           "#00cc96",
           "#ab63fa",
           "#FFA15A",
           "#19d3f3",
           "#FF6692",
           "#B6E880",
           "#FF97FF",
           "#FECB52"
          ],
          "font": {
           "color": "#2a3f5f"
          },
          "geo": {
           "bgcolor": "white",
           "lakecolor": "white",
           "landcolor": "#E5ECF6",
           "showlakes": true,
           "showland": true,
           "subunitcolor": "white"
          },
          "hoverlabel": {
           "align": "left"
          },
          "hovermode": "closest",
          "mapbox": {
           "style": "light"
          },
          "paper_bgcolor": "white",
          "plot_bgcolor": "#E5ECF6",
          "polar": {
           "angularaxis": {
            "gridcolor": "white",
            "linecolor": "white",
            "ticks": ""
           },
           "bgcolor": "#E5ECF6",
           "radialaxis": {
            "gridcolor": "white",
            "linecolor": "white",
            "ticks": ""
           }
          },
          "scene": {
           "xaxis": {
            "backgroundcolor": "#E5ECF6",
            "gridcolor": "white",
            "gridwidth": 2,
            "linecolor": "white",
            "showbackground": true,
            "ticks": "",
            "zerolinecolor": "white"
           },
           "yaxis": {
            "backgroundcolor": "#E5ECF6",
            "gridcolor": "white",
            "gridwidth": 2,
            "linecolor": "white",
            "showbackground": true,
            "ticks": "",
            "zerolinecolor": "white"
           },
           "zaxis": {
            "backgroundcolor": "#E5ECF6",
            "gridcolor": "white",
            "gridwidth": 2,
            "linecolor": "white",
            "showbackground": true,
            "ticks": "",
            "zerolinecolor": "white"
           }
          },
          "shapedefaults": {
           "line": {
            "color": "#2a3f5f"
           }
          },
          "ternary": {
           "aaxis": {
            "gridcolor": "white",
            "linecolor": "white",
            "ticks": ""
           },
           "baxis": {
            "gridcolor": "white",
            "linecolor": "white",
            "ticks": ""
           },
           "bgcolor": "#E5ECF6",
           "caxis": {
            "gridcolor": "white",
            "linecolor": "white",
            "ticks": ""
           }
          },
          "title": {
           "x": 0.05
          },
          "xaxis": {
           "automargin": true,
           "gridcolor": "white",
           "linecolor": "white",
           "ticks": "",
           "title": {
            "standoff": 15
           },
           "zerolinecolor": "white",
           "zerolinewidth": 2
          },
          "yaxis": {
           "automargin": true,
           "gridcolor": "white",
           "linecolor": "white",
           "ticks": "",
           "title": {
            "standoff": 15
           },
           "zerolinecolor": "white",
           "zerolinewidth": 2
          }
         }
        },
        "title": {
         "text": "training and Validation Loss Throughout the Model"
        },
        "xaxis": {
         "anchor": "y",
         "domain": [
          0,
          1
         ],
         "title": {
          "text": "Epochs"
         }
        },
        "yaxis": {
         "anchor": "x",
         "domain": [
          0,
          1
         ],
         "title": {
          "text": "Loss"
         }
        }
       }
      },
      "text/html": [
       "<div>                            <div id=\"a4f8fc25-dc7a-4360-bf45-84df42de325b\" class=\"plotly-graph-div\" style=\"height:525px; width:100%;\"></div>            <script type=\"text/javascript\">                require([\"plotly\"], function(Plotly) {                    window.PLOTLYENV=window.PLOTLYENV || {};                                    if (document.getElementById(\"a4f8fc25-dc7a-4360-bf45-84df42de325b\")) {                    Plotly.newPlot(                        \"a4f8fc25-dc7a-4360-bf45-84df42de325b\",                        [{\"hovertemplate\":\"variable=train_loss<br>epochs=%{x}<br>value=%{y}<extra></extra>\",\"legendgroup\":\"train_loss\",\"line\":{\"color\":\"#636efa\",\"dash\":\"solid\"},\"marker\":{\"symbol\":\"circle\"},\"mode\":\"lines\",\"name\":\"train_loss\",\"orientation\":\"v\",\"showlegend\":true,\"x\":[0,1,2,3,4,5,6,7,8,9,10,11,12,13,14,15,16,17,18,19,20,21,22,23,24,25,26,27,28,29,30,31,32,33,34,35,36,37,38,39,40,41,42,43,44,45,46,47,48,49,50,51,52,53,54,55,56,57,58,59,60,61,62,63,64,65,66,67,68,69,70,71,72,73,74,75,76,77,78,79,80,81,82,83,84,85,86,87,88,89,90,91,92,93,94,95,96,97,98,99,100,101,102,103,104,105,106,107,108,109,110,111,112,113,114,115,116,117,118,119,120,121,122,123,124,125,126,127,128,129,130,131,132,133,134,135,136,137,138,139,140,141,142,143,144,145,146,147,148,149,150,151,152,153,154,155,156,157,158,159,160,161,162,163,164,165,166,167,168,169,170,171,172,173,174,175,176,177,178,179,180,181,182,183,184,185,186,187,188,189,190,191,192,193,194,195,196,197,198,199,200,201,202,203,204,205,206,207,208,209,210,211,212,213,214,215,216,217,218,219,220,221,222,223,224,225,226,227,228,229,230,231,232,233,234,235,236,237,238,239,240,241,242,243,244,245,246,247,248,249,250,251,252,253,254,255,256,257,258,259,260,261,262,263,264,265,266,267,268,269,270,271,272,273,274,275,276,277,278,279,280,281,282,283,284,285,286,287,288,289,290,291,292,293,294,295,296,297,298,299,300],\"xaxis\":\"x\",\"y\":[0.6828956794702642,0.6471986889275454,0.6150014316998924,0.5860842542798931,0.5614924450297006,0.5411632391869904,0.5285276592335291,0.5155958806628131,0.5101539257184654,0.5024906843830605,0.49838827881868236,0.496403675266712,0.4964877535924915,0.49687647283363773,0.4927815456628139,0.4927706422780808,0.49361028263440937,0.48681816000252737,0.48902646415282075,0.48965033802624,0.48933528019400496,0.4887103516745124,0.4858838377505064,0.4874420862036422,0.48395984160627914,0.48341078029890794,0.4845388753792998,0.48298297796080336,0.48460885876771587,0.48389854618269446,0.48356585660948376,0.4835979386678259,0.48505359590489583,0.4818678688733278,0.4813552036038984,0.4820022764931541,0.48164719917181453,0.4805617466762044,0.4810266631740751,0.47973084236505026,0.4813766362505069,0.4792536309524033,0.4773654917110805,0.47881181007322193,0.47821787909204305,0.4782113047110921,0.47650493769103025,0.4779024797422919,0.4761602586861912,0.47684919780412427,0.47584313845865556,0.47587391292569853,0.47687096482366464,0.4771360792519406,0.47368703347467583,0.4757315143428946,0.47336374709166784,0.47466786212931855,0.47518453433018065,0.47405729868037283,0.4728274291533265,0.47473424541805714,0.47172553165664816,0.4741139609406754,0.47435530099216977,0.4727570604284189,0.4726481289216525,0.4722570081245614,0.4705260018483762,0.47152280721224415,0.4719785829074194,0.4695091318607343,0.47179082530906974,0.4714362148181101,0.4699260838433348,0.471088928256442,0.467754351432009,0.4684496006046309,0.4673152120338362,0.47071770940990904,0.468437022975787,0.46796773553551746,0.46632482737305897,0.46753906426770847,0.4670117073067055,0.46764861870966234,0.46643328648311666,0.4683996860024722,0.46614926884491775,0.46652331991960716,0.4685892741257076,0.46509496437704717,0.46468697357578254,0.46421393333202443,0.4642645508862237,0.46386298304603746,0.4630168691294633,0.4630458625737172,0.46416322407160376,0.46342854068027367,0.46117665678300085,0.4631511938554489,0.4629438832855384,0.4619889880471848,0.46126131885542443,0.46263308175844836,0.4601268524751542,0.46218294853457265,0.4603457653501625,0.4591880905717278,0.46186195617980225,0.4594193010469604,0.4595401570059212,0.4614606917983612,0.4599994517717195,0.460008631950605,0.45863287861425184,0.4585551722517319,0.4599135299189385,0.45729402735267194,0.4589418442681399,0.4589028613736655,0.45751084490001903,0.45863411606077564,0.4579433436266169,0.4553567417427681,0.45801897032568106,0.45465087316551106,0.4558818324690254,0.4553567043247984,0.45518711916280896,0.45403789325323035,0.453857684404994,0.45540559767885685,0.45511122545670635,0.4529146785530654,0.4533037187905132,0.45643887489454815,0.4549010565002419,0.45395885895338534,0.45489080476139837,0.45252162885212427,0.4528334639909649,0.4521012682884648,0.45395650677028676,0.45300154424701594,0.4529127457537974,0.4506042343427587,0.45320749401887367,0.44939978636956185,0.4521487024935364,0.4513289742152299,0.4513029240975747,0.44886202851795254,0.4516466613487149,0.45058207574689485,0.448794164137259,0.44848633436872515,0.4493672297195913,0.45045079118014003,0.44956533429948176,0.4484509633216929,0.44716950825204643,0.4494481149090347,0.4496025551740796,0.44880549529152164,0.4458939839263099,0.4490591096594947,0.4481606631030644,0.44834643658665185,0.44940886979990585,0.44729955861210036,0.4471186324611442,0.44692420490200535,0.4450987548902062,0.4467357574790881,0.446914650588583,0.4479369297133106,0.44528013380350073,0.4482444132770574,0.44397396754447366,0.4439560131767736,0.44361253885895074,0.4428173593732179,0.4431094635744767,0.4446419779059842,0.44685608773959545,0.4412515575691243,0.44406662072625475,0.44312982481295743,0.44258710267118606,0.44369602994754875,0.4431295255237032,0.44346581329365287,0.4412509686213225,0.44438766212763114,0.44040266724729854,0.4402106535727171,0.4426296327957253,0.44036472839102725,0.4401760614885969,0.4406924956399441,0.43951583879409334,0.4415441508684142,0.44108462735367415,0.4406375273710222,0.4398528149614066,0.43718147052266854,0.4403021367470577,0.4380848079566323,0.4408097378298374,0.4393339462423352,0.43888606642627803,0.4368070111944703,0.4401970110348567,0.43939941318440756,0.4384755957355842,0.4388990095477952,0.4379597296409814,0.43702475483676134,0.43671264854708564,0.4375484013634673,0.4364053715541702,0.43529400815129315,0.43692239611556083,0.4368473224903252,0.43477076497826284,0.43528300069590975,0.43872590810574386,0.4337977812602012,0.43770172944424207,0.4354861631603285,0.4349427653546866,0.43439466434999346,0.437075308955523,0.43293303331230387,0.4344563358336335,0.4339813582925403,0.43426633678467774,0.4316022247948085,0.4352306884013008,0.435229728280819,0.43272415786118873,0.43303113428791906,0.4314224085709134,0.4324172961542457,0.43134854601189837,0.4310796472710843,0.43528324563773724,0.43272226340955844,0.431848621629089,0.4317244880126429,0.43014543961271473,0.4317017573774116,0.4325866367216705,0.43255862091131775,0.4313705865134514,0.43002805688411344,0.43059007242541536,0.42898871013846984,0.4307748111776018,0.4295981771818073,0.43374859828419016,0.43108751179064714,0.4299961595649766,0.4302508784159247,0.42875435366979003,0.43110048394287775,0.42983035644040807,0.42963553464129894,0.4301424318197902,0.4284719816950287,0.43190530206541344,0.42954970820328947,0.4278180507943229,0.4298117291970629,0.4265716945580622,0.42591128579058335,0.4290579957308434,0.42823672763188064,0.42689929852955694,0.4278588113331698,0.424945744985304,0.4267271966651535,0.4285718504149085,0.428633687024406,0.4287679119956121,0.42715475456830987,0.4267773733114496,0.42720415513646776,0.42572344955742475,0.42707668327994946,0.42540844820057516,0.4261919291987229,0.4244531560142233,0.4244735563587141,0.4244752235485601,0.4270877972734187,0.4269667989615737,0.4248032540321188,0.4224598411319211],\"yaxis\":\"y\",\"type\":\"scatter\"},{\"hovertemplate\":\"variable=valid_loss<br>epochs=%{x}<br>value=%{y}<extra></extra>\",\"legendgroup\":\"valid_loss\",\"line\":{\"color\":\"#EF553B\",\"dash\":\"solid\"},\"marker\":{\"symbol\":\"circle\"},\"mode\":\"lines\",\"name\":\"valid_loss\",\"orientation\":\"v\",\"showlegend\":true,\"x\":[0,1,2,3,4,5,6,7,8,9,10,11,12,13,14,15,16,17,18,19,20,21,22,23,24,25,26,27,28,29,30,31,32,33,34,35,36,37,38,39,40,41,42,43,44,45,46,47,48,49,50,51,52,53,54,55,56,57,58,59,60,61,62,63,64,65,66,67,68,69,70,71,72,73,74,75,76,77,78,79,80,81,82,83,84,85,86,87,88,89,90,91,92,93,94,95,96,97,98,99,100,101,102,103,104,105,106,107,108,109,110,111,112,113,114,115,116,117,118,119,120,121,122,123,124,125,126,127,128,129,130,131,132,133,134,135,136,137,138,139,140,141,142,143,144,145,146,147,148,149,150,151,152,153,154,155,156,157,158,159,160,161,162,163,164,165,166,167,168,169,170,171,172,173,174,175,176,177,178,179,180,181,182,183,184,185,186,187,188,189,190,191,192,193,194,195,196,197,198,199,200,201,202,203,204,205,206,207,208,209,210,211,212,213,214,215,216,217,218,219,220,221,222,223,224,225,226,227,228,229,230,231,232,233,234,235,236,237,238,239,240,241,242,243,244,245,246,247,248,249,250,251,252,253,254,255,256,257,258,259,260,261,262,263,264,265,266,267,268,269,270,271,272,273,274,275,276,277,278,279,280,281,282,283,284,285,286,287,288,289,290,291,292,293,294,295,296,297,298,299,300],\"xaxis\":\"x\",\"y\":[0.6613651104365723,0.6288570920877818,0.5952052308034294,0.5620648882811583,0.5313961169387721,0.5038181240422817,0.47899453998366487,0.45592078781580625,0.43411935273605057,0.4143228164579295,0.3984608537411388,0.38695159354541875,0.3791986696327789,0.37473318539088285,0.3731309747771372,0.37369347599488273,0.3755620574649376,0.378062731178501,0.380585099700131,0.38286109049863454,0.38455016469653647,0.3856888960056667,0.38622462681577174,0.3863543248252024,0.38607845808131785,0.38529987346522415,0.3842335757198213,0.3830834928947159,0.3819710056615781,0.38107868414136425,0.3804138504251649,0.3800572815575177,0.3798513869318781,0.37976454315306263,0.3798514828651766,0.38004616910143746,0.3802146527586104,0.38047688278970837,0.3806821951383277,0.3807661816666398,0.38074821320515645,0.3805863624132132,0.3804444361713868,0.380217583798155,0.37996586614017247,0.3798781897448286,0.37963179172594336,0.3795159960849376,0.37923594053033033,0.37901269555846345,0.3787310236239735,0.3785571389183213,0.3786318214256552,0.37913342978380904,0.3794148142201991,0.37967864716354804,0.37970952817910836,0.3796422612817982,0.37942792478995985,0.37903238036964515,0.3788216847030422,0.3787312692856487,0.3785786219790012,0.3784470504975017,0.3785388528168956,0.37857771730875667,0.3786098050543025,0.37866514136519613,0.3787180307922484,0.37896084374264827,0.3794078858970087,0.37972947860820383,0.37933477514152286,0.3788022991599916,0.37820633755454536,0.3776010020624233,0.3771512703050541,0.37698477657535406,0.37715839241878896,0.3778412781184233,0.3785701148117645,0.3788520694533481,0.37796714717074287,0.37713932975938047,0.3768619675802279,0.37751907913745203,0.37789900465102133,0.3782149293754674,0.3784164040903502,0.37879474751556974,0.37871095436283303,0.3789022734648065,0.37905781419971324,0.37867776080022886,0.3781708235227609,0.37771658180635187,0.3768704239326187,0.37610759388042403,0.3755109710029409,0.37595627466334575,0.3766493337818339,0.3773198860732815,0.3776436103295676,0.3775419681509839,0.3771244156586973,0.3767901821604258,0.3768404892351054,0.3768976844187024,0.3769198211310785,0.37670415304129634,0.37718780417985553,0.37657436155065704,0.37590865032582343,0.37636798292021206,0.376763803596738,0.3759271769206735,0.3753055331827719,0.37591367541234705,0.37624833542334885,0.37633242007297807,0.3764478168532818,0.3772072765268857,0.37713947522489333,0.37679103360145905,0.37635156184057644,0.37584626587885844,0.37570336351666267,0.37476030648509157,0.37485522646692737,0.37505058676381653,0.37539660685424564,0.37553931240794025,0.3754240713542021,0.37526922271221497,0.37577221284184276,0.3772311227985575,0.3774618971196911,0.3768946165525461,0.3761221182497242,0.37557104931602,0.3761343468593646,0.3755235994163948,0.37578656254689907,0.3753951796625234,0.37513191775430604,0.3760285950914214,0.37581693647028525,0.37640589283236975,0.37642911665047274,0.37562479920025116,0.37633492463751683,0.3766591854865038,0.37652746774727786,0.37610734354091596,0.3761932559405701,0.37546743878835365,0.3757579291545892,0.37688608018657827,0.3760524174457864,0.3761969928122774,0.3765170126776152,0.37596073848537254,0.37541431709180906,0.3746407057665571,0.3755571192955669,0.37763256834277625,0.37754316571392593,0.37742633778083173,0.37693281117119365,0.3765393660415577,0.37764592570594596,0.3778787259436861,0.37649488098259215,0.3761398132088818,0.3772951932270316,0.37686097791677786,0.37985746060745623,0.37991795324826544,0.3785401803405979,0.3789457133299188,0.37740608091595806,0.3756838096848017,0.376678669679014,0.3762181247336955,0.37633441701720033,0.37789272186876854,0.37825460384918164,0.37726999325088306,0.37944830037370514,0.379121688875971,0.37855466098725044,0.38037375094769876,0.3784726904540122,0.3789226084947586,0.3776728945442393,0.377144794071777,0.3776310766045051,0.37832836776594575,0.37862288699119906,0.37901930469500866,0.38009606543221053,0.37967637849004965,0.3791286834055864,0.3808833426312555,0.37869284466097625,0.37966341923309277,0.3812468004754827,0.37924204842199255,0.38080795893940744,0.3787642663792719,0.37865065532394604,0.3818710592728627,0.38061053402061706,0.3778920057453687,0.3782970918130271,0.3793036176434046,0.3815181974746004,0.3816715550950811,0.3804487294411357,0.3792209161610543,0.3794960693845266,0.37878511076486565,0.38006664733343487,0.38033515663841105,0.380500835708425,0.38058983193168155,0.3798694400093223,0.38141751923138584,0.381460802992688,0.3813719591762446,0.3823106648424004,0.38006929181799104,0.37976846129079406,0.37751477643658843,0.3784109236696098,0.3807212612674206,0.38046274981166744,0.38272989196113394,0.3836834888292264,0.38256718029704273,0.38286983042578154,0.38225894385500797,0.382375527522232,0.3839518806979626,0.3831011151588416,0.38249611224554764,0.3851696279229997,0.3837408830093432,0.3839708863179895,0.38530197467985033,0.38291796989078764,0.3832537127823769,0.38429109246670445,0.3821853572431999,0.3861883639534818,0.38411373960066447,0.3869190201351914,0.38612417642828784,0.3837929156007646,0.38369414957263803,0.38357994941216483,0.38822159039068826,0.38359954836247845,0.38588360329217547,0.38452007016049156,0.3841013393447369,0.3909065480096431,0.3840960159709182,0.3851895841239374,0.3892051188628885,0.3857843379431133,0.387082810228384,0.3879974358066728,0.3852867263027384,0.38748894209348705,0.38897329689581184,0.38741797469084777,0.3890537712015683,0.3885231000713155,0.3883335312333288,0.38937215801281266,0.3899791673768925,0.39019349138193493,0.3868857668170446,0.38558552053910267,0.38541387704354296,0.3881038170072097,0.38740089901640445,0.3858214854062358,0.3870432466645784,0.3871623333119139,0.38886924103091036,0.3870758467837225,0.3852119621596759,0.3846990629464765,0.3831995862948744,0.39026974896086924,0.3874520076981074,0.38740097386173056,0.3870745301246643,0.3837669781491726],\"yaxis\":\"y\",\"type\":\"scatter\"}],                        {\"template\":{\"data\":{\"histogram2dcontour\":[{\"type\":\"histogram2dcontour\",\"colorbar\":{\"outlinewidth\":0,\"ticks\":\"\"},\"colorscale\":[[0.0,\"#0d0887\"],[0.1111111111111111,\"#46039f\"],[0.2222222222222222,\"#7201a8\"],[0.3333333333333333,\"#9c179e\"],[0.4444444444444444,\"#bd3786\"],[0.5555555555555556,\"#d8576b\"],[0.6666666666666666,\"#ed7953\"],[0.7777777777777778,\"#fb9f3a\"],[0.8888888888888888,\"#fdca26\"],[1.0,\"#f0f921\"]]}],\"choropleth\":[{\"type\":\"choropleth\",\"colorbar\":{\"outlinewidth\":0,\"ticks\":\"\"}}],\"histogram2d\":[{\"type\":\"histogram2d\",\"colorbar\":{\"outlinewidth\":0,\"ticks\":\"\"},\"colorscale\":[[0.0,\"#0d0887\"],[0.1111111111111111,\"#46039f\"],[0.2222222222222222,\"#7201a8\"],[0.3333333333333333,\"#9c179e\"],[0.4444444444444444,\"#bd3786\"],[0.5555555555555556,\"#d8576b\"],[0.6666666666666666,\"#ed7953\"],[0.7777777777777778,\"#fb9f3a\"],[0.8888888888888888,\"#fdca26\"],[1.0,\"#f0f921\"]]}],\"heatmap\":[{\"type\":\"heatmap\",\"colorbar\":{\"outlinewidth\":0,\"ticks\":\"\"},\"colorscale\":[[0.0,\"#0d0887\"],[0.1111111111111111,\"#46039f\"],[0.2222222222222222,\"#7201a8\"],[0.3333333333333333,\"#9c179e\"],[0.4444444444444444,\"#bd3786\"],[0.5555555555555556,\"#d8576b\"],[0.6666666666666666,\"#ed7953\"],[0.7777777777777778,\"#fb9f3a\"],[0.8888888888888888,\"#fdca26\"],[1.0,\"#f0f921\"]]}],\"heatmapgl\":[{\"type\":\"heatmapgl\",\"colorbar\":{\"outlinewidth\":0,\"ticks\":\"\"},\"colorscale\":[[0.0,\"#0d0887\"],[0.1111111111111111,\"#46039f\"],[0.2222222222222222,\"#7201a8\"],[0.3333333333333333,\"#9c179e\"],[0.4444444444444444,\"#bd3786\"],[0.5555555555555556,\"#d8576b\"],[0.6666666666666666,\"#ed7953\"],[0.7777777777777778,\"#fb9f3a\"],[0.8888888888888888,\"#fdca26\"],[1.0,\"#f0f921\"]]}],\"contourcarpet\":[{\"type\":\"contourcarpet\",\"colorbar\":{\"outlinewidth\":0,\"ticks\":\"\"}}],\"contour\":[{\"type\":\"contour\",\"colorbar\":{\"outlinewidth\":0,\"ticks\":\"\"},\"colorscale\":[[0.0,\"#0d0887\"],[0.1111111111111111,\"#46039f\"],[0.2222222222222222,\"#7201a8\"],[0.3333333333333333,\"#9c179e\"],[0.4444444444444444,\"#bd3786\"],[0.5555555555555556,\"#d8576b\"],[0.6666666666666666,\"#ed7953\"],[0.7777777777777778,\"#fb9f3a\"],[0.8888888888888888,\"#fdca26\"],[1.0,\"#f0f921\"]]}],\"surface\":[{\"type\":\"surface\",\"colorbar\":{\"outlinewidth\":0,\"ticks\":\"\"},\"colorscale\":[[0.0,\"#0d0887\"],[0.1111111111111111,\"#46039f\"],[0.2222222222222222,\"#7201a8\"],[0.3333333333333333,\"#9c179e\"],[0.4444444444444444,\"#bd3786\"],[0.5555555555555556,\"#d8576b\"],[0.6666666666666666,\"#ed7953\"],[0.7777777777777778,\"#fb9f3a\"],[0.8888888888888888,\"#fdca26\"],[1.0,\"#f0f921\"]]}],\"mesh3d\":[{\"type\":\"mesh3d\",\"colorbar\":{\"outlinewidth\":0,\"ticks\":\"\"}}],\"scatter\":[{\"fillpattern\":{\"fillmode\":\"overlay\",\"size\":10,\"solidity\":0.2},\"type\":\"scatter\"}],\"parcoords\":[{\"type\":\"parcoords\",\"line\":{\"colorbar\":{\"outlinewidth\":0,\"ticks\":\"\"}}}],\"scatterpolargl\":[{\"type\":\"scatterpolargl\",\"marker\":{\"colorbar\":{\"outlinewidth\":0,\"ticks\":\"\"}}}],\"bar\":[{\"error_x\":{\"color\":\"#2a3f5f\"},\"error_y\":{\"color\":\"#2a3f5f\"},\"marker\":{\"line\":{\"color\":\"#E5ECF6\",\"width\":0.5},\"pattern\":{\"fillmode\":\"overlay\",\"size\":10,\"solidity\":0.2}},\"type\":\"bar\"}],\"scattergeo\":[{\"type\":\"scattergeo\",\"marker\":{\"colorbar\":{\"outlinewidth\":0,\"ticks\":\"\"}}}],\"scatterpolar\":[{\"type\":\"scatterpolar\",\"marker\":{\"colorbar\":{\"outlinewidth\":0,\"ticks\":\"\"}}}],\"histogram\":[{\"marker\":{\"pattern\":{\"fillmode\":\"overlay\",\"size\":10,\"solidity\":0.2}},\"type\":\"histogram\"}],\"scattergl\":[{\"type\":\"scattergl\",\"marker\":{\"colorbar\":{\"outlinewidth\":0,\"ticks\":\"\"}}}],\"scatter3d\":[{\"type\":\"scatter3d\",\"line\":{\"colorbar\":{\"outlinewidth\":0,\"ticks\":\"\"}},\"marker\":{\"colorbar\":{\"outlinewidth\":0,\"ticks\":\"\"}}}],\"scattermapbox\":[{\"type\":\"scattermapbox\",\"marker\":{\"colorbar\":{\"outlinewidth\":0,\"ticks\":\"\"}}}],\"scatterternary\":[{\"type\":\"scatterternary\",\"marker\":{\"colorbar\":{\"outlinewidth\":0,\"ticks\":\"\"}}}],\"scattercarpet\":[{\"type\":\"scattercarpet\",\"marker\":{\"colorbar\":{\"outlinewidth\":0,\"ticks\":\"\"}}}],\"carpet\":[{\"aaxis\":{\"endlinecolor\":\"#2a3f5f\",\"gridcolor\":\"white\",\"linecolor\":\"white\",\"minorgridcolor\":\"white\",\"startlinecolor\":\"#2a3f5f\"},\"baxis\":{\"endlinecolor\":\"#2a3f5f\",\"gridcolor\":\"white\",\"linecolor\":\"white\",\"minorgridcolor\":\"white\",\"startlinecolor\":\"#2a3f5f\"},\"type\":\"carpet\"}],\"table\":[{\"cells\":{\"fill\":{\"color\":\"#EBF0F8\"},\"line\":{\"color\":\"white\"}},\"header\":{\"fill\":{\"color\":\"#C8D4E3\"},\"line\":{\"color\":\"white\"}},\"type\":\"table\"}],\"barpolar\":[{\"marker\":{\"line\":{\"color\":\"#E5ECF6\",\"width\":0.5},\"pattern\":{\"fillmode\":\"overlay\",\"size\":10,\"solidity\":0.2}},\"type\":\"barpolar\"}],\"pie\":[{\"automargin\":true,\"type\":\"pie\"}]},\"layout\":{\"autotypenumbers\":\"strict\",\"colorway\":[\"#636efa\",\"#EF553B\",\"#00cc96\",\"#ab63fa\",\"#FFA15A\",\"#19d3f3\",\"#FF6692\",\"#B6E880\",\"#FF97FF\",\"#FECB52\"],\"font\":{\"color\":\"#2a3f5f\"},\"hovermode\":\"closest\",\"hoverlabel\":{\"align\":\"left\"},\"paper_bgcolor\":\"white\",\"plot_bgcolor\":\"#E5ECF6\",\"polar\":{\"bgcolor\":\"#E5ECF6\",\"angularaxis\":{\"gridcolor\":\"white\",\"linecolor\":\"white\",\"ticks\":\"\"},\"radialaxis\":{\"gridcolor\":\"white\",\"linecolor\":\"white\",\"ticks\":\"\"}},\"ternary\":{\"bgcolor\":\"#E5ECF6\",\"aaxis\":{\"gridcolor\":\"white\",\"linecolor\":\"white\",\"ticks\":\"\"},\"baxis\":{\"gridcolor\":\"white\",\"linecolor\":\"white\",\"ticks\":\"\"},\"caxis\":{\"gridcolor\":\"white\",\"linecolor\":\"white\",\"ticks\":\"\"}},\"coloraxis\":{\"colorbar\":{\"outlinewidth\":0,\"ticks\":\"\"}},\"colorscale\":{\"sequential\":[[0.0,\"#0d0887\"],[0.1111111111111111,\"#46039f\"],[0.2222222222222222,\"#7201a8\"],[0.3333333333333333,\"#9c179e\"],[0.4444444444444444,\"#bd3786\"],[0.5555555555555556,\"#d8576b\"],[0.6666666666666666,\"#ed7953\"],[0.7777777777777778,\"#fb9f3a\"],[0.8888888888888888,\"#fdca26\"],[1.0,\"#f0f921\"]],\"sequentialminus\":[[0.0,\"#0d0887\"],[0.1111111111111111,\"#46039f\"],[0.2222222222222222,\"#7201a8\"],[0.3333333333333333,\"#9c179e\"],[0.4444444444444444,\"#bd3786\"],[0.5555555555555556,\"#d8576b\"],[0.6666666666666666,\"#ed7953\"],[0.7777777777777778,\"#fb9f3a\"],[0.8888888888888888,\"#fdca26\"],[1.0,\"#f0f921\"]],\"diverging\":[[0,\"#8e0152\"],[0.1,\"#c51b7d\"],[0.2,\"#de77ae\"],[0.3,\"#f1b6da\"],[0.4,\"#fde0ef\"],[0.5,\"#f7f7f7\"],[0.6,\"#e6f5d0\"],[0.7,\"#b8e186\"],[0.8,\"#7fbc41\"],[0.9,\"#4d9221\"],[1,\"#276419\"]]},\"xaxis\":{\"gridcolor\":\"white\",\"linecolor\":\"white\",\"ticks\":\"\",\"title\":{\"standoff\":15},\"zerolinecolor\":\"white\",\"automargin\":true,\"zerolinewidth\":2},\"yaxis\":{\"gridcolor\":\"white\",\"linecolor\":\"white\",\"ticks\":\"\",\"title\":{\"standoff\":15},\"zerolinecolor\":\"white\",\"automargin\":true,\"zerolinewidth\":2},\"scene\":{\"xaxis\":{\"backgroundcolor\":\"#E5ECF6\",\"gridcolor\":\"white\",\"linecolor\":\"white\",\"showbackground\":true,\"ticks\":\"\",\"zerolinecolor\":\"white\",\"gridwidth\":2},\"yaxis\":{\"backgroundcolor\":\"#E5ECF6\",\"gridcolor\":\"white\",\"linecolor\":\"white\",\"showbackground\":true,\"ticks\":\"\",\"zerolinecolor\":\"white\",\"gridwidth\":2},\"zaxis\":{\"backgroundcolor\":\"#E5ECF6\",\"gridcolor\":\"white\",\"linecolor\":\"white\",\"showbackground\":true,\"ticks\":\"\",\"zerolinecolor\":\"white\",\"gridwidth\":2}},\"shapedefaults\":{\"line\":{\"color\":\"#2a3f5f\"}},\"annotationdefaults\":{\"arrowcolor\":\"#2a3f5f\",\"arrowhead\":0,\"arrowwidth\":1},\"geo\":{\"bgcolor\":\"white\",\"landcolor\":\"#E5ECF6\",\"subunitcolor\":\"white\",\"showland\":true,\"showlakes\":true,\"lakecolor\":\"white\"},\"title\":{\"x\":0.05},\"mapbox\":{\"style\":\"light\"}}},\"xaxis\":{\"anchor\":\"y\",\"domain\":[0.0,1.0],\"title\":{\"text\":\"Epochs\"}},\"yaxis\":{\"anchor\":\"x\",\"domain\":[0.0,1.0],\"title\":{\"text\":\"Loss\"}},\"legend\":{\"title\":{\"text\":\"Loss Type\"},\"tracegroupgap\":0},\"margin\":{\"t\":60},\"title\":{\"text\":\"training and Validation Loss Throughout the Model\"}},                        {\"responsive\": true}                    ).then(function(){\n",
       "                            \n",
       "var gd = document.getElementById('a4f8fc25-dc7a-4360-bf45-84df42de325b');\n",
       "var x = new MutationObserver(function (mutations, observer) {{\n",
       "        var display = window.getComputedStyle(gd).display;\n",
       "        if (!display || display === 'none') {{\n",
       "            console.log([gd, 'removed!']);\n",
       "            Plotly.purge(gd);\n",
       "            observer.disconnect();\n",
       "        }}\n",
       "}});\n",
       "\n",
       "// Listen for the removal of the full notebook cells\n",
       "var notebookContainer = gd.closest('#notebook-container');\n",
       "if (notebookContainer) {{\n",
       "    x.observe(notebookContainer, {childList: true});\n",
       "}}\n",
       "\n",
       "// Listen for the clearing of the current output cell\n",
       "var outputEl = gd.closest('.output');\n",
       "if (outputEl) {{\n",
       "    x.observe(outputEl, {childList: true});\n",
       "}}\n",
       "\n",
       "                        })                };                });            </script>        </div>"
      ]
     },
     "metadata": {},
     "output_type": "display_data"
    },
    {
     "data": {
      "application/vnd.plotly.v1+json": {
       "config": {
        "plotlyServerURL": "https://plot.ly"
       },
       "data": [
        {
         "mode": "lines+markers",
         "type": "scatter",
         "x": [
          0,
          1,
          2,
          3,
          4,
          5,
          6,
          7,
          8,
          9,
          10,
          11,
          12,
          13,
          14,
          15,
          16,
          17,
          18,
          19,
          20,
          21,
          22,
          23,
          24,
          25,
          26,
          27,
          28,
          29,
          30,
          31,
          32,
          33,
          34,
          35,
          36,
          37,
          38,
          39,
          40,
          41,
          42,
          43,
          44,
          45,
          46,
          47,
          48,
          49,
          50,
          51,
          52,
          53,
          54,
          55,
          56,
          57,
          58,
          59,
          60,
          61,
          62,
          63,
          64,
          65,
          66,
          67,
          68,
          69,
          70,
          71,
          72,
          73,
          74,
          75,
          76,
          77,
          78,
          79,
          80,
          81,
          82,
          83,
          84,
          85,
          86,
          87,
          88,
          89,
          90,
          91,
          92,
          93,
          94,
          95,
          96,
          97,
          98,
          99,
          100,
          101,
          102,
          103,
          104,
          105,
          106,
          107,
          108,
          109,
          110,
          111,
          112,
          113,
          114,
          115,
          116,
          117,
          118,
          119,
          120,
          121,
          122,
          123,
          124,
          125,
          126,
          127,
          128,
          129,
          130,
          131,
          132,
          133,
          134,
          135,
          136,
          137,
          138,
          139,
          140,
          141,
          142,
          143,
          144,
          145,
          146,
          147,
          148,
          149,
          150,
          151,
          152,
          153,
          154,
          155,
          156,
          157,
          158,
          159,
          160,
          161,
          162,
          163,
          164,
          165,
          166,
          167,
          168,
          169,
          170,
          171,
          172,
          173,
          174,
          175,
          176,
          177,
          178,
          179,
          180,
          181,
          182,
          183,
          184,
          185,
          186,
          187,
          188,
          189,
          190,
          191,
          192,
          193,
          194,
          195,
          196,
          197,
          198,
          199,
          200,
          201,
          202,
          203,
          204,
          205,
          206,
          207,
          208,
          209,
          210,
          211,
          212,
          213,
          214,
          215,
          216,
          217,
          218,
          219,
          220,
          221,
          222,
          223,
          224,
          225,
          226,
          227,
          228,
          229,
          230,
          231,
          232,
          233,
          234,
          235,
          236,
          237,
          238,
          239,
          240,
          241,
          242,
          243,
          244,
          245,
          246,
          247,
          248,
          249,
          250,
          251,
          252,
          253,
          254,
          255,
          256,
          257,
          258,
          259,
          260,
          261,
          262,
          263,
          264,
          265,
          266,
          267,
          268,
          269,
          270,
          271,
          272,
          273,
          274,
          275,
          276,
          277,
          278,
          279,
          280,
          281,
          282,
          283,
          284,
          285,
          286,
          287,
          288,
          289,
          290,
          291,
          292,
          293,
          294,
          295,
          296,
          297,
          298,
          299,
          300
         ],
         "y": [
          0.720323488045007,
          0.7797468354430379,
          0.8,
          0.8189873417721518,
          0.8417721518987342,
          0.8494374120956399,
          0.8305203938115331,
          0.8381153305203938,
          0.8734880450070324,
          0.8709563994374121,
          0.8658931082981716,
          0.860829817158931,
          0.8582981715893108,
          0.8595639943741209,
          0.8595639943741209,
          0.8595639943741209,
          0.860829817158931,
          0.860829817158931,
          0.8684247538677918,
          0.8671589310829817,
          0.8646272855133614,
          0.8620956399437412,
          0.8620956399437412,
          0.8633614627285513,
          0.8646272855133614,
          0.8658931082981716,
          0.8671589310829817,
          0.8671589310829817,
          0.8671589310829817,
          0.8671589310829817,
          0.8684247538677918,
          0.869690576652602,
          0.8684247538677918,
          0.8671589310829817,
          0.8658931082981716,
          0.8658931082981716,
          0.8671589310829817,
          0.8671589310829817,
          0.8633614627285513,
          0.8633614627285513,
          0.8658931082981716,
          0.8658931082981716,
          0.8633614627285513,
          0.8658931082981716,
          0.8671589310829817,
          0.8658931082981716,
          0.860829817158931,
          0.8595639943741209,
          0.8620956399437412,
          0.8633614627285513,
          0.8646272855133614,
          0.8658931082981716,
          0.8633614627285513,
          0.8595639943741209,
          0.860829817158931,
          0.8633614627285513,
          0.8646272855133614,
          0.8671589310829817,
          0.8633614627285513,
          0.8620956399437412,
          0.8620956399437412,
          0.8658931082981716,
          0.8646272855133614,
          0.8620956399437412,
          0.8646272855133614,
          0.8671589310829817,
          0.8633614627285513,
          0.8658931082981716,
          0.8620956399437412,
          0.8620956399437412,
          0.8633614627285513,
          0.8633614627285513,
          0.8633614627285513,
          0.8620956399437412,
          0.8620956399437412,
          0.8620956399437412,
          0.8620956399437412,
          0.8646272855133614,
          0.8646272855133614,
          0.8646272855133614,
          0.8646272855133614,
          0.8646272855133614,
          0.8620956399437412,
          0.8620956399437412,
          0.8633614627285513,
          0.8658931082981716,
          0.8646272855133614,
          0.8620956399437412,
          0.8633614627285513,
          0.8646272855133614,
          0.8646272855133614,
          0.860829817158931,
          0.8633614627285513,
          0.8671589310829817,
          0.8671589310829817,
          0.8658931082981716,
          0.8658931082981716,
          0.8684247538677918,
          0.8671589310829817,
          0.8620956399437412,
          0.8646272855133614,
          0.8671589310829817,
          0.8671589310829817,
          0.8658931082981716,
          0.8646272855133614,
          0.869690576652602,
          0.869690576652602,
          0.8684247538677918,
          0.8684247538677918,
          0.8684247538677918,
          0.869690576652602,
          0.8684247538677918,
          0.860829817158931,
          0.869690576652602,
          0.8709563994374121,
          0.8658931082981716,
          0.8658931082981716,
          0.8722222222222222,
          0.8709563994374121,
          0.8658931082981716,
          0.8658931082981716,
          0.8684247538677918,
          0.8646272855133614,
          0.8646272855133614,
          0.8658931082981716,
          0.8671589310829817,
          0.8671589310829817,
          0.8671589310829817,
          0.8671589310829817,
          0.8684247538677918,
          0.8684247538677918,
          0.8709563994374121,
          0.8709563994374121,
          0.8671589310829817,
          0.8671589310829817,
          0.8709563994374121,
          0.8709563994374121,
          0.8734880450070324,
          0.869690576652602,
          0.8684247538677918,
          0.8734880450070324,
          0.8684247538677918,
          0.8722222222222222,
          0.8722222222222222,
          0.8709563994374121,
          0.8734880450070324,
          0.8709563994374121,
          0.8734880450070324,
          0.8734880450070324,
          0.8709563994374121,
          0.8734880450070324,
          0.8734880450070324,
          0.8734880450070324,
          0.8734880450070324,
          0.8747538677918425,
          0.8722222222222222,
          0.8734880450070324,
          0.8734880450070324,
          0.8734880450070324,
          0.8747538677918425,
          0.8747538677918425,
          0.8747538677918425,
          0.8747538677918425,
          0.8734880450070324,
          0.8734880450070324,
          0.8747538677918425,
          0.8747538677918425,
          0.8760196905766526,
          0.8760196905766526,
          0.8747538677918425,
          0.8760196905766526,
          0.8772855133614628,
          0.8734880450070324,
          0.8760196905766526,
          0.879817158931083,
          0.8734880450070324,
          0.8772855133614628,
          0.8747538677918425,
          0.90126582278481,
          0.8747538677918425,
          0.8747538677918425,
          0.8734880450070324,
          0.8747538677918425,
          0.8747538677918425,
          0.8747538677918425,
          0.8785513361462729,
          0.8785513361462729,
          0.8747538677918425,
          0.8810829817158932,
          0.8785513361462729,
          0.8722222222222222,
          0.8533052039381153,
          0.8722222222222222,
          0.8772855133614628,
          0.8785513361462729,
          0.9063291139240506,
          0.9075949367088607,
          0.9075949367088607,
          0.9050632911392404,
          0.9037974683544303,
          0.8785513361462729,
          0.9050632911392404,
          0.9063291139240506,
          0.8558368495077355,
          0.9050632911392404,
          0.8810829817158932,
          0.8545710267229254,
          0.8772855133614628,
          0.8545710267229254,
          0.8785513361462729,
          0.8785513361462729,
          0.8785513361462729,
          0.8785513361462729,
          0.8785513361462729,
          0.8810829817158932,
          0.879817158931083,
          0.8520393811533051,
          0.8520393811533051,
          0.8520393811533051,
          0.8785513361462729,
          0.8823488045007033,
          0.879817158931083,
          0.8785513361462729,
          0.8772855133614628,
          0.8520393811533051,
          0.8520393811533051,
          0.8785513361462729,
          0.8520393811533051,
          0.850773558368495,
          0.8785513361462729,
          0.8810829817158932,
          0.879817158931083,
          0.8533052039381153,
          0.8785513361462729,
          0.8810829817158932,
          0.8545710267229254,
          0.8785513361462729,
          0.8520393811533051,
          0.850773558368495,
          0.8772855133614628,
          0.8533052039381153,
          0.8520393811533051,
          0.8545710267229254,
          0.8533052039381153,
          0.8533052039381153,
          0.8533052039381153,
          0.8545710267229254,
          0.879817158931083,
          0.8558368495077355,
          0.8558368495077355,
          0.8810829817158932,
          0.8558368495077355,
          0.8558368495077355,
          0.879817158931083,
          0.8571026722925457,
          0.8520393811533051,
          0.8545710267229254,
          0.8545710267229254,
          0.8533052039381153,
          0.8545710267229254,
          0.8823488045007033,
          0.8609001406469761,
          0.879817158931083,
          0.8558368495077355,
          0.8545710267229254,
          0.879817158931083,
          0.8621659634317862,
          0.8520393811533051,
          0.8558368495077355,
          0.8621659634317862,
          0.850773558368495,
          0.8558368495077355,
          0.8571026722925457,
          0.8520393811533051,
          0.8571026722925457,
          0.8596343178621659,
          0.8545710267229254,
          0.8583684950773558,
          0.8558368495077355,
          0.8571026722925457,
          0.8583684950773558,
          0.8558368495077355,
          0.8558368495077355,
          0.8533052039381153,
          0.8571026722925457,
          0.8533052039381153,
          0.8558368495077355,
          0.8558368495077355,
          0.8545710267229254,
          0.8583684950773558,
          0.8571026722925457,
          0.8571026722925457,
          0.8848804500703235,
          0.8861462728551336,
          0.8596343178621659,
          0.8848804500703235,
          0.8646976090014065,
          0.8583684950773558,
          0.8571026722925457,
          0.8621659634317862,
          0.8545710267229254
         ]
        }
       ],
       "layout": {
        "template": {
         "data": {
          "bar": [
           {
            "error_x": {
             "color": "#2a3f5f"
            },
            "error_y": {
             "color": "#2a3f5f"
            },
            "marker": {
             "line": {
              "color": "#E5ECF6",
              "width": 0.5
             },
             "pattern": {
              "fillmode": "overlay",
              "size": 10,
              "solidity": 0.2
             }
            },
            "type": "bar"
           }
          ],
          "barpolar": [
           {
            "marker": {
             "line": {
              "color": "#E5ECF6",
              "width": 0.5
             },
             "pattern": {
              "fillmode": "overlay",
              "size": 10,
              "solidity": 0.2
             }
            },
            "type": "barpolar"
           }
          ],
          "carpet": [
           {
            "aaxis": {
             "endlinecolor": "#2a3f5f",
             "gridcolor": "white",
             "linecolor": "white",
             "minorgridcolor": "white",
             "startlinecolor": "#2a3f5f"
            },
            "baxis": {
             "endlinecolor": "#2a3f5f",
             "gridcolor": "white",
             "linecolor": "white",
             "minorgridcolor": "white",
             "startlinecolor": "#2a3f5f"
            },
            "type": "carpet"
           }
          ],
          "choropleth": [
           {
            "colorbar": {
             "outlinewidth": 0,
             "ticks": ""
            },
            "type": "choropleth"
           }
          ],
          "contour": [
           {
            "colorbar": {
             "outlinewidth": 0,
             "ticks": ""
            },
            "colorscale": [
             [
              0,
              "#0d0887"
             ],
             [
              0.1111111111111111,
              "#46039f"
             ],
             [
              0.2222222222222222,
              "#7201a8"
             ],
             [
              0.3333333333333333,
              "#9c179e"
             ],
             [
              0.4444444444444444,
              "#bd3786"
             ],
             [
              0.5555555555555556,
              "#d8576b"
             ],
             [
              0.6666666666666666,
              "#ed7953"
             ],
             [
              0.7777777777777778,
              "#fb9f3a"
             ],
             [
              0.8888888888888888,
              "#fdca26"
             ],
             [
              1,
              "#f0f921"
             ]
            ],
            "type": "contour"
           }
          ],
          "contourcarpet": [
           {
            "colorbar": {
             "outlinewidth": 0,
             "ticks": ""
            },
            "type": "contourcarpet"
           }
          ],
          "heatmap": [
           {
            "colorbar": {
             "outlinewidth": 0,
             "ticks": ""
            },
            "colorscale": [
             [
              0,
              "#0d0887"
             ],
             [
              0.1111111111111111,
              "#46039f"
             ],
             [
              0.2222222222222222,
              "#7201a8"
             ],
             [
              0.3333333333333333,
              "#9c179e"
             ],
             [
              0.4444444444444444,
              "#bd3786"
             ],
             [
              0.5555555555555556,
              "#d8576b"
             ],
             [
              0.6666666666666666,
              "#ed7953"
             ],
             [
              0.7777777777777778,
              "#fb9f3a"
             ],
             [
              0.8888888888888888,
              "#fdca26"
             ],
             [
              1,
              "#f0f921"
             ]
            ],
            "type": "heatmap"
           }
          ],
          "heatmapgl": [
           {
            "colorbar": {
             "outlinewidth": 0,
             "ticks": ""
            },
            "colorscale": [
             [
              0,
              "#0d0887"
             ],
             [
              0.1111111111111111,
              "#46039f"
             ],
             [
              0.2222222222222222,
              "#7201a8"
             ],
             [
              0.3333333333333333,
              "#9c179e"
             ],
             [
              0.4444444444444444,
              "#bd3786"
             ],
             [
              0.5555555555555556,
              "#d8576b"
             ],
             [
              0.6666666666666666,
              "#ed7953"
             ],
             [
              0.7777777777777778,
              "#fb9f3a"
             ],
             [
              0.8888888888888888,
              "#fdca26"
             ],
             [
              1,
              "#f0f921"
             ]
            ],
            "type": "heatmapgl"
           }
          ],
          "histogram": [
           {
            "marker": {
             "pattern": {
              "fillmode": "overlay",
              "size": 10,
              "solidity": 0.2
             }
            },
            "type": "histogram"
           }
          ],
          "histogram2d": [
           {
            "colorbar": {
             "outlinewidth": 0,
             "ticks": ""
            },
            "colorscale": [
             [
              0,
              "#0d0887"
             ],
             [
              0.1111111111111111,
              "#46039f"
             ],
             [
              0.2222222222222222,
              "#7201a8"
             ],
             [
              0.3333333333333333,
              "#9c179e"
             ],
             [
              0.4444444444444444,
              "#bd3786"
             ],
             [
              0.5555555555555556,
              "#d8576b"
             ],
             [
              0.6666666666666666,
              "#ed7953"
             ],
             [
              0.7777777777777778,
              "#fb9f3a"
             ],
             [
              0.8888888888888888,
              "#fdca26"
             ],
             [
              1,
              "#f0f921"
             ]
            ],
            "type": "histogram2d"
           }
          ],
          "histogram2dcontour": [
           {
            "colorbar": {
             "outlinewidth": 0,
             "ticks": ""
            },
            "colorscale": [
             [
              0,
              "#0d0887"
             ],
             [
              0.1111111111111111,
              "#46039f"
             ],
             [
              0.2222222222222222,
              "#7201a8"
             ],
             [
              0.3333333333333333,
              "#9c179e"
             ],
             [
              0.4444444444444444,
              "#bd3786"
             ],
             [
              0.5555555555555556,
              "#d8576b"
             ],
             [
              0.6666666666666666,
              "#ed7953"
             ],
             [
              0.7777777777777778,
              "#fb9f3a"
             ],
             [
              0.8888888888888888,
              "#fdca26"
             ],
             [
              1,
              "#f0f921"
             ]
            ],
            "type": "histogram2dcontour"
           }
          ],
          "mesh3d": [
           {
            "colorbar": {
             "outlinewidth": 0,
             "ticks": ""
            },
            "type": "mesh3d"
           }
          ],
          "parcoords": [
           {
            "line": {
             "colorbar": {
              "outlinewidth": 0,
              "ticks": ""
             }
            },
            "type": "parcoords"
           }
          ],
          "pie": [
           {
            "automargin": true,
            "type": "pie"
           }
          ],
          "scatter": [
           {
            "fillpattern": {
             "fillmode": "overlay",
             "size": 10,
             "solidity": 0.2
            },
            "type": "scatter"
           }
          ],
          "scatter3d": [
           {
            "line": {
             "colorbar": {
              "outlinewidth": 0,
              "ticks": ""
             }
            },
            "marker": {
             "colorbar": {
              "outlinewidth": 0,
              "ticks": ""
             }
            },
            "type": "scatter3d"
           }
          ],
          "scattercarpet": [
           {
            "marker": {
             "colorbar": {
              "outlinewidth": 0,
              "ticks": ""
             }
            },
            "type": "scattercarpet"
           }
          ],
          "scattergeo": [
           {
            "marker": {
             "colorbar": {
              "outlinewidth": 0,
              "ticks": ""
             }
            },
            "type": "scattergeo"
           }
          ],
          "scattergl": [
           {
            "marker": {
             "colorbar": {
              "outlinewidth": 0,
              "ticks": ""
             }
            },
            "type": "scattergl"
           }
          ],
          "scattermapbox": [
           {
            "marker": {
             "colorbar": {
              "outlinewidth": 0,
              "ticks": ""
             }
            },
            "type": "scattermapbox"
           }
          ],
          "scatterpolar": [
           {
            "marker": {
             "colorbar": {
              "outlinewidth": 0,
              "ticks": ""
             }
            },
            "type": "scatterpolar"
           }
          ],
          "scatterpolargl": [
           {
            "marker": {
             "colorbar": {
              "outlinewidth": 0,
              "ticks": ""
             }
            },
            "type": "scatterpolargl"
           }
          ],
          "scatterternary": [
           {
            "marker": {
             "colorbar": {
              "outlinewidth": 0,
              "ticks": ""
             }
            },
            "type": "scatterternary"
           }
          ],
          "surface": [
           {
            "colorbar": {
             "outlinewidth": 0,
             "ticks": ""
            },
            "colorscale": [
             [
              0,
              "#0d0887"
             ],
             [
              0.1111111111111111,
              "#46039f"
             ],
             [
              0.2222222222222222,
              "#7201a8"
             ],
             [
              0.3333333333333333,
              "#9c179e"
             ],
             [
              0.4444444444444444,
              "#bd3786"
             ],
             [
              0.5555555555555556,
              "#d8576b"
             ],
             [
              0.6666666666666666,
              "#ed7953"
             ],
             [
              0.7777777777777778,
              "#fb9f3a"
             ],
             [
              0.8888888888888888,
              "#fdca26"
             ],
             [
              1,
              "#f0f921"
             ]
            ],
            "type": "surface"
           }
          ],
          "table": [
           {
            "cells": {
             "fill": {
              "color": "#EBF0F8"
             },
             "line": {
              "color": "white"
             }
            },
            "header": {
             "fill": {
              "color": "#C8D4E3"
             },
             "line": {
              "color": "white"
             }
            },
            "type": "table"
           }
          ]
         },
         "layout": {
          "annotationdefaults": {
           "arrowcolor": "#2a3f5f",
           "arrowhead": 0,
           "arrowwidth": 1
          },
          "autotypenumbers": "strict",
          "coloraxis": {
           "colorbar": {
            "outlinewidth": 0,
            "ticks": ""
           }
          },
          "colorscale": {
           "diverging": [
            [
             0,
             "#8e0152"
            ],
            [
             0.1,
             "#c51b7d"
            ],
            [
             0.2,
             "#de77ae"
            ],
            [
             0.3,
             "#f1b6da"
            ],
            [
             0.4,
             "#fde0ef"
            ],
            [
             0.5,
             "#f7f7f7"
            ],
            [
             0.6,
             "#e6f5d0"
            ],
            [
             0.7,
             "#b8e186"
            ],
            [
             0.8,
             "#7fbc41"
            ],
            [
             0.9,
             "#4d9221"
            ],
            [
             1,
             "#276419"
            ]
           ],
           "sequential": [
            [
             0,
             "#0d0887"
            ],
            [
             0.1111111111111111,
             "#46039f"
            ],
            [
             0.2222222222222222,
             "#7201a8"
            ],
            [
             0.3333333333333333,
             "#9c179e"
            ],
            [
             0.4444444444444444,
             "#bd3786"
            ],
            [
             0.5555555555555556,
             "#d8576b"
            ],
            [
             0.6666666666666666,
             "#ed7953"
            ],
            [
             0.7777777777777778,
             "#fb9f3a"
            ],
            [
             0.8888888888888888,
             "#fdca26"
            ],
            [
             1,
             "#f0f921"
            ]
           ],
           "sequentialminus": [
            [
             0,
             "#0d0887"
            ],
            [
             0.1111111111111111,
             "#46039f"
            ],
            [
             0.2222222222222222,
             "#7201a8"
            ],
            [
             0.3333333333333333,
             "#9c179e"
            ],
            [
             0.4444444444444444,
             "#bd3786"
            ],
            [
             0.5555555555555556,
             "#d8576b"
            ],
            [
             0.6666666666666666,
             "#ed7953"
            ],
            [
             0.7777777777777778,
             "#fb9f3a"
            ],
            [
             0.8888888888888888,
             "#fdca26"
            ],
            [
             1,
             "#f0f921"
            ]
           ]
          },
          "colorway": [
           "#636efa",
           "#EF553B",
           "#00cc96",
           "#ab63fa",
           "#FFA15A",
           "#19d3f3",
           "#FF6692",
           "#B6E880",
           "#FF97FF",
           "#FECB52"
          ],
          "font": {
           "color": "#2a3f5f"
          },
          "geo": {
           "bgcolor": "white",
           "lakecolor": "white",
           "landcolor": "#E5ECF6",
           "showlakes": true,
           "showland": true,
           "subunitcolor": "white"
          },
          "hoverlabel": {
           "align": "left"
          },
          "hovermode": "closest",
          "mapbox": {
           "style": "light"
          },
          "paper_bgcolor": "white",
          "plot_bgcolor": "#E5ECF6",
          "polar": {
           "angularaxis": {
            "gridcolor": "white",
            "linecolor": "white",
            "ticks": ""
           },
           "bgcolor": "#E5ECF6",
           "radialaxis": {
            "gridcolor": "white",
            "linecolor": "white",
            "ticks": ""
           }
          },
          "scene": {
           "xaxis": {
            "backgroundcolor": "#E5ECF6",
            "gridcolor": "white",
            "gridwidth": 2,
            "linecolor": "white",
            "showbackground": true,
            "ticks": "",
            "zerolinecolor": "white"
           },
           "yaxis": {
            "backgroundcolor": "#E5ECF6",
            "gridcolor": "white",
            "gridwidth": 2,
            "linecolor": "white",
            "showbackground": true,
            "ticks": "",
            "zerolinecolor": "white"
           },
           "zaxis": {
            "backgroundcolor": "#E5ECF6",
            "gridcolor": "white",
            "gridwidth": 2,
            "linecolor": "white",
            "showbackground": true,
            "ticks": "",
            "zerolinecolor": "white"
           }
          },
          "shapedefaults": {
           "line": {
            "color": "#2a3f5f"
           }
          },
          "ternary": {
           "aaxis": {
            "gridcolor": "white",
            "linecolor": "white",
            "ticks": ""
           },
           "baxis": {
            "gridcolor": "white",
            "linecolor": "white",
            "ticks": ""
           },
           "bgcolor": "#E5ECF6",
           "caxis": {
            "gridcolor": "white",
            "linecolor": "white",
            "ticks": ""
           }
          },
          "title": {
           "x": 0.05
          },
          "xaxis": {
           "automargin": true,
           "gridcolor": "white",
           "linecolor": "white",
           "ticks": "",
           "title": {
            "standoff": 15
           },
           "zerolinecolor": "white",
           "zerolinewidth": 2
          },
          "yaxis": {
           "automargin": true,
           "gridcolor": "white",
           "linecolor": "white",
           "ticks": "",
           "title": {
            "standoff": 15
           },
           "zerolinecolor": "white",
           "zerolinewidth": 2
          }
         }
        },
        "title": {
         "text": "Balanced Accuracy Throughout Epochs"
        },
        "xaxis": {
         "title": {
          "text": "Epochs"
         }
        },
        "yaxis": {
         "title": {
          "text": "Balanced Accuracy"
         }
        }
       }
      },
      "text/html": [
       "<div>                            <div id=\"505edc7e-0d0c-4f1d-8522-5e27f60e5f26\" class=\"plotly-graph-div\" style=\"height:525px; width:100%;\"></div>            <script type=\"text/javascript\">                require([\"plotly\"], function(Plotly) {                    window.PLOTLYENV=window.PLOTLYENV || {};                                    if (document.getElementById(\"505edc7e-0d0c-4f1d-8522-5e27f60e5f26\")) {                    Plotly.newPlot(                        \"505edc7e-0d0c-4f1d-8522-5e27f60e5f26\",                        [{\"mode\":\"lines+markers\",\"x\":[0,1,2,3,4,5,6,7,8,9,10,11,12,13,14,15,16,17,18,19,20,21,22,23,24,25,26,27,28,29,30,31,32,33,34,35,36,37,38,39,40,41,42,43,44,45,46,47,48,49,50,51,52,53,54,55,56,57,58,59,60,61,62,63,64,65,66,67,68,69,70,71,72,73,74,75,76,77,78,79,80,81,82,83,84,85,86,87,88,89,90,91,92,93,94,95,96,97,98,99,100,101,102,103,104,105,106,107,108,109,110,111,112,113,114,115,116,117,118,119,120,121,122,123,124,125,126,127,128,129,130,131,132,133,134,135,136,137,138,139,140,141,142,143,144,145,146,147,148,149,150,151,152,153,154,155,156,157,158,159,160,161,162,163,164,165,166,167,168,169,170,171,172,173,174,175,176,177,178,179,180,181,182,183,184,185,186,187,188,189,190,191,192,193,194,195,196,197,198,199,200,201,202,203,204,205,206,207,208,209,210,211,212,213,214,215,216,217,218,219,220,221,222,223,224,225,226,227,228,229,230,231,232,233,234,235,236,237,238,239,240,241,242,243,244,245,246,247,248,249,250,251,252,253,254,255,256,257,258,259,260,261,262,263,264,265,266,267,268,269,270,271,272,273,274,275,276,277,278,279,280,281,282,283,284,285,286,287,288,289,290,291,292,293,294,295,296,297,298,299,300],\"y\":[0.720323488045007,0.7797468354430379,0.8,0.8189873417721518,0.8417721518987342,0.8494374120956399,0.8305203938115331,0.8381153305203938,0.8734880450070324,0.8709563994374121,0.8658931082981716,0.860829817158931,0.8582981715893108,0.8595639943741209,0.8595639943741209,0.8595639943741209,0.860829817158931,0.860829817158931,0.8684247538677918,0.8671589310829817,0.8646272855133614,0.8620956399437412,0.8620956399437412,0.8633614627285513,0.8646272855133614,0.8658931082981716,0.8671589310829817,0.8671589310829817,0.8671589310829817,0.8671589310829817,0.8684247538677918,0.869690576652602,0.8684247538677918,0.8671589310829817,0.8658931082981716,0.8658931082981716,0.8671589310829817,0.8671589310829817,0.8633614627285513,0.8633614627285513,0.8658931082981716,0.8658931082981716,0.8633614627285513,0.8658931082981716,0.8671589310829817,0.8658931082981716,0.860829817158931,0.8595639943741209,0.8620956399437412,0.8633614627285513,0.8646272855133614,0.8658931082981716,0.8633614627285513,0.8595639943741209,0.860829817158931,0.8633614627285513,0.8646272855133614,0.8671589310829817,0.8633614627285513,0.8620956399437412,0.8620956399437412,0.8658931082981716,0.8646272855133614,0.8620956399437412,0.8646272855133614,0.8671589310829817,0.8633614627285513,0.8658931082981716,0.8620956399437412,0.8620956399437412,0.8633614627285513,0.8633614627285513,0.8633614627285513,0.8620956399437412,0.8620956399437412,0.8620956399437412,0.8620956399437412,0.8646272855133614,0.8646272855133614,0.8646272855133614,0.8646272855133614,0.8646272855133614,0.8620956399437412,0.8620956399437412,0.8633614627285513,0.8658931082981716,0.8646272855133614,0.8620956399437412,0.8633614627285513,0.8646272855133614,0.8646272855133614,0.860829817158931,0.8633614627285513,0.8671589310829817,0.8671589310829817,0.8658931082981716,0.8658931082981716,0.8684247538677918,0.8671589310829817,0.8620956399437412,0.8646272855133614,0.8671589310829817,0.8671589310829817,0.8658931082981716,0.8646272855133614,0.869690576652602,0.869690576652602,0.8684247538677918,0.8684247538677918,0.8684247538677918,0.869690576652602,0.8684247538677918,0.860829817158931,0.869690576652602,0.8709563994374121,0.8658931082981716,0.8658931082981716,0.8722222222222222,0.8709563994374121,0.8658931082981716,0.8658931082981716,0.8684247538677918,0.8646272855133614,0.8646272855133614,0.8658931082981716,0.8671589310829817,0.8671589310829817,0.8671589310829817,0.8671589310829817,0.8684247538677918,0.8684247538677918,0.8709563994374121,0.8709563994374121,0.8671589310829817,0.8671589310829817,0.8709563994374121,0.8709563994374121,0.8734880450070324,0.869690576652602,0.8684247538677918,0.8734880450070324,0.8684247538677918,0.8722222222222222,0.8722222222222222,0.8709563994374121,0.8734880450070324,0.8709563994374121,0.8734880450070324,0.8734880450070324,0.8709563994374121,0.8734880450070324,0.8734880450070324,0.8734880450070324,0.8734880450070324,0.8747538677918425,0.8722222222222222,0.8734880450070324,0.8734880450070324,0.8734880450070324,0.8747538677918425,0.8747538677918425,0.8747538677918425,0.8747538677918425,0.8734880450070324,0.8734880450070324,0.8747538677918425,0.8747538677918425,0.8760196905766526,0.8760196905766526,0.8747538677918425,0.8760196905766526,0.8772855133614628,0.8734880450070324,0.8760196905766526,0.879817158931083,0.8734880450070324,0.8772855133614628,0.8747538677918425,0.90126582278481,0.8747538677918425,0.8747538677918425,0.8734880450070324,0.8747538677918425,0.8747538677918425,0.8747538677918425,0.8785513361462729,0.8785513361462729,0.8747538677918425,0.8810829817158932,0.8785513361462729,0.8722222222222222,0.8533052039381153,0.8722222222222222,0.8772855133614628,0.8785513361462729,0.9063291139240506,0.9075949367088607,0.9075949367088607,0.9050632911392404,0.9037974683544303,0.8785513361462729,0.9050632911392404,0.9063291139240506,0.8558368495077355,0.9050632911392404,0.8810829817158932,0.8545710267229254,0.8772855133614628,0.8545710267229254,0.8785513361462729,0.8785513361462729,0.8785513361462729,0.8785513361462729,0.8785513361462729,0.8810829817158932,0.879817158931083,0.8520393811533051,0.8520393811533051,0.8520393811533051,0.8785513361462729,0.8823488045007033,0.879817158931083,0.8785513361462729,0.8772855133614628,0.8520393811533051,0.8520393811533051,0.8785513361462729,0.8520393811533051,0.850773558368495,0.8785513361462729,0.8810829817158932,0.879817158931083,0.8533052039381153,0.8785513361462729,0.8810829817158932,0.8545710267229254,0.8785513361462729,0.8520393811533051,0.850773558368495,0.8772855133614628,0.8533052039381153,0.8520393811533051,0.8545710267229254,0.8533052039381153,0.8533052039381153,0.8533052039381153,0.8545710267229254,0.879817158931083,0.8558368495077355,0.8558368495077355,0.8810829817158932,0.8558368495077355,0.8558368495077355,0.879817158931083,0.8571026722925457,0.8520393811533051,0.8545710267229254,0.8545710267229254,0.8533052039381153,0.8545710267229254,0.8823488045007033,0.8609001406469761,0.879817158931083,0.8558368495077355,0.8545710267229254,0.879817158931083,0.8621659634317862,0.8520393811533051,0.8558368495077355,0.8621659634317862,0.850773558368495,0.8558368495077355,0.8571026722925457,0.8520393811533051,0.8571026722925457,0.8596343178621659,0.8545710267229254,0.8583684950773558,0.8558368495077355,0.8571026722925457,0.8583684950773558,0.8558368495077355,0.8558368495077355,0.8533052039381153,0.8571026722925457,0.8533052039381153,0.8558368495077355,0.8558368495077355,0.8545710267229254,0.8583684950773558,0.8571026722925457,0.8571026722925457,0.8848804500703235,0.8861462728551336,0.8596343178621659,0.8848804500703235,0.8646976090014065,0.8583684950773558,0.8571026722925457,0.8621659634317862,0.8545710267229254],\"type\":\"scatter\"}],                        {\"title\":{\"text\":\"Balanced Accuracy Throughout Epochs\"},\"xaxis\":{\"title\":{\"text\":\"Epochs\"}},\"yaxis\":{\"title\":{\"text\":\"Balanced Accuracy\"}},\"template\":{\"data\":{\"histogram2dcontour\":[{\"type\":\"histogram2dcontour\",\"colorbar\":{\"outlinewidth\":0,\"ticks\":\"\"},\"colorscale\":[[0.0,\"#0d0887\"],[0.1111111111111111,\"#46039f\"],[0.2222222222222222,\"#7201a8\"],[0.3333333333333333,\"#9c179e\"],[0.4444444444444444,\"#bd3786\"],[0.5555555555555556,\"#d8576b\"],[0.6666666666666666,\"#ed7953\"],[0.7777777777777778,\"#fb9f3a\"],[0.8888888888888888,\"#fdca26\"],[1.0,\"#f0f921\"]]}],\"choropleth\":[{\"type\":\"choropleth\",\"colorbar\":{\"outlinewidth\":0,\"ticks\":\"\"}}],\"histogram2d\":[{\"type\":\"histogram2d\",\"colorbar\":{\"outlinewidth\":0,\"ticks\":\"\"},\"colorscale\":[[0.0,\"#0d0887\"],[0.1111111111111111,\"#46039f\"],[0.2222222222222222,\"#7201a8\"],[0.3333333333333333,\"#9c179e\"],[0.4444444444444444,\"#bd3786\"],[0.5555555555555556,\"#d8576b\"],[0.6666666666666666,\"#ed7953\"],[0.7777777777777778,\"#fb9f3a\"],[0.8888888888888888,\"#fdca26\"],[1.0,\"#f0f921\"]]}],\"heatmap\":[{\"type\":\"heatmap\",\"colorbar\":{\"outlinewidth\":0,\"ticks\":\"\"},\"colorscale\":[[0.0,\"#0d0887\"],[0.1111111111111111,\"#46039f\"],[0.2222222222222222,\"#7201a8\"],[0.3333333333333333,\"#9c179e\"],[0.4444444444444444,\"#bd3786\"],[0.5555555555555556,\"#d8576b\"],[0.6666666666666666,\"#ed7953\"],[0.7777777777777778,\"#fb9f3a\"],[0.8888888888888888,\"#fdca26\"],[1.0,\"#f0f921\"]]}],\"heatmapgl\":[{\"type\":\"heatmapgl\",\"colorbar\":{\"outlinewidth\":0,\"ticks\":\"\"},\"colorscale\":[[0.0,\"#0d0887\"],[0.1111111111111111,\"#46039f\"],[0.2222222222222222,\"#7201a8\"],[0.3333333333333333,\"#9c179e\"],[0.4444444444444444,\"#bd3786\"],[0.5555555555555556,\"#d8576b\"],[0.6666666666666666,\"#ed7953\"],[0.7777777777777778,\"#fb9f3a\"],[0.8888888888888888,\"#fdca26\"],[1.0,\"#f0f921\"]]}],\"contourcarpet\":[{\"type\":\"contourcarpet\",\"colorbar\":{\"outlinewidth\":0,\"ticks\":\"\"}}],\"contour\":[{\"type\":\"contour\",\"colorbar\":{\"outlinewidth\":0,\"ticks\":\"\"},\"colorscale\":[[0.0,\"#0d0887\"],[0.1111111111111111,\"#46039f\"],[0.2222222222222222,\"#7201a8\"],[0.3333333333333333,\"#9c179e\"],[0.4444444444444444,\"#bd3786\"],[0.5555555555555556,\"#d8576b\"],[0.6666666666666666,\"#ed7953\"],[0.7777777777777778,\"#fb9f3a\"],[0.8888888888888888,\"#fdca26\"],[1.0,\"#f0f921\"]]}],\"surface\":[{\"type\":\"surface\",\"colorbar\":{\"outlinewidth\":0,\"ticks\":\"\"},\"colorscale\":[[0.0,\"#0d0887\"],[0.1111111111111111,\"#46039f\"],[0.2222222222222222,\"#7201a8\"],[0.3333333333333333,\"#9c179e\"],[0.4444444444444444,\"#bd3786\"],[0.5555555555555556,\"#d8576b\"],[0.6666666666666666,\"#ed7953\"],[0.7777777777777778,\"#fb9f3a\"],[0.8888888888888888,\"#fdca26\"],[1.0,\"#f0f921\"]]}],\"mesh3d\":[{\"type\":\"mesh3d\",\"colorbar\":{\"outlinewidth\":0,\"ticks\":\"\"}}],\"scatter\":[{\"fillpattern\":{\"fillmode\":\"overlay\",\"size\":10,\"solidity\":0.2},\"type\":\"scatter\"}],\"parcoords\":[{\"type\":\"parcoords\",\"line\":{\"colorbar\":{\"outlinewidth\":0,\"ticks\":\"\"}}}],\"scatterpolargl\":[{\"type\":\"scatterpolargl\",\"marker\":{\"colorbar\":{\"outlinewidth\":0,\"ticks\":\"\"}}}],\"bar\":[{\"error_x\":{\"color\":\"#2a3f5f\"},\"error_y\":{\"color\":\"#2a3f5f\"},\"marker\":{\"line\":{\"color\":\"#E5ECF6\",\"width\":0.5},\"pattern\":{\"fillmode\":\"overlay\",\"size\":10,\"solidity\":0.2}},\"type\":\"bar\"}],\"scattergeo\":[{\"type\":\"scattergeo\",\"marker\":{\"colorbar\":{\"outlinewidth\":0,\"ticks\":\"\"}}}],\"scatterpolar\":[{\"type\":\"scatterpolar\",\"marker\":{\"colorbar\":{\"outlinewidth\":0,\"ticks\":\"\"}}}],\"histogram\":[{\"marker\":{\"pattern\":{\"fillmode\":\"overlay\",\"size\":10,\"solidity\":0.2}},\"type\":\"histogram\"}],\"scattergl\":[{\"type\":\"scattergl\",\"marker\":{\"colorbar\":{\"outlinewidth\":0,\"ticks\":\"\"}}}],\"scatter3d\":[{\"type\":\"scatter3d\",\"line\":{\"colorbar\":{\"outlinewidth\":0,\"ticks\":\"\"}},\"marker\":{\"colorbar\":{\"outlinewidth\":0,\"ticks\":\"\"}}}],\"scattermapbox\":[{\"type\":\"scattermapbox\",\"marker\":{\"colorbar\":{\"outlinewidth\":0,\"ticks\":\"\"}}}],\"scatterternary\":[{\"type\":\"scatterternary\",\"marker\":{\"colorbar\":{\"outlinewidth\":0,\"ticks\":\"\"}}}],\"scattercarpet\":[{\"type\":\"scattercarpet\",\"marker\":{\"colorbar\":{\"outlinewidth\":0,\"ticks\":\"\"}}}],\"carpet\":[{\"aaxis\":{\"endlinecolor\":\"#2a3f5f\",\"gridcolor\":\"white\",\"linecolor\":\"white\",\"minorgridcolor\":\"white\",\"startlinecolor\":\"#2a3f5f\"},\"baxis\":{\"endlinecolor\":\"#2a3f5f\",\"gridcolor\":\"white\",\"linecolor\":\"white\",\"minorgridcolor\":\"white\",\"startlinecolor\":\"#2a3f5f\"},\"type\":\"carpet\"}],\"table\":[{\"cells\":{\"fill\":{\"color\":\"#EBF0F8\"},\"line\":{\"color\":\"white\"}},\"header\":{\"fill\":{\"color\":\"#C8D4E3\"},\"line\":{\"color\":\"white\"}},\"type\":\"table\"}],\"barpolar\":[{\"marker\":{\"line\":{\"color\":\"#E5ECF6\",\"width\":0.5},\"pattern\":{\"fillmode\":\"overlay\",\"size\":10,\"solidity\":0.2}},\"type\":\"barpolar\"}],\"pie\":[{\"automargin\":true,\"type\":\"pie\"}]},\"layout\":{\"autotypenumbers\":\"strict\",\"colorway\":[\"#636efa\",\"#EF553B\",\"#00cc96\",\"#ab63fa\",\"#FFA15A\",\"#19d3f3\",\"#FF6692\",\"#B6E880\",\"#FF97FF\",\"#FECB52\"],\"font\":{\"color\":\"#2a3f5f\"},\"hovermode\":\"closest\",\"hoverlabel\":{\"align\":\"left\"},\"paper_bgcolor\":\"white\",\"plot_bgcolor\":\"#E5ECF6\",\"polar\":{\"bgcolor\":\"#E5ECF6\",\"angularaxis\":{\"gridcolor\":\"white\",\"linecolor\":\"white\",\"ticks\":\"\"},\"radialaxis\":{\"gridcolor\":\"white\",\"linecolor\":\"white\",\"ticks\":\"\"}},\"ternary\":{\"bgcolor\":\"#E5ECF6\",\"aaxis\":{\"gridcolor\":\"white\",\"linecolor\":\"white\",\"ticks\":\"\"},\"baxis\":{\"gridcolor\":\"white\",\"linecolor\":\"white\",\"ticks\":\"\"},\"caxis\":{\"gridcolor\":\"white\",\"linecolor\":\"white\",\"ticks\":\"\"}},\"coloraxis\":{\"colorbar\":{\"outlinewidth\":0,\"ticks\":\"\"}},\"colorscale\":{\"sequential\":[[0.0,\"#0d0887\"],[0.1111111111111111,\"#46039f\"],[0.2222222222222222,\"#7201a8\"],[0.3333333333333333,\"#9c179e\"],[0.4444444444444444,\"#bd3786\"],[0.5555555555555556,\"#d8576b\"],[0.6666666666666666,\"#ed7953\"],[0.7777777777777778,\"#fb9f3a\"],[0.8888888888888888,\"#fdca26\"],[1.0,\"#f0f921\"]],\"sequentialminus\":[[0.0,\"#0d0887\"],[0.1111111111111111,\"#46039f\"],[0.2222222222222222,\"#7201a8\"],[0.3333333333333333,\"#9c179e\"],[0.4444444444444444,\"#bd3786\"],[0.5555555555555556,\"#d8576b\"],[0.6666666666666666,\"#ed7953\"],[0.7777777777777778,\"#fb9f3a\"],[0.8888888888888888,\"#fdca26\"],[1.0,\"#f0f921\"]],\"diverging\":[[0,\"#8e0152\"],[0.1,\"#c51b7d\"],[0.2,\"#de77ae\"],[0.3,\"#f1b6da\"],[0.4,\"#fde0ef\"],[0.5,\"#f7f7f7\"],[0.6,\"#e6f5d0\"],[0.7,\"#b8e186\"],[0.8,\"#7fbc41\"],[0.9,\"#4d9221\"],[1,\"#276419\"]]},\"xaxis\":{\"gridcolor\":\"white\",\"linecolor\":\"white\",\"ticks\":\"\",\"title\":{\"standoff\":15},\"zerolinecolor\":\"white\",\"automargin\":true,\"zerolinewidth\":2},\"yaxis\":{\"gridcolor\":\"white\",\"linecolor\":\"white\",\"ticks\":\"\",\"title\":{\"standoff\":15},\"zerolinecolor\":\"white\",\"automargin\":true,\"zerolinewidth\":2},\"scene\":{\"xaxis\":{\"backgroundcolor\":\"#E5ECF6\",\"gridcolor\":\"white\",\"linecolor\":\"white\",\"showbackground\":true,\"ticks\":\"\",\"zerolinecolor\":\"white\",\"gridwidth\":2},\"yaxis\":{\"backgroundcolor\":\"#E5ECF6\",\"gridcolor\":\"white\",\"linecolor\":\"white\",\"showbackground\":true,\"ticks\":\"\",\"zerolinecolor\":\"white\",\"gridwidth\":2},\"zaxis\":{\"backgroundcolor\":\"#E5ECF6\",\"gridcolor\":\"white\",\"linecolor\":\"white\",\"showbackground\":true,\"ticks\":\"\",\"zerolinecolor\":\"white\",\"gridwidth\":2}},\"shapedefaults\":{\"line\":{\"color\":\"#2a3f5f\"}},\"annotationdefaults\":{\"arrowcolor\":\"#2a3f5f\",\"arrowhead\":0,\"arrowwidth\":1},\"geo\":{\"bgcolor\":\"white\",\"landcolor\":\"#E5ECF6\",\"subunitcolor\":\"white\",\"showland\":true,\"showlakes\":true,\"lakecolor\":\"white\"},\"title\":{\"x\":0.05},\"mapbox\":{\"style\":\"light\"}}}},                        {\"responsive\": true}                    ).then(function(){\n",
       "                            \n",
       "var gd = document.getElementById('505edc7e-0d0c-4f1d-8522-5e27f60e5f26');\n",
       "var x = new MutationObserver(function (mutations, observer) {{\n",
       "        var display = window.getComputedStyle(gd).display;\n",
       "        if (!display || display === 'none') {{\n",
       "            console.log([gd, 'removed!']);\n",
       "            Plotly.purge(gd);\n",
       "            observer.disconnect();\n",
       "        }}\n",
       "}});\n",
       "\n",
       "// Listen for the removal of the full notebook cells\n",
       "var notebookContainer = gd.closest('#notebook-container');\n",
       "if (notebookContainer) {{\n",
       "    x.observe(notebookContainer, {childList: true});\n",
       "}}\n",
       "\n",
       "// Listen for the clearing of the current output cell\n",
       "var outputEl = gd.closest('.output');\n",
       "if (outputEl) {{\n",
       "    x.observe(outputEl, {childList: true});\n",
       "}}\n",
       "\n",
       "                        })                };                });            </script>        </div>"
      ]
     },
     "metadata": {},
     "output_type": "display_data"
    },
    {
     "data": {
      "application/vnd.plotly.v1+json": {
       "config": {
        "plotlyServerURL": "https://plot.ly"
       },
       "data": [
        {
         "mode": "lines+markers",
         "type": "scatter",
         "x": [
          0,
          1,
          2,
          3,
          4,
          5,
          6,
          7,
          8,
          9,
          10,
          11,
          12,
          13,
          14,
          15,
          16,
          17,
          18,
          19,
          20,
          21,
          22,
          23,
          24,
          25,
          26,
          27,
          28,
          29,
          30,
          31,
          32,
          33,
          34,
          35,
          36,
          37,
          38,
          39,
          40,
          41,
          42,
          43,
          44,
          45,
          46,
          47,
          48,
          49,
          50,
          51,
          52,
          53,
          54,
          55,
          56,
          57,
          58,
          59,
          60,
          61,
          62,
          63,
          64,
          65,
          66,
          67,
          68,
          69,
          70,
          71,
          72,
          73,
          74,
          75,
          76,
          77,
          78,
          79,
          80,
          81,
          82,
          83,
          84,
          85,
          86,
          87,
          88,
          89,
          90,
          91,
          92,
          93,
          94,
          95,
          96,
          97,
          98,
          99,
          100,
          101,
          102,
          103,
          104,
          105,
          106,
          107,
          108,
          109,
          110,
          111,
          112,
          113,
          114,
          115,
          116,
          117,
          118,
          119,
          120,
          121,
          122,
          123,
          124,
          125,
          126,
          127,
          128,
          129,
          130,
          131,
          132,
          133,
          134,
          135,
          136,
          137,
          138,
          139,
          140,
          141,
          142,
          143,
          144,
          145,
          146,
          147,
          148,
          149,
          150,
          151,
          152,
          153,
          154,
          155,
          156,
          157,
          158,
          159,
          160,
          161,
          162,
          163,
          164,
          165,
          166,
          167,
          168,
          169,
          170,
          171,
          172,
          173,
          174,
          175,
          176,
          177,
          178,
          179,
          180,
          181,
          182,
          183,
          184,
          185,
          186,
          187,
          188,
          189,
          190,
          191,
          192,
          193,
          194,
          195,
          196,
          197,
          198,
          199,
          200,
          201,
          202,
          203,
          204,
          205,
          206,
          207,
          208,
          209,
          210,
          211,
          212,
          213,
          214,
          215,
          216,
          217,
          218,
          219,
          220,
          221,
          222,
          223,
          224,
          225,
          226,
          227,
          228,
          229,
          230,
          231,
          232,
          233,
          234,
          235,
          236,
          237,
          238,
          239,
          240,
          241,
          242,
          243,
          244,
          245,
          246,
          247,
          248,
          249,
          250,
          251,
          252,
          253,
          254,
          255,
          256,
          257,
          258,
          259,
          260,
          261,
          262,
          263,
          264,
          265,
          266,
          267,
          268,
          269,
          270,
          271,
          272,
          273,
          274,
          275,
          276,
          277,
          278,
          279,
          280,
          281,
          282,
          283,
          284,
          285,
          286,
          287,
          288,
          289,
          290,
          291,
          292,
          293,
          294,
          295,
          296,
          297,
          298,
          299,
          300
         ],
         "y": [
          0.8661040663719177,
          0.8793249130249023,
          0.8842474818229675,
          0.8849508166313171,
          0.8832629919052124,
          0.8838255405426025,
          0.8852320909500122,
          0.8864979147911072,
          0.8907172679901123,
          0.894514799118042,
          0.9012657999992371,
          0.905766487121582,
          0.9094233512878418,
          0.9113923907279968,
          0.9133614301681519,
          0.9140647053718567,
          0.9144865870475769,
          0.9139240980148315,
          0.9150492548942566,
          0.9150491952896118,
          0.9167369604110718,
          0.9185653924942017,
          0.9194092154502869,
          0.9196905493736267,
          0.9208157062530518,
          0.9202531576156616,
          0.9201124906539917,
          0.9194092750549316,
          0.9188467264175415,
          0.9182841181755066,
          0.9181433916091919,
          0.9175807237625122,
          0.9178621172904968,
          0.9185653328895569,
          0.9191280007362366,
          0.9195499420166016,
          0.9202531576156616,
          0.9202531576156616,
          0.9206750392913818,
          0.9198312163352966,
          0.9194092750549316,
          0.9195499420166016,
          0.9201124906539917,
          0.9199718236923218,
          0.9203938245773315,
          0.9202531576156616,
          0.9203937649726868,
          0.9208157658576965,
          0.9206750988960266,
          0.9205344319343567,
          0.9208157658576965,
          0.9206750988960266,
          0.9206750392913818,
          0.9210970401763916,
          0.9210970401763916,
          0.9212376475334167,
          0.9210969805717468,
          0.9206750988960266,
          0.9209564328193665,
          0.9212376475334167,
          0.9210969805717468,
          0.9206750988960266,
          0.9208157658576965,
          0.9210969805717468,
          0.9209563732147217,
          0.9212376475334167,
          0.9209563732147217,
          0.9209563732147217,
          0.9202531576156616,
          0.9199718236923218,
          0.9196904897689819,
          0.9199719429016113,
          0.9202531576156616,
          0.9205344319343567,
          0.9212376475334167,
          0.9209563732147217,
          0.9209563732147217,
          0.9206751585006714,
          0.9209563732147217,
          0.9210970401763916,
          0.9208157062530518,
          0.9210970401763916,
          0.9215189814567566,
          0.9220815896987915,
          0.9215189218521118,
          0.9208158254623413,
          0.9212377071380615,
          0.9216595888137817,
          0.9222221970558167,
          0.9220815896987915,
          0.9225034713745117,
          0.9223628640174866,
          0.9225034713745117,
          0.9220815896987915,
          0.9216596484184265,
          0.9212377071380615,
          0.9213784337043762,
          0.9208157658576965,
          0.9222221970558167,
          0.9222222566604614,
          0.9223628640174866,
          0.9222221970558167,
          0.9216596484184265,
          0.9216597080230713,
          0.9218002557754517,
          0.9216595888137817,
          0.9216595888137817,
          0.9220815300941467,
          0.9215189814567566,
          0.9215190410614014,
          0.9213782548904419,
          0.9218002557754517,
          0.9219409823417664,
          0.9212376475334167,
          0.9209563732147217,
          0.9213783144950867,
          0.9218003153800964,
          0.9210970401763916,
          0.9209563136100769,
          0.9205344319343567,
          0.9209563732147217,
          0.9208157062530518,
          0.9213783740997314,
          0.9222222566604614,
          0.9218003153800964,
          0.9210970401763916,
          0.9208157658576965,
          0.9208157658576965,
          0.9210970401763916,
          0.9210970997810364,
          0.9216595888137817,
          0.9210970401763916,
          0.9209564328193665,
          0.9213783740997314,
          0.9210970401763916,
          0.9203938245773315,
          0.9198312163352966,
          0.9202531576156616,
          0.9203938245773315,
          0.9201125502586365,
          0.9199719429016113,
          0.9209563732147217,
          0.9206751585006714,
          0.9208158254623413,
          0.9212377071380615,
          0.9215190410614014,
          0.9215189814567566,
          0.9205344915390015,
          0.9198312759399414,
          0.9205344915390015,
          0.9201124906539917,
          0.9198312759399414,
          0.9195499420166016,
          0.9194092154502869,
          0.9205344319343567,
          0.9212376475334167,
          0.9208157062530518,
          0.9199718832969666,
          0.9201125502586365,
          0.9203938245773315,
          0.9199718832969666,
          0.9203938245773315,
          0.9205344915390015,
          0.9215189814567566,
          0.9219409227371216,
          0.9206750988960266,
          0.9202531576156616,
          0.9195499420166016,
          0.9192686080932617,
          0.9194092750549316,
          0.9194093346595764,
          0.9195499420166016,
          0.9203938245773315,
          0.9195499420166016,
          0.9184247255325317,
          0.9180028438568115,
          0.9177215099334717,
          0.9180028438568115,
          0.9184247851371765,
          0.9178622364997864,
          0.9175809025764465,
          0.9170182943344116,
          0.9174402952194214,
          0.9181435108184814,
          0.9188467264175415,
          0.9180028438568115,
          0.9178621172904968,
          0.9177215099334717,
          0.9175809025764465,
          0.9168775677680969,
          0.9167369604110718,
          0.9170182943344116,
          0.9172995686531067,
          0.9180028438568115,
          0.9177215099334717,
          0.9177214503288269,
          0.9175808429718018,
          0.9177215099334717,
          0.917158842086792,
          0.9171589612960815,
          0.9171589612960815,
          0.9171589612960815,
          0.9174401760101318,
          0.9174402356147766,
          0.9180027842521667,
          0.9175808429718018,
          0.9164557456970215,
          0.9161744117736816,
          0.9156118631362915,
          0.9164556264877319,
          0.9172995090484619,
          0.9171589612960815,
          0.9165963530540466,
          0.9177215099334717,
          0.9168775677680969,
          0.9170182943344116,
          0.9165963530540466,
          0.9165963530540466,
          0.9158931374549866,
          0.9170182347297668,
          0.9168776273727417,
          0.9160337448120117,
          0.9150492548942566,
          0.9156118035316467,
          0.9153305292129517,
          0.9153305292129517,
          0.9154711961746216,
          0.9149085879325867,
          0.9144866466522217,
          0.9154711365699768,
          0.915611743927002,
          0.9158930778503418,
          0.9158931374549866,
          0.9165962934494019,
          0.9167369604110718,
          0.9156118631362915,
          0.915611743927002,
          0.9144866466522217,
          0.9136427640914917,
          0.9139240384101868,
          0.9137833714485168,
          0.9140647053718567,
          0.9137834310531616,
          0.9140647649765015,
          0.913502037525177,
          0.9133614301681519,
          0.9127987623214722,
          0.9132207036018372,
          0.913502037525177,
          0.9129395484924316,
          0.9140647053718567,
          0.9139240384101868,
          0.9130801558494568,
          0.9139240384101868,
          0.9120955467224121,
          0.9130801558494568,
          0.912236213684082,
          0.9115330576896667,
          0.9119549989700317,
          0.9118143320083618,
          0.9132208824157715,
          0.9118143320083618,
          0.9127988219261169,
          0.9116737246513367,
          0.911532998085022,
          0.9113923907279968,
          0.9095640182495117,
          0.9116736650466919,
          0.9105485081672668,
          0.9092826843261719,
          0.9101265668869019,
          0.9095640778541565,
          0.9101265668869019,
          0.9109704494476318,
          0.9101265668869019,
          0.9097046256065369,
          0.9101265668869019,
          0.910689115524292,
          0.9111111164093018,
          0.910689115524292,
          0.9101265668869019,
          0.9111111164093018,
          0.9106891751289368,
          0.9108297824859619,
          0.9106891751289368,
          0.9109704494476318,
          0.9102672338485718,
          0.909845232963562,
          0.9101265668869019,
          0.9104079008102417,
          0.9109703898429871,
          0.9101265668869019,
          0.9105485677719116,
          0.9111111164093018,
          0.9109704494476318,
          0.9108297824859619,
          0.908298134803772,
          0.909423291683197,
          0.9095639586448669,
          0.909001350402832,
          0.9097045660018921
         ]
        }
       ],
       "layout": {
        "template": {
         "data": {
          "bar": [
           {
            "error_x": {
             "color": "#2a3f5f"
            },
            "error_y": {
             "color": "#2a3f5f"
            },
            "marker": {
             "line": {
              "color": "#E5ECF6",
              "width": 0.5
             },
             "pattern": {
              "fillmode": "overlay",
              "size": 10,
              "solidity": 0.2
             }
            },
            "type": "bar"
           }
          ],
          "barpolar": [
           {
            "marker": {
             "line": {
              "color": "#E5ECF6",
              "width": 0.5
             },
             "pattern": {
              "fillmode": "overlay",
              "size": 10,
              "solidity": 0.2
             }
            },
            "type": "barpolar"
           }
          ],
          "carpet": [
           {
            "aaxis": {
             "endlinecolor": "#2a3f5f",
             "gridcolor": "white",
             "linecolor": "white",
             "minorgridcolor": "white",
             "startlinecolor": "#2a3f5f"
            },
            "baxis": {
             "endlinecolor": "#2a3f5f",
             "gridcolor": "white",
             "linecolor": "white",
             "minorgridcolor": "white",
             "startlinecolor": "#2a3f5f"
            },
            "type": "carpet"
           }
          ],
          "choropleth": [
           {
            "colorbar": {
             "outlinewidth": 0,
             "ticks": ""
            },
            "type": "choropleth"
           }
          ],
          "contour": [
           {
            "colorbar": {
             "outlinewidth": 0,
             "ticks": ""
            },
            "colorscale": [
             [
              0,
              "#0d0887"
             ],
             [
              0.1111111111111111,
              "#46039f"
             ],
             [
              0.2222222222222222,
              "#7201a8"
             ],
             [
              0.3333333333333333,
              "#9c179e"
             ],
             [
              0.4444444444444444,
              "#bd3786"
             ],
             [
              0.5555555555555556,
              "#d8576b"
             ],
             [
              0.6666666666666666,
              "#ed7953"
             ],
             [
              0.7777777777777778,
              "#fb9f3a"
             ],
             [
              0.8888888888888888,
              "#fdca26"
             ],
             [
              1,
              "#f0f921"
             ]
            ],
            "type": "contour"
           }
          ],
          "contourcarpet": [
           {
            "colorbar": {
             "outlinewidth": 0,
             "ticks": ""
            },
            "type": "contourcarpet"
           }
          ],
          "heatmap": [
           {
            "colorbar": {
             "outlinewidth": 0,
             "ticks": ""
            },
            "colorscale": [
             [
              0,
              "#0d0887"
             ],
             [
              0.1111111111111111,
              "#46039f"
             ],
             [
              0.2222222222222222,
              "#7201a8"
             ],
             [
              0.3333333333333333,
              "#9c179e"
             ],
             [
              0.4444444444444444,
              "#bd3786"
             ],
             [
              0.5555555555555556,
              "#d8576b"
             ],
             [
              0.6666666666666666,
              "#ed7953"
             ],
             [
              0.7777777777777778,
              "#fb9f3a"
             ],
             [
              0.8888888888888888,
              "#fdca26"
             ],
             [
              1,
              "#f0f921"
             ]
            ],
            "type": "heatmap"
           }
          ],
          "heatmapgl": [
           {
            "colorbar": {
             "outlinewidth": 0,
             "ticks": ""
            },
            "colorscale": [
             [
              0,
              "#0d0887"
             ],
             [
              0.1111111111111111,
              "#46039f"
             ],
             [
              0.2222222222222222,
              "#7201a8"
             ],
             [
              0.3333333333333333,
              "#9c179e"
             ],
             [
              0.4444444444444444,
              "#bd3786"
             ],
             [
              0.5555555555555556,
              "#d8576b"
             ],
             [
              0.6666666666666666,
              "#ed7953"
             ],
             [
              0.7777777777777778,
              "#fb9f3a"
             ],
             [
              0.8888888888888888,
              "#fdca26"
             ],
             [
              1,
              "#f0f921"
             ]
            ],
            "type": "heatmapgl"
           }
          ],
          "histogram": [
           {
            "marker": {
             "pattern": {
              "fillmode": "overlay",
              "size": 10,
              "solidity": 0.2
             }
            },
            "type": "histogram"
           }
          ],
          "histogram2d": [
           {
            "colorbar": {
             "outlinewidth": 0,
             "ticks": ""
            },
            "colorscale": [
             [
              0,
              "#0d0887"
             ],
             [
              0.1111111111111111,
              "#46039f"
             ],
             [
              0.2222222222222222,
              "#7201a8"
             ],
             [
              0.3333333333333333,
              "#9c179e"
             ],
             [
              0.4444444444444444,
              "#bd3786"
             ],
             [
              0.5555555555555556,
              "#d8576b"
             ],
             [
              0.6666666666666666,
              "#ed7953"
             ],
             [
              0.7777777777777778,
              "#fb9f3a"
             ],
             [
              0.8888888888888888,
              "#fdca26"
             ],
             [
              1,
              "#f0f921"
             ]
            ],
            "type": "histogram2d"
           }
          ],
          "histogram2dcontour": [
           {
            "colorbar": {
             "outlinewidth": 0,
             "ticks": ""
            },
            "colorscale": [
             [
              0,
              "#0d0887"
             ],
             [
              0.1111111111111111,
              "#46039f"
             ],
             [
              0.2222222222222222,
              "#7201a8"
             ],
             [
              0.3333333333333333,
              "#9c179e"
             ],
             [
              0.4444444444444444,
              "#bd3786"
             ],
             [
              0.5555555555555556,
              "#d8576b"
             ],
             [
              0.6666666666666666,
              "#ed7953"
             ],
             [
              0.7777777777777778,
              "#fb9f3a"
             ],
             [
              0.8888888888888888,
              "#fdca26"
             ],
             [
              1,
              "#f0f921"
             ]
            ],
            "type": "histogram2dcontour"
           }
          ],
          "mesh3d": [
           {
            "colorbar": {
             "outlinewidth": 0,
             "ticks": ""
            },
            "type": "mesh3d"
           }
          ],
          "parcoords": [
           {
            "line": {
             "colorbar": {
              "outlinewidth": 0,
              "ticks": ""
             }
            },
            "type": "parcoords"
           }
          ],
          "pie": [
           {
            "automargin": true,
            "type": "pie"
           }
          ],
          "scatter": [
           {
            "fillpattern": {
             "fillmode": "overlay",
             "size": 10,
             "solidity": 0.2
            },
            "type": "scatter"
           }
          ],
          "scatter3d": [
           {
            "line": {
             "colorbar": {
              "outlinewidth": 0,
              "ticks": ""
             }
            },
            "marker": {
             "colorbar": {
              "outlinewidth": 0,
              "ticks": ""
             }
            },
            "type": "scatter3d"
           }
          ],
          "scattercarpet": [
           {
            "marker": {
             "colorbar": {
              "outlinewidth": 0,
              "ticks": ""
             }
            },
            "type": "scattercarpet"
           }
          ],
          "scattergeo": [
           {
            "marker": {
             "colorbar": {
              "outlinewidth": 0,
              "ticks": ""
             }
            },
            "type": "scattergeo"
           }
          ],
          "scattergl": [
           {
            "marker": {
             "colorbar": {
              "outlinewidth": 0,
              "ticks": ""
             }
            },
            "type": "scattergl"
           }
          ],
          "scattermapbox": [
           {
            "marker": {
             "colorbar": {
              "outlinewidth": 0,
              "ticks": ""
             }
            },
            "type": "scattermapbox"
           }
          ],
          "scatterpolar": [
           {
            "marker": {
             "colorbar": {
              "outlinewidth": 0,
              "ticks": ""
             }
            },
            "type": "scatterpolar"
           }
          ],
          "scatterpolargl": [
           {
            "marker": {
             "colorbar": {
              "outlinewidth": 0,
              "ticks": ""
             }
            },
            "type": "scatterpolargl"
           }
          ],
          "scatterternary": [
           {
            "marker": {
             "colorbar": {
              "outlinewidth": 0,
              "ticks": ""
             }
            },
            "type": "scatterternary"
           }
          ],
          "surface": [
           {
            "colorbar": {
             "outlinewidth": 0,
             "ticks": ""
            },
            "colorscale": [
             [
              0,
              "#0d0887"
             ],
             [
              0.1111111111111111,
              "#46039f"
             ],
             [
              0.2222222222222222,
              "#7201a8"
             ],
             [
              0.3333333333333333,
              "#9c179e"
             ],
             [
              0.4444444444444444,
              "#bd3786"
             ],
             [
              0.5555555555555556,
              "#d8576b"
             ],
             [
              0.6666666666666666,
              "#ed7953"
             ],
             [
              0.7777777777777778,
              "#fb9f3a"
             ],
             [
              0.8888888888888888,
              "#fdca26"
             ],
             [
              1,
              "#f0f921"
             ]
            ],
            "type": "surface"
           }
          ],
          "table": [
           {
            "cells": {
             "fill": {
              "color": "#EBF0F8"
             },
             "line": {
              "color": "white"
             }
            },
            "header": {
             "fill": {
              "color": "#C8D4E3"
             },
             "line": {
              "color": "white"
             }
            },
            "type": "table"
           }
          ]
         },
         "layout": {
          "annotationdefaults": {
           "arrowcolor": "#2a3f5f",
           "arrowhead": 0,
           "arrowwidth": 1
          },
          "autotypenumbers": "strict",
          "coloraxis": {
           "colorbar": {
            "outlinewidth": 0,
            "ticks": ""
           }
          },
          "colorscale": {
           "diverging": [
            [
             0,
             "#8e0152"
            ],
            [
             0.1,
             "#c51b7d"
            ],
            [
             0.2,
             "#de77ae"
            ],
            [
             0.3,
             "#f1b6da"
            ],
            [
             0.4,
             "#fde0ef"
            ],
            [
             0.5,
             "#f7f7f7"
            ],
            [
             0.6,
             "#e6f5d0"
            ],
            [
             0.7,
             "#b8e186"
            ],
            [
             0.8,
             "#7fbc41"
            ],
            [
             0.9,
             "#4d9221"
            ],
            [
             1,
             "#276419"
            ]
           ],
           "sequential": [
            [
             0,
             "#0d0887"
            ],
            [
             0.1111111111111111,
             "#46039f"
            ],
            [
             0.2222222222222222,
             "#7201a8"
            ],
            [
             0.3333333333333333,
             "#9c179e"
            ],
            [
             0.4444444444444444,
             "#bd3786"
            ],
            [
             0.5555555555555556,
             "#d8576b"
            ],
            [
             0.6666666666666666,
             "#ed7953"
            ],
            [
             0.7777777777777778,
             "#fb9f3a"
            ],
            [
             0.8888888888888888,
             "#fdca26"
            ],
            [
             1,
             "#f0f921"
            ]
           ],
           "sequentialminus": [
            [
             0,
             "#0d0887"
            ],
            [
             0.1111111111111111,
             "#46039f"
            ],
            [
             0.2222222222222222,
             "#7201a8"
            ],
            [
             0.3333333333333333,
             "#9c179e"
            ],
            [
             0.4444444444444444,
             "#bd3786"
            ],
            [
             0.5555555555555556,
             "#d8576b"
            ],
            [
             0.6666666666666666,
             "#ed7953"
            ],
            [
             0.7777777777777778,
             "#fb9f3a"
            ],
            [
             0.8888888888888888,
             "#fdca26"
            ],
            [
             1,
             "#f0f921"
            ]
           ]
          },
          "colorway": [
           "#636efa",
           "#EF553B",
           "#00cc96",
           "#ab63fa",
           "#FFA15A",
           "#19d3f3",
           "#FF6692",
           "#B6E880",
           "#FF97FF",
           "#FECB52"
          ],
          "font": {
           "color": "#2a3f5f"
          },
          "geo": {
           "bgcolor": "white",
           "lakecolor": "white",
           "landcolor": "#E5ECF6",
           "showlakes": true,
           "showland": true,
           "subunitcolor": "white"
          },
          "hoverlabel": {
           "align": "left"
          },
          "hovermode": "closest",
          "mapbox": {
           "style": "light"
          },
          "paper_bgcolor": "white",
          "plot_bgcolor": "#E5ECF6",
          "polar": {
           "angularaxis": {
            "gridcolor": "white",
            "linecolor": "white",
            "ticks": ""
           },
           "bgcolor": "#E5ECF6",
           "radialaxis": {
            "gridcolor": "white",
            "linecolor": "white",
            "ticks": ""
           }
          },
          "scene": {
           "xaxis": {
            "backgroundcolor": "#E5ECF6",
            "gridcolor": "white",
            "gridwidth": 2,
            "linecolor": "white",
            "showbackground": true,
            "ticks": "",
            "zerolinecolor": "white"
           },
           "yaxis": {
            "backgroundcolor": "#E5ECF6",
            "gridcolor": "white",
            "gridwidth": 2,
            "linecolor": "white",
            "showbackground": true,
            "ticks": "",
            "zerolinecolor": "white"
           },
           "zaxis": {
            "backgroundcolor": "#E5ECF6",
            "gridcolor": "white",
            "gridwidth": 2,
            "linecolor": "white",
            "showbackground": true,
            "ticks": "",
            "zerolinecolor": "white"
           }
          },
          "shapedefaults": {
           "line": {
            "color": "#2a3f5f"
           }
          },
          "ternary": {
           "aaxis": {
            "gridcolor": "white",
            "linecolor": "white",
            "ticks": ""
           },
           "baxis": {
            "gridcolor": "white",
            "linecolor": "white",
            "ticks": ""
           },
           "bgcolor": "#E5ECF6",
           "caxis": {
            "gridcolor": "white",
            "linecolor": "white",
            "ticks": ""
           }
          },
          "title": {
           "x": 0.05
          },
          "xaxis": {
           "automargin": true,
           "gridcolor": "white",
           "linecolor": "white",
           "ticks": "",
           "title": {
            "standoff": 15
           },
           "zerolinecolor": "white",
           "zerolinewidth": 2
          },
          "yaxis": {
           "automargin": true,
           "gridcolor": "white",
           "linecolor": "white",
           "ticks": "",
           "title": {
            "standoff": 15
           },
           "zerolinecolor": "white",
           "zerolinewidth": 2
          }
         }
        },
        "title": {
         "text": "AUC Score Throughout Epochs"
        },
        "xaxis": {
         "title": {
          "text": "Epochs"
         }
        },
        "yaxis": {
         "title": {
          "text": "AUROC"
         }
        }
       }
      },
      "text/html": [
       "<div>                            <div id=\"52255aea-4d33-47bf-adf3-ef6871d1bead\" class=\"plotly-graph-div\" style=\"height:525px; width:100%;\"></div>            <script type=\"text/javascript\">                require([\"plotly\"], function(Plotly) {                    window.PLOTLYENV=window.PLOTLYENV || {};                                    if (document.getElementById(\"52255aea-4d33-47bf-adf3-ef6871d1bead\")) {                    Plotly.newPlot(                        \"52255aea-4d33-47bf-adf3-ef6871d1bead\",                        [{\"mode\":\"lines+markers\",\"x\":[0,1,2,3,4,5,6,7,8,9,10,11,12,13,14,15,16,17,18,19,20,21,22,23,24,25,26,27,28,29,30,31,32,33,34,35,36,37,38,39,40,41,42,43,44,45,46,47,48,49,50,51,52,53,54,55,56,57,58,59,60,61,62,63,64,65,66,67,68,69,70,71,72,73,74,75,76,77,78,79,80,81,82,83,84,85,86,87,88,89,90,91,92,93,94,95,96,97,98,99,100,101,102,103,104,105,106,107,108,109,110,111,112,113,114,115,116,117,118,119,120,121,122,123,124,125,126,127,128,129,130,131,132,133,134,135,136,137,138,139,140,141,142,143,144,145,146,147,148,149,150,151,152,153,154,155,156,157,158,159,160,161,162,163,164,165,166,167,168,169,170,171,172,173,174,175,176,177,178,179,180,181,182,183,184,185,186,187,188,189,190,191,192,193,194,195,196,197,198,199,200,201,202,203,204,205,206,207,208,209,210,211,212,213,214,215,216,217,218,219,220,221,222,223,224,225,226,227,228,229,230,231,232,233,234,235,236,237,238,239,240,241,242,243,244,245,246,247,248,249,250,251,252,253,254,255,256,257,258,259,260,261,262,263,264,265,266,267,268,269,270,271,272,273,274,275,276,277,278,279,280,281,282,283,284,285,286,287,288,289,290,291,292,293,294,295,296,297,298,299,300],\"y\":[0.8661040663719177,0.8793249130249023,0.8842474818229675,0.8849508166313171,0.8832629919052124,0.8838255405426025,0.8852320909500122,0.8864979147911072,0.8907172679901123,0.894514799118042,0.9012657999992371,0.905766487121582,0.9094233512878418,0.9113923907279968,0.9133614301681519,0.9140647053718567,0.9144865870475769,0.9139240980148315,0.9150492548942566,0.9150491952896118,0.9167369604110718,0.9185653924942017,0.9194092154502869,0.9196905493736267,0.9208157062530518,0.9202531576156616,0.9201124906539917,0.9194092750549316,0.9188467264175415,0.9182841181755066,0.9181433916091919,0.9175807237625122,0.9178621172904968,0.9185653328895569,0.9191280007362366,0.9195499420166016,0.9202531576156616,0.9202531576156616,0.9206750392913818,0.9198312163352966,0.9194092750549316,0.9195499420166016,0.9201124906539917,0.9199718236923218,0.9203938245773315,0.9202531576156616,0.9203937649726868,0.9208157658576965,0.9206750988960266,0.9205344319343567,0.9208157658576965,0.9206750988960266,0.9206750392913818,0.9210970401763916,0.9210970401763916,0.9212376475334167,0.9210969805717468,0.9206750988960266,0.9209564328193665,0.9212376475334167,0.9210969805717468,0.9206750988960266,0.9208157658576965,0.9210969805717468,0.9209563732147217,0.9212376475334167,0.9209563732147217,0.9209563732147217,0.9202531576156616,0.9199718236923218,0.9196904897689819,0.9199719429016113,0.9202531576156616,0.9205344319343567,0.9212376475334167,0.9209563732147217,0.9209563732147217,0.9206751585006714,0.9209563732147217,0.9210970401763916,0.9208157062530518,0.9210970401763916,0.9215189814567566,0.9220815896987915,0.9215189218521118,0.9208158254623413,0.9212377071380615,0.9216595888137817,0.9222221970558167,0.9220815896987915,0.9225034713745117,0.9223628640174866,0.9225034713745117,0.9220815896987915,0.9216596484184265,0.9212377071380615,0.9213784337043762,0.9208157658576965,0.9222221970558167,0.9222222566604614,0.9223628640174866,0.9222221970558167,0.9216596484184265,0.9216597080230713,0.9218002557754517,0.9216595888137817,0.9216595888137817,0.9220815300941467,0.9215189814567566,0.9215190410614014,0.9213782548904419,0.9218002557754517,0.9219409823417664,0.9212376475334167,0.9209563732147217,0.9213783144950867,0.9218003153800964,0.9210970401763916,0.9209563136100769,0.9205344319343567,0.9209563732147217,0.9208157062530518,0.9213783740997314,0.9222222566604614,0.9218003153800964,0.9210970401763916,0.9208157658576965,0.9208157658576965,0.9210970401763916,0.9210970997810364,0.9216595888137817,0.9210970401763916,0.9209564328193665,0.9213783740997314,0.9210970401763916,0.9203938245773315,0.9198312163352966,0.9202531576156616,0.9203938245773315,0.9201125502586365,0.9199719429016113,0.9209563732147217,0.9206751585006714,0.9208158254623413,0.9212377071380615,0.9215190410614014,0.9215189814567566,0.9205344915390015,0.9198312759399414,0.9205344915390015,0.9201124906539917,0.9198312759399414,0.9195499420166016,0.9194092154502869,0.9205344319343567,0.9212376475334167,0.9208157062530518,0.9199718832969666,0.9201125502586365,0.9203938245773315,0.9199718832969666,0.9203938245773315,0.9205344915390015,0.9215189814567566,0.9219409227371216,0.9206750988960266,0.9202531576156616,0.9195499420166016,0.9192686080932617,0.9194092750549316,0.9194093346595764,0.9195499420166016,0.9203938245773315,0.9195499420166016,0.9184247255325317,0.9180028438568115,0.9177215099334717,0.9180028438568115,0.9184247851371765,0.9178622364997864,0.9175809025764465,0.9170182943344116,0.9174402952194214,0.9181435108184814,0.9188467264175415,0.9180028438568115,0.9178621172904968,0.9177215099334717,0.9175809025764465,0.9168775677680969,0.9167369604110718,0.9170182943344116,0.9172995686531067,0.9180028438568115,0.9177215099334717,0.9177214503288269,0.9175808429718018,0.9177215099334717,0.917158842086792,0.9171589612960815,0.9171589612960815,0.9171589612960815,0.9174401760101318,0.9174402356147766,0.9180027842521667,0.9175808429718018,0.9164557456970215,0.9161744117736816,0.9156118631362915,0.9164556264877319,0.9172995090484619,0.9171589612960815,0.9165963530540466,0.9177215099334717,0.9168775677680969,0.9170182943344116,0.9165963530540466,0.9165963530540466,0.9158931374549866,0.9170182347297668,0.9168776273727417,0.9160337448120117,0.9150492548942566,0.9156118035316467,0.9153305292129517,0.9153305292129517,0.9154711961746216,0.9149085879325867,0.9144866466522217,0.9154711365699768,0.915611743927002,0.9158930778503418,0.9158931374549866,0.9165962934494019,0.9167369604110718,0.9156118631362915,0.915611743927002,0.9144866466522217,0.9136427640914917,0.9139240384101868,0.9137833714485168,0.9140647053718567,0.9137834310531616,0.9140647649765015,0.913502037525177,0.9133614301681519,0.9127987623214722,0.9132207036018372,0.913502037525177,0.9129395484924316,0.9140647053718567,0.9139240384101868,0.9130801558494568,0.9139240384101868,0.9120955467224121,0.9130801558494568,0.912236213684082,0.9115330576896667,0.9119549989700317,0.9118143320083618,0.9132208824157715,0.9118143320083618,0.9127988219261169,0.9116737246513367,0.911532998085022,0.9113923907279968,0.9095640182495117,0.9116736650466919,0.9105485081672668,0.9092826843261719,0.9101265668869019,0.9095640778541565,0.9101265668869019,0.9109704494476318,0.9101265668869019,0.9097046256065369,0.9101265668869019,0.910689115524292,0.9111111164093018,0.910689115524292,0.9101265668869019,0.9111111164093018,0.9106891751289368,0.9108297824859619,0.9106891751289368,0.9109704494476318,0.9102672338485718,0.909845232963562,0.9101265668869019,0.9104079008102417,0.9109703898429871,0.9101265668869019,0.9105485677719116,0.9111111164093018,0.9109704494476318,0.9108297824859619,0.908298134803772,0.909423291683197,0.9095639586448669,0.909001350402832,0.9097045660018921],\"type\":\"scatter\"}],                        {\"title\":{\"text\":\"AUC Score Throughout Epochs\"},\"xaxis\":{\"title\":{\"text\":\"Epochs\"}},\"yaxis\":{\"title\":{\"text\":\"AUROC\"}},\"template\":{\"data\":{\"histogram2dcontour\":[{\"type\":\"histogram2dcontour\",\"colorbar\":{\"outlinewidth\":0,\"ticks\":\"\"},\"colorscale\":[[0.0,\"#0d0887\"],[0.1111111111111111,\"#46039f\"],[0.2222222222222222,\"#7201a8\"],[0.3333333333333333,\"#9c179e\"],[0.4444444444444444,\"#bd3786\"],[0.5555555555555556,\"#d8576b\"],[0.6666666666666666,\"#ed7953\"],[0.7777777777777778,\"#fb9f3a\"],[0.8888888888888888,\"#fdca26\"],[1.0,\"#f0f921\"]]}],\"choropleth\":[{\"type\":\"choropleth\",\"colorbar\":{\"outlinewidth\":0,\"ticks\":\"\"}}],\"histogram2d\":[{\"type\":\"histogram2d\",\"colorbar\":{\"outlinewidth\":0,\"ticks\":\"\"},\"colorscale\":[[0.0,\"#0d0887\"],[0.1111111111111111,\"#46039f\"],[0.2222222222222222,\"#7201a8\"],[0.3333333333333333,\"#9c179e\"],[0.4444444444444444,\"#bd3786\"],[0.5555555555555556,\"#d8576b\"],[0.6666666666666666,\"#ed7953\"],[0.7777777777777778,\"#fb9f3a\"],[0.8888888888888888,\"#fdca26\"],[1.0,\"#f0f921\"]]}],\"heatmap\":[{\"type\":\"heatmap\",\"colorbar\":{\"outlinewidth\":0,\"ticks\":\"\"},\"colorscale\":[[0.0,\"#0d0887\"],[0.1111111111111111,\"#46039f\"],[0.2222222222222222,\"#7201a8\"],[0.3333333333333333,\"#9c179e\"],[0.4444444444444444,\"#bd3786\"],[0.5555555555555556,\"#d8576b\"],[0.6666666666666666,\"#ed7953\"],[0.7777777777777778,\"#fb9f3a\"],[0.8888888888888888,\"#fdca26\"],[1.0,\"#f0f921\"]]}],\"heatmapgl\":[{\"type\":\"heatmapgl\",\"colorbar\":{\"outlinewidth\":0,\"ticks\":\"\"},\"colorscale\":[[0.0,\"#0d0887\"],[0.1111111111111111,\"#46039f\"],[0.2222222222222222,\"#7201a8\"],[0.3333333333333333,\"#9c179e\"],[0.4444444444444444,\"#bd3786\"],[0.5555555555555556,\"#d8576b\"],[0.6666666666666666,\"#ed7953\"],[0.7777777777777778,\"#fb9f3a\"],[0.8888888888888888,\"#fdca26\"],[1.0,\"#f0f921\"]]}],\"contourcarpet\":[{\"type\":\"contourcarpet\",\"colorbar\":{\"outlinewidth\":0,\"ticks\":\"\"}}],\"contour\":[{\"type\":\"contour\",\"colorbar\":{\"outlinewidth\":0,\"ticks\":\"\"},\"colorscale\":[[0.0,\"#0d0887\"],[0.1111111111111111,\"#46039f\"],[0.2222222222222222,\"#7201a8\"],[0.3333333333333333,\"#9c179e\"],[0.4444444444444444,\"#bd3786\"],[0.5555555555555556,\"#d8576b\"],[0.6666666666666666,\"#ed7953\"],[0.7777777777777778,\"#fb9f3a\"],[0.8888888888888888,\"#fdca26\"],[1.0,\"#f0f921\"]]}],\"surface\":[{\"type\":\"surface\",\"colorbar\":{\"outlinewidth\":0,\"ticks\":\"\"},\"colorscale\":[[0.0,\"#0d0887\"],[0.1111111111111111,\"#46039f\"],[0.2222222222222222,\"#7201a8\"],[0.3333333333333333,\"#9c179e\"],[0.4444444444444444,\"#bd3786\"],[0.5555555555555556,\"#d8576b\"],[0.6666666666666666,\"#ed7953\"],[0.7777777777777778,\"#fb9f3a\"],[0.8888888888888888,\"#fdca26\"],[1.0,\"#f0f921\"]]}],\"mesh3d\":[{\"type\":\"mesh3d\",\"colorbar\":{\"outlinewidth\":0,\"ticks\":\"\"}}],\"scatter\":[{\"fillpattern\":{\"fillmode\":\"overlay\",\"size\":10,\"solidity\":0.2},\"type\":\"scatter\"}],\"parcoords\":[{\"type\":\"parcoords\",\"line\":{\"colorbar\":{\"outlinewidth\":0,\"ticks\":\"\"}}}],\"scatterpolargl\":[{\"type\":\"scatterpolargl\",\"marker\":{\"colorbar\":{\"outlinewidth\":0,\"ticks\":\"\"}}}],\"bar\":[{\"error_x\":{\"color\":\"#2a3f5f\"},\"error_y\":{\"color\":\"#2a3f5f\"},\"marker\":{\"line\":{\"color\":\"#E5ECF6\",\"width\":0.5},\"pattern\":{\"fillmode\":\"overlay\",\"size\":10,\"solidity\":0.2}},\"type\":\"bar\"}],\"scattergeo\":[{\"type\":\"scattergeo\",\"marker\":{\"colorbar\":{\"outlinewidth\":0,\"ticks\":\"\"}}}],\"scatterpolar\":[{\"type\":\"scatterpolar\",\"marker\":{\"colorbar\":{\"outlinewidth\":0,\"ticks\":\"\"}}}],\"histogram\":[{\"marker\":{\"pattern\":{\"fillmode\":\"overlay\",\"size\":10,\"solidity\":0.2}},\"type\":\"histogram\"}],\"scattergl\":[{\"type\":\"scattergl\",\"marker\":{\"colorbar\":{\"outlinewidth\":0,\"ticks\":\"\"}}}],\"scatter3d\":[{\"type\":\"scatter3d\",\"line\":{\"colorbar\":{\"outlinewidth\":0,\"ticks\":\"\"}},\"marker\":{\"colorbar\":{\"outlinewidth\":0,\"ticks\":\"\"}}}],\"scattermapbox\":[{\"type\":\"scattermapbox\",\"marker\":{\"colorbar\":{\"outlinewidth\":0,\"ticks\":\"\"}}}],\"scatterternary\":[{\"type\":\"scatterternary\",\"marker\":{\"colorbar\":{\"outlinewidth\":0,\"ticks\":\"\"}}}],\"scattercarpet\":[{\"type\":\"scattercarpet\",\"marker\":{\"colorbar\":{\"outlinewidth\":0,\"ticks\":\"\"}}}],\"carpet\":[{\"aaxis\":{\"endlinecolor\":\"#2a3f5f\",\"gridcolor\":\"white\",\"linecolor\":\"white\",\"minorgridcolor\":\"white\",\"startlinecolor\":\"#2a3f5f\"},\"baxis\":{\"endlinecolor\":\"#2a3f5f\",\"gridcolor\":\"white\",\"linecolor\":\"white\",\"minorgridcolor\":\"white\",\"startlinecolor\":\"#2a3f5f\"},\"type\":\"carpet\"}],\"table\":[{\"cells\":{\"fill\":{\"color\":\"#EBF0F8\"},\"line\":{\"color\":\"white\"}},\"header\":{\"fill\":{\"color\":\"#C8D4E3\"},\"line\":{\"color\":\"white\"}},\"type\":\"table\"}],\"barpolar\":[{\"marker\":{\"line\":{\"color\":\"#E5ECF6\",\"width\":0.5},\"pattern\":{\"fillmode\":\"overlay\",\"size\":10,\"solidity\":0.2}},\"type\":\"barpolar\"}],\"pie\":[{\"automargin\":true,\"type\":\"pie\"}]},\"layout\":{\"autotypenumbers\":\"strict\",\"colorway\":[\"#636efa\",\"#EF553B\",\"#00cc96\",\"#ab63fa\",\"#FFA15A\",\"#19d3f3\",\"#FF6692\",\"#B6E880\",\"#FF97FF\",\"#FECB52\"],\"font\":{\"color\":\"#2a3f5f\"},\"hovermode\":\"closest\",\"hoverlabel\":{\"align\":\"left\"},\"paper_bgcolor\":\"white\",\"plot_bgcolor\":\"#E5ECF6\",\"polar\":{\"bgcolor\":\"#E5ECF6\",\"angularaxis\":{\"gridcolor\":\"white\",\"linecolor\":\"white\",\"ticks\":\"\"},\"radialaxis\":{\"gridcolor\":\"white\",\"linecolor\":\"white\",\"ticks\":\"\"}},\"ternary\":{\"bgcolor\":\"#E5ECF6\",\"aaxis\":{\"gridcolor\":\"white\",\"linecolor\":\"white\",\"ticks\":\"\"},\"baxis\":{\"gridcolor\":\"white\",\"linecolor\":\"white\",\"ticks\":\"\"},\"caxis\":{\"gridcolor\":\"white\",\"linecolor\":\"white\",\"ticks\":\"\"}},\"coloraxis\":{\"colorbar\":{\"outlinewidth\":0,\"ticks\":\"\"}},\"colorscale\":{\"sequential\":[[0.0,\"#0d0887\"],[0.1111111111111111,\"#46039f\"],[0.2222222222222222,\"#7201a8\"],[0.3333333333333333,\"#9c179e\"],[0.4444444444444444,\"#bd3786\"],[0.5555555555555556,\"#d8576b\"],[0.6666666666666666,\"#ed7953\"],[0.7777777777777778,\"#fb9f3a\"],[0.8888888888888888,\"#fdca26\"],[1.0,\"#f0f921\"]],\"sequentialminus\":[[0.0,\"#0d0887\"],[0.1111111111111111,\"#46039f\"],[0.2222222222222222,\"#7201a8\"],[0.3333333333333333,\"#9c179e\"],[0.4444444444444444,\"#bd3786\"],[0.5555555555555556,\"#d8576b\"],[0.6666666666666666,\"#ed7953\"],[0.7777777777777778,\"#fb9f3a\"],[0.8888888888888888,\"#fdca26\"],[1.0,\"#f0f921\"]],\"diverging\":[[0,\"#8e0152\"],[0.1,\"#c51b7d\"],[0.2,\"#de77ae\"],[0.3,\"#f1b6da\"],[0.4,\"#fde0ef\"],[0.5,\"#f7f7f7\"],[0.6,\"#e6f5d0\"],[0.7,\"#b8e186\"],[0.8,\"#7fbc41\"],[0.9,\"#4d9221\"],[1,\"#276419\"]]},\"xaxis\":{\"gridcolor\":\"white\",\"linecolor\":\"white\",\"ticks\":\"\",\"title\":{\"standoff\":15},\"zerolinecolor\":\"white\",\"automargin\":true,\"zerolinewidth\":2},\"yaxis\":{\"gridcolor\":\"white\",\"linecolor\":\"white\",\"ticks\":\"\",\"title\":{\"standoff\":15},\"zerolinecolor\":\"white\",\"automargin\":true,\"zerolinewidth\":2},\"scene\":{\"xaxis\":{\"backgroundcolor\":\"#E5ECF6\",\"gridcolor\":\"white\",\"linecolor\":\"white\",\"showbackground\":true,\"ticks\":\"\",\"zerolinecolor\":\"white\",\"gridwidth\":2},\"yaxis\":{\"backgroundcolor\":\"#E5ECF6\",\"gridcolor\":\"white\",\"linecolor\":\"white\",\"showbackground\":true,\"ticks\":\"\",\"zerolinecolor\":\"white\",\"gridwidth\":2},\"zaxis\":{\"backgroundcolor\":\"#E5ECF6\",\"gridcolor\":\"white\",\"linecolor\":\"white\",\"showbackground\":true,\"ticks\":\"\",\"zerolinecolor\":\"white\",\"gridwidth\":2}},\"shapedefaults\":{\"line\":{\"color\":\"#2a3f5f\"}},\"annotationdefaults\":{\"arrowcolor\":\"#2a3f5f\",\"arrowhead\":0,\"arrowwidth\":1},\"geo\":{\"bgcolor\":\"white\",\"landcolor\":\"#E5ECF6\",\"subunitcolor\":\"white\",\"showland\":true,\"showlakes\":true,\"lakecolor\":\"white\"},\"title\":{\"x\":0.05},\"mapbox\":{\"style\":\"light\"}}}},                        {\"responsive\": true}                    ).then(function(){\n",
       "                            \n",
       "var gd = document.getElementById('52255aea-4d33-47bf-adf3-ef6871d1bead');\n",
       "var x = new MutationObserver(function (mutations, observer) {{\n",
       "        var display = window.getComputedStyle(gd).display;\n",
       "        if (!display || display === 'none') {{\n",
       "            console.log([gd, 'removed!']);\n",
       "            Plotly.purge(gd);\n",
       "            observer.disconnect();\n",
       "        }}\n",
       "}});\n",
       "\n",
       "// Listen for the removal of the full notebook cells\n",
       "var notebookContainer = gd.closest('#notebook-container');\n",
       "if (notebookContainer) {{\n",
       "    x.observe(notebookContainer, {childList: true});\n",
       "}}\n",
       "\n",
       "// Listen for the clearing of the current output cell\n",
       "var outputEl = gd.closest('.output');\n",
       "if (outputEl) {{\n",
       "    x.observe(outputEl, {childList: true});\n",
       "}}\n",
       "\n",
       "                        })                };                });            </script>        </div>"
      ]
     },
     "metadata": {},
     "output_type": "display_data"
    },
    {
     "data": {
      "image/png": "[encoded data removed]",
      "text/plain": [
       "<Figure size 600x600 with 1 Axes>"
      ]
     },
     "metadata": {},
     "output_type": "display_data"
    },
    {
     "data": {
      "image/png": "[encoded data removed]",
      "text/plain": [
       "<Figure size 600x600 with 1 Axes>"
      ]
     },
     "metadata": {},
     "output_type": "display_data"
    },
    {
     "name": "stdout",
     "output_type": "stream",
     "text": [
      "Finished\n"
     ]
    }
   ],
   "source": [
    "################### initialize Log lists ##########################\n",
    "\n",
    "last_auc_score_log = []\n",
    "last_balanced_acc_log = []\n",
    "\n",
    "last_tp_log = []\n",
    "last_fp_log = []\n",
    "last_tn_log = []\n",
    "last_fn_log = []\n",
    "\n",
    "best_auc_score_log = []\n",
    "best_balanced_acc_log = []\n",
    "\n",
    "best_tp_log = []\n",
    "best_fp_log = []\n",
    "best_tn_log = []\n",
    "best_fn_log = []\n",
    "\n",
    "################### set the model ##########################\n",
    "\n",
    "input_size = len(features)\n",
    "hidden_size = 256\n",
    "num_classes = 1\n",
    "batch_size = 32\n",
    "learning_rate = 0.001\n",
    "epochs = 301\n",
    "\n",
    "model = Net2(input_size, hidden_size, num_classes).to(device)\n",
    "net_name = \"Net2\"\n",
    "\n",
    "# Loss and optimizer\n",
    "    \n",
    "#criterion = nn.BCEWithLogitsLoss()\n",
    "criterion = nn.BCELoss()\n",
    "optimizer = torch.optim.Adam(model.parameters(), lr=learning_rate, weight_decay = 0.001)\n",
    "\n",
    "training_portion = df[:20001]\n",
    "valid_portion = df[20001:]\n",
    "\n",
    "train_dataset = MakeDataset(training_portion)\n",
    "valid_dataset = MakeDataset(valid_portion)\n",
    "    \n",
    "################### Set the directories ##########################\n",
    "\n",
    "if not os.path.exists(f\"{net_name}, plots for {hidden_size} hidden and {batch_size} batch\"):\n",
    "    os.mkdir(f\"{net_name}, plots for {hidden_size} hidden and {batch_size} batch\")\n",
    " \n",
    "   ################### Train the model ##########################\n",
    "  \n",
    "    \n",
    "# Custom made sampler instead of shuffle to get balanced batches\n",
    "train_loader = DataLoader(train_dataset, batch_size=len(training_portion),\n",
    "                            sampler=BalancedBatchSampler(train_dataset, train_dataset.y_train))\n",
    "valid_loader = DataLoader(valid_dataset, batch_size=len(valid_portion),\n",
    "                            sampler=BalancedBatchSampler(valid_dataset, valid_dataset.y_train))\n",
    "test_loader = DataLoader(valid_dataset, batch_size=len(valid_portion), shuffle=False)\n",
    "    \n",
    "history = model_train_with_save(model, train_loader, valid_loader,\n",
    "                                        epochs, net_name=f\"{net_name}\", verbose=\"yes\")\n",
    "history = pd.DataFrame(history)\n",
    "    \n",
    "################### End of the model statistics ##########################\n",
    "\n",
    "last_auc_score, last_balanced_acc, last_tp, last_tn, last_fp, last_fn = model_test(model, test_loader)\n",
    "last_tpr = last_tp / (last_tp + last_fn)\n",
    "last_tnr = last_tn / (last_tn + last_fp)\n",
    "\n",
    "last_auc_score_log.append(last_auc_score)\n",
    "last_balanced_acc_log.append(last_balanced_acc)\n",
    "last_tp_log.append(last_tp)\n",
    "last_tn_log.append(last_tn)\n",
    "last_fp_log.append(last_fp)\n",
    "last_fn_log.append(last_fn)\n",
    "    \n",
    "print(\"Sensitivity(Last Model):\", last_tpr, \", Specificity(Last Model):\", last_tnr)\n",
    "print(\"Balanced Accuracy(Last Model):\", last_balanced_acc)\n",
    "print(\"AUROC Score(Last Model):\", last_auc_score)\n",
    "    \n",
    "print(\"------------------------------------------------------\")\n",
    "    \n",
    "################### Saved model statistics ##########################\n",
    "    \n",
    "saved_auc_score_log = []\n",
    "saved_balanced_acc_log = []\n",
    "y = 1\n",
    "epochs_list = [x for x in range(0, epochs, y)]\n",
    "    \n",
    "for epoch in epochs_list: \n",
    "        \n",
    "    model = Net2(input_size, hidden_size, num_classes)\n",
    "    model.load_state_dict(torch.load(f'model_weights_for_{net_name}_epoch_{epoch}.pt'))\n",
    "    \n",
    "    auc_score, balanced_acc, tp, tn, fp, fn = model_test(model, test_loader)\n",
    "    tpr = tp / (tp + fn)\n",
    "    tnr = tn / (tn + fp)\n",
    "    saved_auc_score_log.append(auc_score)\n",
    "    saved_balanced_acc_log.append(balanced_acc)\n",
    "    \n",
    "#print(\"Best epoch was at index:\", np.argmax(saved_balanced_acc_log))\n",
    "best_epoch = epochs_list[np.argmax(saved_auc_score_log)]\n",
    "print(\"Best epoch was:\", best_epoch)\n",
    "    \n",
    "model = Net2(input_size, hidden_size, num_classes)\n",
    "model.load_state_dict(torch.load(f'model_weights_for_{net_name}_epoch_{best_epoch}.pt'))\n",
    "    \n",
    "best_auc_score, best_balanced_acc, best_tp, best_tn, best_fp, best_fn = model_test(model, test_loader)\n",
    "best_tpr = best_tp / (best_tp + best_fn)\n",
    "best_tnr = best_tn / (best_tn + best_fp)\n",
    "    \n",
    "best_auc_score_log.append(best_auc_score)\n",
    "best_balanced_acc_log.append(best_balanced_acc)\n",
    "best_tp_log.append(best_tp)\n",
    "best_tn_log.append(best_tn)\n",
    "best_fp_log.append(best_fp)\n",
    "best_fn_log.append(best_fn)\n",
    "        \n",
    "print(\"Sensitivity(Best Model):\", best_tpr, \", Specificity(Best Model):\", best_tnr)\n",
    "print(\"Balanced Accuracy(Best Model):\", best_balanced_acc)\n",
    "print(\"AUROC Score(Best Model):\", best_auc_score)\n",
    "    \n",
    "    \n",
    "    \n",
    "################### Plots ##########################\n",
    "    \n",
    "    ################### Loss Curves ##########################\n",
    "    \n",
    "fig = px.line(history, x='epochs', y=['train_loss', 'valid_loss'])\n",
    "fig.update_layout(\n",
    "    title=f'training and Validation Loss Throughout the Model',\n",
    "    xaxis_title='Epochs',\n",
    "    yaxis_title='Loss',\n",
    "    legend_title='Loss Type'\n",
    ")\n",
    "fig.show() \n",
    "    \n",
    "    ################### Balanced and AUROC for epochs ##########################\n",
    "        \n",
    "trace1 = go.Scatter(\n",
    "x=epochs_list,\n",
    "y=saved_balanced_acc_log,\n",
    "mode='lines+markers'\n",
    ")\n",
    "\n",
    "layout1 = go.Layout(\n",
    "    title=f'Balanced Accuracy Throughout Epochs',\n",
    "    xaxis=dict(title='Epochs'),\n",
    "    yaxis=dict(title='Balanced Accuracy') #range=[0, 1]\n",
    ")\n",
    "\n",
    "fig1 = go.Figure(data=[trace1], layout=layout1)\n",
    "fig1.show()\n",
    "\n",
    "trace2 = go.Scatter(\n",
    "    x=epochs_list,\n",
    "    y=saved_auc_score_log,\n",
    "    mode='lines+markers'\n",
    ")\n",
    "\n",
    "layout2 = go.Layout(\n",
    "    title=f'AUC Score Throughout Epochs',\n",
    "    xaxis=dict(title='Epochs'),\n",
    "    yaxis=dict(title='AUROC') #range=[0, 1]\n",
    ")\n",
    "\n",
    "fig2 = go.Figure(data=[trace2], layout=layout2)\n",
    "fig2.show()\n",
    "\n",
    "################### Total Confusion Matrix ##########################\n",
    "        \n",
    "last_cf_matrix = pd.DataFrame([[last_tp, last_fp],\n",
    "            [last_fn, last_tn]], columns = ['Positive','Negative'], index = ['Positive','Negative'])\n",
    "sns.set (rc = {'figure.figsize':(6, 6)})\n",
    "plt.figure()\n",
    "    \n",
    "sns.heatmap(last_cf_matrix, annot=True, cmap='Blues', cbar=False, fmt='g')\n",
    "    \n",
    "plt.tick_params(axis='both', which='major', labelsize=20, labelbottom = False, bottom=False, top = False, labeltop=True)\n",
    "plt.title('Actual')\n",
    "plt.ylabel('Predicted')\n",
    "plt.xlabel(f'(Last) Confusion Matrix')\n",
    "\n",
    "last_cf = f\"{net_name}, plots for {hidden_size} hidden and {batch_size} batch/last_confusion_matrix.png\"\n",
    "plt.savefig(last_cf)\n",
    "    \n",
    "plt.show()\n",
    "    \n",
    "    \n",
    "    \n",
    "    ################### Best Confusion Matrix ##########################\n",
    "    \n",
    "best_cf_matrix = pd.DataFrame([[best_tp, best_fp],\n",
    "                [best_fn, best_tn]], columns = ['Positive','Negative'], index = ['Positive','Negative'])\n",
    "sns.set (rc = {'figure.figsize':(6, 6)})\n",
    "plt.figure()\n",
    "    \n",
    "sns.heatmap(best_cf_matrix, annot=True, cmap='Blues', cbar=False, fmt='g')\n",
    "    \n",
    "plt.tick_params(axis='both', which='major', labelsize=20, labelbottom = False, bottom=False, top = False, labeltop=True)\n",
    "plt.title('Actual')\n",
    "plt.ylabel('Predicted')\n",
    "plt.xlabel(f'(Best) Confusion Matrix')\n",
    "    \n",
    "best_cf = f\"{net_name}, plots for {hidden_size} hidden and {batch_size} batch/best_confusion_matrix.png\"\n",
    "plt.savefig(best_cf)\n",
    "    \n",
    "plt.show()\n",
    "        \n",
    "    ################### Save Plots  ##########################\n",
    "    \n",
    "fig.write_image(f\"{net_name}, plots for {hidden_size} hidden and {batch_size} batch/hidden size {hidden_size} and batch size {batch_size}.png\", engine='orca')\n",
    "fig1.write_image(f\"{net_name}, plots for {hidden_size} hidden and {batch_size} batch/batch and hidden {batch_size}, {hidden_size}; balanced_accuracy.png\", engine='orca')\n",
    "fig2.write_image(f\"{net_name}, plots for {hidden_size} hidden and {batch_size} batch/batch and hidden {batch_size}, {hidden_size}; auroc.png\", engine='orca')\n",
    "    \n",
    "print(\"Finished\")"
   ]
  },
  {
   "cell_type": "code",
   "execution_count": 37,
   "id": "97dadb1c",
   "metadata": {},
   "outputs": [
    {
     "data": {
      "text/html": [
       "<div>\n",
       "<style scoped>\n",
       "    .dataframe tbody tr th:only-of-type {\n",
       "        vertical-align: middle;\n",
       "    }\n",
       "\n",
       "    .dataframe tbody tr th {\n",
       "        vertical-align: top;\n",
       "    }\n",
       "\n",
       "    .dataframe thead th {\n",
       "        text-align: right;\n",
       "    }\n",
       "</style>\n",
       "<table border=\"1\" class=\"dataframe\">\n",
       "  <thead>\n",
       "    <tr style=\"text-align: right;\">\n",
       "      <th></th>\n",
       "      <th>gender</th>\n",
       "      <th>age</th>\n",
       "      <th>hypertension</th>\n",
       "      <th>heart_disease</th>\n",
       "      <th>ever_married</th>\n",
       "      <th>Residence_type</th>\n",
       "      <th>avg_glucose_level</th>\n",
       "      <th>bmi</th>\n",
       "      <th>work_type_Govt_job</th>\n",
       "      <th>work_type_Never_worked</th>\n",
       "      <th>work_type_Private</th>\n",
       "      <th>work_type_Self-employed</th>\n",
       "      <th>work_type_children</th>\n",
       "      <th>smoking_status_Unknown</th>\n",
       "      <th>smoking_status_formerly smoked</th>\n",
       "      <th>smoking_status_never smoked</th>\n",
       "      <th>smoking_status_smokes</th>\n",
       "    </tr>\n",
       "    <tr>\n",
       "      <th>id</th>\n",
       "      <th></th>\n",
       "      <th></th>\n",
       "      <th></th>\n",
       "      <th></th>\n",
       "      <th></th>\n",
       "      <th></th>\n",
       "      <th></th>\n",
       "      <th></th>\n",
       "      <th></th>\n",
       "      <th></th>\n",
       "      <th></th>\n",
       "      <th></th>\n",
       "      <th></th>\n",
       "      <th></th>\n",
       "      <th></th>\n",
       "      <th></th>\n",
       "      <th></th>\n",
       "    </tr>\n",
       "  </thead>\n",
       "  <tbody>\n",
       "    <tr>\n",
       "      <th>15304</th>\n",
       "      <td>1</td>\n",
       "      <td>0.695401</td>\n",
       "      <td>0</td>\n",
       "      <td>0</td>\n",
       "      <td>0</td>\n",
       "      <td>1</td>\n",
       "      <td>-0.332003</td>\n",
       "      <td>0.729589</td>\n",
       "      <td>0</td>\n",
       "      <td>0</td>\n",
       "      <td>1</td>\n",
       "      <td>0</td>\n",
       "      <td>0</td>\n",
       "      <td>1</td>\n",
       "      <td>0</td>\n",
       "      <td>0</td>\n",
       "      <td>0</td>\n",
       "    </tr>\n",
       "    <tr>\n",
       "      <th>15305</th>\n",
       "      <td>0</td>\n",
       "      <td>1.292925</td>\n",
       "      <td>1</td>\n",
       "      <td>0</td>\n",
       "      <td>0</td>\n",
       "      <td>0</td>\n",
       "      <td>-0.654700</td>\n",
       "      <td>0.028298</td>\n",
       "      <td>0</td>\n",
       "      <td>0</td>\n",
       "      <td>1</td>\n",
       "      <td>0</td>\n",
       "      <td>0</td>\n",
       "      <td>1</td>\n",
       "      <td>0</td>\n",
       "      <td>0</td>\n",
       "      <td>0</td>\n",
       "    </tr>\n",
       "    <tr>\n",
       "      <th>15306</th>\n",
       "      <td>1</td>\n",
       "      <td>-1.694691</td>\n",
       "      <td>0</td>\n",
       "      <td>0</td>\n",
       "      <td>1</td>\n",
       "      <td>0</td>\n",
       "      <td>0.320164</td>\n",
       "      <td>-1.259789</td>\n",
       "      <td>0</td>\n",
       "      <td>0</td>\n",
       "      <td>0</td>\n",
       "      <td>0</td>\n",
       "      <td>1</td>\n",
       "      <td>1</td>\n",
       "      <td>0</td>\n",
       "      <td>0</td>\n",
       "      <td>0</td>\n",
       "    </tr>\n",
       "    <tr>\n",
       "      <th>15307</th>\n",
       "      <td>1</td>\n",
       "      <td>0.649438</td>\n",
       "      <td>0</td>\n",
       "      <td>0</td>\n",
       "      <td>0</td>\n",
       "      <td>0</td>\n",
       "      <td>-0.741532</td>\n",
       "      <td>1.874555</td>\n",
       "      <td>1</td>\n",
       "      <td>0</td>\n",
       "      <td>0</td>\n",
       "      <td>0</td>\n",
       "      <td>0</td>\n",
       "      <td>0</td>\n",
       "      <td>0</td>\n",
       "      <td>0</td>\n",
       "      <td>1</td>\n",
       "    </tr>\n",
       "    <tr>\n",
       "      <th>15308</th>\n",
       "      <td>0</td>\n",
       "      <td>-0.453681</td>\n",
       "      <td>0</td>\n",
       "      <td>0</td>\n",
       "      <td>0</td>\n",
       "      <td>1</td>\n",
       "      <td>0.548945</td>\n",
       "      <td>0.257291</td>\n",
       "      <td>0</td>\n",
       "      <td>0</td>\n",
       "      <td>1</td>\n",
       "      <td>0</td>\n",
       "      <td>0</td>\n",
       "      <td>0</td>\n",
       "      <td>0</td>\n",
       "      <td>0</td>\n",
       "      <td>1</td>\n",
       "    </tr>\n",
       "  </tbody>\n",
       "</table>\n",
       "</div>"
      ],
      "text/plain": [
       "       gender       age  hypertension  heart_disease  ever_married  \\\n",
       "id                                                                   \n",
       "15304       1  0.695401             0              0             0   \n",
       "15305       0  1.292925             1              0             0   \n",
       "15306       1 -1.694691             0              0             1   \n",
       "15307       1  0.649438             0              0             0   \n",
       "15308       0 -0.453681             0              0             0   \n",
       "\n",
       "       Residence_type  avg_glucose_level       bmi  work_type_Govt_job  \\\n",
       "id                                                                       \n",
       "15304               1          -0.332003  0.729589                   0   \n",
       "15305               0          -0.654700  0.028298                   0   \n",
       "15306               0           0.320164 -1.259789                   0   \n",
       "15307               0          -0.741532  1.874555                   1   \n",
       "15308               1           0.548945  0.257291                   0   \n",
       "\n",
       "       work_type_Never_worked  work_type_Private  work_type_Self-employed  \\\n",
       "id                                                                          \n",
       "15304                       0                  1                        0   \n",
       "15305                       0                  1                        0   \n",
       "15306                       0                  0                        0   \n",
       "15307                       0                  0                        0   \n",
       "15308                       0                  1                        0   \n",
       "\n",
       "       work_type_children  smoking_status_Unknown  \\\n",
       "id                                                  \n",
       "15304                   0                       1   \n",
       "15305                   0                       1   \n",
       "15306                   1                       1   \n",
       "15307                   0                       0   \n",
       "15308                   0                       0   \n",
       "\n",
       "       smoking_status_formerly smoked  smoking_status_never smoked  \\\n",
       "id                                                                   \n",
       "15304                               0                            0   \n",
       "15305                               0                            0   \n",
       "15306                               0                            0   \n",
       "15307                               0                            0   \n",
       "15308                               0                            0   \n",
       "\n",
       "       smoking_status_smokes  \n",
       "id                            \n",
       "15304                      0  \n",
       "15305                      0  \n",
       "15306                      0  \n",
       "15307                      1  \n",
       "15308                      1  "
      ]
     },
     "execution_count": 37,
     "metadata": {},
     "output_type": "execute_result"
    }
   ],
   "source": [
    "df_test.head()"
   ]
  },
  {
   "cell_type": "code",
   "execution_count": 28,
   "id": "8b530795",
   "metadata": {},
   "outputs": [
    {
     "name": "stdout",
     "output_type": "stream",
     "text": [
      "[[ 1.          0.69540148  0.         ...  0.          0.\n",
      "   0.        ]\n",
      " [ 0.          1.29292455  1.         ...  0.          0.\n",
      "   0.        ]\n",
      " [ 1.         -1.69469084  0.         ...  0.          0.\n",
      "   0.        ]\n",
      " ...\n",
      " [ 1.         -1.78661747  0.         ...  0.          0.\n",
      "   0.        ]\n",
      " [ 0.         -0.49964468  0.         ...  0.          1.\n",
      "   0.        ]\n",
      " [ 1.         -1.83258078  0.         ...  0.          0.\n",
      "   0.        ]]\n",
      "tensor([[ 1.0000,  0.6954,  0.0000,  ...,  0.0000,  0.0000,  0.0000],\n",
      "        [ 0.0000,  1.2929,  1.0000,  ...,  0.0000,  0.0000,  0.0000],\n",
      "        [ 1.0000, -1.6947,  0.0000,  ...,  0.0000,  0.0000,  0.0000],\n",
      "        ...,\n",
      "        [ 1.0000, -1.7866,  0.0000,  ...,  0.0000,  0.0000,  0.0000],\n",
      "        [ 0.0000, -0.4996,  0.0000,  ...,  0.0000,  1.0000,  0.0000],\n",
      "        [ 1.0000, -1.8326,  0.0000,  ...,  0.0000,  0.0000,  0.0000]])\n"
     ]
    }
   ],
   "source": [
    "input_data = df_test.values\n",
    "print(input_data)\n",
    "input_tensor = torch.tensor(input_data, dtype=torch.float32)\n",
    "print(input_tensor)"
   ]
  },
  {
   "cell_type": "code",
   "execution_count": 126,
   "id": "46e803db",
   "metadata": {},
   "outputs": [
    {
     "data": {
      "text/plain": [
       "<All keys matched successfully>"
      ]
     },
     "execution_count": 126,
     "metadata": {},
     "output_type": "execute_result"
    }
   ],
   "source": [
    "model = Net2(input_size, hidden_size, num_classes)\n",
    "model.load_state_dict(torch.load(f'model_weights_for_{net_name}_epoch_{best_epoch}.pt'))"
   ]
  },
  {
   "cell_type": "code",
   "execution_count": 127,
   "id": "03e8e8cd",
   "metadata": {},
   "outputs": [
    {
     "name": "stdout",
     "output_type": "stream",
     "text": [
      "tensor([[0.4503],\n",
      "        [0.7464],\n",
      "        [0.0171],\n",
      "        ...,\n",
      "        [0.0122],\n",
      "        [0.0726],\n",
      "        [0.0116]])\n",
      "torch.Size([10204, 1])\n"
     ]
    }
   ],
   "source": [
    "with torch.no_grad():\n",
    "    model.eval()\n",
    "    outputs = model(input_tensor)\n",
    "    print(outputs)\n",
    "    print(outputs.shape)"
   ]
  },
  {
   "cell_type": "code",
   "execution_count": 129,
   "id": "f1297a04",
   "metadata": {},
   "outputs": [
    {
     "name": "stdout",
     "output_type": "stream",
     "text": [
      "10204\n"
     ]
    }
   ],
   "source": [
    "sub_file = open(\"subTwoLayersFullSet.csv\", \"w\")\n",
    "\n",
    "ID = 15304\n",
    "run = 0\n",
    "\n",
    "sub_file.write(\"id,stroke\\n\")\n",
    "for output in outputs:\n",
    "    sub_file.write(f\"{ID},{output.item()}\\n\")\n",
    "    ID += 1\n",
    "    run +=1\n",
    "    \n",
    "print(run)"
   ]
  },
  {
   "cell_type": "code",
   "execution_count": null,
   "id": "6b092320",
   "metadata": {},
   "outputs": [],
   "source": []
  },
  {
   "cell_type": "code",
   "execution_count": null,
   "id": "7b127b20",
   "metadata": {},
   "outputs": [],
   "source": []
  }
 ],
 "metadata": {
  "kernelspec": {
   "display_name": "Python 3 (ipykernel)",
   "language": "python",
   "name": "python3"
  },
  "language_info": {
   "codemirror_mode": {
    "name": "ipython",
    "version": 3
   },
   "file_extension": ".py",
   "mimetype": "text/x-python",
   "name": "python",
   "nbconvert_exporter": "python",
   "pygments_lexer": "ipython3",
   "version": "3.9.13"
  }
 },
 "nbformat": 4,
 "nbformat_minor": 5
}
