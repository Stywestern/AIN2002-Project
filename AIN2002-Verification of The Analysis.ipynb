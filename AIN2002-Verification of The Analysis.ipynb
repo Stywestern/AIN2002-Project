{
 "cells": [
  {
   "cell_type": "markdown",
   "id": "c5f5618c",
   "metadata": {},
   "source": [
    "### Does gender have an effect?\n",
    "\n",
    "Many studies say it does, for example this one:\n",
    "\n",
    "Impact of Conventional Stroke Risk Factors on Stroke in Women, https://www.ahajournals.org/doi/full/10.1161/STROKEAHA.117.018418\n",
    "\n",
    "Some are sceptical about it:\n",
    "The Impact of Sex and Gender on Stroke, https://www.ahajournals.org/doi/full/10.1161/CIRCRESAHA.121.319915#d1e1413\n",
    "\n",
    "Some acknowladge the tendency but say then didn't find any direct correlation:\n",
    "Gender and Stroke Symptoms: A Review of the Current Literature, https://journals.lww.com/jnnonline/Abstract/2010/04000/Gender_and_Stroke_Symptoms__A_Review_of_the.5.aspx\n",
    "\n",
    "--------------------------------------------\n",
    "\n",
    "In the dataset, females were 1.08 more likely (synthetic dataset: 1.15) to have strokes. In that sense, the data doesn't seem to accurately reflect reality."
   ]
  },
  {
   "cell_type": "markdown",
   "id": "c85e5afc",
   "metadata": {},
   "source": [
    "### Does age have an effect?\n",
    "\n",
    "Age showed significant correlation with stroke in both datasets, with literature supporting this:\n",
    "\n",
    "Influence of Age and Health Behaviors on Stroke Risk: Lessons from Longitudinal Studies, https://agsjournals.onlinelibrary.wiley.com/doi/abs/10.1111/j.1532-5415.2010.02915.x\n",
    "\n",
    "(more studies needed)"
   ]
  },
  {
   "cell_type": "markdown",
   "id": "5edf6646",
   "metadata": {},
   "source": [
    "### Does hypertension have an effect?\n",
    "\n",
    "Many studies suggest it does:\n",
    "\n",
    "Hypertension and Stroke: Update on Treatment, https://www.ncbi.nlm.nih.gov/pmc/articles/PMC6659031/\n",
    "\n",
    "Impact of Hypertension on Stroke, https://link.springer.com/article/10.1007/s11883-011-0187-y\n",
    "\n",
    "---------\n",
    "\n",
    "In the dataset, people with hypertension were 4.39 more likely (synthetic dataset: 5.42) to have strokes. In that sense, the data seem to accurately reflect reality."
   ]
  },
  {
   "cell_type": "markdown",
   "id": "61396032",
   "metadata": {},
   "source": [
    "### Does heart disease have an effect?\n",
    "\n",
    "Some studies suggest it does:\n",
    "\n",
    "Hypertension and Stroke: Update on Treatment, https://www.ncbi.nlm.nih.gov/pmc/articles/PMC6659031/\n",
    "\n",
    "(more studies needed)\n",
    "\n",
    "---------\n",
    "\n",
    "In the dataset, people with heart disease were 5.25 more likely (synthetic dataset: 5.34) to have strokes. In that sense, the data seem to accurately reflect reality."
   ]
  },
  {
   "cell_type": "markdown",
   "id": "e1f88d08",
   "metadata": {},
   "source": [
    "### Does marriage have an effect?\n",
    "\n",
    "Some studies suggest it does:\n",
    "\n",
    "Hypertension and Stroke: Update on Treatment, https://www.ncbi.nlm.nih.gov/pmc/articles/PMC6659031/\n",
    "\n",
    "(more studies needed)\n",
    "\n",
    "---------\n",
    "\n",
    "In the dataset, people with heart disease were 5.25 more likely (synthetic dataset: 5.34) to have strokes. In that sense, the data seem to accurately reflect reality."
   ]
  },
  {
   "cell_type": "markdown",
   "id": "c2f09ce4",
   "metadata": {},
   "source": [
    "### Does work type have an effect?\n",
    "\n",
    "There are no direct studies about this feature, but we can use some reasoning to maybe verify the tendency of the data.\n",
    "\n",
    "Ratios between healthy and sick in all columns are as follows (first normal then synthetic dataset):\n",
    "\n",
    "children: 670 or 2037\n",
    "Private: 21.13 or 23.13\n",
    "Never_worked: 22/0 or 42/0\n",
    "Self-employed: 13.62 or 11.27\n",
    "Govt_job: 21.5 or 21.22\n",
    "\n",
    "From this, we may infer that children have very little chances of stroke (which makes sense), and self-employed people are more likely to have strokes than others (maybe because of stress?)\n",
    "\n",
    "(This needs further investigations)"
   ]
  },
  {
   "cell_type": "markdown",
   "id": "1b7751a1",
   "metadata": {},
   "source": [
    "### Does residence type have an effect?\n",
    "\n",
    "Again, there are no direct studies about this feature, but this feature is linked with other key features such as hypertension rates.\n",
    "\n",
    "Ratios between healthy and sick for urban areas is 23,19 (or 23,25 in synthetic data) and for rural ares 21,84 (or 23,17 in synthetic data). There is a little bias toward urban areas, and some literature support this:\n",
    "\n",
    "Comparison of Oral Anticoagulant Use and Stroke Risk Among Older Adults Newly-Diagnosed Atrial Fibrillation Living in Urban-Versus-Rural Areas, https://www.sciencedirect.com/science/article/abs/pii/S0002914920305907\n",
    "\n",
    "Differences in the distribution of risk factors for stroke among the high-risk population in urban and rural areas of Eastern China, https://onlinelibrary.wiley.com/doi/full/10.1002/brb3.461\n",
    "\n",
    "These and papers also state more studies are needed.\n",
    "\n",
    "(This needs further investigations)"
   ]
  },
  {
   "cell_type": "markdown",
   "id": "46553bad",
   "metadata": {},
   "source": [
    "### Does glucose level have an effect?\n",
    "\n",
    "The mean glucose levels of stroke patients are significantly higher in both datasets, however I couldn't find any sources to support this."
   ]
  },
  {
   "cell_type": "markdown",
   "id": "b2236d4f",
   "metadata": {},
   "source": [
    "### Does body mass index (bmi) have an effect?\n",
    "\n",
    "Most papers suggest there is significant correlation between bmi and stroke rate:\n",
    "\n",
    "Body Mass Index and the Risk of Stroke in Men, https://jamanetwork.com/journals/jamainternalmedicine/article-abstract/754810\n",
    "\n",
    "A Prospective Study of Body Mass Index, Weight Change, and Risk of Stroke in Women, https://jamanetwork.com/journals/jama/article-abstract/416249\n",
    "\n",
    "Body mass index and risk of stroke among Chinese men and women, https://onlinelibrary.wiley.com/doi/abs/10.1002/ana.21950\n",
    "\n",
    "But both datasets are almost indifferent about this feature, in that sense the dataset doesn't seem to accurately represent the reality. "
   ]
  },
  {
   "cell_type": "markdown",
   "id": "1924c15d",
   "metadata": {},
   "source": [
    "### Does smoking status have an effect?\n",
    "\n",
    "Most papers suggest there is significant correlation between smoking status and stroke rate:\n",
    "\n",
    "Cigarette Smoking as a Risk Factor for Stroke: The Framingham Study, https://jamanetwork.com/journals/jama/article-abstract/370683\n",
    "\n",
    "Impact of Smoking Status on Stroke Recurrence, https://www.ahajournals.org/doi/full/10.1161/JAHA.118.011696\n",
    "\n",
    "The relationship between smoking and stroke, https://www.ncbi.nlm.nih.gov/pmc/articles/PMC6708836/\n",
    "\n",
    "Ratios between healthy and sick in all columns are as follows (first normal then synthetic dataset):\n",
    "\n",
    "Unknown: 50.13 or 41.06\n",
    "never smoked: 21.04 or 23.47\n",
    "formerly smoked: 13.68 or 13.69\n",
    "smokes: 17.89 or 18.84\n",
    "\n",
    "The reason for the unknown cases are, well, unknown, but we need to consider whether they disturb the model or not. Other values seem to be in-line with the literature."
   ]
  },
  {
   "cell_type": "code",
   "execution_count": null,
   "id": "84d31072",
   "metadata": {},
   "outputs": [],
   "source": []
  }
 ],
 "metadata": {
  "kernelspec": {
   "display_name": "Python 3 (ipykernel)",
   "language": "python",
   "name": "python3"
  },
  "language_info": {
   "codemirror_mode": {
    "name": "ipython",
    "version": 3
   },
   "file_extension": ".py",
   "mimetype": "text/x-python",
   "name": "python",
   "nbconvert_exporter": "python",
   "pygments_lexer": "ipython3",
   "version": "3.9.13"
  }
 },
 "nbformat": 4,
 "nbformat_minor": 5
}
