{
 "cells": [
  {
   "cell_type": "code",
   "execution_count": 1,
   "id": "ae468ed6",
   "metadata": {},
   "outputs": [],
   "source": [
    "import gradio as gr\n",
    "import torch"
   ]
  },
  {
   "cell_type": "code",
   "execution_count": 2,
   "id": "10f11786",
   "metadata": {},
   "outputs": [],
   "source": [
    "import torch.nn as nn\n",
    "\n",
    "device = torch.device('cuda' if torch.cuda.is_available() else 'cpu')\n",
    "\n",
    "class Net2(nn.Module):\n",
    "    def __init__(self, input_size, hidden_size, num_classes):\n",
    "        super(Net2, self).__init__()\n",
    "        self.input_size = input_size\n",
    "        self.l1 = nn.Linear(input_size, hidden_size)\n",
    "        self.l2 = nn.Linear(hidden_size, hidden_size//2) \n",
    "        self.l3 = nn.Linear(hidden_size//2, num_classes)\n",
    "        \n",
    "        self.relu = nn.ReLU()\n",
    "        self.lrelu = nn.LeakyReLU(negative_slope=0.01)\n",
    "        self.elu = nn.ELU()\n",
    "        self.tanh = nn.Tanh()\n",
    "        \n",
    "        self.sigmoid = nn.Sigmoid()\n",
    "        \n",
    "        self.dropout = nn.Dropout(0.2) \n",
    "    \n",
    "    def forward(self, x):\n",
    "        out = self.l1(x)\n",
    "        out = self.dropout(out)\n",
    "        out = self.lrelu(out)\n",
    "        out = self.l2(out)\n",
    "        out = self.dropout(out)\n",
    "        out = self.lrelu(out)\n",
    "        out = self.l3(out)\n",
    "        out = self.dropout(out)\n",
    "        out = self.sigmoid(out)\n",
    "        \n",
    "        return out"
   ]
  },
  {
   "cell_type": "code",
   "execution_count": 3,
   "id": "c337851e",
   "metadata": {},
   "outputs": [],
   "source": [
    "input_size = 17\n",
    "hidden_size = 16\n",
    "num_classes = 1"
   ]
  },
  {
   "cell_type": "code",
   "execution_count": 17,
   "id": "6eeeed45",
   "metadata": {
    "scrolled": false
   },
   "outputs": [
    {
     "name": "stderr",
     "output_type": "stream",
     "text": [
      "C:\\Users\\CANTİMUR\\AppData\\Local\\Programs\\Python\\Python39\\lib\\site-packages\\gradio\\inputs.py:219: UserWarning: Usage of gradio.inputs is deprecated, and will not be supported in the future, please import your component from gradio.components\n",
      "  warnings.warn(\n",
      "C:\\Users\\CANTİMUR\\AppData\\Local\\Programs\\Python\\Python39\\lib\\site-packages\\gradio\\inputs.py:222: UserWarning: `optional` parameter is deprecated, and it has no effect\n",
      "  super().__init__(\n"
     ]
    }
   ],
   "source": [
    "# Dropdowns\n",
    "gender_choices = [1, 0]\n",
    "gender_dropdown = gr.inputs.Dropdown(choices=gender_choices, label=\"Male: 0, Female: 1\")\n",
    "\n",
    "hypertension_choices = [1, 0]\n",
    "hypertension_dropdown = gr.inputs.Dropdown(choices=hypertension_choices, label=\"Normal: 0, Has Hypertension: 1\")\n",
    "\n",
    "heart_disease_choices = [1, 0]\n",
    "heart_disease_dropdown = gr.inputs.Dropdown(choices=heart_disease_choices, label=\"Normal: 0, Has Heart Disease: 1\")\n",
    "\n",
    "ever_married_choices = [1, 0]\n",
    "ever_married_dropdown = gr.inputs.Dropdown(choices=ever_married_choices, label=\"Never Married Before: 0, Married At Least Once: 1\")\n",
    "\n",
    "residence_type_choices = [1, 0]\n",
    "residence_type_dropdown = gr.inputs.Dropdown(choices=residence_type_choices, label=\"Urban: 0, Rural: 1\")\n",
    "\n",
    "work_type_choices = ['Private', 'Self Employed', 'Goverment Job', 'Never Worked', 'Children']\n",
    "work_type_dropdown = gr.inputs.Dropdown(choices=work_type_choices, label=\"Choose a work type\")\n",
    "\n",
    "smoking_choices = ['Never Smoked', 'Formerly Smoked', 'Smokes Regularly', 'Not Specified']\n",
    "smoking_dropdown = gr.inputs.Dropdown(choices=smoking_choices, label=\"Choose Smoking Status\")\n",
    "\n",
    "def predict_probability(gender, age, hypertension, heart_disease, ever_married,\n",
    "    residence_type, glucose, bmi, work_type, smoking):\n",
    "    \n",
    "    # Standardize\n",
    "    age_mean, age_std = 41.87051043401588, 21.756481840504232\n",
    "    age = (age - age_mean) / age_std\n",
    "    \n",
    "    glucose_mean, glucose_std = 93.32225629469971, 32.476350671309035\n",
    "    glucose = (glucose - glucose_mean) / glucose_std\n",
    "    \n",
    "    bmi_mean, bmi_std = 28.30227972097165, 7.021764583221495\n",
    "    bmi = (bmi - bmi_mean) / bmi_std\n",
    "\n",
    "    # Set the features\n",
    "    if work_type == \"Goverment Job\":\n",
    "        if smoking == \"Not Specified\":\n",
    "            features = [int(gender), age, int(hypertension), int(heart_disease), int(ever_married), int(residence_type),\n",
    "                        glucose, bmi, 1, 0, 0, 0, 0, 1, 0, 0, 0]      \n",
    "        if smoking == \"Formerly Smoked\":\n",
    "            features = [int(gender), age, int(hypertension), int(heart_disease), int(ever_married), int(residence_type),\n",
    "                        glucose, bmi, 1, 0, 0, 0, 0, 0, 1, 0, 0]                                                                                                       \n",
    "        if smoking == \"Never Smoked\":\n",
    "            features = [int(gender), age, int(hypertension), int(heart_disease), int(ever_married), int(residence_type),\n",
    "                        glucose, bmi, 1, 0, 0, 0, 0, 0, 0, 1, 0]                                                                                                      \n",
    "        if smoking == \"Not Specified\":\n",
    "            features = [int(gender), age, int(hypertension), int(heart_disease), int(ever_married), int(residence_type),\n",
    "                        glucose, bmi, 1, 0, 0, 0, 0, 0, 0, 0, 1]\n",
    "            \n",
    "    if work_type == \"Never Worked\":\n",
    "        if smoking == \"Not Specified\":\n",
    "            features = [int(gender), age, int(hypertension), int(heart_disease), int(ever_married), int(residence_type),\n",
    "                        glucose, bmi, 0, 1, 0, 0, 0, 1, 0, 0, 0]      \n",
    "        if smoking == \"Formerly Smoked\":\n",
    "            features = [int(gender), age, int(hypertension), int(heart_disease), int(ever_married), int(residence_type),\n",
    "                        glucose, bmi, 0, 1, 0, 0, 0, 0, 1, 0, 0]                                                                                                       \n",
    "        if smoking == \"Never Smoked\":\n",
    "            features = [int(gender), age, int(hypertension), int(heart_disease), int(ever_married), int(residence_type),\n",
    "                        glucose, bmi, 0, 1, 0, 0, 0, 0, 0, 1, 0]                                                                                                      \n",
    "        if smoking == \"Not Specified\":\n",
    "            features = [int(gender), age, int(hypertension), int(heart_disease), int(ever_married), int(residence_type),\n",
    "                        glucose, bmi, 0, 1, 0, 0, 0, 0, 0, 0, 1]\n",
    "            \n",
    "    if work_type == \"Private\":\n",
    "        if smoking == \"Not Specified\":\n",
    "            features = [int(gender), age, int(hypertension), int(heart_disease), int(ever_married), int(residence_type),\n",
    "                        glucose, bmi, 0, 0, 1, 0, 0, 1, 0, 0, 0]      \n",
    "        if smoking == \"Formerly Smoked\":\n",
    "            features = [int(gender), age, int(hypertension), int(heart_disease), int(ever_married), int(residence_type),\n",
    "                        glucose, bmi, 0, 0, 1, 0, 0, 0, 1, 0, 0]                                                                                                       \n",
    "        if smoking == \"Never Smoked\":\n",
    "            features = [int(gender), age, int(hypertension), int(heart_disease), int(ever_married), int(residence_type),\n",
    "                        glucose, bmi, 0, 0, 1, 0, 0, 0, 0, 1, 0]                                                                                                      \n",
    "        if smoking == \"Not Specified\":\n",
    "            features = [int(gender), age, int(hypertension), int(heart_disease), int(ever_married), int(residence_type),\n",
    "                        glucose, bmi, 0, 0, 1, 0, 0, 0, 0, 0, 1]\n",
    "            \n",
    "    if work_type == \"Goverment Job\":\n",
    "        if smoking == \"Not Specified\":\n",
    "            features = [int(gender), age, int(hypertension), int(heart_disease), int(ever_married), int(residence_type),\n",
    "                        glucose, bmi, 0, 0, 0, 1, 0, 1, 0, 0, 0]      \n",
    "        if smoking == \"Formerly Smoked\":\n",
    "            features = [int(gender), age, int(hypertension), int(heart_disease), int(ever_married), int(residence_type),\n",
    "                        glucose, bmi, 0, 0, 0, 1, 0, 0, 1, 0, 0]                                                                                                       \n",
    "        if smoking == \"Never Smoked\":\n",
    "            features = [int(gender), age, int(hypertension), int(heart_disease), int(ever_married), int(residence_type),\n",
    "                        glucose, bmi, 0, 0, 0, 1, 0, 0, 0, 1, 0]                                                                                                      \n",
    "        if smoking == \"Not Specified\":\n",
    "            features = [int(gender), age, int(hypertension), int(heart_disease), int(ever_married), int(residence_type),\n",
    "                        glucose, bmi, 0, 0, 0, 1, 0, 0, 0, 0, 1]\n",
    "            \n",
    "    if work_type == \"Children\":\n",
    "        if smoking == \"Not Specified\":\n",
    "            features = [int(gender), age, int(hypertension), int(heart_disease), int(ever_married), int(residence_type),\n",
    "                        glucose, bmi, 0, 0, 0, 0, 1, 1, 0, 0, 0]      \n",
    "        if smoking == \"Formerly Smoked\":\n",
    "            features = [int(gender), age, int(hypertension), int(heart_disease), int(ever_married), int(residence_type),\n",
    "                        glucose, bmi, 0, 0, 0, 0, 1, 0, 1, 0, 0]                                                                                                       \n",
    "        if smoking == \"Never Smoked\":\n",
    "            features = [int(gender), age, int(hypertension), int(heart_disease), int(ever_married), int(residence_type),\n",
    "                        glucose, bmi, 0, 0, 0, 0, 1, 0, 0, 1, 0]                                                                                                      \n",
    "        if smoking == \"Not Specified\":\n",
    "            features = [int(gender), age, int(hypertension), int(heart_disease), int(ever_married), int(residence_type),\n",
    "                        glucose, bmi, 0, 0, 0, 0, 1, 0, 0, 0, 1]\n",
    "        \n",
    "    # Load and predict with model\n",
    "    model = Net2(input_size, hidden_size, num_classes)\n",
    "    model.load_state_dict(torch.load('Net2w16e66(0.889).pt'))\n",
    "    \n",
    "    with torch.no_grad():\n",
    "        model.eval()\n",
    "        input_tensor = torch.tensor(features, dtype=torch.float32)\n",
    "        outputs = model(input_tensor)\n",
    "        print(outputs)\n",
    "    \n",
    "    return outputs.item()  "
   ]
  },
  {
   "cell_type": "code",
   "execution_count": 20,
   "id": "8371a737",
   "metadata": {},
   "outputs": [
    {
     "name": "stdout",
     "output_type": "stream",
     "text": [
      "Running on local URL:  http://127.0.0.1:7868\n",
      "\n",
      "To create a public link, set `share=True` in `launch()`.\n"
     ]
    },
    {
     "data": {
      "text/html": [
       "<div><iframe src=\"http://127.0.0.1:7868/\" width=\"100%\" height=\"500\" allow=\"autoplay; camera; microphone; clipboard-read; clipboard-write;\" frameborder=\"0\" allowfullscreen></iframe></div>"
      ],
      "text/plain": [
       "<IPython.core.display.HTML object>"
      ]
     },
     "metadata": {},
     "output_type": "display_data"
    },
    {
     "data": {
      "text/plain": []
     },
     "execution_count": 20,
     "metadata": {},
     "output_type": "execute_result"
    }
   ],
   "source": [
    "demo = gr.Interface(fn=predict_probability, \n",
    "    inputs=[gender_dropdown, gr.Slider(0, 100), hypertension_dropdown, heart_disease_dropdown, ever_married_dropdown,\n",
    "           residence_type_dropdown, gr.Slider(0, 400), gr.Slider(0, 100), work_type_dropdown, smoking_dropdown]\n",
    "    ,outputs=\"text\", title=\"Stroke Prediction\")\n",
    "\n",
    "demo.launch() "
   ]
  },
  {
   "cell_type": "code",
   "execution_count": null,
   "id": "7811df19",
   "metadata": {},
   "outputs": [],
   "source": []
  }
 ],
 "metadata": {
  "kernelspec": {
   "display_name": "Python 3 (ipykernel)",
   "language": "python",
   "name": "python3"
  },
  "language_info": {
   "codemirror_mode": {
    "name": "ipython",
    "version": 3
   },
   "file_extension": ".py",
   "mimetype": "text/x-python",
   "name": "python",
   "nbconvert_exporter": "python",
   "pygments_lexer": "ipython3",
   "version": "3.9.13"
  }
 },
 "nbformat": 4,
 "nbformat_minor": 5
}
